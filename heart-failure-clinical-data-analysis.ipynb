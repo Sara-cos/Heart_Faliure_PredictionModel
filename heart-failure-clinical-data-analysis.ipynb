{
 "cells": [
  {
   "cell_type": "markdown",
   "id": "awful-catering",
   "metadata": {
    "papermill": {
     "duration": 0.019454,
     "end_time": "2021-06-10T12:09:12.372870",
     "exception": false,
     "start_time": "2021-06-10T12:09:12.353416",
     "status": "completed"
    },
    "tags": []
   },
   "source": [
    "The data analysis of Heart Failure Clinic data. \n",
    "In the notebook the death events are the possibility of death of that patient with those specific data in diagnosis."
   ]
  },
  {
   "cell_type": "code",
   "execution_count": 1,
   "id": "controlled-jackson",
   "metadata": {
    "_cell_guid": "b1076dfc-b9ad-4769-8c92-a6c4dae69d19",
    "_uuid": "8f2839f25d086af736a60e9eeb907d3b93b6e0e5",
    "execution": {
     "iopub.execute_input": "2021-06-10T12:09:12.423101Z",
     "iopub.status.busy": "2021-06-10T12:09:12.422444Z",
     "iopub.status.idle": "2021-06-10T12:09:12.434822Z",
     "shell.execute_reply": "2021-06-10T12:09:12.434195Z",
     "shell.execute_reply.started": "2021-06-10T10:12:09.418191Z"
    },
    "papermill": {
     "duration": 0.043496,
     "end_time": "2021-06-10T12:09:12.435030",
     "exception": false,
     "start_time": "2021-06-10T12:09:12.391534",
     "status": "completed"
    },
    "tags": []
   },
   "outputs": [
    {
     "name": "stdout",
     "output_type": "stream",
     "text": [
      "/kaggle/input/heart-failure-clinical-data/heart_failure_clinical_records_dataset.csv\n"
     ]
    }
   ],
   "source": [
    "# This Python 3 environment comes with many helpful analytics libraries installed\n",
    "# It is defined by the kaggle/python Docker image: https://github.com/kaggle/docker-python\n",
    "# For example, here's several helpful packages to load\n",
    "\n",
    "import numpy as np # linear algebra\n",
    "import pandas as pd # data processing, CSV file I/O (e.g. pd.read_csv)\n",
    "import matplotlib.pyplot as plt \n",
    "# Input data files are available in the read-only \"../input/\" directory\n",
    "# For example, running this (by clicking run or pressing Shift+Enter) will list all files under the input directory\n",
    "\n",
    "import os\n",
    "for dirname, _, filenames in os.walk('/kaggle/input'):\n",
    "    for filename in filenames:\n",
    "        print(os.path.join(dirname, filename))\n",
    "\n",
    "# You can write up to 20GB to the current directory (/kaggle/working/) that gets preserved as output when you create a version using \"Save & Run All\" \n",
    "# You can also write temporary files to /kaggle/temp/, but they won't be saved outside of the current session"
   ]
  },
  {
   "cell_type": "code",
   "execution_count": 2,
   "id": "sought-exposure",
   "metadata": {
    "execution": {
     "iopub.execute_input": "2021-06-10T12:09:12.478312Z",
     "iopub.status.busy": "2021-06-10T12:09:12.477564Z",
     "iopub.status.idle": "2021-06-10T12:09:12.491637Z",
     "shell.execute_reply": "2021-06-10T12:09:12.491108Z",
     "shell.execute_reply.started": "2021-06-10T10:12:12.908431Z"
    },
    "papermill": {
     "duration": 0.037284,
     "end_time": "2021-06-10T12:09:12.491778",
     "exception": false,
     "start_time": "2021-06-10T12:09:12.454494",
     "status": "completed"
    },
    "tags": []
   },
   "outputs": [],
   "source": [
    "data = pd.read_csv(\"../input/heart-failure-clinical-data/heart_failure_clinical_records_dataset.csv\")"
   ]
  },
  {
   "cell_type": "code",
   "execution_count": 3,
   "id": "formal-patio",
   "metadata": {
    "execution": {
     "iopub.execute_input": "2021-06-10T12:09:12.540164Z",
     "iopub.status.busy": "2021-06-10T12:09:12.539516Z",
     "iopub.status.idle": "2021-06-10T12:09:12.562074Z",
     "shell.execute_reply": "2021-06-10T12:09:12.561440Z",
     "shell.execute_reply.started": "2021-06-10T10:12:17.229928Z"
    },
    "papermill": {
     "duration": 0.051281,
     "end_time": "2021-06-10T12:09:12.562206",
     "exception": false,
     "start_time": "2021-06-10T12:09:12.510925",
     "status": "completed"
    },
    "tags": []
   },
   "outputs": [
    {
     "data": {
      "text/html": [
       "<div>\n",
       "<style scoped>\n",
       "    .dataframe tbody tr th:only-of-type {\n",
       "        vertical-align: middle;\n",
       "    }\n",
       "\n",
       "    .dataframe tbody tr th {\n",
       "        vertical-align: top;\n",
       "    }\n",
       "\n",
       "    .dataframe thead th {\n",
       "        text-align: right;\n",
       "    }\n",
       "</style>\n",
       "<table border=\"1\" class=\"dataframe\">\n",
       "  <thead>\n",
       "    <tr style=\"text-align: right;\">\n",
       "      <th></th>\n",
       "      <th>age</th>\n",
       "      <th>anaemia</th>\n",
       "      <th>creatinine_phosphokinase</th>\n",
       "      <th>diabetes</th>\n",
       "      <th>ejection_fraction</th>\n",
       "      <th>high_blood_pressure</th>\n",
       "      <th>platelets</th>\n",
       "      <th>serum_creatinine</th>\n",
       "      <th>serum_sodium</th>\n",
       "      <th>sex</th>\n",
       "      <th>smoking</th>\n",
       "      <th>time</th>\n",
       "      <th>DEATH_EVENT</th>\n",
       "    </tr>\n",
       "  </thead>\n",
       "  <tbody>\n",
       "    <tr>\n",
       "      <th>0</th>\n",
       "      <td>75.0</td>\n",
       "      <td>0</td>\n",
       "      <td>582</td>\n",
       "      <td>0</td>\n",
       "      <td>20</td>\n",
       "      <td>1</td>\n",
       "      <td>265000.00</td>\n",
       "      <td>1.9</td>\n",
       "      <td>130</td>\n",
       "      <td>1</td>\n",
       "      <td>0</td>\n",
       "      <td>4</td>\n",
       "      <td>1</td>\n",
       "    </tr>\n",
       "    <tr>\n",
       "      <th>1</th>\n",
       "      <td>55.0</td>\n",
       "      <td>0</td>\n",
       "      <td>7861</td>\n",
       "      <td>0</td>\n",
       "      <td>38</td>\n",
       "      <td>0</td>\n",
       "      <td>263358.03</td>\n",
       "      <td>1.1</td>\n",
       "      <td>136</td>\n",
       "      <td>1</td>\n",
       "      <td>0</td>\n",
       "      <td>6</td>\n",
       "      <td>1</td>\n",
       "    </tr>\n",
       "    <tr>\n",
       "      <th>2</th>\n",
       "      <td>65.0</td>\n",
       "      <td>0</td>\n",
       "      <td>146</td>\n",
       "      <td>0</td>\n",
       "      <td>20</td>\n",
       "      <td>0</td>\n",
       "      <td>162000.00</td>\n",
       "      <td>1.3</td>\n",
       "      <td>129</td>\n",
       "      <td>1</td>\n",
       "      <td>1</td>\n",
       "      <td>7</td>\n",
       "      <td>1</td>\n",
       "    </tr>\n",
       "    <tr>\n",
       "      <th>3</th>\n",
       "      <td>50.0</td>\n",
       "      <td>1</td>\n",
       "      <td>111</td>\n",
       "      <td>0</td>\n",
       "      <td>20</td>\n",
       "      <td>0</td>\n",
       "      <td>210000.00</td>\n",
       "      <td>1.9</td>\n",
       "      <td>137</td>\n",
       "      <td>1</td>\n",
       "      <td>0</td>\n",
       "      <td>7</td>\n",
       "      <td>1</td>\n",
       "    </tr>\n",
       "    <tr>\n",
       "      <th>4</th>\n",
       "      <td>65.0</td>\n",
       "      <td>1</td>\n",
       "      <td>160</td>\n",
       "      <td>1</td>\n",
       "      <td>20</td>\n",
       "      <td>0</td>\n",
       "      <td>327000.00</td>\n",
       "      <td>2.7</td>\n",
       "      <td>116</td>\n",
       "      <td>0</td>\n",
       "      <td>0</td>\n",
       "      <td>8</td>\n",
       "      <td>1</td>\n",
       "    </tr>\n",
       "  </tbody>\n",
       "</table>\n",
       "</div>"
      ],
      "text/plain": [
       "    age  anaemia  creatinine_phosphokinase  diabetes  ejection_fraction  \\\n",
       "0  75.0        0                       582         0                 20   \n",
       "1  55.0        0                      7861         0                 38   \n",
       "2  65.0        0                       146         0                 20   \n",
       "3  50.0        1                       111         0                 20   \n",
       "4  65.0        1                       160         1                 20   \n",
       "\n",
       "   high_blood_pressure  platelets  serum_creatinine  serum_sodium  sex  \\\n",
       "0                    1  265000.00               1.9           130    1   \n",
       "1                    0  263358.03               1.1           136    1   \n",
       "2                    0  162000.00               1.3           129    1   \n",
       "3                    0  210000.00               1.9           137    1   \n",
       "4                    0  327000.00               2.7           116    0   \n",
       "\n",
       "   smoking  time  DEATH_EVENT  \n",
       "0        0     4            1  \n",
       "1        0     6            1  \n",
       "2        1     7            1  \n",
       "3        0     7            1  \n",
       "4        0     8            1  "
      ]
     },
     "execution_count": 3,
     "metadata": {},
     "output_type": "execute_result"
    }
   ],
   "source": [
    "data.head()"
   ]
  },
  {
   "cell_type": "code",
   "execution_count": 4,
   "id": "silent-atlas",
   "metadata": {
    "execution": {
     "iopub.execute_input": "2021-06-10T12:09:12.611736Z",
     "iopub.status.busy": "2021-06-10T12:09:12.605440Z",
     "iopub.status.idle": "2021-06-10T12:09:12.659538Z",
     "shell.execute_reply": "2021-06-10T12:09:12.659996Z",
     "shell.execute_reply.started": "2021-06-10T10:12:21.855395Z"
    },
    "papermill": {
     "duration": 0.077607,
     "end_time": "2021-06-10T12:09:12.660170",
     "exception": false,
     "start_time": "2021-06-10T12:09:12.582563",
     "status": "completed"
    },
    "tags": []
   },
   "outputs": [
    {
     "data": {
      "text/html": [
       "<div>\n",
       "<style scoped>\n",
       "    .dataframe tbody tr th:only-of-type {\n",
       "        vertical-align: middle;\n",
       "    }\n",
       "\n",
       "    .dataframe tbody tr th {\n",
       "        vertical-align: top;\n",
       "    }\n",
       "\n",
       "    .dataframe thead th {\n",
       "        text-align: right;\n",
       "    }\n",
       "</style>\n",
       "<table border=\"1\" class=\"dataframe\">\n",
       "  <thead>\n",
       "    <tr style=\"text-align: right;\">\n",
       "      <th></th>\n",
       "      <th>age</th>\n",
       "      <th>anaemia</th>\n",
       "      <th>creatinine_phosphokinase</th>\n",
       "      <th>diabetes</th>\n",
       "      <th>ejection_fraction</th>\n",
       "      <th>high_blood_pressure</th>\n",
       "      <th>platelets</th>\n",
       "      <th>serum_creatinine</th>\n",
       "      <th>serum_sodium</th>\n",
       "      <th>sex</th>\n",
       "      <th>smoking</th>\n",
       "      <th>time</th>\n",
       "      <th>DEATH_EVENT</th>\n",
       "    </tr>\n",
       "  </thead>\n",
       "  <tbody>\n",
       "    <tr>\n",
       "      <th>count</th>\n",
       "      <td>299.000000</td>\n",
       "      <td>299.000000</td>\n",
       "      <td>299.000000</td>\n",
       "      <td>299.000000</td>\n",
       "      <td>299.000000</td>\n",
       "      <td>299.000000</td>\n",
       "      <td>299.000000</td>\n",
       "      <td>299.00000</td>\n",
       "      <td>299.000000</td>\n",
       "      <td>299.000000</td>\n",
       "      <td>299.00000</td>\n",
       "      <td>299.000000</td>\n",
       "      <td>299.00000</td>\n",
       "    </tr>\n",
       "    <tr>\n",
       "      <th>mean</th>\n",
       "      <td>60.833893</td>\n",
       "      <td>0.431438</td>\n",
       "      <td>581.839465</td>\n",
       "      <td>0.418060</td>\n",
       "      <td>38.083612</td>\n",
       "      <td>0.351171</td>\n",
       "      <td>263358.029264</td>\n",
       "      <td>1.39388</td>\n",
       "      <td>136.625418</td>\n",
       "      <td>0.648829</td>\n",
       "      <td>0.32107</td>\n",
       "      <td>130.260870</td>\n",
       "      <td>0.32107</td>\n",
       "    </tr>\n",
       "    <tr>\n",
       "      <th>std</th>\n",
       "      <td>11.894809</td>\n",
       "      <td>0.496107</td>\n",
       "      <td>970.287881</td>\n",
       "      <td>0.494067</td>\n",
       "      <td>11.834841</td>\n",
       "      <td>0.478136</td>\n",
       "      <td>97804.236869</td>\n",
       "      <td>1.03451</td>\n",
       "      <td>4.412477</td>\n",
       "      <td>0.478136</td>\n",
       "      <td>0.46767</td>\n",
       "      <td>77.614208</td>\n",
       "      <td>0.46767</td>\n",
       "    </tr>\n",
       "    <tr>\n",
       "      <th>min</th>\n",
       "      <td>40.000000</td>\n",
       "      <td>0.000000</td>\n",
       "      <td>23.000000</td>\n",
       "      <td>0.000000</td>\n",
       "      <td>14.000000</td>\n",
       "      <td>0.000000</td>\n",
       "      <td>25100.000000</td>\n",
       "      <td>0.50000</td>\n",
       "      <td>113.000000</td>\n",
       "      <td>0.000000</td>\n",
       "      <td>0.00000</td>\n",
       "      <td>4.000000</td>\n",
       "      <td>0.00000</td>\n",
       "    </tr>\n",
       "    <tr>\n",
       "      <th>25%</th>\n",
       "      <td>51.000000</td>\n",
       "      <td>0.000000</td>\n",
       "      <td>116.500000</td>\n",
       "      <td>0.000000</td>\n",
       "      <td>30.000000</td>\n",
       "      <td>0.000000</td>\n",
       "      <td>212500.000000</td>\n",
       "      <td>0.90000</td>\n",
       "      <td>134.000000</td>\n",
       "      <td>0.000000</td>\n",
       "      <td>0.00000</td>\n",
       "      <td>73.000000</td>\n",
       "      <td>0.00000</td>\n",
       "    </tr>\n",
       "    <tr>\n",
       "      <th>50%</th>\n",
       "      <td>60.000000</td>\n",
       "      <td>0.000000</td>\n",
       "      <td>250.000000</td>\n",
       "      <td>0.000000</td>\n",
       "      <td>38.000000</td>\n",
       "      <td>0.000000</td>\n",
       "      <td>262000.000000</td>\n",
       "      <td>1.10000</td>\n",
       "      <td>137.000000</td>\n",
       "      <td>1.000000</td>\n",
       "      <td>0.00000</td>\n",
       "      <td>115.000000</td>\n",
       "      <td>0.00000</td>\n",
       "    </tr>\n",
       "    <tr>\n",
       "      <th>75%</th>\n",
       "      <td>70.000000</td>\n",
       "      <td>1.000000</td>\n",
       "      <td>582.000000</td>\n",
       "      <td>1.000000</td>\n",
       "      <td>45.000000</td>\n",
       "      <td>1.000000</td>\n",
       "      <td>303500.000000</td>\n",
       "      <td>1.40000</td>\n",
       "      <td>140.000000</td>\n",
       "      <td>1.000000</td>\n",
       "      <td>1.00000</td>\n",
       "      <td>203.000000</td>\n",
       "      <td>1.00000</td>\n",
       "    </tr>\n",
       "    <tr>\n",
       "      <th>max</th>\n",
       "      <td>95.000000</td>\n",
       "      <td>1.000000</td>\n",
       "      <td>7861.000000</td>\n",
       "      <td>1.000000</td>\n",
       "      <td>80.000000</td>\n",
       "      <td>1.000000</td>\n",
       "      <td>850000.000000</td>\n",
       "      <td>9.40000</td>\n",
       "      <td>148.000000</td>\n",
       "      <td>1.000000</td>\n",
       "      <td>1.00000</td>\n",
       "      <td>285.000000</td>\n",
       "      <td>1.00000</td>\n",
       "    </tr>\n",
       "  </tbody>\n",
       "</table>\n",
       "</div>"
      ],
      "text/plain": [
       "              age     anaemia  creatinine_phosphokinase    diabetes  \\\n",
       "count  299.000000  299.000000                299.000000  299.000000   \n",
       "mean    60.833893    0.431438                581.839465    0.418060   \n",
       "std     11.894809    0.496107                970.287881    0.494067   \n",
       "min     40.000000    0.000000                 23.000000    0.000000   \n",
       "25%     51.000000    0.000000                116.500000    0.000000   \n",
       "50%     60.000000    0.000000                250.000000    0.000000   \n",
       "75%     70.000000    1.000000                582.000000    1.000000   \n",
       "max     95.000000    1.000000               7861.000000    1.000000   \n",
       "\n",
       "       ejection_fraction  high_blood_pressure      platelets  \\\n",
       "count         299.000000           299.000000     299.000000   \n",
       "mean           38.083612             0.351171  263358.029264   \n",
       "std            11.834841             0.478136   97804.236869   \n",
       "min            14.000000             0.000000   25100.000000   \n",
       "25%            30.000000             0.000000  212500.000000   \n",
       "50%            38.000000             0.000000  262000.000000   \n",
       "75%            45.000000             1.000000  303500.000000   \n",
       "max            80.000000             1.000000  850000.000000   \n",
       "\n",
       "       serum_creatinine  serum_sodium         sex    smoking        time  \\\n",
       "count         299.00000    299.000000  299.000000  299.00000  299.000000   \n",
       "mean            1.39388    136.625418    0.648829    0.32107  130.260870   \n",
       "std             1.03451      4.412477    0.478136    0.46767   77.614208   \n",
       "min             0.50000    113.000000    0.000000    0.00000    4.000000   \n",
       "25%             0.90000    134.000000    0.000000    0.00000   73.000000   \n",
       "50%             1.10000    137.000000    1.000000    0.00000  115.000000   \n",
       "75%             1.40000    140.000000    1.000000    1.00000  203.000000   \n",
       "max             9.40000    148.000000    1.000000    1.00000  285.000000   \n",
       "\n",
       "       DEATH_EVENT  \n",
       "count    299.00000  \n",
       "mean       0.32107  \n",
       "std        0.46767  \n",
       "min        0.00000  \n",
       "25%        0.00000  \n",
       "50%        0.00000  \n",
       "75%        1.00000  \n",
       "max        1.00000  "
      ]
     },
     "execution_count": 4,
     "metadata": {},
     "output_type": "execute_result"
    }
   ],
   "source": [
    "data.describe()"
   ]
  },
  {
   "cell_type": "markdown",
   "id": "acute-letter",
   "metadata": {
    "papermill": {
     "duration": 0.019584,
     "end_time": "2021-06-10T12:09:12.699656",
     "exception": false,
     "start_time": "2021-06-10T12:09:12.680072",
     "status": "completed"
    },
    "tags": []
   },
   "source": [
    "Getting the general information about the dataframe we will be using..."
   ]
  },
  {
   "cell_type": "code",
   "execution_count": 5,
   "id": "cutting-pound",
   "metadata": {
    "execution": {
     "iopub.execute_input": "2021-06-10T12:09:12.742790Z",
     "iopub.status.busy": "2021-06-10T12:09:12.742086Z",
     "iopub.status.idle": "2021-06-10T12:09:13.536433Z",
     "shell.execute_reply": "2021-06-10T12:09:13.536950Z",
     "shell.execute_reply.started": "2021-06-10T10:12:28.334871Z"
    },
    "papermill": {
     "duration": 0.818286,
     "end_time": "2021-06-10T12:09:13.537227",
     "exception": false,
     "start_time": "2021-06-10T12:09:12.718941",
     "status": "completed"
    },
    "tags": []
   },
   "outputs": [],
   "source": [
    "#For better representation\n",
    "import seaborn as sns\n",
    "sns.set_style('whitegrid')"
   ]
  },
  {
   "cell_type": "code",
   "execution_count": 6,
   "id": "aging-sunrise",
   "metadata": {
    "execution": {
     "iopub.execute_input": "2021-06-10T12:09:13.585739Z",
     "iopub.status.busy": "2021-06-10T12:09:13.584932Z",
     "iopub.status.idle": "2021-06-10T12:09:13.588245Z",
     "shell.execute_reply": "2021-06-10T12:09:13.588714Z",
     "shell.execute_reply.started": "2021-06-10T10:12:25.563243Z"
    },
    "papermill": {
     "duration": 0.031599,
     "end_time": "2021-06-10T12:09:13.588891",
     "exception": false,
     "start_time": "2021-06-10T12:09:13.557292",
     "status": "completed"
    },
    "tags": []
   },
   "outputs": [
    {
     "data": {
      "text/plain": [
       "age                         0\n",
       "anaemia                     0\n",
       "creatinine_phosphokinase    0\n",
       "diabetes                    0\n",
       "ejection_fraction           0\n",
       "high_blood_pressure         0\n",
       "platelets                   0\n",
       "serum_creatinine            0\n",
       "serum_sodium                0\n",
       "sex                         0\n",
       "smoking                     0\n",
       "time                        0\n",
       "DEATH_EVENT                 0\n",
       "dtype: int64"
      ]
     },
     "execution_count": 6,
     "metadata": {},
     "output_type": "execute_result"
    }
   ],
   "source": [
    "# data.info()\n",
    "data.isnull().sum()"
   ]
  },
  {
   "cell_type": "markdown",
   "id": "parallel-accounting",
   "metadata": {
    "papermill": {
     "duration": 0.020157,
     "end_time": "2021-06-10T12:09:13.629342",
     "exception": false,
     "start_time": "2021-06-10T12:09:13.609185",
     "status": "completed"
    },
    "tags": []
   },
   "source": [
    "The relation between **age and demise possibility** can be now viewed. Here we can see the curve is bit inclined and somehow indicated that the death rate in middle age group was more as compared to other age groups."
   ]
  },
  {
   "cell_type": "code",
   "execution_count": 7,
   "id": "stainless-foster",
   "metadata": {
    "execution": {
     "iopub.execute_input": "2021-06-10T12:09:13.673928Z",
     "iopub.status.busy": "2021-06-10T12:09:13.672985Z",
     "iopub.status.idle": "2021-06-10T12:09:13.946219Z",
     "shell.execute_reply": "2021-06-10T12:09:13.945636Z",
     "shell.execute_reply.started": "2021-06-10T10:13:12.267591Z"
    },
    "papermill": {
     "duration": 0.29623,
     "end_time": "2021-06-10T12:09:13.946356",
     "exception": false,
     "start_time": "2021-06-10T12:09:13.650126",
     "status": "completed"
    },
    "tags": []
   },
   "outputs": [
    {
     "data": {
      "text/plain": [
       "<AxesSubplot:xlabel='age', ylabel='Density'>"
      ]
     },
     "execution_count": 7,
     "metadata": {},
     "output_type": "execute_result"
    },
    {
     "data": {
      "image/png": "[encoded data removed]",
      "text/plain": [
       "<Figure size 432x288 with 1 Axes>"
      ]
     },
     "metadata": {},
     "output_type": "display_data"
    }
   ],
   "source": [
    "sns.kdeplot(data = data, x = \"age\", hue = \"DEATH_EVENT\",\n",
    "            common_norm = False, shade = True)"
   ]
  },
  {
   "cell_type": "markdown",
   "id": "qualified-sponsorship",
   "metadata": {
    "papermill": {
     "duration": 0.0215,
     "end_time": "2021-06-10T12:09:13.989633",
     "exception": false,
     "start_time": "2021-06-10T12:09:13.968133",
     "status": "completed"
    },
    "tags": []
   },
   "source": [
    "So here the density map shows that the death rate was high in the **middle aged(60 years around)** patients with their data but the possibility of non death event was high than the death event.\n",
    "\n",
    "But around the age of 70 to 100 years we can see the curve varied. Here the death event is more as we can visualise. In general we can say that the death is more possible with same\n",
    "symptoms after 60 - 70 than the age below 60."
   ]
  },
  {
   "cell_type": "markdown",
   "id": "narrative-wagner",
   "metadata": {
    "papermill": {
     "duration": 0.021391,
     "end_time": "2021-06-10T12:09:14.033527",
     "exception": false,
     "start_time": "2021-06-10T12:09:14.012136",
     "status": "completed"
    },
    "tags": []
   },
   "source": [
    "The density relation between **smoking and death event** is visualised..."
   ]
  },
  {
   "cell_type": "code",
   "execution_count": 8,
   "id": "duplicate-january",
   "metadata": {
    "execution": {
     "iopub.execute_input": "2021-06-10T12:09:14.094063Z",
     "iopub.status.busy": "2021-06-10T12:09:14.093366Z",
     "iopub.status.idle": "2021-06-10T12:09:14.331090Z",
     "shell.execute_reply": "2021-06-10T12:09:14.331562Z",
     "shell.execute_reply.started": "2021-06-10T10:21:11.056542Z"
    },
    "papermill": {
     "duration": 0.274698,
     "end_time": "2021-06-10T12:09:14.331721",
     "exception": false,
     "start_time": "2021-06-10T12:09:14.057023",
     "status": "completed"
    },
    "tags": []
   },
   "outputs": [
    {
     "data": {
      "text/plain": [
       "<AxesSubplot:xlabel='smoking', ylabel='Density'>"
      ]
     },
     "execution_count": 8,
     "metadata": {},
     "output_type": "execute_result"
    },
    {
     "data": {
      "image/png": "[encoded data removed]",
      "text/plain": [
       "<Figure size 432x288 with 1 Axes>"
      ]
     },
     "metadata": {},
     "output_type": "display_data"
    }
   ],
   "source": [
    "sns.kdeplot(data = data, x = 'smoking' , hue = \"DEATH_EVENT\", \n",
    "            common_norm = False, shade = True)"
   ]
  },
  {
   "cell_type": "markdown",
   "id": "rising-polyester",
   "metadata": {
    "papermill": {
     "duration": 0.022947,
     "end_time": "2021-06-10T12:09:14.377776",
     "exception": false,
     "start_time": "2021-06-10T12:09:14.354829",
     "status": "completed"
    },
    "tags": []
   },
   "source": [
    "In the above visuals we can see that the curve are very well inclined. The curve is *high at two places* because the values provided were discreate and **binary(0 and 1)** with either **does'nt smoke or smokes**.\n",
    "So, we can see that non death event is high in both the peaks. Also the peak at smokes condition is lower than the non smokers.\n",
    "This indicates the distribution is similar in both the non-smokers and the smokers and its **not directly contributing in the predictions**.\n"
   ]
  },
  {
   "cell_type": "markdown",
   "id": "expanded-guess",
   "metadata": {
    "papermill": {
     "duration": 0.022822,
     "end_time": "2021-06-10T12:09:14.423628",
     "exception": false,
     "start_time": "2021-06-10T12:09:14.400806",
     "status": "completed"
    },
    "tags": []
   },
   "source": [
    "Lets see other relations"
   ]
  },
  {
   "cell_type": "code",
   "execution_count": 9,
   "id": "capable-slave",
   "metadata": {
    "execution": {
     "iopub.execute_input": "2021-06-10T12:09:14.475132Z",
     "iopub.status.busy": "2021-06-10T12:09:14.474517Z",
     "iopub.status.idle": "2021-06-10T12:09:15.617030Z",
     "shell.execute_reply": "2021-06-10T12:09:15.617512Z",
     "shell.execute_reply.started": "2021-06-10T10:43:42.367739Z"
    },
    "papermill": {
     "duration": 1.171368,
     "end_time": "2021-06-10T12:09:15.617676",
     "exception": false,
     "start_time": "2021-06-10T12:09:14.446308",
     "status": "completed"
    },
    "tags": []
   },
   "outputs": [
    {
     "data": {
      "image/png": "[encoded data removed]",
      "text/plain": [
       "<Figure size 720x864 with 2 Axes>"
      ]
     },
     "metadata": {},
     "output_type": "display_data"
    }
   ],
   "source": [
    "cor = data.corr()\n",
    "plt.figure(figsize = (10,12))\n",
    "sns.heatmap(cor,vmax = 1 ,vmin = 0,linewidth = 5, square =True, annot =True ,annot_kws ={'size':8},fmt ='.1f',cmap='YlGnBu')\n",
    "plt.title('Correlation')\n",
    "plt.show()"
   ]
  },
  {
   "cell_type": "markdown",
   "id": "stable-occasions",
   "metadata": {
    "papermill": {
     "duration": 0.0248,
     "end_time": "2021-06-10T12:09:15.667867",
     "exception": false,
     "start_time": "2021-06-10T12:09:15.643067",
     "status": "completed"
    },
    "tags": []
   },
   "source": [
    "Here we can see that *death_event* has same and fair co-relation with **age and serum_creatinine**. So, lets see relation of serum_creatinine with death event ...\n",
    "After that as anaemia and creatinine phosphokinase and high_blood_pressure is also around same co-relation with death_events, will check them too..."
   ]
  },
  {
   "cell_type": "code",
   "execution_count": 10,
   "id": "steady-mexico",
   "metadata": {
    "execution": {
     "iopub.execute_input": "2021-06-10T12:09:15.720762Z",
     "iopub.status.busy": "2021-06-10T12:09:15.720175Z",
     "iopub.status.idle": "2021-06-10T12:09:15.938753Z",
     "shell.execute_reply": "2021-06-10T12:09:15.938254Z",
     "shell.execute_reply.started": "2021-06-10T11:28:26.953606Z"
    },
    "papermill": {
     "duration": 0.24617,
     "end_time": "2021-06-10T12:09:15.938893",
     "exception": false,
     "start_time": "2021-06-10T12:09:15.692723",
     "status": "completed"
    },
    "tags": []
   },
   "outputs": [
    {
     "data": {
      "text/plain": [
       "<AxesSubplot:xlabel='serum_creatinine', ylabel='Density'>"
      ]
     },
     "execution_count": 10,
     "metadata": {},
     "output_type": "execute_result"
    },
    {
     "data": {
      "image/png": "[encoded data removed]",
      "text/plain": [
       "<Figure size 432x288 with 1 Axes>"
      ]
     },
     "metadata": {},
     "output_type": "display_data"
    }
   ],
   "source": [
    "sns.kdeplot(data= data, x='serum_creatinine',hue =\"DEATH_EVENT\",common_norm = False, shade = True)"
   ]
  },
  {
   "cell_type": "markdown",
   "id": "detailed-failing",
   "metadata": {
    "papermill": {
     "duration": 0.026287,
     "end_time": "2021-06-10T12:09:15.991691",
     "exception": false,
     "start_time": "2021-06-10T12:09:15.965404",
     "status": "completed"
    },
    "tags": []
   },
   "source": [
    "This shows a **huge difference** in death possibility with low serum creatinine but with very narrow edge. Thus if serum creatinine is **0 to 2** the possiblity of **non-death event is more than the death event**. Very specifically, the red curve(1) is **shifted to right** which indicate that the the **possibility of death is more as it reaches to creainine level 2**.\n",
    "At *high* creatinine level the **death event is one** and as the number of cases are less thus the curve is minimal."
   ]
  },
  {
   "cell_type": "markdown",
   "id": "reliable-demonstration",
   "metadata": {
    "papermill": {
     "duration": 0.02669,
     "end_time": "2021-06-10T12:09:16.045048",
     "exception": false,
     "start_time": "2021-06-10T12:09:16.018358",
     "status": "completed"
    },
    "tags": []
   },
   "source": []
  },
  {
   "cell_type": "markdown",
   "id": "adjacent-healing",
   "metadata": {
    "papermill": {
     "duration": 0.026317,
     "end_time": "2021-06-10T12:09:16.097939",
     "exception": false,
     "start_time": "2021-06-10T12:09:16.071622",
     "status": "completed"
    },
    "tags": []
   },
   "source": [
    "Now, checking anaemia..."
   ]
  },
  {
   "cell_type": "code",
   "execution_count": 11,
   "id": "turned-battery",
   "metadata": {
    "execution": {
     "iopub.execute_input": "2021-06-10T12:09:16.159341Z",
     "iopub.status.busy": "2021-06-10T12:09:16.158717Z",
     "iopub.status.idle": "2021-06-10T12:09:16.349486Z",
     "shell.execute_reply": "2021-06-10T12:09:16.348934Z",
     "shell.execute_reply.started": "2021-06-10T11:48:24.020353Z"
    },
    "papermill": {
     "duration": 0.225337,
     "end_time": "2021-06-10T12:09:16.349632",
     "exception": false,
     "start_time": "2021-06-10T12:09:16.124295",
     "status": "completed"
    },
    "tags": []
   },
   "outputs": [
    {
     "data": {
      "text/plain": [
       "<AxesSubplot:xlabel='DEATH_EVENT', ylabel='anaemia'>"
      ]
     },
     "execution_count": 11,
     "metadata": {},
     "output_type": "execute_result"
    },
    {
     "data": {
      "image/png": "[encoded data removed]",
      "text/plain": [
       "<Figure size 432x288 with 1 Axes>"
      ]
     },
     "metadata": {},
     "output_type": "display_data"
    }
   ],
   "source": [
    "sns.barplot(data=data, x= \"DEATH_EVENT\" , y = \"anaemia\")"
   ]
  },
  {
   "cell_type": "markdown",
   "id": "patient-result",
   "metadata": {
    "papermill": {
     "duration": 0.027103,
     "end_time": "2021-06-10T12:09:16.404160",
     "exception": false,
     "start_time": "2021-06-10T12:09:16.377057",
     "status": "completed"
    },
    "tags": []
   },
   "source": [
    "This shows that **more people with anaemia** had **possibility of death** as compared to those without anaemia.\n",
    "Next lets see the relation of creatinine_phosphokinase..."
   ]
  },
  {
   "cell_type": "code",
   "execution_count": 12,
   "id": "athletic-engineer",
   "metadata": {
    "execution": {
     "iopub.execute_input": "2021-06-10T12:09:16.475667Z",
     "iopub.status.busy": "2021-06-10T12:09:16.470191Z",
     "iopub.status.idle": "2021-06-10T12:09:16.689087Z",
     "shell.execute_reply": "2021-06-10T12:09:16.688438Z",
     "shell.execute_reply.started": "2021-06-10T11:29:29.566133Z"
    },
    "papermill": {
     "duration": 0.257498,
     "end_time": "2021-06-10T12:09:16.689226",
     "exception": false,
     "start_time": "2021-06-10T12:09:16.431728",
     "status": "completed"
    },
    "tags": []
   },
   "outputs": [
    {
     "data": {
      "text/plain": [
       "<AxesSubplot:xlabel='creatinine_phosphokinase', ylabel='Density'>"
      ]
     },
     "execution_count": 12,
     "metadata": {},
     "output_type": "execute_result"
    },
    {
     "data": {
      "image/png": "[encoded data removed]",
      "text/plain": [
       "<Figure size 432x288 with 1 Axes>"
      ]
     },
     "metadata": {},
     "output_type": "display_data"
    }
   ],
   "source": [
    "sns.kdeplot(data =data, x = \"creatinine_phosphokinase\" , hue = \"DEATH_EVENT\", common_norm = False , shade = True )"
   ]
  },
  {
   "cell_type": "markdown",
   "id": "amended-coral",
   "metadata": {
    "papermill": {
     "duration": 0.02845,
     "end_time": "2021-06-10T12:09:16.746705",
     "exception": false,
     "start_time": "2021-06-10T12:09:16.718255",
     "status": "completed"
    },
    "tags": []
   },
   "source": [
    "Here we can see that at **low level**(nearby zero) the **non death event is more than the death event**. The case becomes more with death events as the levels reaches to high. \n",
    "And lets see high blood pressure"
   ]
  },
  {
   "cell_type": "code",
   "execution_count": 13,
   "id": "indirect-cambodia",
   "metadata": {
    "execution": {
     "iopub.execute_input": "2021-06-10T12:09:16.812970Z",
     "iopub.status.busy": "2021-06-10T12:09:16.811974Z",
     "iopub.status.idle": "2021-06-10T12:09:17.004254Z",
     "shell.execute_reply": "2021-06-10T12:09:17.003598Z",
     "shell.execute_reply.started": "2021-06-10T11:48:32.227814Z"
    },
    "papermill": {
     "duration": 0.228859,
     "end_time": "2021-06-10T12:09:17.004393",
     "exception": false,
     "start_time": "2021-06-10T12:09:16.775534",
     "status": "completed"
    },
    "tags": []
   },
   "outputs": [
    {
     "data": {
      "text/plain": [
       "<AxesSubplot:xlabel='DEATH_EVENT', ylabel='high_blood_pressure'>"
      ]
     },
     "execution_count": 13,
     "metadata": {},
     "output_type": "execute_result"
    },
    {
     "data": {
      "image/png": "[encoded data removed]",
      "text/plain": [
       "<Figure size 432x288 with 1 Axes>"
      ]
     },
     "metadata": {},
     "output_type": "display_data"
    }
   ],
   "source": [
    "sns.barplot(data=data, x= \"DEATH_EVENT\", y = \"high_blood_pressure\")"
   ]
  },
  {
   "cell_type": "markdown",
   "id": "exact-settle",
   "metadata": {
    "papermill": {
     "duration": 0.029412,
     "end_time": "2021-06-10T12:09:17.063854",
     "exception": false,
     "start_time": "2021-06-10T12:09:17.034442",
     "status": "completed"
    },
    "tags": []
   },
   "source": [
    "This shows the death possibility is more when the blood pressure of the patients were high, thus indicating that they are related."
   ]
  },
  {
   "cell_type": "markdown",
   "id": "alternative-moisture",
   "metadata": {
    "papermill": {
     "duration": 0.029613,
     "end_time": "2021-06-10T12:09:17.123523",
     "exception": false,
     "start_time": "2021-06-10T12:09:17.093910",
     "status": "completed"
    },
    "tags": []
   },
   "source": [
    "So, if conculsively **summarise the whole story** and analysis we come across that person's Age and Serum Creatinine levels were the major factors of death probability followed by enzyme creatinine phosphokinase and possibility of high blood pressure which is usually indication of some blockages, dense blood or colesterol levels. Anaemia was also a contributing factor but less than other factors.\n",
    "Diabeties contributed least to the possibilities than any other comparing factor."
   ]
  },
  {
   "cell_type": "markdown",
   "id": "promising-grave",
   "metadata": {
    "papermill": {
     "duration": 0.029141,
     "end_time": "2021-06-10T12:09:17.182867",
     "exception": false,
     "start_time": "2021-06-10T12:09:17.153726",
     "status": "completed"
    },
    "tags": []
   },
   "source": [
    "To be continued. Please Upvote, I am a beginner and here to learn and develop my skills.\n",
    "Comment down to give your feedbacks. Feedbacks are precious to me.\n"
   ]
  }
 ],
 "metadata": {
  "kernelspec": {
   "display_name": "Python 3",
   "language": "python",
   "name": "python3"
  },
  "language_info": {
   "codemirror_mode": {
    "name": "ipython",
    "version": 3
   },
   "file_extension": ".py",
   "mimetype": "text/x-python",
   "name": "python",
   "nbconvert_exporter": "python",
   "pygments_lexer": "ipython3",
   "version": "3.7.10"
  },
  "papermill": {
   "default_parameters": {},
   "duration": 13.688251,
   "end_time": "2021-06-10T12:09:18.583667",
   "environment_variables": {},
   "exception": null,
   "input_path": "__notebook__.ipynb",
   "output_path": "__notebook__.ipynb",
   "parameters": {},
   "start_time": "2021-06-10T12:09:04.895416",
   "version": "2.3.3"
  }
 },
 "nbformat": 4,
 "nbformat_minor": 5
}
