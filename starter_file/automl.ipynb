{
  "cells": [
    {
      "cell_type": "markdown",
      "source": [
        "# Automated ML\n",
        "\n",
        "TODO: Import Dependencies. In the cell below, import all the dependencies that you will need to complete the project."
      ],
      "metadata": {}
    },
    {
      "cell_type": "code",
      "source": [
        "from azureml.core import Experiment,Workspace\n",
        "from azureml.core.compute import ComputeTarget,AmlCompute\n",
        "from azureml.core.compute_target import ComputeTargetException\n",
        "from azureml.core.dataset import Dataset\n",
        "from azureml.train.automl import AutoMLConfig\n",
        "from azureml.widgets import RunDetails"
      ],
      "outputs": [],
      "execution_count": 1,
      "metadata": {
        "gather": {
          "logged": 1618646744415
        },
        "jupyter": {
          "outputs_hidden": false,
          "source_hidden": false
        },
        "nteract": {
          "transient": {
            "deleting": false
          }
        }
      }
    },
    {
      "cell_type": "markdown",
      "source": [
        "## Dataset\n",
        "\n",
        "### Overview\n",
        "TODO: In this markdown cell, give an overview of the dataset you are using. Also mention the task you will be performing.\n",
        "\n",
        "\n",
        "TODO: Get data. In the cell below, write code to access the data you will be using in this project. Remember that the dataset needs to be external."
      ],
      "metadata": {}
    },
    {
      "cell_type": "code",
      "source": [
        "ws = Workspace.from_config()\n",
        "\n",
        "# choose a name for experiment\n",
        "experiment_name = 'heart_failure_prediction'\n",
        "\n",
        "print('Workspace name: ' + ws.name, \n",
        "      'Azure region: ' + ws.location, \n",
        "      'Subscription id: ' + ws.subscription_id, \n",
        "      'Resource group: ' + ws.resource_group, sep = '\\n')\n",
        "\n",
        "\n",
        "experiment = Experiment(ws, experiment_name)\n",
        "run = experiment.start_logging()\n",
        "path = \"https://raw.githubusercontent.com/Sara-cos/Heart_Faliure_PredictionModel/main/starter_file/heart_failure_clinical_records_dataset.csv\"\n",
        "dataset = Dataset.Tabular.from_delimited_files(path)"
      ],
      "outputs": [
        {
          "output_type": "stream",
          "name": "stdout",
          "text": [
            "Performing interactive authentication. Please follow the instructions on the terminal.\n",
            "To sign in, use a web browser to open the page https://microsoft.com/devicelogin and enter the code EMLSZGVFB to authenticate.\n",
            "You have logged in. Now let us find all the subscriptions to which you have access...\n",
            "Interactive authentication successfully completed.\n",
            "Workspace name: quick-starts-ws-142919\n",
            "Azure region: southcentralus\n",
            "Subscription id: 610d6e37-4747-4a20-80eb-3aad70a55f43\n",
            "Resource group: aml-quickstarts-142919\n"
          ]
        }
      ],
      "execution_count": 2,
      "metadata": {
        "gather": {
          "logged": 1618646808538
        },
        "jupyter": {
          "outputs_hidden": false,
          "source_hidden": false
        },
        "nteract": {
          "transient": {
            "deleting": false
          }
        }
      }
    },
    {
      "cell_type": "code",
      "source": [
        "cpu_compute_name = \"cpucompute\"\n",
        "\n",
        "try:\n",
        "    cpu_cluster = ComputeTarget(workspace=ws, name= cpu_compute_name)\n",
        "    print('Using existing cluster')\n",
        "except ComputeTargetException:\n",
        "    compute_config = AmlCompute.provisioning_configuration(vm_size='Standard_D2_V2',\n",
        "                                                           max_nodes=4)\n",
        "    cpu_cluster = ComputeTarget.create(ws, cpu_compute_name, compute_config)\n",
        "\n",
        "cpu_cluster.wait_for_completion(show_output=True)"
      ],
      "outputs": [
        {
          "output_type": "stream",
          "name": "stdout",
          "text": [
            "Creating....\n",
            "SucceededProvisioning operation finished, operation \"Succeeded\"\n",
            "Succeeded\n",
            "AmlCompute wait for completion finished\n",
            "\n",
            "Minimum number of nodes requested have been provisioned\n"
          ]
        }
      ],
      "execution_count": 3,
      "metadata": {
        "gather": {
          "logged": 1618646829850
        }
      }
    },
    {
      "cell_type": "markdown",
      "source": [
        "## AutoML Configuration\n",
        "\n",
        "TODO: Explain why you chose the automl settings and cofiguration you used below."
      ],
      "metadata": {}
    },
    {
      "cell_type": "code",
      "source": [
        "# TODO: Put your automl settings here\n",
        "automl_settings = {\"experiment_timeout_minutes\": 20,\n",
        "    \"max_concurrent_iterations\": 4,\n",
        "    \"primary_metric\" : 'accuracy'}\n",
        "\n",
        "# TODO: Put your automl config here\n",
        "automl_config = AutoMLConfig(compute_target = cpu_cluster,\n",
        "                             task = \"classification\",\n",
        "                             training_data = dataset,\n",
        "                             label_column_name = \"DEATH_EVENT\",   \n",
        "                             enable_early_stopping = True,\n",
        "                             featurization = 'auto',\n",
        "                             debug_log = \"automl_errors.log\",\n",
        "                             **automl_settings)"
      ],
      "outputs": [],
      "execution_count": 4,
      "metadata": {
        "gather": {
          "logged": 1618646830086
        },
        "jupyter": {
          "outputs_hidden": false,
          "source_hidden": false
        },
        "nteract": {
          "transient": {
            "deleting": false
          }
        }
      }
    },
    {
      "cell_type": "code",
      "source": [
        "# TODO: Submit your experiment\n",
        "remote_run = experiment.submit(automl_config, show_output = True)"
      ],
      "outputs": [
        {
          "output_type": "stream",
          "name": "stdout",
          "text": [
            "Submitting remote run.\n",
            "No run_configuration provided, running on cpucompute with default configuration\n",
            "Running on remote compute: cpucompute\n"
          ]
        },
        {
          "output_type": "display_data",
          "data": {
            "text/plain": "<IPython.core.display.HTML object>",
            "text/html": "<table style=\"width:100%\"><tr><th>Experiment</th><th>Id</th><th>Type</th><th>Status</th><th>Details Page</th><th>Docs Page</th></tr><tr><td>heart_failure_prediction</td><td>AutoML_ad6f9955-c6f1-492a-9a04-5c613b397163</td><td>automl</td><td>NotStarted</td><td><a href=\"https://ml.azure.com/runs/AutoML_ad6f9955-c6f1-492a-9a04-5c613b397163?wsid=/subscriptions/610d6e37-4747-4a20-80eb-3aad70a55f43/resourcegroups/aml-quickstarts-142919/workspaces/quick-starts-ws-142919&amp;tid=660b3398-b80e-49d2-bc5b-ac1dc93b5254\" target=\"_blank\" rel=\"noopener\">Link to Azure Machine Learning studio</a></td><td><a href=\"https://docs.microsoft.com/en-us/python/api/overview/azure/ml/intro?view=azure-ml-py\" target=\"_blank\" rel=\"noopener\">Link to Documentation</a></td></tr></table>"
          },
          "metadata": {}
        },
        {
          "output_type": "stream",
          "name": "stdout",
          "text": [
            "\n",
            "Current status: FeaturesGeneration. Generating features for the dataset.\n",
            "Current status: DatasetCrossValidationSplit. Generating individually featurized CV splits.\n",
            "Current status: ModelSelection. Beginning model selection.\n",
            "\n",
            "****************************************************************************************************\n",
            "DATA GUARDRAILS: \n",
            "\n",
            "TYPE:         Cross validation\n",
            "STATUS:       DONE\n",
            "DESCRIPTION:  Each iteration of the trained model was validated through cross-validation.\n",
            "              \n",
            "DETAILS:      \n",
            "+---------------------------------+\n",
            "|Number of folds                  |\n",
            "+=================================+\n",
            "|10                               |\n",
            "+---------------------------------+\n",
            "\n",
            "****************************************************************************************************\n",
            "\n",
            "TYPE:         Class balancing detection\n",
            "STATUS:       PASSED\n",
            "DESCRIPTION:  Your inputs were analyzed, and all classes are balanced in your training data.\n",
            "              Learn more about imbalanced data: https://aka.ms/AutomatedMLImbalancedData\n",
            "\n",
            "****************************************************************************************************\n",
            "\n",
            "TYPE:         Missing feature values imputation\n",
            "STATUS:       PASSED\n",
            "DESCRIPTION:  No feature missing values were detected in the training data.\n",
            "              Learn more about missing value imputation: https://aka.ms/AutomatedMLFeaturization\n",
            "\n",
            "****************************************************************************************************\n",
            "\n",
            "TYPE:         High cardinality feature detection\n",
            "STATUS:       PASSED\n",
            "DESCRIPTION:  Your inputs were analyzed, and no high cardinality features were detected.\n",
            "              Learn more about high cardinality feature handling: https://aka.ms/AutomatedMLFeaturization\n",
            "\n",
            "****************************************************************************************************\n",
            "\n",
            "****************************************************************************************************\n",
            "ITERATION: The iteration being evaluated.\n",
            "PIPELINE: A summary description of the pipeline being evaluated.\n",
            "DURATION: Time taken for the current iteration.\n",
            "METRIC: The result of computing score on the fitted pipeline.\n",
            "BEST: The best observed score thus far.\n",
            "****************************************************************************************************\n",
            "\n",
            " ITERATION   PIPELINE                                       DURATION      METRIC      BEST\n",
            "         0   MaxAbsScaler LightGBM                          0:00:54       0.8360    0.8360\n",
            "         3   MinMaxScaler RandomForest                      0:00:43       0.8394    0.8394\n",
            "         1   MaxAbsScaler XGBoostClassifier                 0:00:45       0.8359    0.8394\n",
            "         2   MinMaxScaler RandomForest                      0:00:49       0.8360    0.8394\n",
            "         4   MinMaxScaler RandomForest                      0:02:10       0.8391    0.8394\n",
            "         5   StandardScalerWrapper XGBoostClassifier        0:02:35       0.8091    0.8394\n",
            "         7   MinMaxScaler SVM                               0:00:44       0.7225    0.8394\n",
            "         8   SparseNormalizer XGBoostClassifier             0:00:45       0.8229    0.8394\n",
            "         9   SparseNormalizer XGBoostClassifier             0:00:46       0.8093    0.8394\n",
            "        10   MaxAbsScaler GradientBoosting                  0:00:55       0.8460    0.8460\n",
            "        11   SparseNormalizer LightGBM                      0:00:43       0.8329    0.8460\n",
            "         6   SparseNormalizer XGBoostClassifier             0:02:06       0.8292    0.8460\n",
            "        12   MaxAbsScaler ExtremeRandomTrees                0:00:55       0.8429    0.8460\n",
            "        13   MaxAbsScaler LightGBM                          0:00:46       0.8293    0.8460\n",
            "        14   MinMaxScaler LightGBM                          0:00:43       0.8261    0.8460\n",
            "        15   MaxAbsScaler LightGBM                          0:00:49       0.8393    0.8460\n",
            "        16   RobustScaler ExtremeRandomTrees                0:00:47       0.8495    0.8495\n",
            "        18   RobustScaler ExtremeRandomTrees                0:00:44       0.8529    0.8529\n",
            "        17   SparseNormalizer XGBoostClassifier             0:00:52       0.8362    0.8529\n",
            "        19   StandardScalerWrapper LightGBM                 0:00:43       0.8226    0.8529\n",
            "        20   MaxAbsScaler LightGBM                          0:00:47       0.8160    0.8529\n",
            "        21   MaxAbsScaler LightGBM                          0:00:51       0.8157    0.8529\n",
            "        23   MaxAbsScaler LightGBM                          0:00:45       0.7757    0.8529\n",
            "        24   StandardScalerWrapper LightGBM                 0:00:53       0.7594    0.8529\n",
            "        25   SparseNormalizer ExtremeRandomTrees            0:00:45       0.5551    0.8529\n",
            "        22   MinMaxScaler LightGBM                          0:01:50       0.8026    0.8529\n",
            "        26   StandardScalerWrapper XGBoostClassifier        0:00:41       0.8329    0.8529\n",
            "        27   StandardScalerWrapper XGBoostClassifier        0:00:43       0.8361    0.8529\n",
            "        28   StandardScalerWrapper LightGBM                 0:00:48       0.8226    0.8529\n",
            "        30   StandardScalerWrapper XGBoostClassifier        0:00:44       0.8492    0.8529\n",
            "        29   MaxAbsScaler ExtremeRandomTrees                0:00:54       0.6792    0.8529\n",
            "        31   StandardScalerWrapper LightGBM                 0:00:44       0.8393    0.8529\n",
            "        32   SparseNormalizer GradientBoosting              0:00:40       0.7897    0.8529\n",
            "        33   StandardScalerWrapper ExtremeRandomTrees       0:00:41       0.7361    0.8529\n",
            "        34   SparseNormalizer LightGBM                      0:00:30       0.8161    0.8529\n",
            "        35                                                  0:00:09          nan    0.8529\n",
            "        36    VotingEnsemble                                0:01:03       0.8697    0.8697\n",
            "        37    StackEnsemble                                 0:01:10       0.8661    0.8697\n"
          ]
        }
      ],
      "execution_count": 5,
      "metadata": {
        "gather": {
          "logged": 1618648267366
        },
        "jupyter": {
          "outputs_hidden": false,
          "source_hidden": false
        },
        "nteract": {
          "transient": {
            "deleting": false
          }
        }
      }
    },
    {
      "cell_type": "markdown",
      "source": [
        "## Run Details\n",
        "\n",
        "OPTIONAL: Write about the different models trained and their performance. Why do you think some models did better than others?\n",
        "\n",
        "TODO: In the cell below, use the `RunDetails` widget to show the different experiments."
      ],
      "metadata": {}
    },
    {
      "cell_type": "code",
      "source": [
        "RunDetails(remote_run).show()\n",
        "remote_run.wait_for_completion(show_output=True)"
      ],
      "outputs": [
        {
          "output_type": "display_data",
          "data": {
            "text/plain": "_AutoMLWidget(widget_settings={'childWidgetDisplay': 'popup', 'send_telemetry': False, 'log_level': 'INFO', 's…",
            "application/vnd.jupyter.widget-view+json": {
              "version_major": 2,
              "version_minor": 0,
              "model_id": "5116f656824143148089e75f23b0df1c"
            }
          },
          "metadata": {}
        },
        {
          "output_type": "display_data",
          "data": {
            "application/aml.mini.widget.v1": "{\"status\": \"Completed\", \"workbench_run_details_uri\": \"https://ml.azure.com/runs/AutoML_ad6f9955-c6f1-492a-9a04-5c613b397163?wsid=/subscriptions/610d6e37-4747-4a20-80eb-3aad70a55f43/resourcegroups/aml-quickstarts-142919/workspaces/quick-starts-ws-142919&tid=660b3398-b80e-49d2-bc5b-ac1dc93b5254\", \"run_id\": \"AutoML_ad6f9955-c6f1-492a-9a04-5c613b397163\", \"run_properties\": {\"run_id\": \"AutoML_ad6f9955-c6f1-492a-9a04-5c613b397163\", \"created_utc\": \"2021-04-17T08:07:16.501936Z\", \"properties\": {\"num_iterations\": \"1000\", \"training_type\": \"TrainFull\", \"acquisition_function\": \"EI\", \"primary_metric\": \"accuracy\", \"train_split\": \"0\", \"acquisition_parameter\": \"0\", \"num_cross_validation\": null, \"target\": \"cpucompute\", \"AMLSettingsJsonString\": \"{\\\"path\\\":null,\\\"name\\\":\\\"heart_failure_prediction\\\",\\\"subscription_id\\\":\\\"610d6e37-4747-4a20-80eb-3aad70a55f43\\\",\\\"resource_group\\\":\\\"aml-quickstarts-142919\\\",\\\"workspace_name\\\":\\\"quick-starts-ws-142919\\\",\\\"region\\\":\\\"southcentralus\\\",\\\"compute_target\\\":\\\"cpucompute\\\",\\\"spark_service\\\":null,\\\"azure_service\\\":\\\"remote\\\",\\\"many_models\\\":false,\\\"pipeline_fetch_max_batch_size\\\":1,\\\"enable_batch_run\\\":false,\\\"enable_run_restructure\\\":false,\\\"iterations\\\":1000,\\\"primary_metric\\\":\\\"accuracy\\\",\\\"task_type\\\":\\\"classification\\\",\\\"data_script\\\":null,\\\"test_size\\\":0.0,\\\"validation_size\\\":0.0,\\\"n_cross_validations\\\":null,\\\"y_min\\\":null,\\\"y_max\\\":null,\\\"num_classes\\\":null,\\\"featurization\\\":\\\"auto\\\",\\\"_ignore_package_version_incompatibilities\\\":false,\\\"is_timeseries\\\":false,\\\"max_cores_per_iteration\\\":1,\\\"max_concurrent_iterations\\\":4,\\\"iteration_timeout_minutes\\\":null,\\\"mem_in_mb\\\":null,\\\"enforce_time_on_windows\\\":false,\\\"experiment_timeout_minutes\\\":20,\\\"experiment_exit_score\\\":null,\\\"whitelist_models\\\":null,\\\"blacklist_algos\\\":[\\\"TensorFlowLinearClassifier\\\",\\\"TensorFlowDNN\\\"],\\\"supported_models\\\":[\\\"BernoulliNaiveBayes\\\",\\\"LogisticRegression\\\",\\\"XGBoostClassifier\\\",\\\"KNN\\\",\\\"TensorFlowLinearClassifier\\\",\\\"RandomForest\\\",\\\"AveragedPerceptronClassifier\\\",\\\"MultinomialNaiveBayes\\\",\\\"GradientBoosting\\\",\\\"ExtremeRandomTrees\\\",\\\"LinearSVM\\\",\\\"SVM\\\",\\\"SGD\\\",\\\"LightGBM\\\",\\\"TensorFlowDNN\\\",\\\"DecisionTree\\\"],\\\"private_models\\\":[],\\\"auto_blacklist\\\":true,\\\"blacklist_samples_reached\\\":false,\\\"exclude_nan_labels\\\":true,\\\"verbosity\\\":20,\\\"_debug_log\\\":\\\"azureml_automl.log\\\",\\\"show_warnings\\\":false,\\\"model_explainability\\\":true,\\\"service_url\\\":null,\\\"sdk_url\\\":null,\\\"sdk_packages\\\":null,\\\"enable_onnx_compatible_models\\\":false,\\\"enable_split_onnx_featurizer_estimator_models\\\":false,\\\"vm_type\\\":\\\"STANDARD_D2_V2\\\",\\\"telemetry_verbosity\\\":20,\\\"send_telemetry\\\":true,\\\"enable_dnn\\\":false,\\\"scenario\\\":\\\"SDK-1.13.0\\\",\\\"environment_label\\\":null,\\\"save_mlflow\\\":false,\\\"force_text_dnn\\\":false,\\\"enable_feature_sweeping\\\":true,\\\"enable_early_stopping\\\":true,\\\"early_stopping_n_iters\\\":10,\\\"metrics\\\":null,\\\"enable_metric_confidence\\\":false,\\\"enable_ensembling\\\":true,\\\"enable_stack_ensembling\\\":true,\\\"ensemble_iterations\\\":15,\\\"enable_tf\\\":false,\\\"enable_subsampling\\\":null,\\\"subsample_seed\\\":null,\\\"enable_nimbusml\\\":false,\\\"enable_streaming\\\":false,\\\"force_streaming\\\":false,\\\"track_child_runs\\\":true,\\\"allowed_private_models\\\":[],\\\"label_column_name\\\":\\\"DEATH_EVENT\\\",\\\"weight_column_name\\\":null,\\\"cv_split_column_names\\\":null,\\\"enable_local_managed\\\":false,\\\"_local_managed_run_id\\\":null,\\\"cost_mode\\\":1,\\\"lag_length\\\":0,\\\"metric_operation\\\":\\\"maximize\\\",\\\"preprocess\\\":true}\", \"DataPrepJsonString\": \"{\\\\\\\"training_data\\\\\\\": {\\\\\\\"datasetId\\\\\\\": \\\\\\\"b04547a6-dbba-4793-988b-b0cc359b9fc5\\\\\\\"}, \\\\\\\"datasets\\\\\\\": 0}\", \"EnableSubsampling\": null, \"runTemplate\": \"AutoML\", \"azureml.runsource\": \"automl\", \"display_task_type\": \"classification\", \"dependencies_versions\": \"{\\\"azureml-widgets\\\": \\\"1.26.0\\\", \\\"azureml-train\\\": \\\"1.26.0\\\", \\\"azureml-train-restclients-hyperdrive\\\": \\\"1.26.0\\\", \\\"azureml-train-core\\\": \\\"1.26.0\\\", \\\"azureml-train-automl\\\": \\\"1.26.0\\\", \\\"azureml-train-automl-runtime\\\": \\\"1.26.0\\\", \\\"azureml-train-automl-client\\\": \\\"1.26.0\\\", \\\"azureml-tensorboard\\\": \\\"1.26.0\\\", \\\"azureml-telemetry\\\": \\\"1.26.0\\\", \\\"azureml-sdk\\\": \\\"1.26.0\\\", \\\"azureml-samples\\\": \\\"0+unknown\\\", \\\"azureml-pipeline\\\": \\\"1.26.0\\\", \\\"azureml-pipeline-steps\\\": \\\"1.26.0\\\", \\\"azureml-pipeline-core\\\": \\\"1.26.0\\\", \\\"azureml-opendatasets\\\": \\\"1.26.0\\\", \\\"azureml-model-management-sdk\\\": \\\"1.0.1b6.post1\\\", \\\"azureml-mlflow\\\": \\\"1.26.0\\\", \\\"azureml-interpret\\\": \\\"1.26.0\\\", \\\"azureml-explain-model\\\": \\\"1.26.0\\\", \\\"azureml-defaults\\\": \\\"1.26.0\\\", \\\"azureml-dataset-runtime\\\": \\\"1.26.0\\\", \\\"azureml-dataprep\\\": \\\"2.13.2\\\", \\\"azureml-dataprep-rslex\\\": \\\"1.11.2\\\", \\\"azureml-dataprep-native\\\": \\\"32.0.0\\\", \\\"azureml-datadrift\\\": \\\"1.26.0\\\", \\\"azureml-core\\\": \\\"1.26.0\\\", \\\"azureml-contrib-services\\\": \\\"1.26.0\\\", \\\"azureml-contrib-server\\\": \\\"1.26.0\\\", \\\"azureml-contrib-reinforcementlearning\\\": \\\"1.26.0\\\", \\\"azureml-contrib-pipeline-steps\\\": \\\"1.26.0\\\", \\\"azureml-contrib-notebook\\\": \\\"1.26.0\\\", \\\"azureml-contrib-gbdt\\\": \\\"1.26.0\\\", \\\"azureml-contrib-fairness\\\": \\\"1.26.0\\\", \\\"azureml-contrib-dataset\\\": \\\"1.26.0\\\", \\\"azureml-cli-common\\\": \\\"1.26.0\\\", \\\"azureml-automl-runtime\\\": \\\"1.26.0\\\", \\\"azureml-automl-dnn-nlp\\\": \\\"1.26.0\\\", \\\"azureml-automl-core\\\": \\\"1.26.0\\\", \\\"azureml-accel-models\\\": \\\"1.26.0\\\"}\", \"_aml_system_scenario_identification\": \"Remote.Parent\", \"ClientType\": \"SDK\", \"environment_cpu_name\": \"AzureML-AutoML\", \"environment_cpu_label\": \"prod\", \"environment_gpu_name\": \"AzureML-AutoML-GPU\", \"environment_gpu_label\": \"prod\", \"root_attribution\": \"automl\", \"attribution\": \"AutoML\", \"Orchestrator\": \"AutoML\", \"CancelUri\": \"https://southcentralus.experiments.azureml.net/jasmine/v1.0/subscriptions/610d6e37-4747-4a20-80eb-3aad70a55f43/resourceGroups/aml-quickstarts-142919/providers/Microsoft.MachineLearningServices/workspaces/quick-starts-ws-142919/experimentids/58eac6b3-5eab-4d8f-b67c-a7f3e7965876/cancel/AutoML_ad6f9955-c6f1-492a-9a04-5c613b397163\", \"ClientSdkVersion\": \"1.25.0\", \"snapshotId\": \"00000000-0000-0000-0000-000000000000\", \"SetupRunId\": \"AutoML_ad6f9955-c6f1-492a-9a04-5c613b397163_setup\", \"SetupRunContainerId\": \"dcid.AutoML_ad6f9955-c6f1-492a-9a04-5c613b397163_setup\", \"FeaturizationRunJsonPath\": \"featurizer_container.json\", \"FeaturizationRunId\": \"AutoML_ad6f9955-c6f1-492a-9a04-5c613b397163_featurize\", \"ProblemInfoJsonString\": \"{\\\"dataset_num_categorical\\\": 0, \\\"is_sparse\\\": false, \\\"subsampling\\\": false, \\\"dataset_classes\\\": 2, \\\"dataset_features\\\": 12, \\\"dataset_samples\\\": 299, \\\"single_frequency_class_detected\\\": false}\", \"ModelExplainRunId\": \"AutoML_ad6f9955-c6f1-492a-9a04-5c613b397163_ModelExplain\"}, \"tags\": {\"model_explain_run\": \"best_run\", \"_aml_system_azureml.automlComponent\": \"AutoML\", \"pipeline_id\": \"\", \"score\": \"\", \"predicted_cost\": \"\", \"fit_time\": \"\", \"training_percent\": \"\", \"iteration\": \"\", \"run_preprocessor\": \"\", \"run_algorithm\": \"\", \"dynamic_whitelisting_iterations\": \"<25>;<29>;<35>;\", \"automl_best_child_run_id\": \"AutoML_ad6f9955-c6f1-492a-9a04-5c613b397163_36\", \"model_explain_best_run_child_id\": \"AutoML_ad6f9955-c6f1-492a-9a04-5c613b397163_36\"}, \"end_time_utc\": \"2021-04-17T08:30:36.796294Z\", \"status\": \"Completed\", \"log_files\": {}, \"log_groups\": [], \"run_duration\": \"0:23:20\", \"run_number\": \"2\", \"run_queued_details\": {\"status\": \"Completed\", \"details\": null}}, \"child_runs\": [{\"run_id\": \"AutoML_ad6f9955-c6f1-492a-9a04-5c613b397163_0\", \"run_number\": 6, \"metric\": null, \"status\": \"Completed\", \"run_type\": \"azureml.scriptrun\", \"training_percent\": \"100\", \"start_time\": \"2021-04-17T08:15:17.496652Z\", \"end_time\": \"2021-04-17T08:16:11.471104Z\", \"created_time\": \"2021-04-17T08:15:06.812038Z\", \"created_time_dt\": \"2021-04-17T08:15:06.812038Z\", \"duration\": \"0:01:04\", \"iteration\": \"0\", \"goal\": \"accuracy_max\", \"run_name\": \"MaxAbsScaler, LightGBM\", \"run_properties\": \"copy=True\", \"primary_metric\": 0.83597701, \"best_metric\": 0.83597701}, {\"run_id\": \"AutoML_ad6f9955-c6f1-492a-9a04-5c613b397163_1\", \"run_number\": 7, \"metric\": null, \"status\": \"Completed\", \"run_type\": \"azureml.scriptrun\", \"training_percent\": \"100\", \"start_time\": \"2021-04-17T08:17:24.757203Z\", \"end_time\": \"2021-04-17T08:18:09.572763Z\", \"created_time\": \"2021-04-17T08:15:06.938547Z\", \"created_time_dt\": \"2021-04-17T08:15:06.938547Z\", \"duration\": \"0:03:02\", \"iteration\": \"1\", \"goal\": \"accuracy_max\", \"run_name\": \"MaxAbsScaler, XGBoostClassifier\", \"run_properties\": \"copy=True\", \"primary_metric\": 0.83586207, \"best_metric\": 0.83597701}, {\"run_id\": \"AutoML_ad6f9955-c6f1-492a-9a04-5c613b397163_3\", \"run_number\": 8, \"metric\": null, \"status\": \"Completed\", \"run_type\": \"azureml.scriptrun\", \"training_percent\": \"100\", \"start_time\": \"2021-04-17T08:16:25.550084Z\", \"end_time\": \"2021-04-17T08:17:08.221003Z\", \"created_time\": \"2021-04-17T08:15:06.942758Z\", \"created_time_dt\": \"2021-04-17T08:15:06.942758Z\", \"duration\": \"0:02:01\", \"iteration\": \"3\", \"goal\": \"accuracy_max\", \"run_name\": \"MinMaxScaler, RandomForest\", \"run_properties\": \"copy=True, feature_range=(0, 1\", \"primary_metric\": 0.83942529, \"best_metric\": 0.83942529}, {\"run_id\": \"AutoML_ad6f9955-c6f1-492a-9a04-5c613b397163_2\", \"run_number\": 9, \"metric\": null, \"status\": \"Completed\", \"run_type\": \"azureml.scriptrun\", \"training_percent\": \"100\", \"start_time\": \"2021-04-17T08:18:25.94758Z\", \"end_time\": \"2021-04-17T08:19:15.174692Z\", \"created_time\": \"2021-04-17T08:15:06.941182Z\", \"created_time_dt\": \"2021-04-17T08:15:06.941182Z\", \"duration\": \"0:04:08\", \"iteration\": \"2\", \"goal\": \"accuracy_max\", \"run_name\": \"MinMaxScaler, RandomForest\", \"run_properties\": \"copy=True, feature_range=(0, 1\", \"primary_metric\": 0.83597701, \"best_metric\": 0.83597701}, {\"run_id\": \"AutoML_ad6f9955-c6f1-492a-9a04-5c613b397163_4\", \"run_number\": 10, \"metric\": null, \"status\": \"Completed\", \"run_type\": \"azureml.scriptrun\", \"training_percent\": \"100\", \"start_time\": \"2021-04-17T08:18:49.262357Z\", \"end_time\": \"2021-04-17T08:20:59.613537Z\", \"created_time\": \"2021-04-17T08:16:13.499946Z\", \"created_time_dt\": \"2021-04-17T08:16:13.499946Z\", \"duration\": \"0:04:46\", \"iteration\": \"4\", \"goal\": \"accuracy_max\", \"run_name\": \"MinMaxScaler, RandomForest\", \"run_properties\": \"copy=True, feature_range=(0, 1\", \"primary_metric\": 0.83908046, \"best_metric\": 0.83942529}, {\"run_id\": \"AutoML_ad6f9955-c6f1-492a-9a04-5c613b397163_5\", \"run_number\": 11, \"metric\": null, \"status\": \"Completed\", \"run_type\": \"azureml.scriptrun\", \"training_percent\": \"100\", \"start_time\": \"2021-04-17T08:18:50.404429Z\", \"end_time\": \"2021-04-17T08:21:25.505685Z\", \"created_time\": \"2021-04-17T08:17:11.350436Z\", \"created_time_dt\": \"2021-04-17T08:17:11.350436Z\", \"duration\": \"0:04:14\", \"iteration\": \"5\", \"goal\": \"accuracy_max\", \"run_name\": \"StandardScalerWrapper, XGBoostClassifier\", \"run_properties\": \"<azureml.automl.runtime.shared.model_wrappers.StandardScalerWrapper object at 0x7f79546ada90\", \"primary_metric\": 0.80908046, \"best_metric\": 0.83942529}, {\"run_id\": \"AutoML_ad6f9955-c6f1-492a-9a04-5c613b397163_6\", \"run_number\": 12, \"metric\": null, \"status\": \"Completed\", \"run_type\": \"azureml.scriptrun\", \"training_percent\": \"100\", \"start_time\": \"2021-04-17T08:20:59.537329Z\", \"end_time\": \"2021-04-17T08:23:05.643454Z\", \"created_time\": \"2021-04-17T08:18:13.04984Z\", \"created_time_dt\": \"2021-04-17T08:18:13.04984Z\", \"duration\": \"0:04:52\", \"iteration\": \"6\", \"goal\": \"accuracy_max\", \"run_name\": \"SparseNormalizer, XGBoostClassifier\", \"run_properties\": \"<azureml.automl.runtime.shared.model_wrappers.SparseNormalizer object at 0x7ff86ba96ba8\", \"primary_metric\": 0.8291954, \"best_metric\": 0.83942529}, {\"run_id\": \"AutoML_ad6f9955-c6f1-492a-9a04-5c613b397163_7\", \"run_number\": 13, \"metric\": null, \"status\": \"Completed\", \"run_type\": \"azureml.scriptrun\", \"training_percent\": \"100\", \"start_time\": \"2021-04-17T08:21:08.498215Z\", \"end_time\": \"2021-04-17T08:21:52.52845Z\", \"created_time\": \"2021-04-17T08:19:19.346431Z\", \"created_time_dt\": \"2021-04-17T08:19:19.346431Z\", \"duration\": \"0:02:33\", \"iteration\": \"7\", \"goal\": \"accuracy_max\", \"run_name\": \"MinMaxScaler, SVM\", \"run_properties\": \"copy=True, feature_range=(0, 1\", \"primary_metric\": 0.72252874, \"best_metric\": 0.83942529}, {\"run_id\": \"AutoML_ad6f9955-c6f1-492a-9a04-5c613b397163_8\", \"run_number\": 14, \"metric\": null, \"status\": \"Completed\", \"run_type\": \"azureml.scriptrun\", \"training_percent\": \"100\", \"start_time\": \"2021-04-17T08:21:33.067245Z\", \"end_time\": \"2021-04-17T08:22:18.180802Z\", \"created_time\": \"2021-04-17T08:21:02.08443Z\", \"created_time_dt\": \"2021-04-17T08:21:02.08443Z\", \"duration\": \"0:01:16\", \"iteration\": \"8\", \"goal\": \"accuracy_max\", \"run_name\": \"SparseNormalizer, XGBoostClassifier\", \"run_properties\": \"<azureml.automl.runtime.shared.model_wrappers.SparseNormalizer object at 0x7f7797b30390\", \"primary_metric\": 0.82287356, \"best_metric\": 0.83942529}, {\"run_id\": \"AutoML_ad6f9955-c6f1-492a-9a04-5c613b397163_9\", \"run_number\": 15, \"metric\": null, \"status\": \"Completed\", \"run_type\": \"azureml.scriptrun\", \"training_percent\": \"100\", \"start_time\": \"2021-04-17T08:21:39.646475Z\", \"end_time\": \"2021-04-17T08:22:26.132292Z\", \"created_time\": \"2021-04-17T08:21:28.542036Z\", \"created_time_dt\": \"2021-04-17T08:21:28.542036Z\", \"duration\": \"0:00:57\", \"iteration\": \"9\", \"goal\": \"accuracy_max\", \"run_name\": \"SparseNormalizer, XGBoostClassifier\", \"run_properties\": \"<azureml.automl.runtime.shared.model_wrappers.SparseNormalizer object at 0x7fc88aa023c8\", \"primary_metric\": 0.80931034, \"best_metric\": 0.83942529}, {\"run_id\": \"AutoML_ad6f9955-c6f1-492a-9a04-5c613b397163_10\", \"run_number\": 16, \"metric\": null, \"status\": \"Completed\", \"run_type\": \"azureml.scriptrun\", \"training_percent\": \"100\", \"start_time\": \"2021-04-17T08:22:04.837302Z\", \"end_time\": \"2021-04-17T08:22:59.718361Z\", \"created_time\": \"2021-04-17T08:21:54.848419Z\", \"created_time_dt\": \"2021-04-17T08:21:54.848419Z\", \"duration\": \"0:01:04\", \"iteration\": \"10\", \"goal\": \"accuracy_max\", \"run_name\": \"MaxAbsScaler, GradientBoosting\", \"run_properties\": \"copy=True\", \"primary_metric\": 0.84597701, \"best_metric\": 0.84597701}, {\"run_id\": \"AutoML_ad6f9955-c6f1-492a-9a04-5c613b397163_11\", \"run_number\": 17, \"metric\": null, \"status\": \"Completed\", \"run_type\": \"azureml.scriptrun\", \"training_percent\": \"100\", \"start_time\": \"2021-04-17T08:22:32.627243Z\", \"end_time\": \"2021-04-17T08:23:15.444202Z\", \"created_time\": \"2021-04-17T08:22:20.881754Z\", \"created_time_dt\": \"2021-04-17T08:22:20.881754Z\", \"duration\": \"0:00:54\", \"iteration\": \"11\", \"goal\": \"accuracy_max\", \"run_name\": \"SparseNormalizer, LightGBM\", \"run_properties\": \"<azureml.automl.runtime.shared.model_wrappers.SparseNormalizer object at 0x7f76428566d8\", \"primary_metric\": 0.83287356, \"best_metric\": 0.84597701}, {\"run_id\": \"AutoML_ad6f9955-c6f1-492a-9a04-5c613b397163_12\", \"run_number\": 18, \"metric\": null, \"status\": \"Completed\", \"run_type\": \"azureml.scriptrun\", \"training_percent\": \"100\", \"start_time\": \"2021-04-17T08:22:41.303082Z\", \"end_time\": \"2021-04-17T08:23:36.059651Z\", \"created_time\": \"2021-04-17T08:22:28.912532Z\", \"created_time_dt\": \"2021-04-17T08:22:28.912532Z\", \"duration\": \"0:01:07\", \"iteration\": \"12\", \"goal\": \"accuracy_max\", \"run_name\": \"MaxAbsScaler, ExtremeRandomTrees\", \"run_properties\": \"copy=True\", \"primary_metric\": 0.84287356, \"best_metric\": 0.84597701}, {\"run_id\": \"AutoML_ad6f9955-c6f1-492a-9a04-5c613b397163_13\", \"run_number\": 19, \"metric\": null, \"status\": \"Completed\", \"run_type\": \"azureml.scriptrun\", \"training_percent\": \"100\", \"start_time\": \"2021-04-17T08:23:14.804423Z\", \"end_time\": \"2021-04-17T08:24:00.438819Z\", \"created_time\": \"2021-04-17T08:23:03.139152Z\", \"created_time_dt\": \"2021-04-17T08:23:03.139152Z\", \"duration\": \"0:00:57\", \"iteration\": \"13\", \"goal\": \"accuracy_max\", \"run_name\": \"MaxAbsScaler, LightGBM\", \"run_properties\": \"copy=True\", \"primary_metric\": 0.82931034, \"best_metric\": 0.84597701}, {\"run_id\": \"AutoML_ad6f9955-c6f1-492a-9a04-5c613b397163_14\", \"run_number\": 20, \"metric\": null, \"status\": \"Completed\", \"run_type\": \"azureml.scriptrun\", \"training_percent\": \"100\", \"start_time\": \"2021-04-17T08:23:19.748709Z\", \"end_time\": \"2021-04-17T08:24:02.582945Z\", \"created_time\": \"2021-04-17T08:23:08.681912Z\", \"created_time_dt\": \"2021-04-17T08:23:08.681912Z\", \"duration\": \"0:00:53\", \"iteration\": \"14\", \"goal\": \"accuracy_max\", \"run_name\": \"MinMaxScaler, LightGBM\", \"run_properties\": \"copy=True, feature_range=(0, 1\", \"primary_metric\": 0.82609195, \"best_metric\": 0.84597701}, {\"run_id\": \"AutoML_ad6f9955-c6f1-492a-9a04-5c613b397163_15\", \"run_number\": 21, \"metric\": null, \"status\": \"Completed\", \"run_type\": \"azureml.scriptrun\", \"training_percent\": \"100\", \"start_time\": \"2021-04-17T08:23:30.371716Z\", \"end_time\": \"2021-04-17T08:24:19.353323Z\", \"created_time\": \"2021-04-17T08:23:19.090768Z\", \"created_time_dt\": \"2021-04-17T08:23:19.090768Z\", \"duration\": \"0:01:00\", \"iteration\": \"15\", \"goal\": \"accuracy_max\", \"run_name\": \"MaxAbsScaler, LightGBM\", \"run_properties\": \"copy=True\", \"primary_metric\": 0.83931034, \"best_metric\": 0.84597701}, {\"run_id\": \"AutoML_ad6f9955-c6f1-492a-9a04-5c613b397163_16\", \"run_number\": 22, \"metric\": null, \"status\": \"Completed\", \"run_type\": \"azureml.scriptrun\", \"training_percent\": \"100\", \"start_time\": \"2021-04-17T08:23:53.214949Z\", \"end_time\": \"2021-04-17T08:24:40.16252Z\", \"created_time\": \"2021-04-17T08:23:38.559189Z\", \"created_time_dt\": \"2021-04-17T08:23:38.559189Z\", \"duration\": \"0:01:01\", \"iteration\": \"16\", \"goal\": \"accuracy_max\", \"run_name\": \"RobustScaler, ExtremeRandomTrees\", \"run_properties\": \"copy=True, quantile_range=[25, 75], with_centering=True,\\n             with_scaling=False\", \"primary_metric\": 0.84954023, \"best_metric\": 0.84954023}, {\"run_id\": \"AutoML_ad6f9955-c6f1-492a-9a04-5c613b397163_17\", \"run_number\": 23, \"metric\": null, \"status\": \"Completed\", \"run_type\": \"azureml.scriptrun\", \"training_percent\": \"100\", \"start_time\": \"2021-04-17T08:24:15.435754Z\", \"end_time\": \"2021-04-17T08:25:07.040458Z\", \"created_time\": \"2021-04-17T08:24:03.455294Z\", \"created_time_dt\": \"2021-04-17T08:24:03.455294Z\", \"duration\": \"0:01:03\", \"iteration\": \"17\", \"goal\": \"accuracy_max\", \"run_name\": \"SparseNormalizer, XGBoostClassifier\", \"run_properties\": \"<azureml.automl.runtime.shared.model_wrappers.SparseNormalizer object at 0x7f07b853fd30\", \"primary_metric\": 0.8362069, \"best_metric\": 0.84954023}, {\"run_id\": \"AutoML_ad6f9955-c6f1-492a-9a04-5c613b397163_18\", \"run_number\": 24, \"metric\": null, \"status\": \"Completed\", \"run_type\": \"azureml.scriptrun\", \"training_percent\": \"100\", \"start_time\": \"2021-04-17T08:24:18.559157Z\", \"end_time\": \"2021-04-17T08:25:02.73587Z\", \"created_time\": \"2021-04-17T08:24:09.530789Z\", \"created_time_dt\": \"2021-04-17T08:24:09.530789Z\", \"duration\": \"0:00:53\", \"iteration\": \"18\", \"goal\": \"accuracy_max\", \"run_name\": \"RobustScaler, ExtremeRandomTrees\", \"run_properties\": \"copy=True, quantile_range=[25, 75], with_centering=True,\\n             with_scaling=False\", \"primary_metric\": 0.85287356, \"best_metric\": 0.85287356}, {\"run_id\": \"AutoML_ad6f9955-c6f1-492a-9a04-5c613b397163_19\", \"run_number\": 25, \"metric\": null, \"status\": \"Completed\", \"run_type\": \"azureml.scriptrun\", \"training_percent\": \"100\", \"start_time\": \"2021-04-17T08:24:34.955387Z\", \"end_time\": \"2021-04-17T08:25:17.921171Z\", \"created_time\": \"2021-04-17T08:24:23.442661Z\", \"created_time_dt\": \"2021-04-17T08:24:23.442661Z\", \"duration\": \"0:00:54\", \"iteration\": \"19\", \"goal\": \"accuracy_max\", \"run_name\": \"StandardScalerWrapper, LightGBM\", \"run_properties\": \"<azureml.automl.runtime.shared.model_wrappers.StandardScalerWrapper object at 0x7fb6613e52b0\", \"primary_metric\": 0.82264368, \"best_metric\": 0.85287356}, {\"run_id\": \"AutoML_ad6f9955-c6f1-492a-9a04-5c613b397163_20\", \"run_number\": 26, \"metric\": null, \"status\": \"Completed\", \"run_type\": \"azureml.scriptrun\", \"training_percent\": \"100\", \"start_time\": \"2021-04-17T08:24:54.737437Z\", \"end_time\": \"2021-04-17T08:25:41.266526Z\", \"created_time\": \"2021-04-17T08:24:42.283414Z\", \"created_time_dt\": \"2021-04-17T08:24:42.283414Z\", \"duration\": \"0:00:58\", \"iteration\": \"20\", \"goal\": \"accuracy_max\", \"run_name\": \"MaxAbsScaler, LightGBM\", \"run_properties\": \"copy=True\", \"primary_metric\": 0.81597701, \"best_metric\": 0.85287356}, {\"run_id\": \"AutoML_ad6f9955-c6f1-492a-9a04-5c613b397163_21\", \"run_number\": 27, \"metric\": null, \"status\": \"Completed\", \"run_type\": \"azureml.scriptrun\", \"training_percent\": \"100\", \"start_time\": \"2021-04-17T08:25:15.870822Z\", \"end_time\": \"2021-04-17T08:26:07.086113Z\", \"created_time\": \"2021-04-17T08:25:05.456752Z\", \"created_time_dt\": \"2021-04-17T08:25:05.456752Z\", \"duration\": \"0:01:01\", \"iteration\": \"21\", \"goal\": \"accuracy_max\", \"run_name\": \"MaxAbsScaler, LightGBM\", \"run_properties\": \"copy=True\", \"primary_metric\": 0.81574713, \"best_metric\": 0.85287356}, {\"run_id\": \"AutoML_ad6f9955-c6f1-492a-9a04-5c613b397163_22\", \"run_number\": 28, \"metric\": null, \"status\": \"Completed\", \"run_type\": \"azureml.scriptrun\", \"training_percent\": \"100\", \"start_time\": \"2021-04-17T08:25:22.782099Z\", \"end_time\": \"2021-04-17T08:27:13.082715Z\", \"created_time\": \"2021-04-17T08:25:10.136541Z\", \"created_time_dt\": \"2021-04-17T08:25:10.136541Z\", \"duration\": \"0:02:02\", \"iteration\": \"22\", \"goal\": \"accuracy_max\", \"run_name\": \"MinMaxScaler, LightGBM\", \"run_properties\": \"copy=True, feature_range=(0, 1\", \"primary_metric\": 0.80264368, \"best_metric\": 0.85287356}, {\"run_id\": \"AutoML_ad6f9955-c6f1-492a-9a04-5c613b397163_23\", \"run_number\": 29, \"metric\": null, \"status\": \"Completed\", \"run_type\": \"azureml.scriptrun\", \"training_percent\": \"100\", \"start_time\": \"2021-04-17T08:25:31.343887Z\", \"end_time\": \"2021-04-17T08:26:16.396254Z\", \"created_time\": \"2021-04-17T08:25:20.644202Z\", \"created_time_dt\": \"2021-04-17T08:25:20.644202Z\", \"duration\": \"0:00:55\", \"iteration\": \"23\", \"goal\": \"accuracy_max\", \"run_name\": \"MaxAbsScaler, LightGBM\", \"run_properties\": \"copy=True\", \"primary_metric\": 0.77574713, \"best_metric\": 0.85287356}, {\"run_id\": \"AutoML_ad6f9955-c6f1-492a-9a04-5c613b397163_24\", \"run_number\": 30, \"metric\": null, \"status\": \"Completed\", \"run_type\": \"azureml.scriptrun\", \"training_percent\": \"100\", \"start_time\": \"2021-04-17T08:25:56.057922Z\", \"end_time\": \"2021-04-17T08:26:48.773557Z\", \"created_time\": \"2021-04-17T08:25:44.19527Z\", \"created_time_dt\": \"2021-04-17T08:25:44.19527Z\", \"duration\": \"0:01:04\", \"iteration\": \"24\", \"goal\": \"accuracy_max\", \"run_name\": \"StandardScalerWrapper, LightGBM\", \"run_properties\": \"<azureml.automl.runtime.shared.model_wrappers.StandardScalerWrapper object at 0x7f9bd2fbc470\", \"primary_metric\": 0.75942529, \"best_metric\": 0.85287356}, {\"run_id\": \"AutoML_ad6f9955-c6f1-492a-9a04-5c613b397163_25\", \"run_number\": 31, \"metric\": null, \"status\": \"Completed\", \"run_type\": \"azureml.scriptrun\", \"training_percent\": \"100\", \"start_time\": \"2021-04-17T08:26:19.698983Z\", \"end_time\": \"2021-04-17T08:27:04.9357Z\", \"created_time\": \"2021-04-17T08:26:11.021922Z\", \"created_time_dt\": \"2021-04-17T08:26:11.021922Z\", \"duration\": \"0:00:53\", \"iteration\": \"25\", \"goal\": \"accuracy_max\", \"run_name\": \"SparseNormalizer, ExtremeRandomTrees\", \"run_properties\": \"<azureml.automl.runtime.shared.model_wrappers.SparseNormalizer object at 0x7f8c564afe80\", \"primary_metric\": 0.55505747, \"best_metric\": 0.85287356}, {\"run_id\": \"AutoML_ad6f9955-c6f1-492a-9a04-5c613b397163_26\", \"run_number\": 32, \"metric\": null, \"status\": \"Completed\", \"run_type\": \"azureml.scriptrun\", \"training_percent\": \"100\", \"start_time\": \"2021-04-17T08:26:32.383809Z\", \"end_time\": \"2021-04-17T08:27:12.936037Z\", \"created_time\": \"2021-04-17T08:26:19.23607Z\", \"created_time_dt\": \"2021-04-17T08:26:19.23607Z\", \"duration\": \"0:00:53\", \"iteration\": \"26\", \"goal\": \"accuracy_max\", \"run_name\": \"StandardScalerWrapper, XGBoostClassifier\", \"run_properties\": \"<azureml.automl.runtime.shared.model_wrappers.StandardScalerWrapper object at 0x7f84946fdf60\", \"primary_metric\": 0.83287356, \"best_metric\": 0.85287356}, {\"run_id\": \"AutoML_ad6f9955-c6f1-492a-9a04-5c613b397163_27\", \"run_number\": 33, \"metric\": null, \"status\": \"Completed\", \"run_type\": \"azureml.scriptrun\", \"training_percent\": \"100\", \"start_time\": \"2021-04-17T08:27:04.327168Z\", \"end_time\": \"2021-04-17T08:27:47.609156Z\", \"created_time\": \"2021-04-17T08:26:51.233021Z\", \"created_time_dt\": \"2021-04-17T08:26:51.233021Z\", \"duration\": \"0:00:56\", \"iteration\": \"27\", \"goal\": \"accuracy_max\", \"run_name\": \"StandardScalerWrapper, XGBoostClassifier\", \"run_properties\": \"<azureml.automl.runtime.shared.model_wrappers.StandardScalerWrapper object at 0x7fb0d0feae48\", \"primary_metric\": 0.83609195, \"best_metric\": 0.85287356}, {\"run_id\": \"AutoML_ad6f9955-c6f1-492a-9a04-5c613b397163_28\", \"run_number\": 34, \"metric\": null, \"status\": \"Completed\", \"run_type\": \"azureml.scriptrun\", \"training_percent\": \"100\", \"start_time\": \"2021-04-17T08:27:22.676513Z\", \"end_time\": \"2021-04-17T08:28:10.374464Z\", \"created_time\": \"2021-04-17T08:27:07.851154Z\", \"created_time_dt\": \"2021-04-17T08:27:07.851154Z\", \"duration\": \"0:01:02\", \"iteration\": \"28\", \"goal\": \"accuracy_max\", \"run_name\": \"StandardScalerWrapper, LightGBM\", \"run_properties\": \"<azureml.automl.runtime.shared.model_wrappers.StandardScalerWrapper object at 0x7fe1b0206240\", \"primary_metric\": 0.82264368, \"best_metric\": 0.85287356}, {\"run_id\": \"AutoML_ad6f9955-c6f1-492a-9a04-5c613b397163_29\", \"run_number\": 35, \"metric\": null, \"status\": \"Completed\", \"run_type\": \"azureml.scriptrun\", \"training_percent\": \"100\", \"start_time\": \"2021-04-17T08:27:32.178223Z\", \"end_time\": \"2021-04-17T08:28:26.418504Z\", \"created_time\": \"2021-04-17T08:27:16.50318Z\", \"created_time_dt\": \"2021-04-17T08:27:16.50318Z\", \"duration\": \"0:01:09\", \"iteration\": \"29\", \"goal\": \"accuracy_max\", \"run_name\": \"MaxAbsScaler, ExtremeRandomTrees\", \"run_properties\": \"copy=True\", \"primary_metric\": 0.6791954, \"best_metric\": 0.85287356}, {\"run_id\": \"AutoML_ad6f9955-c6f1-492a-9a04-5c613b397163_30\", \"run_number\": 36, \"metric\": null, \"status\": \"Completed\", \"run_type\": \"azureml.scriptrun\", \"training_percent\": \"100\", \"start_time\": \"2021-04-17T08:27:29.392957Z\", \"end_time\": \"2021-04-17T08:28:13.039654Z\", \"created_time\": \"2021-04-17T08:27:16.616288Z\", \"created_time_dt\": \"2021-04-17T08:27:16.616288Z\", \"duration\": \"0:00:56\", \"iteration\": \"30\", \"goal\": \"accuracy_max\", \"run_name\": \"StandardScalerWrapper, XGBoostClassifier\", \"run_properties\": \"<azureml.automl.runtime.shared.model_wrappers.StandardScalerWrapper object at 0x7fdd3e3aa630\", \"primary_metric\": 0.8491954, \"best_metric\": 0.85287356}, {\"run_id\": \"AutoML_ad6f9955-c6f1-492a-9a04-5c613b397163_31\", \"run_number\": 37, \"metric\": null, \"status\": \"Completed\", \"run_type\": \"azureml.scriptrun\", \"training_percent\": \"100\", \"start_time\": \"2021-04-17T08:28:02.86436Z\", \"end_time\": \"2021-04-17T08:28:46.734169Z\", \"created_time\": \"2021-04-17T08:27:50.735671Z\", \"created_time_dt\": \"2021-04-17T08:27:50.735671Z\", \"duration\": \"0:00:55\", \"iteration\": \"31\", \"goal\": \"accuracy_max\", \"run_name\": \"StandardScalerWrapper, LightGBM\", \"run_properties\": \"<azureml.automl.runtime.shared.model_wrappers.StandardScalerWrapper object at 0x7f94bc3317b8\", \"primary_metric\": 0.83931034, \"best_metric\": 0.85287356}, {\"run_id\": \"AutoML_ad6f9955-c6f1-492a-9a04-5c613b397163_32\", \"run_number\": 38, \"metric\": null, \"status\": \"Completed\", \"run_type\": \"azureml.scriptrun\", \"training_percent\": \"100\", \"start_time\": \"2021-04-17T08:28:22.828497Z\", \"end_time\": \"2021-04-17T08:29:02.731353Z\", \"created_time\": \"2021-04-17T08:28:12.434421Z\", \"created_time_dt\": \"2021-04-17T08:28:12.434421Z\", \"duration\": \"0:00:50\", \"iteration\": \"32\", \"goal\": \"accuracy_max\", \"run_name\": \"SparseNormalizer, GradientBoosting\", \"run_properties\": \"<azureml.automl.runtime.shared.model_wrappers.SparseNormalizer object at 0x7f8182d94240\", \"primary_metric\": 0.78965517, \"best_metric\": 0.85287356}, {\"run_id\": \"AutoML_ad6f9955-c6f1-492a-9a04-5c613b397163_33\", \"run_number\": 39, \"metric\": null, \"status\": \"Canceled\", \"run_type\": \"azureml.scriptrun\", \"training_percent\": \"100\", \"start_time\": \"2021-04-17T08:28:29.924049Z\", \"end_time\": \"2021-04-17T08:29:10.8154Z\", \"created_time\": \"2021-04-17T08:28:16.889555Z\", \"created_time_dt\": \"2021-04-17T08:28:16.889555Z\", \"duration\": \"0:00:53\", \"iteration\": \"33\", \"goal\": \"accuracy_max\", \"run_name\": \"StandardScalerWrapper, ExtremeRandomTrees\", \"run_properties\": \"<azureml.automl.runtime.shared.model_wrappers.StandardScalerWrapper object at 0x7f79f017a5f8\", \"primary_metric\": 0.73609195, \"best_metric\": 0.85287356}, {\"run_id\": \"AutoML_ad6f9955-c6f1-492a-9a04-5c613b397163_34\", \"run_number\": 40, \"metric\": null, \"status\": \"Canceled\", \"run_type\": \"azureml.scriptrun\", \"training_percent\": \"100\", \"start_time\": \"2021-04-17T08:28:39.722558Z\", \"end_time\": \"2021-04-17T08:29:09.838409Z\", \"created_time\": \"2021-04-17T08:28:28.760653Z\", \"created_time_dt\": \"2021-04-17T08:28:28.760653Z\", \"duration\": \"0:00:41\", \"iteration\": \"34\", \"goal\": \"accuracy_max\", \"run_name\": \"SparseNormalizer, LightGBM\", \"run_properties\": \"<azureml.automl.runtime.shared.model_wrappers.SparseNormalizer object at 0x7fea34f38240\", \"primary_metric\": 0.81609195, \"best_metric\": 0.85287356}, {\"run_id\": \"AutoML_ad6f9955-c6f1-492a-9a04-5c613b397163_35\", \"run_number\": 41, \"metric\": null, \"status\": \"Canceled\", \"run_type\": \"azureml.scriptrun\", \"training_percent\": \"100\", \"start_time\": \"2021-04-17T08:29:00.652214Z\", \"end_time\": \"2021-04-17T08:29:09.988728Z\", \"created_time\": \"2021-04-17T08:28:50.141336Z\", \"created_time_dt\": \"2021-04-17T08:28:50.141336Z\", \"duration\": \"0:00:19\", \"iteration\": \"35\", \"goal\": null, \"run_name\": \"Canceled\", \"run_properties\": null}, {\"run_id\": \"AutoML_ad6f9955-c6f1-492a-9a04-5c613b397163_36\", \"run_number\": 42, \"metric\": null, \"status\": \"Completed\", \"run_type\": \"azureml.scriptrun\", \"training_percent\": \"100\", \"start_time\": \"2021-04-17T08:29:23.713446Z\", \"end_time\": \"2021-04-17T08:30:27.146193Z\", \"created_time\": \"2021-04-17T08:29:12.758856Z\", \"created_time_dt\": \"2021-04-17T08:29:12.758856Z\", \"duration\": \"0:01:14\", \"iteration\": \"36\", \"goal\": \"accuracy_max\", \"run_name\": \"VotingEnsemble\", \"run_properties\": \"classification_labels=None,\\n                              estimators=[('18',\\n                                           Pipeline(memory=None,\\n                                                    steps=[('robustscaler',\\n                                                            RobustScaler(copy=True,\\n                                                                         quantile_range=[25,\\n                                                                                         75],\\n                                                                         with_centering=True,\\n                                                                         with_scaling=False\", \"primary_metric\": 0.86965517, \"best_metric\": 0.86965517}, {\"run_id\": \"AutoML_ad6f9955-c6f1-492a-9a04-5c613b397163_37\", \"run_number\": 43, \"metric\": null, \"status\": \"Completed\", \"run_type\": \"azureml.scriptrun\", \"training_percent\": \"100\", \"start_time\": \"2021-04-17T08:29:23.771562Z\", \"end_time\": \"2021-04-17T08:30:33.929317Z\", \"created_time\": \"2021-04-17T08:29:12.881428Z\", \"created_time_dt\": \"2021-04-17T08:29:12.881428Z\", \"duration\": \"0:01:21\", \"iteration\": \"37\", \"goal\": \"accuracy_max\", \"run_name\": \"StackEnsemble\", \"run_properties\": \"base_learners=[('18',\\n                                        Pipeline(memory=None,\\n                                                 steps=[('robustscaler',\\n                                                         RobustScaler(copy=True,\\n                                                                      quantile_range=[25,\\n                                                                                      75],\\n                                                                      with_centering=True,\\n                                                                      with_scaling=False\", \"primary_metric\": 0.86609195, \"best_metric\": 0.86965517}], \"children_metrics\": {\"categories\": [0], \"series\": {\"recall_score_macro\": [{\"categories\": [\"0\", \"1\", \"2\", \"3\", \"4\", \"5\", \"6\", \"7\", \"8\", \"9\", \"10\", \"11\", \"12\", \"13\", \"14\", \"15\", \"16\", \"17\", \"18\", \"19\", \"20\", \"21\", \"22\", \"23\", \"24\", \"25\", \"26\", \"27\", \"28\", \"29\", \"30\", \"31\", \"32\", \"33\", \"34\", \"36\", \"37\"], \"mode\": \"markers\", \"name\": \"recall_score_macro\", \"stepped\": false, \"type\": \"scatter\", \"data\": [0.8077082895810014, 0.8130249020938379, 0.7946942203169319, 0.8018527701004817, 0.8153757413130982, 0.7569394356279368, 0.806240270059206, 0.6456038845466763, 0.785013547950905, 0.758680183247975, 0.8181587404776763, 0.7999603913439726, 0.7828398998979663, 0.7869737704769169, 0.7600986119779026, 0.7992019669562576, 0.7902803760884425, 0.8095071398852862, 0.8015989186569848, 0.7647936289174846, 0.7407206624103077, 0.7655298035933047, 0.7237428799270904, 0.6898960820199378, 0.6527223171565277, 0.5636738899290386, 0.7851500824690184, 0.8071959926991392, 0.7589404543143101, 0.5, 0.8196848094379557, 0.8036404371435836, 0.7192326315624371, 0.5897907647907648, 0.7622617347056707, 0.8332273144158157, 0.8373034013723373]}, {\"categories\": [\"0\", \"1\", \"2\", \"3\", \"4\", \"5\", \"6\", \"7\", \"8\", \"9\", \"10\", \"11\", \"12\", \"13\", \"14\", \"15\", \"16\", \"17\", \"18\", \"19\", \"20\", \"21\", \"22\", \"23\", \"24\", \"25\", \"26\", \"27\", \"28\", \"29\", \"30\", \"31\", \"32\", \"33\", \"34\", \"36\", \"37\"], \"mode\": \"lines\", \"name\": \"recall_score_macro_max\", \"stepped\": true, \"type\": \"scatter\", \"data\": [0.8077082895810014, 0.8130249020938379, 0.8130249020938379, 0.8130249020938379, 0.8153757413130982, 0.8153757413130982, 0.8153757413130982, 0.8153757413130982, 0.8153757413130982, 0.8153757413130982, 0.8181587404776763, 0.8181587404776763, 0.8181587404776763, 0.8181587404776763, 0.8181587404776763, 0.8181587404776763, 0.8181587404776763, 0.8181587404776763, 0.8181587404776763, 0.8181587404776763, 0.8181587404776763, 0.8181587404776763, 0.8181587404776763, 0.8181587404776763, 0.8181587404776763, 0.8181587404776763, 0.8181587404776763, 0.8181587404776763, 0.8181587404776763, 0.8181587404776763, 0.8196848094379557, 0.8196848094379557, 0.8196848094379557, 0.8196848094379557, 0.8196848094379557, 0.8332273144158157, 0.8373034013723373]}], \"recall_score_weighted\": [{\"categories\": [\"0\", \"1\", \"2\", \"3\", \"4\", \"5\", \"6\", \"7\", \"8\", \"9\", \"10\", \"11\", \"12\", \"13\", \"14\", \"15\", \"16\", \"17\", \"18\", \"19\", \"20\", \"21\", \"22\", \"23\", \"24\", \"25\", \"26\", \"27\", \"28\", \"29\", \"30\", \"31\", \"32\", \"33\", \"34\", \"36\", \"37\"], \"mode\": \"markers\", \"name\": \"recall_score_weighted\", \"stepped\": false, \"type\": \"scatter\", \"data\": [0.8359770114942527, 0.8358620689655172, 0.8359770114942527, 0.8394252873563218, 0.839080459770115, 0.8090804597701149, 0.8291954022988506, 0.7225287356321839, 0.8228735632183908, 0.8093103448275862, 0.8459770114942529, 0.8328735632183909, 0.8428735632183908, 0.8293103448275861, 0.8260919540229885, 0.8393103448275863, 0.8495402298850576, 0.8362068965517242, 0.852873563218391, 0.8226436781609194, 0.8159770114942528, 0.8157471264367816, 0.8026436781609195, 0.7757471264367817, 0.7594252873563219, 0.5550574712643679, 0.8328735632183909, 0.8360919540229885, 0.8226436781609194, 0.6791954022988507, 0.8491954022988505, 0.8393103448275863, 0.789655172413793, 0.7360919540229884, 0.8160919540229885, 0.8696551724137931, 0.8660919540229886]}, {\"categories\": [\"0\", \"1\", \"2\", \"3\", \"4\", \"5\", \"6\", \"7\", \"8\", \"9\", \"10\", \"11\", \"12\", \"13\", \"14\", \"15\", \"16\", \"17\", \"18\", \"19\", \"20\", \"21\", \"22\", \"23\", \"24\", \"25\", \"26\", \"27\", \"28\", \"29\", \"30\", \"31\", \"32\", \"33\", \"34\", \"36\", \"37\"], \"mode\": \"lines\", \"name\": \"recall_score_weighted_max\", \"stepped\": true, \"type\": \"scatter\", \"data\": [0.8359770114942527, 0.8359770114942527, 0.8359770114942527, 0.8394252873563218, 0.8394252873563218, 0.8394252873563218, 0.8394252873563218, 0.8394252873563218, 0.8394252873563218, 0.8394252873563218, 0.8459770114942529, 0.8459770114942529, 0.8459770114942529, 0.8459770114942529, 0.8459770114942529, 0.8459770114942529, 0.8495402298850576, 0.8495402298850576, 0.852873563218391, 0.852873563218391, 0.852873563218391, 0.852873563218391, 0.852873563218391, 0.852873563218391, 0.852873563218391, 0.852873563218391, 0.852873563218391, 0.852873563218391, 0.852873563218391, 0.852873563218391, 0.852873563218391, 0.852873563218391, 0.852873563218391, 0.852873563218391, 0.852873563218391, 0.8696551724137931, 0.8696551724137931]}], \"accuracy\": [{\"categories\": [\"0\", \"1\", \"2\", \"3\", \"4\", \"5\", \"6\", \"7\", \"8\", \"9\", \"10\", \"11\", \"12\", \"13\", \"14\", \"15\", \"16\", \"17\", \"18\", \"19\", \"20\", \"21\", \"22\", \"23\", \"24\", \"25\", \"26\", \"27\", \"28\", \"29\", \"30\", \"31\", \"32\", \"33\", \"34\", \"36\", \"37\"], \"mode\": \"markers\", \"name\": \"accuracy\", \"stepped\": false, \"type\": \"scatter\", \"data\": [0.8359770114942527, 0.8358620689655172, 0.8359770114942527, 0.8394252873563218, 0.839080459770115, 0.8090804597701149, 0.8291954022988506, 0.7225287356321839, 0.8228735632183908, 0.8093103448275862, 0.8459770114942529, 0.8328735632183909, 0.8428735632183908, 0.8293103448275861, 0.8260919540229885, 0.8393103448275863, 0.8495402298850576, 0.8362068965517242, 0.852873563218391, 0.8226436781609194, 0.8159770114942528, 0.8157471264367816, 0.8026436781609195, 0.7757471264367817, 0.7594252873563219, 0.5550574712643679, 0.8328735632183909, 0.8360919540229885, 0.8226436781609194, 0.6791954022988507, 0.8491954022988505, 0.8393103448275863, 0.789655172413793, 0.7360919540229884, 0.8160919540229885, 0.8696551724137931, 0.8660919540229886]}, {\"categories\": [\"0\", \"1\", \"2\", \"3\", \"4\", \"5\", \"6\", \"7\", \"8\", \"9\", \"10\", \"11\", \"12\", \"13\", \"14\", \"15\", \"16\", \"17\", \"18\", \"19\", \"20\", \"21\", \"22\", \"23\", \"24\", \"25\", \"26\", \"27\", \"28\", \"29\", \"30\", \"31\", \"32\", \"33\", \"34\", \"36\", \"37\"], \"mode\": \"lines\", \"name\": \"accuracy_max\", \"stepped\": true, \"type\": \"scatter\", \"data\": [0.8359770114942527, 0.8359770114942527, 0.8359770114942527, 0.8394252873563218, 0.8394252873563218, 0.8394252873563218, 0.8394252873563218, 0.8394252873563218, 0.8394252873563218, 0.8394252873563218, 0.8459770114942529, 0.8459770114942529, 0.8459770114942529, 0.8459770114942529, 0.8459770114942529, 0.8459770114942529, 0.8495402298850576, 0.8495402298850576, 0.852873563218391, 0.852873563218391, 0.852873563218391, 0.852873563218391, 0.852873563218391, 0.852873563218391, 0.852873563218391, 0.852873563218391, 0.852873563218391, 0.852873563218391, 0.852873563218391, 0.852873563218391, 0.852873563218391, 0.852873563218391, 0.852873563218391, 0.852873563218391, 0.852873563218391, 0.8696551724137931, 0.8696551724137931]}], \"AUC_weighted\": [{\"categories\": [\"0\", \"1\", \"2\", \"3\", \"4\", \"5\", \"6\", \"7\", \"8\", \"9\", \"10\", \"11\", \"12\", \"13\", \"14\", \"15\", \"16\", \"17\", \"18\", \"19\", \"20\", \"21\", \"22\", \"23\", \"24\", \"25\", \"26\", \"27\", \"28\", \"29\", \"30\", \"31\", \"32\", \"33\", \"34\", \"36\", \"37\"], \"mode\": \"markers\", \"name\": \"AUC_weighted\", \"stepped\": false, \"type\": \"scatter\", \"data\": [0.8840955354735103, 0.8847369443591411, 0.8933215806864547, 0.8969187515891177, 0.9084230879405366, 0.8808882945726195, 0.902529377819824, 0.7469446399265621, 0.879342659940915, 0.8608370342027666, 0.9101054816719005, 0.8877728841757445, 0.8904004609129323, 0.8922546979548123, 0.8947674802399058, 0.9022516357593588, 0.9069525066233878, 0.8879981568848561, 0.90324634855144, 0.9041695342055182, 0.8866186786960814, 0.9028527059854289, 0.8588236855313515, 0.8523181402672249, 0.8670045445739953, 0.5986919435171151, 0.9026432110964719, 0.8981876767979455, 0.8923155757201522, 0.8658982870274061, 0.9041330854034515, 0.8981305228376166, 0.8482325074874273, 0.8711610291098848, 0.8884099801270853, 0.9147285365918089, 0.9130940155064871]}, {\"categories\": [\"0\", \"1\", \"2\", \"3\", \"4\", \"5\", \"6\", \"7\", \"8\", \"9\", \"10\", \"11\", \"12\", \"13\", \"14\", \"15\", \"16\", \"17\", \"18\", \"19\", \"20\", \"21\", \"22\", \"23\", \"24\", \"25\", \"26\", \"27\", \"28\", \"29\", \"30\", \"31\", \"32\", \"33\", \"34\", \"36\", \"37\"], \"mode\": \"lines\", \"name\": \"AUC_weighted_max\", \"stepped\": true, \"type\": \"scatter\", \"data\": [0.8840955354735103, 0.8847369443591411, 0.8933215806864547, 0.8969187515891177, 0.9084230879405366, 0.9084230879405366, 0.9084230879405366, 0.9084230879405366, 0.9084230879405366, 0.9084230879405366, 0.9101054816719005, 0.9101054816719005, 0.9101054816719005, 0.9101054816719005, 0.9101054816719005, 0.9101054816719005, 0.9101054816719005, 0.9101054816719005, 0.9101054816719005, 0.9101054816719005, 0.9101054816719005, 0.9101054816719005, 0.9101054816719005, 0.9101054816719005, 0.9101054816719005, 0.9101054816719005, 0.9101054816719005, 0.9101054816719005, 0.9101054816719005, 0.9101054816719005, 0.9101054816719005, 0.9101054816719005, 0.9101054816719005, 0.9101054816719005, 0.9101054816719005, 0.9147285365918089, 0.9147285365918089]}], \"balanced_accuracy\": [{\"categories\": [\"0\", \"1\", \"2\", \"3\", \"4\", \"5\", \"6\", \"7\", \"8\", \"9\", \"10\", \"11\", \"12\", \"13\", \"14\", \"15\", \"16\", \"17\", \"18\", \"19\", \"20\", \"21\", \"22\", \"23\", \"24\", \"25\", \"26\", \"27\", \"28\", \"29\", \"30\", \"31\", \"32\", \"33\", \"34\", \"36\", \"37\"], \"mode\": \"markers\", \"name\": \"balanced_accuracy\", \"stepped\": false, \"type\": \"scatter\", \"data\": [0.8077082895810014, 0.8130249020938379, 0.7946942203169319, 0.8018527701004817, 0.8153757413130982, 0.7569394356279368, 0.806240270059206, 0.6456038845466763, 0.785013547950905, 0.758680183247975, 0.8181587404776763, 0.7999603913439726, 0.7828398998979663, 0.7869737704769169, 0.7600986119779026, 0.7992019669562576, 0.7902803760884425, 0.8095071398852862, 0.8015989186569848, 0.7647936289174846, 0.7407206624103077, 0.7655298035933047, 0.7237428799270904, 0.6898960820199378, 0.6527223171565277, 0.5636738899290386, 0.7851500824690184, 0.8071959926991392, 0.7589404543143101, 0.5, 0.8196848094379557, 0.8036404371435836, 0.7192326315624371, 0.5897907647907648, 0.7622617347056707, 0.8332273144158157, 0.8373034013723373]}, {\"categories\": [\"0\", \"1\", \"2\", \"3\", \"4\", \"5\", \"6\", \"7\", \"8\", \"9\", \"10\", \"11\", \"12\", \"13\", \"14\", \"15\", \"16\", \"17\", \"18\", \"19\", \"20\", \"21\", \"22\", \"23\", \"24\", \"25\", \"26\", \"27\", \"28\", \"29\", \"30\", \"31\", \"32\", \"33\", \"34\", \"36\", \"37\"], \"mode\": \"lines\", \"name\": \"balanced_accuracy_max\", \"stepped\": true, \"type\": \"scatter\", \"data\": [0.8077082895810014, 0.8130249020938379, 0.8130249020938379, 0.8130249020938379, 0.8153757413130982, 0.8153757413130982, 0.8153757413130982, 0.8153757413130982, 0.8153757413130982, 0.8153757413130982, 0.8181587404776763, 0.8181587404776763, 0.8181587404776763, 0.8181587404776763, 0.8181587404776763, 0.8181587404776763, 0.8181587404776763, 0.8181587404776763, 0.8181587404776763, 0.8181587404776763, 0.8181587404776763, 0.8181587404776763, 0.8181587404776763, 0.8181587404776763, 0.8181587404776763, 0.8181587404776763, 0.8181587404776763, 0.8181587404776763, 0.8181587404776763, 0.8181587404776763, 0.8196848094379557, 0.8196848094379557, 0.8196848094379557, 0.8196848094379557, 0.8196848094379557, 0.8332273144158157, 0.8373034013723373]}], \"average_precision_score_weighted\": [{\"categories\": [\"0\", \"1\", \"2\", \"3\", \"4\", \"5\", \"6\", \"7\", \"8\", \"9\", \"10\", \"11\", \"12\", \"13\", \"14\", \"15\", \"16\", \"17\", \"18\", \"19\", \"20\", \"21\", \"22\", \"23\", \"24\", \"25\", \"26\", \"27\", \"28\", \"29\", \"30\", \"31\", \"32\", \"33\", \"34\", \"36\", \"37\"], \"mode\": \"markers\", \"name\": \"average_precision_score_weighted\", \"stepped\": false, \"type\": \"scatter\", \"data\": [0.9061112830231934, 0.907154018724502, 0.9132832779821886, 0.9175992986598613, 0.9257370013351853, 0.8977031921615073, 0.9158886354701228, 0.7893681357319238, 0.9006152166437232, 0.8764764478120824, 0.928632723021565, 0.9042677325897064, 0.9095351235336775, 0.89933312883859, 0.9177586180946771, 0.9185264340158863, 0.9236495126479556, 0.9051350361494794, 0.9249491134757047, 0.916358520578126, 0.888324275117038, 0.9212808906382959, 0.8910526567414232, 0.8773409037627611, 0.890526917530942, 0.6793219500722667, 0.9216375948474796, 0.9119235389104834, 0.8979540176989765, 0.8960581058205926, 0.9201644783430508, 0.903745854875557, 0.8734344504657434, 0.8947977433379919, 0.9088019074973204, 0.9271225208720673, 0.9263606646921154]}, {\"categories\": [\"0\", \"1\", \"2\", \"3\", \"4\", \"5\", \"6\", \"7\", \"8\", \"9\", \"10\", \"11\", \"12\", \"13\", \"14\", \"15\", \"16\", \"17\", \"18\", \"19\", \"20\", \"21\", \"22\", \"23\", \"24\", \"25\", \"26\", \"27\", \"28\", \"29\", \"30\", \"31\", \"32\", \"33\", \"34\", \"36\", \"37\"], \"mode\": \"lines\", \"name\": \"average_precision_score_weighted_max\", \"stepped\": true, \"type\": \"scatter\", \"data\": [0.9061112830231934, 0.907154018724502, 0.9132832779821886, 0.9175992986598613, 0.9257370013351853, 0.9257370013351853, 0.9257370013351853, 0.9257370013351853, 0.9257370013351853, 0.9257370013351853, 0.928632723021565, 0.928632723021565, 0.928632723021565, 0.928632723021565, 0.928632723021565, 0.928632723021565, 0.928632723021565, 0.928632723021565, 0.928632723021565, 0.928632723021565, 0.928632723021565, 0.928632723021565, 0.928632723021565, 0.928632723021565, 0.928632723021565, 0.928632723021565, 0.928632723021565, 0.928632723021565, 0.928632723021565, 0.928632723021565, 0.928632723021565, 0.928632723021565, 0.928632723021565, 0.928632723021565, 0.928632723021565, 0.928632723021565, 0.928632723021565]}], \"AUC_macro\": [{\"categories\": [\"0\", \"1\", \"2\", \"3\", \"4\", \"5\", \"6\", \"7\", \"8\", \"9\", \"10\", \"11\", \"12\", \"13\", \"14\", \"15\", \"16\", \"17\", \"18\", \"19\", \"20\", \"21\", \"22\", \"23\", \"24\", \"25\", \"26\", \"27\", \"28\", \"29\", \"30\", \"31\", \"32\", \"33\", \"34\", \"36\", \"37\"], \"mode\": \"markers\", \"name\": \"AUC_macro\", \"stepped\": false, \"type\": \"scatter\", \"data\": [0.8840955354735103, 0.8847369443591411, 0.8933215806864547, 0.8969187515891177, 0.9084230879405366, 0.8808882945726195, 0.902529377819824, 0.7469446399265621, 0.879342659940915, 0.8608370342027666, 0.9101054816719005, 0.8877728841757445, 0.8904004609129323, 0.8922546979548123, 0.8947674802399058, 0.9022516357593588, 0.9069525066233876, 0.8879981568848561, 0.90324634855144, 0.9041695342055182, 0.8866186786960814, 0.9028527059854291, 0.8588236855313515, 0.8523181402672249, 0.8670045445739953, 0.5986919435171151, 0.9026432110964719, 0.8981876767979455, 0.8923155757201522, 0.8658982870274061, 0.9041330854034515, 0.8981305228376165, 0.8482325074874273, 0.8711610291098848, 0.8884099801270853, 0.9147285365918089, 0.9130940155064868]}, {\"categories\": [\"0\", \"1\", \"2\", \"3\", \"4\", \"5\", \"6\", \"7\", \"8\", \"9\", \"10\", \"11\", \"12\", \"13\", \"14\", \"15\", \"16\", \"17\", \"18\", \"19\", \"20\", \"21\", \"22\", \"23\", \"24\", \"25\", \"26\", \"27\", \"28\", \"29\", \"30\", \"31\", \"32\", \"33\", \"34\", \"36\", \"37\"], \"mode\": \"lines\", \"name\": \"AUC_macro_max\", \"stepped\": true, \"type\": \"scatter\", \"data\": [0.8840955354735103, 0.8847369443591411, 0.8933215806864547, 0.8969187515891177, 0.9084230879405366, 0.9084230879405366, 0.9084230879405366, 0.9084230879405366, 0.9084230879405366, 0.9084230879405366, 0.9101054816719005, 0.9101054816719005, 0.9101054816719005, 0.9101054816719005, 0.9101054816719005, 0.9101054816719005, 0.9101054816719005, 0.9101054816719005, 0.9101054816719005, 0.9101054816719005, 0.9101054816719005, 0.9101054816719005, 0.9101054816719005, 0.9101054816719005, 0.9101054816719005, 0.9101054816719005, 0.9101054816719005, 0.9101054816719005, 0.9101054816719005, 0.9101054816719005, 0.9101054816719005, 0.9101054816719005, 0.9101054816719005, 0.9101054816719005, 0.9101054816719005, 0.9147285365918089, 0.9147285365918089]}], \"AUC_micro\": [{\"categories\": [\"0\", \"1\", \"2\", \"3\", \"4\", \"5\", \"6\", \"7\", \"8\", \"9\", \"10\", \"11\", \"12\", \"13\", \"14\", \"15\", \"16\", \"17\", \"18\", \"19\", \"20\", \"21\", \"22\", \"23\", \"24\", \"25\", \"26\", \"27\", \"28\", \"29\", \"30\", \"31\", \"32\", \"33\", \"34\", \"36\", \"37\"], \"mode\": \"markers\", \"name\": \"AUC_micro\", \"stepped\": false, \"type\": \"scatter\", \"data\": [0.9035422116527941, 0.9042166732725592, 0.9073511692429646, 0.909423305588585, 0.9158483287092085, 0.8909926014004492, 0.9075304531642227, 0.7908736953362399, 0.8925694279297133, 0.8808599550799313, 0.9182068965517243, 0.898694147179284, 0.8952692561765094, 0.8912654247588849, 0.8975012551195668, 0.9062068965517242, 0.9100450521865504, 0.8939495309816357, 0.9133647773814241, 0.8919398863786497, 0.876479852028009, 0.9034602985863392, 0.8734642621218127, 0.864544193420531, 0.860674725855463, 0.5909344695468358, 0.9073959571938168, 0.9087644338750167, 0.8834252873563218, 0.832105562161448, 0.9138501783590964, 0.8965110318404017, 0.8674797199101599, 0.8469301096578148, 0.8965440613026819, 0.9220528471396486, 0.9194661117717005]}, {\"categories\": [\"0\", \"1\", \"2\", \"3\", \"4\", \"5\", \"6\", \"7\", \"8\", \"9\", \"10\", \"11\", \"12\", \"13\", \"14\", \"15\", \"16\", \"17\", \"18\", \"19\", \"20\", \"21\", \"22\", \"23\", \"24\", \"25\", \"26\", \"27\", \"28\", \"29\", \"30\", \"31\", \"32\", \"33\", \"34\", \"36\", \"37\"], \"mode\": \"lines\", \"name\": \"AUC_micro_max\", \"stepped\": true, \"type\": \"scatter\", \"data\": [0.9035422116527941, 0.9042166732725592, 0.9073511692429646, 0.909423305588585, 0.9158483287092085, 0.9158483287092085, 0.9158483287092085, 0.9158483287092085, 0.9158483287092085, 0.9158483287092085, 0.9182068965517243, 0.9182068965517243, 0.9182068965517243, 0.9182068965517243, 0.9182068965517243, 0.9182068965517243, 0.9182068965517243, 0.9182068965517243, 0.9182068965517243, 0.9182068965517243, 0.9182068965517243, 0.9182068965517243, 0.9182068965517243, 0.9182068965517243, 0.9182068965517243, 0.9182068965517243, 0.9182068965517243, 0.9182068965517243, 0.9182068965517243, 0.9182068965517243, 0.9182068965517243, 0.9182068965517243, 0.9182068965517243, 0.9182068965517243, 0.9182068965517243, 0.9220528471396486, 0.9220528471396486]}], \"matthews_correlation\": [{\"categories\": [\"0\", \"1\", \"2\", \"3\", \"4\", \"5\", \"6\", \"7\", \"8\", \"9\", \"10\", \"11\", \"12\", \"13\", \"14\", \"15\", \"16\", \"17\", \"18\", \"19\", \"20\", \"21\", \"22\", \"23\", \"24\", \"25\", \"26\", \"27\", \"28\", \"29\", \"30\", \"31\", \"32\", \"33\", \"34\", \"36\", \"37\"], \"mode\": \"markers\", \"name\": \"matthews_correlation\", \"stepped\": false, \"type\": \"scatter\", \"data\": [0.6231314496952846, 0.6345538749068885, 0.6117339829422492, 0.624183046168754, 0.632778649605019, 0.5513539161878646, 0.6115917591913803, 0.33759725216891895, 0.5926056841761447, 0.5420631828594559, 0.6512310484516146, 0.6251514690683962, 0.6435091815702293, 0.6050404127354617, 0.5985307000342799, 0.6320897071733595, 0.6563324461171787, 0.6291702367253744, 0.6650119630176917, 0.5839565871463948, 0.5576406829489285, 0.5868237174030656, 0.538863619506813, 0.4519046300757797, 0.4170696824316278, 0.10894507959099886, 0.611261826028121, 0.6252012143089241, 0.5805626430709885, 0.0, 0.6524638870710929, 0.6308245630800159, 0.5023381460500591, 0.2848521142691077, 0.5676346904769499, 0.7124821081162485, 0.7029103668554386]}, {\"categories\": [\"0\", \"1\", \"2\", \"3\", \"4\", \"5\", \"6\", \"7\", \"8\", \"9\", \"10\", \"11\", \"12\", \"13\", \"14\", \"15\", \"16\", \"17\", \"18\", \"19\", \"20\", \"21\", \"22\", \"23\", \"24\", \"25\", \"26\", \"27\", \"28\", \"29\", \"30\", \"31\", \"32\", \"33\", \"34\", \"36\", \"37\"], \"mode\": \"lines\", \"name\": \"matthews_correlation_max\", \"stepped\": true, \"type\": \"scatter\", \"data\": [0.6231314496952846, 0.6345538749068885, 0.6345538749068885, 0.6345538749068885, 0.6345538749068885, 0.6345538749068885, 0.6345538749068885, 0.6345538749068885, 0.6345538749068885, 0.6345538749068885, 0.6512310484516146, 0.6512310484516146, 0.6512310484516146, 0.6512310484516146, 0.6512310484516146, 0.6512310484516146, 0.6563324461171787, 0.6563324461171787, 0.6650119630176917, 0.6650119630176917, 0.6650119630176917, 0.6650119630176917, 0.6650119630176917, 0.6650119630176917, 0.6650119630176917, 0.6650119630176917, 0.6650119630176917, 0.6650119630176917, 0.6650119630176917, 0.6650119630176917, 0.6650119630176917, 0.6650119630176917, 0.6650119630176917, 0.6650119630176917, 0.6650119630176917, 0.7124821081162485, 0.7124821081162485]}], \"precision_score_macro\": [{\"categories\": [\"0\", \"1\", \"2\", \"3\", \"4\", \"5\", \"6\", \"7\", \"8\", \"9\", \"10\", \"11\", \"12\", \"13\", \"14\", \"15\", \"16\", \"17\", \"18\", \"19\", \"20\", \"21\", \"22\", \"23\", \"24\", \"25\", \"26\", \"27\", \"28\", \"29\", \"30\", \"31\", \"32\", \"33\", \"34\", \"36\", \"37\"], \"mode\": \"markers\", \"name\": \"precision_score_macro\", \"stepped\": false, \"type\": \"scatter\", \"data\": [0.8167365852764965, 0.8232986049897815, 0.818495247506117, 0.8248588930251334, 0.8184331481623175, 0.7977287930520196, 0.8069682564448011, 0.7096797658862876, 0.8098152219970096, 0.7853385886633968, 0.8356502525252525, 0.8302320007731906, 0.8695071534745449, 0.8206159767006449, 0.8466691396365309, 0.8366777806592385, 0.8740837669195793, 0.8208112856094415, 0.8678355984214108, 0.8236542443064183, 0.8258595317725753, 0.8299402707429022, 0.829479990621295, 0.7798344672568811, 0.7982452531365575, 0.48347713935419206, 0.831113890939978, 0.8196100635316883, 0.8277526278069756, 0.33959770114942534, 0.8345431449766488, 0.8293679703210597, 0.7919621996361127, 0.7115300583835067, 0.8099499486021224, 0.8835089162680696, 0.8684883353361614]}, {\"categories\": [\"0\", \"1\", \"2\", \"3\", \"4\", \"5\", \"6\", \"7\", \"8\", \"9\", \"10\", \"11\", \"12\", \"13\", \"14\", \"15\", \"16\", \"17\", \"18\", \"19\", \"20\", \"21\", \"22\", \"23\", \"24\", \"25\", \"26\", \"27\", \"28\", \"29\", \"30\", \"31\", \"32\", \"33\", \"34\", \"36\", \"37\"], \"mode\": \"lines\", \"name\": \"precision_score_macro_max\", \"stepped\": true, \"type\": \"scatter\", \"data\": [0.8167365852764965, 0.8232986049897815, 0.8232986049897815, 0.8248588930251334, 0.8248588930251334, 0.8248588930251334, 0.8248588930251334, 0.8248588930251334, 0.8248588930251334, 0.8248588930251334, 0.8356502525252525, 0.8356502525252525, 0.8695071534745449, 0.8695071534745449, 0.8695071534745449, 0.8695071534745449, 0.8740837669195793, 0.8740837669195793, 0.8740837669195793, 0.8740837669195793, 0.8740837669195793, 0.8740837669195793, 0.8740837669195793, 0.8740837669195793, 0.8740837669195793, 0.8740837669195793, 0.8740837669195793, 0.8740837669195793, 0.8740837669195793, 0.8740837669195793, 0.8740837669195793, 0.8740837669195793, 0.8740837669195793, 0.8740837669195793, 0.8740837669195793, 0.8835089162680696, 0.8835089162680696]}], \"precision_score_weighted\": [{\"categories\": [\"0\", \"1\", \"2\", \"3\", \"4\", \"5\", \"6\", \"7\", \"8\", \"9\", \"10\", \"11\", \"12\", \"13\", \"14\", \"15\", \"16\", \"17\", \"18\", \"19\", \"20\", \"21\", \"22\", \"23\", \"24\", \"25\", \"26\", \"27\", \"28\", \"29\", \"30\", \"31\", \"32\", \"33\", \"34\", \"36\", \"37\"], \"mode\": \"markers\", \"name\": \"precision_score_weighted\", \"stepped\": false, \"type\": \"scatter\", \"data\": [0.8443308716969533, 0.8506678986628277, 0.8427552619794, 0.8484100601410329, 0.8535598302662232, 0.8193826929918753, 0.8436498417457938, 0.7447917188841476, 0.837153057106774, 0.8214794960088856, 0.8613901668574083, 0.8490463978799812, 0.8606974424875474, 0.8413490727579933, 0.8458189288953408, 0.8553606304186647, 0.8660526870522884, 0.8464264202888815, 0.8662405864176241, 0.8349369327241142, 0.8314714021194531, 0.8414605094799892, 0.8267503915217809, 0.7915787865391313, 0.7938662109726577, 0.5494501318447753, 0.8448307319034456, 0.8480140178828336, 0.8360109041633029, 0.47055053507728895, 0.8611343526546585, 0.8513413640923899, 0.8042828120932318, 0.7404842942285471, 0.8360526809910619, 0.8847269966415393, 0.8812790258217544]}, {\"categories\": [\"0\", \"1\", \"2\", \"3\", \"4\", \"5\", \"6\", \"7\", \"8\", \"9\", \"10\", \"11\", \"12\", \"13\", \"14\", \"15\", \"16\", \"17\", \"18\", \"19\", \"20\", \"21\", \"22\", \"23\", \"24\", \"25\", \"26\", \"27\", \"28\", \"29\", \"30\", \"31\", \"32\", \"33\", \"34\", \"36\", \"37\"], \"mode\": \"lines\", \"name\": \"precision_score_weighted_max\", \"stepped\": true, \"type\": \"scatter\", \"data\": [0.8443308716969533, 0.8506678986628277, 0.8506678986628277, 0.8506678986628277, 0.8535598302662232, 0.8535598302662232, 0.8535598302662232, 0.8535598302662232, 0.8535598302662232, 0.8535598302662232, 0.8613901668574083, 0.8613901668574083, 0.8613901668574083, 0.8613901668574083, 0.8613901668574083, 0.8613901668574083, 0.8660526870522884, 0.8660526870522884, 0.8662405864176241, 0.8662405864176241, 0.8662405864176241, 0.8662405864176241, 0.8662405864176241, 0.8662405864176241, 0.8662405864176241, 0.8662405864176241, 0.8662405864176241, 0.8662405864176241, 0.8662405864176241, 0.8662405864176241, 0.8662405864176241, 0.8662405864176241, 0.8662405864176241, 0.8662405864176241, 0.8662405864176241, 0.8847269966415393, 0.8847269966415393]}], \"f1_score_macro\": [{\"categories\": [\"0\", \"1\", \"2\", \"3\", \"4\", \"5\", \"6\", \"7\", \"8\", \"9\", \"10\", \"11\", \"12\", \"13\", \"14\", \"15\", \"16\", \"17\", \"18\", \"19\", \"20\", \"21\", \"22\", \"23\", \"24\", \"25\", \"26\", \"27\", \"28\", \"29\", \"30\", \"31\", \"32\", \"33\", \"34\", \"36\", \"37\"], \"mode\": \"markers\", \"name\": \"f1_score_macro\", \"stepped\": false, \"type\": \"scatter\", \"data\": [0.8043314151248963, 0.8078501228997539, 0.7978038322580657, 0.8023278717524361, 0.808622420836817, 0.7644710441735614, 0.79672402898728, 0.6298736562895711, 0.7844731356932927, 0.7603669925285953, 0.8144491173999248, 0.7985142741080727, 0.8002971463443111, 0.7897716503362009, 0.7754192497122441, 0.800592919675218, 0.8083389678146713, 0.8062936525373925, 0.8171049231821529, 0.7728404384842704, 0.753292833021183, 0.7684845807095516, 0.7335658587307311, 0.6942620036771706, 0.6481673579434815, 0.49296522140458066, 0.7916445105042555, 0.80302101161755, 0.7690852378569608, 0.4024893878511494, 0.8162573177896096, 0.8036607372373015, 0.7298863045344757, 0.5540992511702252, 0.7651980440237944, 0.8420513003143621, 0.8387042459227672]}, {\"categories\": [\"0\", \"1\", \"2\", \"3\", \"4\", \"5\", \"6\", \"7\", \"8\", \"9\", \"10\", \"11\", \"12\", \"13\", \"14\", \"15\", \"16\", \"17\", \"18\", \"19\", \"20\", \"21\", \"22\", \"23\", \"24\", \"25\", \"26\", \"27\", \"28\", \"29\", \"30\", \"31\", \"32\", \"33\", \"34\", \"36\", \"37\"], \"mode\": \"lines\", \"name\": \"f1_score_macro_max\", \"stepped\": true, \"type\": \"scatter\", \"data\": [0.8043314151248963, 0.8078501228997539, 0.8078501228997539, 0.8078501228997539, 0.808622420836817, 0.808622420836817, 0.808622420836817, 0.808622420836817, 0.808622420836817, 0.808622420836817, 0.8144491173999248, 0.8144491173999248, 0.8144491173999248, 0.8144491173999248, 0.8144491173999248, 0.8144491173999248, 0.8144491173999248, 0.8144491173999248, 0.8171049231821529, 0.8171049231821529, 0.8171049231821529, 0.8171049231821529, 0.8171049231821529, 0.8171049231821529, 0.8171049231821529, 0.8171049231821529, 0.8171049231821529, 0.8171049231821529, 0.8171049231821529, 0.8171049231821529, 0.8171049231821529, 0.8171049231821529, 0.8171049231821529, 0.8171049231821529, 0.8171049231821529, 0.8420513003143621, 0.8420513003143621]}], \"precision_score_micro\": [{\"categories\": [\"0\", \"1\", \"2\", \"3\", \"4\", \"5\", \"6\", \"7\", \"8\", \"9\", \"10\", \"11\", \"12\", \"13\", \"14\", \"15\", \"16\", \"17\", \"18\", \"19\", \"20\", \"21\", \"22\", \"23\", \"24\", \"25\", \"26\", \"27\", \"28\", \"29\", \"30\", \"31\", \"32\", \"33\", \"34\", \"36\", \"37\"], \"mode\": \"markers\", \"name\": \"precision_score_micro\", \"stepped\": false, \"type\": \"scatter\", \"data\": [0.8359770114942527, 0.8358620689655172, 0.8359770114942527, 0.8394252873563218, 0.839080459770115, 0.8090804597701149, 0.8291954022988506, 0.7225287356321839, 0.8228735632183908, 0.8093103448275862, 0.8459770114942529, 0.8328735632183909, 0.8428735632183908, 0.8293103448275861, 0.8260919540229885, 0.8393103448275863, 0.8495402298850576, 0.8362068965517242, 0.852873563218391, 0.8226436781609194, 0.8159770114942528, 0.8157471264367816, 0.8026436781609195, 0.7757471264367817, 0.7594252873563219, 0.5550574712643679, 0.8328735632183909, 0.8360919540229885, 0.8226436781609194, 0.6791954022988507, 0.8491954022988505, 0.8393103448275863, 0.789655172413793, 0.7360919540229884, 0.8160919540229885, 0.8696551724137931, 0.8660919540229886]}, {\"categories\": [\"0\", \"1\", \"2\", \"3\", \"4\", \"5\", \"6\", \"7\", \"8\", \"9\", \"10\", \"11\", \"12\", \"13\", \"14\", \"15\", \"16\", \"17\", \"18\", \"19\", \"20\", \"21\", \"22\", \"23\", \"24\", \"25\", \"26\", \"27\", \"28\", \"29\", \"30\", \"31\", \"32\", \"33\", \"34\", \"36\", \"37\"], \"mode\": \"lines\", \"name\": \"precision_score_micro_max\", \"stepped\": true, \"type\": \"scatter\", \"data\": [0.8359770114942527, 0.8359770114942527, 0.8359770114942527, 0.8394252873563218, 0.8394252873563218, 0.8394252873563218, 0.8394252873563218, 0.8394252873563218, 0.8394252873563218, 0.8394252873563218, 0.8459770114942529, 0.8459770114942529, 0.8459770114942529, 0.8459770114942529, 0.8459770114942529, 0.8459770114942529, 0.8495402298850576, 0.8495402298850576, 0.852873563218391, 0.852873563218391, 0.852873563218391, 0.852873563218391, 0.852873563218391, 0.852873563218391, 0.852873563218391, 0.852873563218391, 0.852873563218391, 0.852873563218391, 0.852873563218391, 0.852873563218391, 0.852873563218391, 0.852873563218391, 0.852873563218391, 0.852873563218391, 0.852873563218391, 0.8696551724137931, 0.8696551724137931]}], \"f1_score_weighted\": [{\"categories\": [\"0\", \"1\", \"2\", \"3\", \"4\", \"5\", \"6\", \"7\", \"8\", \"9\", \"10\", \"11\", \"12\", \"13\", \"14\", \"15\", \"16\", \"17\", \"18\", \"19\", \"20\", \"21\", \"22\", \"23\", \"24\", \"25\", \"26\", \"27\", \"28\", \"29\", \"30\", \"31\", \"32\", \"33\", \"34\", \"36\", \"37\"], \"mode\": \"markers\", \"name\": \"f1_score_weighted\", \"stepped\": false, \"type\": \"scatter\", \"data\": [0.8333388901455894, 0.8342588560383983, 0.8315669000708061, 0.8347171198626384, 0.8388677258988831, 0.8039106639641634, 0.8277070272428743, 0.6935608165744084, 0.8182849428892383, 0.8048217845216165, 0.8429384327701221, 0.8280418148453291, 0.8321042116339719, 0.8228378700361446, 0.8132634517824846, 0.8323341032522762, 0.8397153118822137, 0.8330919162782356, 0.8448992904703918, 0.8099817042890736, 0.7999966834924516, 0.8032497909023029, 0.7803166311449481, 0.7550407397324856, 0.7181144923749897, 0.5304589061338608, 0.8258588292316087, 0.8325729487266074, 0.8091037586146431, 0.5534120288954022, 0.8454913472349667, 0.8336733231599274, 0.7779428985180752, 0.6630108094819714, 0.8069315674986784, 0.8636973156075604, 0.8612474963090158]}, {\"categories\": [\"0\", \"1\", \"2\", \"3\", \"4\", \"5\", \"6\", \"7\", \"8\", \"9\", \"10\", \"11\", \"12\", \"13\", \"14\", \"15\", \"16\", \"17\", \"18\", \"19\", \"20\", \"21\", \"22\", \"23\", \"24\", \"25\", \"26\", \"27\", \"28\", \"29\", \"30\", \"31\", \"32\", \"33\", \"34\", \"36\", \"37\"], \"mode\": \"lines\", \"name\": \"f1_score_weighted_max\", \"stepped\": true, \"type\": \"scatter\", \"data\": [0.8333388901455894, 0.8342588560383983, 0.8342588560383983, 0.8347171198626384, 0.8388677258988831, 0.8388677258988831, 0.8388677258988831, 0.8388677258988831, 0.8388677258988831, 0.8388677258988831, 0.8429384327701221, 0.8429384327701221, 0.8429384327701221, 0.8429384327701221, 0.8429384327701221, 0.8429384327701221, 0.8429384327701221, 0.8429384327701221, 0.8448992904703918, 0.8448992904703918, 0.8448992904703918, 0.8448992904703918, 0.8448992904703918, 0.8448992904703918, 0.8448992904703918, 0.8448992904703918, 0.8448992904703918, 0.8448992904703918, 0.8448992904703918, 0.8448992904703918, 0.8454913472349667, 0.8454913472349667, 0.8454913472349667, 0.8454913472349667, 0.8454913472349667, 0.8636973156075604, 0.8636973156075604]}], \"norm_macro_recall\": [{\"categories\": [\"0\", \"1\", \"2\", \"3\", \"4\", \"5\", \"6\", \"7\", \"8\", \"9\", \"10\", \"11\", \"12\", \"13\", \"14\", \"15\", \"16\", \"17\", \"18\", \"19\", \"20\", \"21\", \"22\", \"23\", \"24\", \"25\", \"26\", \"27\", \"28\", \"29\", \"30\", \"31\", \"32\", \"33\", \"34\", \"36\", \"37\"], \"mode\": \"markers\", \"name\": \"norm_macro_recall\", \"stepped\": false, \"type\": \"scatter\", \"data\": [0.6154165791620023, 0.626049804187676, 0.5893884406338639, 0.6037055402009636, 0.6307514826261966, 0.5138788712558735, 0.612480540118412, 0.30843264947612775, 0.5700270959018099, 0.5173603664959501, 0.6363174809553527, 0.5999207826879452, 0.5656797997959325, 0.5739475409538338, 0.5201972239558051, 0.598403933912515, 0.5805607521768849, 0.6190142797705727, 0.60319783731397, 0.5295872578349694, 0.4814413248206154, 0.5310596071866096, 0.4474857598541808, 0.37979216403987565, 0.3054446343130553, 0.17845355813776864, 0.5703001649380368, 0.6143919853982782, 0.5178809086286202, 0.0, 0.6393696188759117, 0.6072808742871671, 0.4384652631248741, 0.18412698412698408, 0.5245234694113413, 0.6664546288316311, 0.6746068027446745]}, {\"categories\": [\"0\", \"1\", \"2\", \"3\", \"4\", \"5\", \"6\", \"7\", \"8\", \"9\", \"10\", \"11\", \"12\", \"13\", \"14\", \"15\", \"16\", \"17\", \"18\", \"19\", \"20\", \"21\", \"22\", \"23\", \"24\", \"25\", \"26\", \"27\", \"28\", \"29\", \"30\", \"31\", \"32\", \"33\", \"34\", \"36\", \"37\"], \"mode\": \"lines\", \"name\": \"norm_macro_recall_max\", \"stepped\": true, \"type\": \"scatter\", \"data\": [0.6154165791620023, 0.626049804187676, 0.626049804187676, 0.626049804187676, 0.6307514826261966, 0.6307514826261966, 0.6307514826261966, 0.6307514826261966, 0.6307514826261966, 0.6307514826261966, 0.6363174809553527, 0.6363174809553527, 0.6363174809553527, 0.6363174809553527, 0.6363174809553527, 0.6363174809553527, 0.6363174809553527, 0.6363174809553527, 0.6363174809553527, 0.6363174809553527, 0.6363174809553527, 0.6363174809553527, 0.6363174809553527, 0.6363174809553527, 0.6363174809553527, 0.6363174809553527, 0.6363174809553527, 0.6363174809553527, 0.6363174809553527, 0.6363174809553527, 0.6393696188759117, 0.6393696188759117, 0.6393696188759117, 0.6393696188759117, 0.6393696188759117, 0.6664546288316311, 0.6746068027446745]}], \"weighted_accuracy\": [{\"categories\": [\"0\", \"1\", \"2\", \"3\", \"4\", \"5\", \"6\", \"7\", \"8\", \"9\", \"10\", \"11\", \"12\", \"13\", \"14\", \"15\", \"16\", \"17\", \"18\", \"19\", \"20\", \"21\", \"22\", \"23\", \"24\", \"25\", \"26\", \"27\", \"28\", \"29\", \"30\", \"31\", \"32\", \"33\", \"34\", \"36\", \"37\"], \"mode\": \"markers\", \"name\": \"weighted_accuracy\", \"stepped\": false, \"type\": \"scatter\", \"data\": [0.8541321922200625, 0.8502962163535492, 0.8619902662514722, 0.8634242977696698, 0.8535108927378616, 0.8410223444917808, 0.8452040521838542, 0.775533491593426, 0.8459653173983817, 0.8385082313085942, 0.8637353537452794, 0.8537749403572639, 0.8820560547954402, 0.8572318293313085, 0.8683139582924287, 0.8669339017794584, 0.8874330412738841, 0.8535480316158818, 0.88609413894286, 0.8613850227996014, 0.8656750096917115, 0.8479332722845131, 0.8532830096702548, 0.8276578072504888, 0.8286736129943515, 0.5480225209311196, 0.8637363624895109, 0.8554110096848128, 0.8653213644924588, 0.7931711479234276, 0.8678007306069689, 0.8627156399246083, 0.8333730705566434, 0.8274022979388711, 0.8485621760268071, 0.892920670285166, 0.8844282837471162]}, {\"categories\": [\"0\", \"1\", \"2\", \"3\", \"4\", \"5\", \"6\", \"7\", \"8\", \"9\", \"10\", \"11\", \"12\", \"13\", \"14\", \"15\", \"16\", \"17\", \"18\", \"19\", \"20\", \"21\", \"22\", \"23\", \"24\", \"25\", \"26\", \"27\", \"28\", \"29\", \"30\", \"31\", \"32\", \"33\", \"34\", \"36\", \"37\"], \"mode\": \"lines\", \"name\": \"weighted_accuracy_max\", \"stepped\": true, \"type\": \"scatter\", \"data\": [0.8541321922200625, 0.8541321922200625, 0.8619902662514722, 0.8634242977696698, 0.8634242977696698, 0.8634242977696698, 0.8634242977696698, 0.8634242977696698, 0.8634242977696698, 0.8634242977696698, 0.8637353537452794, 0.8637353537452794, 0.8820560547954402, 0.8820560547954402, 0.8820560547954402, 0.8820560547954402, 0.8874330412738841, 0.8874330412738841, 0.8874330412738841, 0.8874330412738841, 0.8874330412738841, 0.8874330412738841, 0.8874330412738841, 0.8874330412738841, 0.8874330412738841, 0.8874330412738841, 0.8874330412738841, 0.8874330412738841, 0.8874330412738841, 0.8874330412738841, 0.8874330412738841, 0.8874330412738841, 0.8874330412738841, 0.8874330412738841, 0.8874330412738841, 0.892920670285166, 0.892920670285166]}], \"recall_score_micro\": [{\"categories\": [\"0\", \"1\", \"2\", \"3\", \"4\", \"5\", \"6\", \"7\", \"8\", \"9\", \"10\", \"11\", \"12\", \"13\", \"14\", \"15\", \"16\", \"17\", \"18\", \"19\", \"20\", \"21\", \"22\", \"23\", \"24\", \"25\", \"26\", \"27\", \"28\", \"29\", \"30\", \"31\", \"32\", \"33\", \"34\", \"36\", \"37\"], \"mode\": \"markers\", \"name\": \"recall_score_micro\", \"stepped\": false, \"type\": \"scatter\", \"data\": [0.8359770114942527, 0.8358620689655172, 0.8359770114942527, 0.8394252873563218, 0.839080459770115, 0.8090804597701149, 0.8291954022988506, 0.7225287356321839, 0.8228735632183908, 0.8093103448275862, 0.8459770114942529, 0.8328735632183909, 0.8428735632183908, 0.8293103448275861, 0.8260919540229885, 0.8393103448275863, 0.8495402298850576, 0.8362068965517242, 0.852873563218391, 0.8226436781609194, 0.8159770114942528, 0.8157471264367816, 0.8026436781609195, 0.7757471264367817, 0.7594252873563219, 0.5550574712643679, 0.8328735632183909, 0.8360919540229885, 0.8226436781609194, 0.6791954022988507, 0.8491954022988505, 0.8393103448275863, 0.789655172413793, 0.7360919540229884, 0.8160919540229885, 0.8696551724137931, 0.8660919540229886]}, {\"categories\": [\"0\", \"1\", \"2\", \"3\", \"4\", \"5\", \"6\", \"7\", \"8\", \"9\", \"10\", \"11\", \"12\", \"13\", \"14\", \"15\", \"16\", \"17\", \"18\", \"19\", \"20\", \"21\", \"22\", \"23\", \"24\", \"25\", \"26\", \"27\", \"28\", \"29\", \"30\", \"31\", \"32\", \"33\", \"34\", \"36\", \"37\"], \"mode\": \"lines\", \"name\": \"recall_score_micro_max\", \"stepped\": true, \"type\": \"scatter\", \"data\": [0.8359770114942527, 0.8359770114942527, 0.8359770114942527, 0.8394252873563218, 0.8394252873563218, 0.8394252873563218, 0.8394252873563218, 0.8394252873563218, 0.8394252873563218, 0.8394252873563218, 0.8459770114942529, 0.8459770114942529, 0.8459770114942529, 0.8459770114942529, 0.8459770114942529, 0.8459770114942529, 0.8495402298850576, 0.8495402298850576, 0.852873563218391, 0.852873563218391, 0.852873563218391, 0.852873563218391, 0.852873563218391, 0.852873563218391, 0.852873563218391, 0.852873563218391, 0.852873563218391, 0.852873563218391, 0.852873563218391, 0.852873563218391, 0.852873563218391, 0.852873563218391, 0.852873563218391, 0.852873563218391, 0.852873563218391, 0.8696551724137931, 0.8696551724137931]}], \"average_precision_score_macro\": [{\"categories\": [\"0\", \"1\", \"2\", \"3\", \"4\", \"5\", \"6\", \"7\", \"8\", \"9\", \"10\", \"11\", \"12\", \"13\", \"14\", \"15\", \"16\", \"17\", \"18\", \"19\", \"20\", \"21\", \"22\", \"23\", \"24\", \"25\", \"26\", \"27\", \"28\", \"29\", \"30\", \"31\", \"32\", \"33\", \"34\", \"36\", \"37\"], \"mode\": \"markers\", \"name\": \"average_precision_score_macro\", \"stepped\": false, \"type\": \"scatter\", \"data\": [0.8807888197525153, 0.8807340475847678, 0.8859686929554321, 0.8930961786415035, 0.8992627964447314, 0.8672073559796794, 0.8950180355670156, 0.7438412592591064, 0.8749745008185043, 0.8401142754782065, 0.9072239724380987, 0.8793971710929904, 0.8861748123592561, 0.8701230666969517, 0.8914413855454489, 0.8918742359962035, 0.9004877442494177, 0.8819949781809319, 0.902951241901867, 0.8893073017964932, 0.8540226811644409, 0.8933128752175854, 0.8618577753040094, 0.834706521081684, 0.8503066861056221, 0.6118853836677115, 0.8990806874086601, 0.8882859290035992, 0.864470112602862, 0.872644519377509, 0.8937555970748688, 0.8704615922531144, 0.8395953070997857, 0.8675499597275012, 0.8831538144674841, 0.9044792376605523, 0.9039583755390931]}, {\"categories\": [\"0\", \"1\", \"2\", \"3\", \"4\", \"5\", \"6\", \"7\", \"8\", \"9\", \"10\", \"11\", \"12\", \"13\", \"14\", \"15\", \"16\", \"17\", \"18\", \"19\", \"20\", \"21\", \"22\", \"23\", \"24\", \"25\", \"26\", \"27\", \"28\", \"29\", \"30\", \"31\", \"32\", \"33\", \"34\", \"36\", \"37\"], \"mode\": \"lines\", \"name\": \"average_precision_score_macro_max\", \"stepped\": true, \"type\": \"scatter\", \"data\": [0.8807888197525153, 0.8807888197525153, 0.8859686929554321, 0.8930961786415035, 0.8992627964447314, 0.8992627964447314, 0.8992627964447314, 0.8992627964447314, 0.8992627964447314, 0.8992627964447314, 0.9072239724380987, 0.9072239724380987, 0.9072239724380987, 0.9072239724380987, 0.9072239724380987, 0.9072239724380987, 0.9072239724380987, 0.9072239724380987, 0.9072239724380987, 0.9072239724380987, 0.9072239724380987, 0.9072239724380987, 0.9072239724380987, 0.9072239724380987, 0.9072239724380987, 0.9072239724380987, 0.9072239724380987, 0.9072239724380987, 0.9072239724380987, 0.9072239724380987, 0.9072239724380987, 0.9072239724380987, 0.9072239724380987, 0.9072239724380987, 0.9072239724380987, 0.9072239724380987, 0.9072239724380987]}], \"log_loss\": [{\"categories\": [\"0\", \"1\", \"2\", \"3\", \"4\", \"5\", \"6\", \"7\", \"8\", \"9\", \"10\", \"11\", \"12\", \"13\", \"14\", \"15\", \"16\", \"17\", \"18\", \"19\", \"20\", \"21\", \"22\", \"23\", \"24\", \"25\", \"26\", \"27\", \"28\", \"29\", \"30\", \"31\", \"32\", \"33\", \"34\", \"36\", \"37\"], \"mode\": \"markers\", \"name\": \"log_loss\", \"stepped\": false, \"type\": \"scatter\", \"data\": [0.4772179826627182, 0.41764279466886123, 0.3759180614010867, 0.3942709862580541, 0.3704055874368326, 0.4968909655952829, 0.3922506070674223, 0.5769508563421792, 0.4113226523427646, 0.488972342400222, 0.35842334742385706, 0.412689902302552, 0.42706575172110295, 0.4509924561355497, 0.4227894568759668, 0.41916278548122055, 0.40167818533255184, 0.4182362547689416, 0.3947348031251954, 0.45853779779480364, 0.4774572179243627, 0.41445150669038966, 0.4569952585357953, 0.4747333530318934, 0.5004802068884457, 0.6894982247542656, 0.48292793247993887, 0.4472476053740063, 0.4698728350743915, 0.5584079204692343, 0.3691314004425207, 0.42709113619951394, 0.4588378316380325, 0.5115566402658386, 0.40692505372328797, 0.37436143649691844, 0.36975681483764594]}, {\"categories\": [\"0\", \"1\", \"2\", \"3\", \"4\", \"5\", \"6\", \"7\", \"8\", \"9\", \"10\", \"11\", \"12\", \"13\", \"14\", \"15\", \"16\", \"17\", \"18\", \"19\", \"20\", \"21\", \"22\", \"23\", \"24\", \"25\", \"26\", \"27\", \"28\", \"29\", \"30\", \"31\", \"32\", \"33\", \"34\", \"36\", \"37\"], \"mode\": \"lines\", \"name\": \"log_loss_min\", \"stepped\": true, \"type\": \"scatter\", \"data\": [0.4772179826627182, 0.41764279466886123, 0.3759180614010867, 0.3759180614010867, 0.3704055874368326, 0.3704055874368326, 0.3704055874368326, 0.3704055874368326, 0.3704055874368326, 0.3704055874368326, 0.35842334742385706, 0.35842334742385706, 0.35842334742385706, 0.35842334742385706, 0.35842334742385706, 0.35842334742385706, 0.35842334742385706, 0.35842334742385706, 0.35842334742385706, 0.35842334742385706, 0.35842334742385706, 0.35842334742385706, 0.35842334742385706, 0.35842334742385706, 0.35842334742385706, 0.35842334742385706, 0.35842334742385706, 0.35842334742385706, 0.35842334742385706, 0.35842334742385706, 0.35842334742385706, 0.35842334742385706, 0.35842334742385706, 0.35842334742385706, 0.35842334742385706, 0.35842334742385706, 0.35842334742385706]}], \"f1_score_micro\": [{\"categories\": [\"0\", \"1\", \"2\", \"3\", \"4\", \"5\", \"6\", \"7\", \"8\", \"9\", \"10\", \"11\", \"12\", \"13\", \"14\", \"15\", \"16\", \"17\", \"18\", \"19\", \"20\", \"21\", \"22\", \"23\", \"24\", \"25\", \"26\", \"27\", \"28\", \"29\", \"30\", \"31\", \"32\", \"33\", \"34\", \"36\", \"37\"], \"mode\": \"markers\", \"name\": \"f1_score_micro\", \"stepped\": false, \"type\": \"scatter\", \"data\": [0.8359770114942527, 0.8358620689655172, 0.8359770114942527, 0.8394252873563218, 0.839080459770115, 0.8090804597701149, 0.8291954022988506, 0.7225287356321839, 0.8228735632183908, 0.8093103448275862, 0.8459770114942529, 0.8328735632183909, 0.8428735632183908, 0.8293103448275861, 0.8260919540229885, 0.8393103448275863, 0.8495402298850576, 0.8362068965517242, 0.852873563218391, 0.8226436781609194, 0.8159770114942528, 0.8157471264367816, 0.8026436781609195, 0.7757471264367817, 0.7594252873563219, 0.5550574712643679, 0.8328735632183909, 0.8360919540229885, 0.8226436781609194, 0.6791954022988507, 0.8491954022988505, 0.8393103448275863, 0.789655172413793, 0.7360919540229885, 0.8160919540229885, 0.8696551724137931, 0.8660919540229886]}, {\"categories\": [\"0\", \"1\", \"2\", \"3\", \"4\", \"5\", \"6\", \"7\", \"8\", \"9\", \"10\", \"11\", \"12\", \"13\", \"14\", \"15\", \"16\", \"17\", \"18\", \"19\", \"20\", \"21\", \"22\", \"23\", \"24\", \"25\", \"26\", \"27\", \"28\", \"29\", \"30\", \"31\", \"32\", \"33\", \"34\", \"36\", \"37\"], \"mode\": \"lines\", \"name\": \"f1_score_micro_max\", \"stepped\": true, \"type\": \"scatter\", \"data\": [0.8359770114942527, 0.8359770114942527, 0.8359770114942527, 0.8394252873563218, 0.8394252873563218, 0.8394252873563218, 0.8394252873563218, 0.8394252873563218, 0.8394252873563218, 0.8394252873563218, 0.8459770114942529, 0.8459770114942529, 0.8459770114942529, 0.8459770114942529, 0.8459770114942529, 0.8459770114942529, 0.8495402298850576, 0.8495402298850576, 0.852873563218391, 0.852873563218391, 0.852873563218391, 0.852873563218391, 0.852873563218391, 0.852873563218391, 0.852873563218391, 0.852873563218391, 0.852873563218391, 0.852873563218391, 0.852873563218391, 0.852873563218391, 0.852873563218391, 0.852873563218391, 0.852873563218391, 0.852873563218391, 0.852873563218391, 0.8696551724137931, 0.8696551724137931]}], \"average_precision_score_micro\": [{\"categories\": [\"0\", \"1\", \"2\", \"3\", \"4\", \"5\", \"6\", \"7\", \"8\", \"9\", \"10\", \"11\", \"12\", \"13\", \"14\", \"15\", \"16\", \"17\", \"18\", \"19\", \"20\", \"21\", \"22\", \"23\", \"24\", \"25\", \"26\", \"27\", \"28\", \"29\", \"30\", \"31\", \"32\", \"33\", \"34\", \"36\", \"37\"], \"mode\": \"markers\", \"name\": \"average_precision_score_micro\", \"stepped\": false, \"type\": \"scatter\", \"data\": [0.9020054536251629, 0.9033793522124445, 0.9120224665291066, 0.9143283255184219, 0.9197572965841989, 0.8936995405603622, 0.9100689323188937, 0.782897401609931, 0.895111815566743, 0.876380860099481, 0.922181998482205, 0.9019692978998345, 0.8969485391752631, 0.8905441744626564, 0.9045880262347422, 0.9100085270296232, 0.9143803937033358, 0.8969673089031585, 0.9163993740579967, 0.8974845578120805, 0.874213726671546, 0.910701998528995, 0.8776105133940522, 0.8715786820343983, 0.8740114814562535, 0.6074774486302191, 0.9127143217219029, 0.9070435631510596, 0.886971648462976, 0.8446114600621634, 0.9181327229499188, 0.8985061057155977, 0.8704594656859136, 0.8559005434892362, 0.9003391666680663, 0.9246307508124483, 0.9205553588057975]}, {\"categories\": [\"0\", \"1\", \"2\", \"3\", \"4\", \"5\", \"6\", \"7\", \"8\", \"9\", \"10\", \"11\", \"12\", \"13\", \"14\", \"15\", \"16\", \"17\", \"18\", \"19\", \"20\", \"21\", \"22\", \"23\", \"24\", \"25\", \"26\", \"27\", \"28\", \"29\", \"30\", \"31\", \"32\", \"33\", \"34\", \"36\", \"37\"], \"mode\": \"lines\", \"name\": \"average_precision_score_micro_max\", \"stepped\": true, \"type\": \"scatter\", \"data\": [0.9020054536251629, 0.9033793522124445, 0.9120224665291066, 0.9143283255184219, 0.9197572965841989, 0.9197572965841989, 0.9197572965841989, 0.9197572965841989, 0.9197572965841989, 0.9197572965841989, 0.922181998482205, 0.922181998482205, 0.922181998482205, 0.922181998482205, 0.922181998482205, 0.922181998482205, 0.922181998482205, 0.922181998482205, 0.922181998482205, 0.922181998482205, 0.922181998482205, 0.922181998482205, 0.922181998482205, 0.922181998482205, 0.922181998482205, 0.922181998482205, 0.922181998482205, 0.922181998482205, 0.922181998482205, 0.922181998482205, 0.922181998482205, 0.922181998482205, 0.922181998482205, 0.922181998482205, 0.922181998482205, 0.9246307508124483, 0.9246307508124483]}]}, \"metricName\": null, \"primaryMetricName\": \"accuracy\", \"showLegend\": false}, \"run_metrics\": [{\"name\": \"experiment_status\", \"run_id\": \"AutoML_ad6f9955-c6f1-492a-9a04-5c613b397163\", \"categories\": [0, 1, 2, 3, 4, 5, 6, 7, 8, 9, 10, 11, 12, 13], \"series\": [{\"data\": [\"DatasetEvaluation\", \"FeaturesGeneration\", \"DatasetFeaturization\", \"DatasetFeaturizationCompleted\", \"DatasetCrossValidationSplit\", \"ModelSelection\", \"BestRunExplainModel\", \"ModelExplanationDataSetSetup\", \"PickSurrogateModel\", \"EngineeredFeatureExplanations\", \"EngineeredFeatureExplanations\", \"RawFeaturesExplanations\", \"RawFeaturesExplanations\", \"BestRunExplainModel\"]}]}, {\"name\": \"experiment_status_description\", \"run_id\": \"AutoML_ad6f9955-c6f1-492a-9a04-5c613b397163\", \"categories\": [0, 1, 2, 3, 4, 5, 6, 7, 8, 9, 10, 11, 12, 13], \"series\": [{\"data\": [\"Gathering dataset statistics.\", \"Generating features for the dataset.\", \"Beginning to fit featurizers and featurize the dataset.\", \"Completed fit featurizers and featurizing the dataset.\", \"Generating individually featurized CV splits.\", \"Beginning model selection.\", \"Best run model explanations started\", \"Model explanations data setup completed\", \"Choosing LightGBM as the surrogate model for explanations\", \"Computation of engineered features started\", \"Computation of engineered features completed\", \"Computation of raw features started\", \"Computation of raw features completed\", \"Best run model explanations completed\"]}]}, {\"name\": \"f1_score_weighted\", \"run_id\": \"AutoML_ad6f9955-c6f1-492a-9a04-5c613b397163\", \"categories\": [0], \"series\": [{\"data\": [0.8636973156075604]}]}, {\"name\": \"precision_score_macro\", \"run_id\": \"AutoML_ad6f9955-c6f1-492a-9a04-5c613b397163\", \"categories\": [0], \"series\": [{\"data\": [0.8835089162680696]}]}, {\"name\": \"recall_score_macro\", \"run_id\": \"AutoML_ad6f9955-c6f1-492a-9a04-5c613b397163\", \"categories\": [0], \"series\": [{\"data\": [0.8332273144158157]}]}, {\"name\": \"average_precision_score_macro\", \"run_id\": \"AutoML_ad6f9955-c6f1-492a-9a04-5c613b397163\", \"categories\": [0], \"series\": [{\"data\": [0.9044792376605523]}]}, {\"name\": \"f1_score_micro\", \"run_id\": \"AutoML_ad6f9955-c6f1-492a-9a04-5c613b397163\", \"categories\": [0], \"series\": [{\"data\": [0.8696551724137931]}]}, {\"name\": \"precision_score_micro\", \"run_id\": \"AutoML_ad6f9955-c6f1-492a-9a04-5c613b397163\", \"categories\": [0], \"series\": [{\"data\": [0.8696551724137931]}]}, {\"name\": \"f1_score_macro\", \"run_id\": \"AutoML_ad6f9955-c6f1-492a-9a04-5c613b397163\", \"categories\": [0], \"series\": [{\"data\": [0.8420513003143621]}]}, {\"name\": \"AUC_macro\", \"run_id\": \"AutoML_ad6f9955-c6f1-492a-9a04-5c613b397163\", \"categories\": [0], \"series\": [{\"data\": [0.9147285365918089]}]}, {\"name\": \"AUC_micro\", \"run_id\": \"AutoML_ad6f9955-c6f1-492a-9a04-5c613b397163\", \"categories\": [0], \"series\": [{\"data\": [0.9220528471396486]}]}, {\"name\": \"accuracy\", \"run_id\": \"AutoML_ad6f9955-c6f1-492a-9a04-5c613b397163\", \"categories\": [0], \"series\": [{\"data\": [0.8696551724137931]}]}, {\"name\": \"log_loss\", \"run_id\": \"AutoML_ad6f9955-c6f1-492a-9a04-5c613b397163\", \"categories\": [0], \"series\": [{\"data\": [0.37436143649691844]}]}, {\"name\": \"matthews_correlation\", \"run_id\": \"AutoML_ad6f9955-c6f1-492a-9a04-5c613b397163\", \"categories\": [0], \"series\": [{\"data\": [0.7124821081162485]}]}, {\"name\": \"average_precision_score_micro\", \"run_id\": \"AutoML_ad6f9955-c6f1-492a-9a04-5c613b397163\", \"categories\": [0], \"series\": [{\"data\": [0.9246307508124483]}]}, {\"name\": \"balanced_accuracy\", \"run_id\": \"AutoML_ad6f9955-c6f1-492a-9a04-5c613b397163\", \"categories\": [0], \"series\": [{\"data\": [0.8332273144158157]}]}, {\"name\": \"precision_score_weighted\", \"run_id\": \"AutoML_ad6f9955-c6f1-492a-9a04-5c613b397163\", \"categories\": [0], \"series\": [{\"data\": [0.8847269966415393]}]}, {\"name\": \"recall_score_weighted\", \"run_id\": \"AutoML_ad6f9955-c6f1-492a-9a04-5c613b397163\", \"categories\": [0], \"series\": [{\"data\": [0.8696551724137931]}]}, {\"name\": \"norm_macro_recall\", \"run_id\": \"AutoML_ad6f9955-c6f1-492a-9a04-5c613b397163\", \"categories\": [0], \"series\": [{\"data\": [0.6664546288316311]}]}, {\"name\": \"average_precision_score_weighted\", \"run_id\": \"AutoML_ad6f9955-c6f1-492a-9a04-5c613b397163\", \"categories\": [0], \"series\": [{\"data\": [0.9271225208720673]}]}, {\"name\": \"AUC_weighted\", \"run_id\": \"AutoML_ad6f9955-c6f1-492a-9a04-5c613b397163\", \"categories\": [0], \"series\": [{\"data\": [0.9147285365918089]}]}, {\"name\": \"recall_score_micro\", \"run_id\": \"AutoML_ad6f9955-c6f1-492a-9a04-5c613b397163\", \"categories\": [0], \"series\": [{\"data\": [0.8696551724137931]}]}, {\"name\": \"weighted_accuracy\", \"run_id\": \"AutoML_ad6f9955-c6f1-492a-9a04-5c613b397163\", \"categories\": [0], \"series\": [{\"data\": [0.892920670285166]}]}], \"run_logs\": \"\\nRun is completed.\", \"graph\": {}, \"widget_settings\": {\"childWidgetDisplay\": \"popup\", \"send_telemetry\": false, \"log_level\": \"INFO\", \"sdk_version\": \"1.26.0\"}, \"loading\": false}"
          },
          "metadata": {}
        },
        {
          "output_type": "display_data",
          "data": {
            "text/plain": "<IPython.core.display.HTML object>",
            "text/html": "<table style=\"width:100%\"><tr><th>Experiment</th><th>Id</th><th>Type</th><th>Status</th><th>Details Page</th><th>Docs Page</th></tr><tr><td>heart_failure_prediction</td><td>AutoML_ad6f9955-c6f1-492a-9a04-5c613b397163</td><td>automl</td><td>Completed</td><td><a href=\"https://ml.azure.com/runs/AutoML_ad6f9955-c6f1-492a-9a04-5c613b397163?wsid=/subscriptions/610d6e37-4747-4a20-80eb-3aad70a55f43/resourcegroups/aml-quickstarts-142919/workspaces/quick-starts-ws-142919&amp;tid=660b3398-b80e-49d2-bc5b-ac1dc93b5254\" target=\"_blank\" rel=\"noopener\">Link to Azure Machine Learning studio</a></td><td><a href=\"https://docs.microsoft.com/en-us/python/api/overview/azure/ml/intro?view=azure-ml-py\" target=\"_blank\" rel=\"noopener\">Link to Documentation</a></td></tr></table>"
          },
          "metadata": {}
        },
        {
          "output_type": "stream",
          "name": "stdout",
          "text": [
            "\n",
            "\n",
            "****************************************************************************************************\n",
            "DATA GUARDRAILS: \n",
            "\n",
            "TYPE:         Cross validation\n",
            "STATUS:       DONE\n",
            "DESCRIPTION:  Each iteration of the trained model was validated through cross-validation.\n",
            "              \n",
            "DETAILS:      \n",
            "+---------------------------------+\n",
            "|Number of folds                  |\n",
            "+=================================+\n",
            "|10                               |\n",
            "+---------------------------------+\n",
            "\n",
            "****************************************************************************************************\n",
            "\n",
            "TYPE:         Class balancing detection\n",
            "STATUS:       PASSED\n",
            "DESCRIPTION:  Your inputs were analyzed, and all classes are balanced in your training data.\n",
            "              Learn more about imbalanced data: https://aka.ms/AutomatedMLImbalancedData\n",
            "\n",
            "****************************************************************************************************\n",
            "\n",
            "TYPE:         Missing feature values imputation\n",
            "STATUS:       PASSED\n",
            "DESCRIPTION:  No feature missing values were detected in the training data.\n",
            "              Learn more about missing value imputation: https://aka.ms/AutomatedMLFeaturization\n",
            "\n",
            "****************************************************************************************************\n",
            "\n",
            "TYPE:         High cardinality feature detection\n",
            "STATUS:       PASSED\n",
            "DESCRIPTION:  Your inputs were analyzed, and no high cardinality features were detected.\n",
            "              Learn more about high cardinality feature handling: https://aka.ms/AutomatedMLFeaturization\n",
            "\n",
            "****************************************************************************************************\n",
            "\n",
            "****************************************************************************************************\n",
            "ITERATION: The iteration being evaluated.\n",
            "PIPELINE: A summary description of the pipeline being evaluated.\n",
            "DURATION: Time taken for the current iteration.\n",
            "METRIC: The result of computing score on the fitted pipeline.\n",
            "BEST: The best observed score thus far.\n",
            "****************************************************************************************************\n",
            "\n",
            " ITERATION   PIPELINE                                       DURATION      METRIC      BEST\n",
            "         0   MaxAbsScaler LightGBM                          0:00:54       0.8360    0.8360\n",
            "         1   MaxAbsScaler XGBoostClassifier                 0:00:45       0.8359    0.8360\n",
            "         2   MinMaxScaler RandomForest                      0:00:49       0.8360    0.8360\n",
            "         3   MinMaxScaler RandomForest                      0:00:43       0.8394    0.8394\n",
            "         4   MinMaxScaler RandomForest                      0:02:10       0.8391    0.8394\n",
            "         5   StandardScalerWrapper XGBoostClassifier        0:02:35       0.8091    0.8394\n",
            "         6   SparseNormalizer XGBoostClassifier             0:02:06       0.8292    0.8394\n",
            "         7   MinMaxScaler SVM                               0:00:44       0.7225    0.8394\n",
            "        10   MaxAbsScaler GradientBoosting                  0:00:55       0.8460    0.8460\n",
            "        11   SparseNormalizer LightGBM                      0:00:43       0.8329    0.8460\n",
            "         8   SparseNormalizer XGBoostClassifier             0:00:45       0.8229    0.8460\n",
            "         9   SparseNormalizer XGBoostClassifier             0:00:46       0.8093    0.8460\n",
            "        12   MaxAbsScaler ExtremeRandomTrees                0:00:55       0.8429    0.8460\n",
            "        13   MaxAbsScaler LightGBM                          0:00:46       0.8293    0.8460\n",
            "        14   MinMaxScaler LightGBM                          0:00:43       0.8261    0.8460\n",
            "        15   MaxAbsScaler LightGBM                          0:00:49       0.8393    0.8460\n",
            "        16   RobustScaler ExtremeRandomTrees                0:00:47       0.8495    0.8495\n",
            "        17   SparseNormalizer XGBoostClassifier             0:00:52       0.8362    0.8495\n",
            "        18   RobustScaler ExtremeRandomTrees                0:00:44       0.8529    0.8529\n",
            "        19   StandardScalerWrapper LightGBM                 0:00:43       0.8226    0.8529\n",
            "        20   MaxAbsScaler LightGBM                          0:00:47       0.8160    0.8529\n",
            "        21   MaxAbsScaler LightGBM                          0:00:51       0.8157    0.8529\n",
            "        22   MinMaxScaler LightGBM                          0:01:50       0.8026    0.8529\n",
            "        23   MaxAbsScaler LightGBM                          0:00:45       0.7757    0.8529\n",
            "        24   StandardScalerWrapper LightGBM                 0:00:53       0.7594    0.8529\n",
            "        25   SparseNormalizer ExtremeRandomTrees            0:00:45       0.5551    0.8529\n",
            "        26   StandardScalerWrapper XGBoostClassifier        0:00:41       0.8329    0.8529\n",
            "        27   StandardScalerWrapper XGBoostClassifier        0:00:43       0.8361    0.8529\n",
            "        28   StandardScalerWrapper LightGBM                 0:00:48       0.8226    0.8529\n",
            "        29   MaxAbsScaler ExtremeRandomTrees                0:00:54       0.6792    0.8529\n",
            "        30   StandardScalerWrapper XGBoostClassifier        0:00:44       0.8492    0.8529\n",
            "        31   StandardScalerWrapper LightGBM                 0:00:44       0.8393    0.8529\n",
            "        32   SparseNormalizer GradientBoosting              0:00:40       0.7897    0.8529\n",
            "        33   StandardScalerWrapper ExtremeRandomTrees       0:00:41       0.7361    0.8529\n",
            "        34   SparseNormalizer LightGBM                      0:00:30       0.8161    0.8529\n",
            "        35                                                  0:00:09          nan    0.8529\n",
            "        36    VotingEnsemble                                0:01:03       0.8697    0.8697\n",
            "        37    StackEnsemble                                 0:01:10       0.8661    0.8697\n"
          ]
        },
        {
          "output_type": "execute_result",
          "execution_count": 6,
          "data": {
            "text/plain": "{'runId': 'AutoML_ad6f9955-c6f1-492a-9a04-5c613b397163',\n 'target': 'cpucompute',\n 'status': 'Completed',\n 'startTimeUtc': '2021-04-17T08:07:32.341927Z',\n 'endTimeUtc': '2021-04-17T08:30:36.796294Z',\n 'properties': {'num_iterations': '1000',\n  'training_type': 'TrainFull',\n  'acquisition_function': 'EI',\n  'primary_metric': 'accuracy',\n  'train_split': '0',\n  'acquisition_parameter': '0',\n  'num_cross_validation': None,\n  'target': 'cpucompute',\n  'AMLSettingsJsonString': '{\"path\":null,\"name\":\"heart_failure_prediction\",\"subscription_id\":\"610d6e37-4747-4a20-80eb-3aad70a55f43\",\"resource_group\":\"aml-quickstarts-142919\",\"workspace_name\":\"quick-starts-ws-142919\",\"region\":\"southcentralus\",\"compute_target\":\"cpucompute\",\"spark_service\":null,\"azure_service\":\"remote\",\"many_models\":false,\"pipeline_fetch_max_batch_size\":1,\"enable_batch_run\":false,\"enable_run_restructure\":false,\"iterations\":1000,\"primary_metric\":\"accuracy\",\"task_type\":\"classification\",\"data_script\":null,\"test_size\":0.0,\"validation_size\":0.0,\"n_cross_validations\":null,\"y_min\":null,\"y_max\":null,\"num_classes\":null,\"featurization\":\"auto\",\"_ignore_package_version_incompatibilities\":false,\"is_timeseries\":false,\"max_cores_per_iteration\":1,\"max_concurrent_iterations\":4,\"iteration_timeout_minutes\":null,\"mem_in_mb\":null,\"enforce_time_on_windows\":false,\"experiment_timeout_minutes\":20,\"experiment_exit_score\":null,\"whitelist_models\":null,\"blacklist_algos\":[\"TensorFlowLinearClassifier\",\"TensorFlowDNN\"],\"supported_models\":[\"BernoulliNaiveBayes\",\"LogisticRegression\",\"XGBoostClassifier\",\"KNN\",\"TensorFlowLinearClassifier\",\"RandomForest\",\"AveragedPerceptronClassifier\",\"MultinomialNaiveBayes\",\"GradientBoosting\",\"ExtremeRandomTrees\",\"LinearSVM\",\"SVM\",\"SGD\",\"LightGBM\",\"TensorFlowDNN\",\"DecisionTree\"],\"private_models\":[],\"auto_blacklist\":true,\"blacklist_samples_reached\":false,\"exclude_nan_labels\":true,\"verbosity\":20,\"_debug_log\":\"azureml_automl.log\",\"show_warnings\":false,\"model_explainability\":true,\"service_url\":null,\"sdk_url\":null,\"sdk_packages\":null,\"enable_onnx_compatible_models\":false,\"enable_split_onnx_featurizer_estimator_models\":false,\"vm_type\":\"STANDARD_D2_V2\",\"telemetry_verbosity\":20,\"send_telemetry\":true,\"enable_dnn\":false,\"scenario\":\"SDK-1.13.0\",\"environment_label\":null,\"save_mlflow\":false,\"force_text_dnn\":false,\"enable_feature_sweeping\":true,\"enable_early_stopping\":true,\"early_stopping_n_iters\":10,\"metrics\":null,\"enable_metric_confidence\":false,\"enable_ensembling\":true,\"enable_stack_ensembling\":true,\"ensemble_iterations\":15,\"enable_tf\":false,\"enable_subsampling\":null,\"subsample_seed\":null,\"enable_nimbusml\":false,\"enable_streaming\":false,\"force_streaming\":false,\"track_child_runs\":true,\"allowed_private_models\":[],\"label_column_name\":\"DEATH_EVENT\",\"weight_column_name\":null,\"cv_split_column_names\":null,\"enable_local_managed\":false,\"_local_managed_run_id\":null,\"cost_mode\":1,\"lag_length\":0,\"metric_operation\":\"maximize\",\"preprocess\":true}',\n  'DataPrepJsonString': '{\\\\\"training_data\\\\\": {\\\\\"datasetId\\\\\": \\\\\"b04547a6-dbba-4793-988b-b0cc359b9fc5\\\\\"}, \\\\\"datasets\\\\\": 0}',\n  'EnableSubsampling': None,\n  'runTemplate': 'AutoML',\n  'azureml.runsource': 'automl',\n  'display_task_type': 'classification',\n  'dependencies_versions': '{\"azureml-widgets\": \"1.26.0\", \"azureml-train\": \"1.26.0\", \"azureml-train-restclients-hyperdrive\": \"1.26.0\", \"azureml-train-core\": \"1.26.0\", \"azureml-train-automl\": \"1.26.0\", \"azureml-train-automl-runtime\": \"1.26.0\", \"azureml-train-automl-client\": \"1.26.0\", \"azureml-tensorboard\": \"1.26.0\", \"azureml-telemetry\": \"1.26.0\", \"azureml-sdk\": \"1.26.0\", \"azureml-samples\": \"0+unknown\", \"azureml-pipeline\": \"1.26.0\", \"azureml-pipeline-steps\": \"1.26.0\", \"azureml-pipeline-core\": \"1.26.0\", \"azureml-opendatasets\": \"1.26.0\", \"azureml-model-management-sdk\": \"1.0.1b6.post1\", \"azureml-mlflow\": \"1.26.0\", \"azureml-interpret\": \"1.26.0\", \"azureml-explain-model\": \"1.26.0\", \"azureml-defaults\": \"1.26.0\", \"azureml-dataset-runtime\": \"1.26.0\", \"azureml-dataprep\": \"2.13.2\", \"azureml-dataprep-rslex\": \"1.11.2\", \"azureml-dataprep-native\": \"32.0.0\", \"azureml-datadrift\": \"1.26.0\", \"azureml-core\": \"1.26.0\", \"azureml-contrib-services\": \"1.26.0\", \"azureml-contrib-server\": \"1.26.0\", \"azureml-contrib-reinforcementlearning\": \"1.26.0\", \"azureml-contrib-pipeline-steps\": \"1.26.0\", \"azureml-contrib-notebook\": \"1.26.0\", \"azureml-contrib-gbdt\": \"1.26.0\", \"azureml-contrib-fairness\": \"1.26.0\", \"azureml-contrib-dataset\": \"1.26.0\", \"azureml-cli-common\": \"1.26.0\", \"azureml-automl-runtime\": \"1.26.0\", \"azureml-automl-dnn-nlp\": \"1.26.0\", \"azureml-automl-core\": \"1.26.0\", \"azureml-accel-models\": \"1.26.0\"}',\n  '_aml_system_scenario_identification': 'Remote.Parent',\n  'ClientType': 'SDK',\n  'environment_cpu_name': 'AzureML-AutoML',\n  'environment_cpu_label': 'prod',\n  'environment_gpu_name': 'AzureML-AutoML-GPU',\n  'environment_gpu_label': 'prod',\n  'root_attribution': 'automl',\n  'attribution': 'AutoML',\n  'Orchestrator': 'AutoML',\n  'CancelUri': 'https://southcentralus.experiments.azureml.net/jasmine/v1.0/subscriptions/610d6e37-4747-4a20-80eb-3aad70a55f43/resourceGroups/aml-quickstarts-142919/providers/Microsoft.MachineLearningServices/workspaces/quick-starts-ws-142919/experimentids/58eac6b3-5eab-4d8f-b67c-a7f3e7965876/cancel/AutoML_ad6f9955-c6f1-492a-9a04-5c613b397163',\n  'ClientSdkVersion': '1.25.0',\n  'snapshotId': '00000000-0000-0000-0000-000000000000',\n  'SetupRunId': 'AutoML_ad6f9955-c6f1-492a-9a04-5c613b397163_setup',\n  'SetupRunContainerId': 'dcid.AutoML_ad6f9955-c6f1-492a-9a04-5c613b397163_setup',\n  'FeaturizationRunJsonPath': 'featurizer_container.json',\n  'FeaturizationRunId': 'AutoML_ad6f9955-c6f1-492a-9a04-5c613b397163_featurize',\n  'ProblemInfoJsonString': '{\"dataset_num_categorical\": 0, \"is_sparse\": false, \"subsampling\": false, \"dataset_classes\": 2, \"dataset_features\": 12, \"dataset_samples\": 299, \"single_frequency_class_detected\": false}',\n  'ModelExplainRunId': 'AutoML_ad6f9955-c6f1-492a-9a04-5c613b397163_ModelExplain'},\n 'inputDatasets': [{'dataset': {'id': 'b04547a6-dbba-4793-988b-b0cc359b9fc5'}, 'consumptionDetails': {'type': 'RunInput', 'inputName': 'training_data', 'mechanism': 'Direct'}}],\n 'outputDatasets': [],\n 'logFiles': {},\n 'submittedBy': 'ODL_User 142919'}"
          },
          "metadata": {}
        }
      ],
      "execution_count": 6,
      "metadata": {
        "gather": {
          "logged": 1618648522434
        },
        "jupyter": {
          "outputs_hidden": false,
          "source_hidden": false
        },
        "nteract": {
          "transient": {
            "deleting": false
          }
        }
      }
    },
    {
      "cell_type": "markdown",
      "source": [
        "## Best Model\n",
        "\n",
        "TODO: In the cell below, get the best model from the automl experiments and display all the properties of the model.\n",
        "\n"
      ],
      "metadata": {}
    },
    {
      "cell_type": "code",
      "source": [
        "best_run, best_model = remote_run.get_output()\n",
        "print(\"Best run ID:\"+ best_run.id)\n",
        "print(best_run)\n",
        "print(best_model)\n",
        "best_run_metrics = best_run.get_metrics()\n",
        "print(best_run_metrics)"
      ],
      "outputs": [
        {
          "output_type": "stream",
          "name": "stdout",
          "text": [
            "Best run ID:AutoML_ad6f9955-c6f1-492a-9a04-5c613b397163_36\n",
            "Run(Experiment: heart_failure_prediction,\n",
            "Id: AutoML_ad6f9955-c6f1-492a-9a04-5c613b397163_36,\n",
            "Type: azureml.scriptrun,\n",
            "Status: Completed)\n",
            "Pipeline(memory=None,\n",
            "         steps=[('datatransformer',\n",
            "                 DataTransformer(enable_dnn=None, enable_feature_sweeping=None,\n",
            "                                 feature_sweeping_config=None,\n",
            "                                 feature_sweeping_timeout=None,\n",
            "                                 featurization_config=None, force_text_dnn=None,\n",
            "                                 is_cross_validation=None,\n",
            "                                 is_onnx_compatible=None, logger=None,\n",
            "                                 observer=None, task=None, working_dir=None)),\n",
            "                ('prefittedsoftvotingclassifier',...\n",
            "                                                                                               min_child_weight=1,\n",
            "                                                                                               missing=nan,\n",
            "                                                                                               n_estimators=25,\n",
            "                                                                                               n_jobs=1,\n",
            "                                                                                               nthread=None,\n",
            "                                                                                               objective='reg:logistic',\n",
            "                                                                                               random_state=0,\n",
            "                                                                                               reg_alpha=0,\n",
            "                                                                                               reg_lambda=0.7291666666666667,\n",
            "                                                                                               scale_pos_weight=1,\n",
            "                                                                                               seed=None,\n",
            "                                                                                               silent=None,\n",
            "                                                                                               subsample=0.9,\n",
            "                                                                                               tree_method='auto',\n",
            "                                                                                               verbose=-10,\n",
            "                                                                                               verbosity=0))],\n",
            "                                                                     verbose=False))],\n",
            "                                               flatten_transform=None,\n",
            "                                               weights=[0.125, 0.125, 0.125,\n",
            "                                                        0.125, 0.125, 0.125,\n",
            "                                                        0.125, 0.125]))],\n",
            "         verbose=False)\n",
            "{'weighted_accuracy': 0.892920670285166, 'recall_score_micro': 0.8696551724137931, 'AUC_weighted': 0.9147285365918089, 'average_precision_score_weighted': 0.9271225208720673, 'precision_score_macro': 0.8835089162680696, 'norm_macro_recall': 0.6664546288316311, 'recall_score_weighted': 0.8696551724137931, 'precision_score_weighted': 0.8847269966415393, 'balanced_accuracy': 0.8332273144158157, 'average_precision_score_micro': 0.9246307508124483, 'matthews_correlation': 0.7124821081162485, 'AUC_macro': 0.9147285365918089, 'log_loss': 0.37436143649691844, 'accuracy': 0.8696551724137931, 'AUC_micro': 0.9220528471396486, 'precision_score_micro': 0.8696551724137931, 'f1_score_macro': 0.8420513003143621, 'f1_score_micro': 0.8696551724137931, 'recall_score_macro': 0.8332273144158157, 'average_precision_score_macro': 0.9044792376605523, 'f1_score_weighted': 0.8636973156075604, 'accuracy_table': 'aml://artifactId/ExperimentRun/dcid.AutoML_ad6f9955-c6f1-492a-9a04-5c613b397163_36/accuracy_table', 'confusion_matrix': 'aml://artifactId/ExperimentRun/dcid.AutoML_ad6f9955-c6f1-492a-9a04-5c613b397163_36/confusion_matrix'}\n"
          ]
        }
      ],
      "execution_count": 7,
      "metadata": {
        "gather": {
          "logged": 1618648588210
        },
        "jupyter": {
          "outputs_hidden": false,
          "source_hidden": false
        },
        "nteract": {
          "transient": {
            "deleting": false
          }
        }
      }
    },
    {
      "cell_type": "code",
      "source": [
        "#TODO: Save the best model\n",
        "model = best_run.register_model(model_name='heart-failure-prediction-automl-model',model_path='outputs/model.pkl', tags={'Method':'AutoML'}, properties={'accuracy': best_run_metrics['accuracy']})\n",
        "print(model)"
      ],
      "outputs": [
        {
          "output_type": "stream",
          "name": "stdout",
          "text": [
            "Model(workspace=Workspace.create(name='quick-starts-ws-142919', subscription_id='610d6e37-4747-4a20-80eb-3aad70a55f43', resource_group='aml-quickstarts-142919'), name=heart-failure-prediction-automl-model, id=heart-failure-prediction-automl-model:1, version=1, tags={'Method': 'AutoML'}, properties={'accuracy': '0.8696551724137931'})\n"
          ]
        }
      ],
      "execution_count": 8,
      "metadata": {
        "gather": {
          "logged": 1618648784046
        },
        "jupyter": {
          "outputs_hidden": false,
          "source_hidden": false
        },
        "nteract": {
          "transient": {
            "deleting": false
          }
        }
      }
    },
    {
      "cell_type": "markdown",
      "source": [
        "## Model Deployment\n",
        "\n",
        "Remember you have to deploy only one of the two models you trained.. Perform the steps in the rest of this notebook only if you wish to deploy this model.\n",
        "\n",
        "TODO: In the cell below, register the model, create an inference config and deploy the model as a web service."
      ],
      "metadata": {}
    },
    {
      "cell_type": "code",
      "source": [
        "from azureml.core.webservice import AciWebservice, Webservice\n",
        "from azureml.core.model import Model, InferenceConfig\n",
        "from azureml.core import Environment\n",
        "from azureml.core.conda_dependencies import CondaDependencies\n",
        "\n",
        "env = Environment.from_conda_specification(name='automlv2', file_path='conda_env_v_1_0_0.yml')\n",
        "inference_config = InferenceConfig(entry_script='Score.py', environment=env)\n",
        "\n",
        "service_name = 'heartfailurepredictionautomlv2'\n",
        "\n",
        "deployment_config = AciWebservice.deploy_configuration(cpu_cores = 1.8, memory_gb = 4, auth_enabled = True, enable_app_insights = True)\n",
        "service = Model.deploy(ws, service_name, [model], inference_config, deployment_config)\n",
        "print(service.state)\n",
        "\n",
        "service.wait_for_deployment(show_output = True)\n",
        "url = service.scoring_uri\n",
        "print(url)"
      ],
      "outputs": [
        {
          "output_type": "error",
          "ename": "WebserviceException",
          "evalue": "WebserviceException:\n\tMessage: Service heartfailurepredictionautomlv2 with the same name already exists, please use a different service name or delete the existing service.\n\tInnerException None\n\tErrorResponse \n{\n    \"error\": {\n        \"message\": \"Service heartfailurepredictionautomlv2 with the same name already exists, please use a different service name or delete the existing service.\"\n    }\n}",
          "traceback": [
            "\u001b[0;31m---------------------------------------------------------------------------\u001b[0m",
            "\u001b[0;31mWebserviceException\u001b[0m                       Traceback (most recent call last)",
            "\u001b[0;32m<ipython-input-11-264ea052f370>\u001b[0m in \u001b[0;36m<module>\u001b[0;34m\u001b[0m\n\u001b[1;32m     10\u001b[0m \u001b[0;34m\u001b[0m\u001b[0m\n\u001b[1;32m     11\u001b[0m \u001b[0mdeployment_config\u001b[0m \u001b[0;34m=\u001b[0m \u001b[0mAciWebservice\u001b[0m\u001b[0;34m.\u001b[0m\u001b[0mdeploy_configuration\u001b[0m\u001b[0;34m(\u001b[0m\u001b[0mcpu_cores\u001b[0m \u001b[0;34m=\u001b[0m \u001b[0;36m1.8\u001b[0m\u001b[0;34m,\u001b[0m \u001b[0mmemory_gb\u001b[0m \u001b[0;34m=\u001b[0m \u001b[0;36m4\u001b[0m\u001b[0;34m,\u001b[0m \u001b[0mauth_enabled\u001b[0m \u001b[0;34m=\u001b[0m \u001b[0;32mTrue\u001b[0m\u001b[0;34m,\u001b[0m \u001b[0menable_app_insights\u001b[0m \u001b[0;34m=\u001b[0m \u001b[0;32mTrue\u001b[0m\u001b[0;34m)\u001b[0m\u001b[0;34m\u001b[0m\u001b[0;34m\u001b[0m\u001b[0m\n\u001b[0;32m---> 12\u001b[0;31m \u001b[0mservice\u001b[0m \u001b[0;34m=\u001b[0m \u001b[0mModel\u001b[0m\u001b[0;34m.\u001b[0m\u001b[0mdeploy\u001b[0m\u001b[0;34m(\u001b[0m\u001b[0mws\u001b[0m\u001b[0;34m,\u001b[0m \u001b[0mservice_name\u001b[0m\u001b[0;34m,\u001b[0m \u001b[0;34m[\u001b[0m\u001b[0mmodel\u001b[0m\u001b[0;34m]\u001b[0m\u001b[0;34m,\u001b[0m \u001b[0minference_config\u001b[0m\u001b[0;34m,\u001b[0m \u001b[0mdeployment_config\u001b[0m\u001b[0;34m)\u001b[0m\u001b[0;34m\u001b[0m\u001b[0;34m\u001b[0m\u001b[0m\n\u001b[0m\u001b[1;32m     13\u001b[0m \u001b[0mprint\u001b[0m\u001b[0;34m(\u001b[0m\u001b[0mservice\u001b[0m\u001b[0;34m.\u001b[0m\u001b[0mstate\u001b[0m\u001b[0;34m)\u001b[0m\u001b[0;34m\u001b[0m\u001b[0;34m\u001b[0m\u001b[0m\n\u001b[1;32m     14\u001b[0m \u001b[0;34m\u001b[0m\u001b[0m\n",
            "\u001b[0;32m/anaconda/envs/azureml_py36/lib/python3.6/site-packages/azureml/core/model.py\u001b[0m in \u001b[0;36mdeploy\u001b[0;34m(workspace, name, models, inference_config, deployment_config, deployment_target, overwrite, show_output)\u001b[0m\n\u001b[1;32m   1666\u001b[0m         \u001b[0;32mif\u001b[0m \u001b[0muse_env_path\u001b[0m\u001b[0;34m:\u001b[0m\u001b[0;34m\u001b[0m\u001b[0;34m\u001b[0m\u001b[0m\n\u001b[1;32m   1667\u001b[0m             return Model._deploy_with_environment(workspace, name, models, inference_config, deployment_config,\n\u001b[0;32m-> 1668\u001b[0;31m                                                   deployment_target, overwrite, show_output)\n\u001b[0m\u001b[1;32m   1669\u001b[0m \u001b[0;34m\u001b[0m\u001b[0m\n\u001b[1;32m   1670\u001b[0m         \u001b[0;31m# ContainerImage-based webservice.\u001b[0m\u001b[0;34m\u001b[0m\u001b[0;34m\u001b[0m\u001b[0;34m\u001b[0m\u001b[0m\n",
            "\u001b[0;32m/anaconda/envs/azureml_py36/lib/python3.6/site-packages/azureml/core/model.py\u001b[0m in \u001b[0;36m_deploy_with_environment\u001b[0;34m(workspace, name, models, inference_config, deployment_config, deployment_target, overwrite, show_output)\u001b[0m\n\u001b[1;32m   1874\u001b[0m         return Model._deploy_with_environment_image_request(workspace, name, environment_image_request,\n\u001b[1;32m   1875\u001b[0m                                                             \u001b[0mdeployment_config\u001b[0m\u001b[0;34m,\u001b[0m \u001b[0mdeployment_target\u001b[0m\u001b[0;34m,\u001b[0m \u001b[0moverwrite\u001b[0m\u001b[0;34m,\u001b[0m\u001b[0;34m\u001b[0m\u001b[0;34m\u001b[0m\u001b[0m\n\u001b[0;32m-> 1876\u001b[0;31m                                                             show_output)\n\u001b[0m\u001b[1;32m   1877\u001b[0m \u001b[0;34m\u001b[0m\u001b[0m\n\u001b[1;32m   1878\u001b[0m     \u001b[0;34m@\u001b[0m\u001b[0mstaticmethod\u001b[0m\u001b[0;34m\u001b[0m\u001b[0;34m\u001b[0m\u001b[0m\n",
            "\u001b[0;32m/anaconda/envs/azureml_py36/lib/python3.6/site-packages/azureml/core/model.py\u001b[0m in \u001b[0;36m_deploy_with_environment_image_request\u001b[0;34m(workspace, name, environment_image_request, deployment_config, deployment_target, overwrite, show_output)\u001b[0m\n\u001b[1;32m   1923\u001b[0m \u001b[0;34m\u001b[0m\u001b[0m\n\u001b[1;32m   1924\u001b[0m         return Webservice._deploy_webservice(workspace, name, webservice_payload, overwrite, webservice_class,\n\u001b[0;32m-> 1925\u001b[0;31m                                              show_output)\n\u001b[0m\u001b[1;32m   1926\u001b[0m \u001b[0;34m\u001b[0m\u001b[0m\n\u001b[1;32m   1927\u001b[0m     \u001b[0;32mdef\u001b[0m \u001b[0mget_sas_urls\u001b[0m\u001b[0;34m(\u001b[0m\u001b[0mself\u001b[0m\u001b[0;34m)\u001b[0m\u001b[0;34m:\u001b[0m\u001b[0;34m\u001b[0m\u001b[0;34m\u001b[0m\u001b[0m\n",
            "\u001b[0;32m/anaconda/envs/azureml_py36/lib/python3.6/site-packages/azureml/core/webservice/webservice.py\u001b[0m in \u001b[0;36m_deploy_webservice\u001b[0;34m(workspace, name, webservice_payload, overwrite, webservice_class, show_output)\u001b[0m\n\u001b[1;32m    825\u001b[0m         \"\"\"\n\u001b[1;32m    826\u001b[0m         \u001b[0;31m# TODO Remove check_for_existing_webservice() later, this check has already included in common validation.\u001b[0m\u001b[0;34m\u001b[0m\u001b[0;34m\u001b[0m\u001b[0;34m\u001b[0m\u001b[0m\n\u001b[0;32m--> 827\u001b[0;31m         \u001b[0mWebservice\u001b[0m\u001b[0;34m.\u001b[0m\u001b[0mcheck_for_existing_webservice\u001b[0m\u001b[0;34m(\u001b[0m\u001b[0mworkspace\u001b[0m\u001b[0;34m,\u001b[0m \u001b[0mname\u001b[0m\u001b[0;34m,\u001b[0m \u001b[0moverwrite\u001b[0m\u001b[0;34m)\u001b[0m\u001b[0;34m\u001b[0m\u001b[0;34m\u001b[0m\u001b[0m\n\u001b[0m\u001b[1;32m    828\u001b[0m         Webservice._check_for_webservice(workspace, name, Webservice._get_deploy_compute_type(webservice_payload),\n\u001b[1;32m    829\u001b[0m                                          webservice_payload, SERVICE_REQUEST_OPERATION_CREATE)\n",
            "\u001b[0;32m/anaconda/envs/azureml_py36/lib/python3.6/site-packages/azureml/core/webservice/webservice.py\u001b[0m in \u001b[0;36mcheck_for_existing_webservice\u001b[0;34m(workspace, name, overwrite, request_func, check_func)\u001b[0m\n\u001b[1;32m    666\u001b[0m                 \u001b[0;32mreturn\u001b[0m \u001b[0mWebservice\u001b[0m\u001b[0;34m.\u001b[0m\u001b[0m_check_validate_error\u001b[0m\u001b[0;34m(\u001b[0m\u001b[0mcontent\u001b[0m\u001b[0;34m)\u001b[0m\u001b[0;34m\u001b[0m\u001b[0;34m\u001b[0m\u001b[0m\n\u001b[1;32m    667\u001b[0m \u001b[0;34m\u001b[0m\u001b[0m\n\u001b[0;32m--> 668\u001b[0;31m         \u001b[0mWebservice\u001b[0m\u001b[0;34m.\u001b[0m\u001b[0m_run_validate_framework\u001b[0m\u001b[0;34m(\u001b[0m\u001b[0mrequest_func\u001b[0m\u001b[0;34m,\u001b[0m \u001b[0mcheck_func\u001b[0m\u001b[0;34m)\u001b[0m\u001b[0;34m\u001b[0m\u001b[0;34m\u001b[0m\u001b[0m\n\u001b[0m\u001b[1;32m    669\u001b[0m \u001b[0;34m\u001b[0m\u001b[0m\n\u001b[1;32m    670\u001b[0m     \u001b[0;34m@\u001b[0m\u001b[0mstaticmethod\u001b[0m\u001b[0;34m\u001b[0m\u001b[0;34m\u001b[0m\u001b[0m\n",
            "\u001b[0;32m/anaconda/envs/azureml_py36/lib/python3.6/site-packages/azureml/core/webservice/webservice.py\u001b[0m in \u001b[0;36m_run_validate_framework\u001b[0;34m(request_func, check_func)\u001b[0m\n\u001b[1;32m    637\u001b[0m             \u001b[0;32mreturn\u001b[0m\u001b[0;34m\u001b[0m\u001b[0;34m\u001b[0m\u001b[0m\n\u001b[1;32m    638\u001b[0m \u001b[0;34m\u001b[0m\u001b[0m\n\u001b[0;32m--> 639\u001b[0;31m         \u001b[0;32mraise\u001b[0m \u001b[0mWebserviceException\u001b[0m\u001b[0;34m(\u001b[0m\u001b[0merror\u001b[0m\u001b[0;34m)\u001b[0m\u001b[0;34m\u001b[0m\u001b[0;34m\u001b[0m\u001b[0m\n\u001b[0m\u001b[1;32m    640\u001b[0m \u001b[0;34m\u001b[0m\u001b[0m\n\u001b[1;32m    641\u001b[0m     \u001b[0;34m@\u001b[0m\u001b[0mstaticmethod\u001b[0m\u001b[0;34m\u001b[0m\u001b[0;34m\u001b[0m\u001b[0m\n",
            "\u001b[0;31mWebserviceException\u001b[0m: WebserviceException:\n\tMessage: Service heartfailurepredictionautomlv2 with the same name already exists, please use a different service name or delete the existing service.\n\tInnerException None\n\tErrorResponse \n{\n    \"error\": {\n        \"message\": \"Service heartfailurepredictionautomlv2 with the same name already exists, please use a different service name or delete the existing service.\"\n    }\n}"
          ]
        }
      ],
      "execution_count": 11,
      "metadata": {
        "gather": {
          "logged": 1598431435189
        },
        "jupyter": {
          "outputs_hidden": false,
          "source_hidden": false
        },
        "nteract": {
          "transient": {
            "deleting": false
          }
        }
      }
    },
    {
      "cell_type": "markdown",
      "source": [
        "TODO: In the cell below, send a request to the web service you deployed to test it."
      ],
      "metadata": {
        "collapsed": true,
        "gather": {
          "logged": 1598431657736
        },
        "jupyter": {
          "outputs_hidden": false,
          "source_hidden": false
        },
        "nteract": {
          "transient": {
            "deleting": false
          }
        }
      }
    },
    {
      "cell_type": "code",
      "source": [
        "import json\n",
        "\n",
        "data = {\"data\":\n",
        "        [\n",
        "          {\n",
        "            \"age\": 36,\n",
        "            \"anaemia\": 0,\n",
        "            \"creatinine_phosphokinase\": 200,\n",
        "            \"diabetes\": 0,\n",
        "            \"ejection_fraction\": 30,\n",
        "            \"high_blood_pressure\": 0,\n",
        "            \"platelets\": 120000,\n",
        "            \"serum_creatinine\": 1.1,\n",
        "            \"serum_sodium\": 135,\n",
        "            \"sex\": 1,\n",
        "            \"smoking\": 0,\n",
        "            \"time\": 7\n",
        "          },\n",
        "          {\n",
        "            \"age\": 39,\n",
        "            \"anaemia\": 0,\n",
        "            \"creatinine_phosphokinase\": 300,\n",
        "            \"diabetes\": 0,\n",
        "            \"ejection_fraction\": 50,\n",
        "            \"high_blood_pressure\": 0,\n",
        "            \"platelets\": 200000,\n",
        "            \"serum_creatinine\": 0.9,\n",
        "            \"serum_sodium\": 250,\n",
        "            \"sex\": 0,\n",
        "            \"smoking\": 0,\n",
        "            \"time\": 1\n",
        "          }\n",
        "      ]\n",
        "    }\n",
        "\n",
        "input_payload = json.dumps(data)\n",
        "\n",
        "output = service.run(input_payload)\n",
        "\n",
        "print(output)"
      ],
      "outputs": [],
      "execution_count": null,
      "metadata": {
        "gather": {
          "logged": 1598432707604
        },
        "jupyter": {
          "outputs_hidden": false,
          "source_hidden": false
        },
        "nteract": {
          "transient": {
            "deleting": false
          }
        }
      }
    },
    {
      "cell_type": "markdown",
      "source": [
        "TODO: In the cell below, print the logs of the web service and delete the service"
      ],
      "metadata": {
        "collapsed": true,
        "gather": {
          "logged": 1598432765711
        },
        "jupyter": {
          "outputs_hidden": false,
          "source_hidden": false
        },
        "nteract": {
          "transient": {
            "deleting": false
          }
        }
      }
    },
    {
      "cell_type": "code",
      "source": [
        "#service.delete()"
      ],
      "outputs": [],
      "execution_count": null,
      "metadata": {
        "jupyter": {
          "outputs_hidden": false,
          "source_hidden": false
        },
        "nteract": {
          "transient": {
            "deleting": false
          }
        }
      }
    },
    {
      "cell_type": "code",
      "source": [],
      "outputs": [],
      "execution_count": null,
      "metadata": {}
    }
  ],
  "metadata": {
    "kernel_info": {
      "name": "python3"
    },
    "kernelspec": {
      "name": "python3",
      "language": "python",
      "display_name": "Python 3"
    },
    "language_info": {
      "name": "python",
      "version": "3.6.9",
      "mimetype": "text/x-python",
      "codemirror_mode": {
        "name": "ipython",
        "version": 3
      },
      "pygments_lexer": "ipython3",
      "nbconvert_exporter": "python",
      "file_extension": ".py"
    },
    "nteract": {
      "version": "nteract-front-end@1.0.0"
    },
    "microsoft": {
      "host": {
        "AzureML": {
          "notebookHasBeenCompleted": true
        }
      }
    }
  },
  "nbformat": 4,
  "nbformat_minor": 2
}