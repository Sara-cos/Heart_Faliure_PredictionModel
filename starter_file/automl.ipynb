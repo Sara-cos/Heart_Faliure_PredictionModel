{
  "cells": [
    {
      "cell_type": "markdown",
      "source": [
        "# Automated ML\n",
        "\n",
        "TODO: Import Dependencies. In the cell below, import all the dependencies that you will need to complete the project."
      ],
      "metadata": {}
    },
    {
      "cell_type": "code",
      "source": [
        "from azureml.core import Experiment,Workspace\n",
        "from azureml.core.compute import ComputeTarget,AmlCompute\n",
        "from azureml.core.compute_target import ComputeTargetException\n",
        "from azureml.core.dataset import Dataset\n",
        "from azureml.train.automl import AutoMLConfig\n",
        "from azureml.widgets import RunDetails"
      ],
      "outputs": [],
      "execution_count": 1,
      "metadata": {
        "gather": {
          "logged": 1618572326746
        },
        "jupyter": {
          "outputs_hidden": false,
          "source_hidden": false
        },
        "nteract": {
          "transient": {
            "deleting": false
          }
        }
      }
    },
    {
      "cell_type": "markdown",
      "source": [
        "## Dataset\n",
        "\n",
        "### Overview\n",
        "TODO: In this markdown cell, give an overview of the dataset you are using. Also mention the task you will be performing.\n",
        "\n",
        "\n",
        "TODO: Get data. In the cell below, write code to access the data you will be using in this project. Remember that the dataset needs to be external."
      ],
      "metadata": {}
    },
    {
      "cell_type": "code",
      "source": [
        "ws = Workspace.from_config()\n",
        "\n",
        "# choose a name for experiment\n",
        "experiment_name = 'heart_failure_prediction'\n",
        "\n",
        "print('Workspace name: ' + ws.name, \n",
        "      'Azure region: ' + ws.location, \n",
        "      'Subscription id: ' + ws.subscription_id, \n",
        "      'Resource group: ' + ws.resource_group, sep = '\\n')\n",
        "\n",
        "\n",
        "experiment = Experiment(ws, experiment_name)\n",
        "run = experiment.start_logging()\n",
        "path = \"https://raw.githubusercontent.com/Sara-cos/Heart_Faliure_PredictionModel/main/starter_file/heart_failure_clinical_records_dataset.csv\"\n",
        "dataset = Dataset.Tabular.from_delimited_files(path)"
      ],
      "outputs": [
        {
          "output_type": "stream",
          "name": "stdout",
          "text": [
            "Workspace name: quick-starts-ws-142842\n",
            "Azure region: southcentralus\n",
            "Subscription id: 2c48c51c-bd47-40d4-abbe-fb8eabd19c8c\n",
            "Resource group: aml-quickstarts-142842\n"
          ]
        }
      ],
      "execution_count": 6,
      "metadata": {
        "gather": {
          "logged": 1618573064862
        },
        "jupyter": {
          "outputs_hidden": false,
          "source_hidden": false
        },
        "nteract": {
          "transient": {
            "deleting": false
          }
        }
      }
    },
    {
      "cell_type": "code",
      "source": [
        "cpu_compute_name = \"cpucompute\"\n",
        "\n",
        "try:\n",
        "    cpu_cluster = ComputeTarget(workspace=ws, name= cpu_compute_name)\n",
        "    print('Using existing cluster')\n",
        "except ComputeTargetException:\n",
        "    compute_config = AmlCompute.provisioning_configuration(vm_size='Standard_D2_V2',\n",
        "                                                           max_nodes=4)\n",
        "    cpu_cluster = ComputeTarget.create(ws, cpu_compute_name, compute_config)\n",
        "\n",
        "cpu_cluster.wait_for_completion(show_output=True)"
      ],
      "outputs": [
        {
          "output_type": "stream",
          "name": "stdout",
          "text": [
            "Using existing cluster\n",
            "Succeeded\n",
            "AmlCompute wait for completion finished\n",
            "\n",
            "Minimum number of nodes requested have been provisioned\n"
          ]
        }
      ],
      "execution_count": 7,
      "metadata": {
        "gather": {
          "logged": 1618573073729
        }
      }
    },
    {
      "cell_type": "markdown",
      "source": [
        "## AutoML Configuration\n",
        "\n",
        "TODO: Explain why you chose the automl settings and cofiguration you used below."
      ],
      "metadata": {}
    },
    {
      "cell_type": "code",
      "source": [
        "# TODO: Put your automl settings here\n",
        "automl_settings = {\"experiment_timeout_minutes\": 20,\n",
        "    \"max_concurrent_iterations\": 4,\n",
        "    \"primary_metric\" : 'accuracy'}\n",
        "\n",
        "# TODO: Put your automl config here\n",
        "automl_config = AutoMLConfig(compute_target = cpu_cluster,\n",
        "                             task = \"classification\",\n",
        "                             training_data = dataset,\n",
        "                             label_column_name = \"DEATH_EVENT\",   \n",
        "                             enable_early_stopping = True,\n",
        "                             featurization = 'auto',\n",
        "                             debug_log = \"automl_errors.log\",\n",
        "                             **automl_settings)"
      ],
      "outputs": [],
      "execution_count": 8,
      "metadata": {
        "gather": {
          "logged": 1618573080509
        },
        "jupyter": {
          "outputs_hidden": false,
          "source_hidden": false
        },
        "nteract": {
          "transient": {
            "deleting": false
          }
        }
      }
    },
    {
      "cell_type": "code",
      "source": [
        "# TODO: Submit your experiment\n",
        "remote_run = experiment.submit(automl_config, show_output = True)"
      ],
      "outputs": [
        {
          "output_type": "stream",
          "name": "stdout",
          "text": [
            "Submitting remote run.\n",
            "No run_configuration provided, running on cpucompute with default configuration\n",
            "Running on remote compute: cpucompute\n"
          ]
        },
        {
          "output_type": "display_data",
          "data": {
            "text/plain": "<IPython.core.display.HTML object>",
            "text/html": "<table style=\"width:100%\"><tr><th>Experiment</th><th>Id</th><th>Type</th><th>Status</th><th>Details Page</th><th>Docs Page</th></tr><tr><td>heart_failure_prediction</td><td>AutoML_2585cd63-a50b-46ad-bea9-b2a5134d816f</td><td>automl</td><td>NotStarted</td><td><a href=\"https://ml.azure.com/runs/AutoML_2585cd63-a50b-46ad-bea9-b2a5134d816f?wsid=/subscriptions/2c48c51c-bd47-40d4-abbe-fb8eabd19c8c/resourcegroups/aml-quickstarts-142842/workspaces/quick-starts-ws-142842&amp;tid=660b3398-b80e-49d2-bc5b-ac1dc93b5254\" target=\"_blank\" rel=\"noopener\">Link to Azure Machine Learning studio</a></td><td><a href=\"https://docs.microsoft.com/en-us/python/api/overview/azure/ml/intro?view=azure-ml-py\" target=\"_blank\" rel=\"noopener\">Link to Documentation</a></td></tr></table>"
          },
          "metadata": {}
        },
        {
          "output_type": "stream",
          "name": "stdout",
          "text": [
            "\n",
            "Current status: FeaturesGeneration. Generating features for the dataset.\n",
            "Current status: DatasetCrossValidationSplit. Generating individually featurized CV splits.\n",
            "Current status: ModelSelection. Beginning model selection.\n",
            "\n",
            "****************************************************************************************************\n",
            "DATA GUARDRAILS: \n",
            "\n",
            "TYPE:         Cross validation\n",
            "STATUS:       DONE\n",
            "DESCRIPTION:  Each iteration of the trained model was validated through cross-validation.\n",
            "              \n",
            "DETAILS:      \n",
            "+---------------------------------+\n",
            "|Number of folds                  |\n",
            "+=================================+\n",
            "|10                               |\n",
            "+---------------------------------+\n",
            "\n",
            "****************************************************************************************************\n",
            "\n",
            "TYPE:         Class balancing detection\n",
            "STATUS:       PASSED\n",
            "DESCRIPTION:  Your inputs were analyzed, and all classes are balanced in your training data.\n",
            "              Learn more about imbalanced data: https://aka.ms/AutomatedMLImbalancedData\n",
            "\n",
            "****************************************************************************************************\n",
            "\n",
            "TYPE:         Missing feature values imputation\n",
            "STATUS:       PASSED\n",
            "DESCRIPTION:  No feature missing values were detected in the training data.\n",
            "              Learn more about missing value imputation: https://aka.ms/AutomatedMLFeaturization\n",
            "\n",
            "****************************************************************************************************\n",
            "\n",
            "TYPE:         High cardinality feature detection\n",
            "STATUS:       PASSED\n",
            "DESCRIPTION:  Your inputs were analyzed, and no high cardinality features were detected.\n",
            "              Learn more about high cardinality feature handling: https://aka.ms/AutomatedMLFeaturization\n",
            "\n",
            "****************************************************************************************************\n",
            "\n",
            "****************************************************************************************************\n",
            "ITERATION: The iteration being evaluated.\n",
            "PIPELINE: A summary description of the pipeline being evaluated.\n",
            "DURATION: Time taken for the current iteration.\n",
            "METRIC: The result of computing score on the fitted pipeline.\n",
            "BEST: The best observed score thus far.\n",
            "****************************************************************************************************\n",
            "\n",
            " ITERATION   PIPELINE                                       DURATION      METRIC      BEST\n",
            "         2   MinMaxScaler RandomForest                      0:00:54       0.8261    0.8261\n",
            "         3   MinMaxScaler RandomForest                      0:01:05       0.8225    0.8261\n",
            "         1   MaxAbsScaler XGBoostClassifier                 0:00:49       0.8359    0.8359\n",
            "         0   MaxAbsScaler LightGBM                          0:01:07       0.8360    0.8360\n",
            "         7   SparseNormalizer XGBoostClassifier             0:01:06       0.8328    0.8360\n",
            "         8   MinMaxScaler LogisticRegression                0:01:02       0.8159    0.8360\n",
            "         9   StandardScalerWrapper RandomForest             0:00:52       0.8461    0.8461\n",
            "         4   MinMaxScaler RandomForest                      0:05:28       0.8491    0.8491\n",
            "         5   MinMaxScaler SVM                               0:05:37       0.7192    0.8491\n",
            "         6   MinMaxScaler SVM                               0:05:34       0.7161    0.8491\n",
            "        10   MaxAbsScaler ExtremeRandomTrees                0:01:03       0.8395    0.8491\n",
            "        11   StandardScalerWrapper LightGBM                 0:00:50       0.8325    0.8491\n",
            "        12   MaxAbsScaler GradientBoosting                  0:00:50       0.8460    0.8491\n",
            "        13   SparseNormalizer XGBoostClassifier             0:00:56       0.8261    0.8491\n",
            "        14   SparseNormalizer XGBoostClassifier             0:01:04       0.8362    0.8491\n",
            "        15   MaxAbsScaler LightGBM                          0:00:55       0.7991    0.8491\n",
            "        16   StandardScalerWrapper LightGBM                 0:00:51       0.8226    0.8491\n",
            "        17   StandardScalerWrapper LightGBM                 0:00:58       0.8425    0.8491\n",
            "        18   MinMaxScaler LightGBM                          0:01:03       0.8492    0.8492\n",
            "        19   MinMaxScaler LightGBM                          0:00:45       0.8093    0.8492\n",
            "        20   StandardScalerWrapper LightGBM                 0:00:54       0.8393    0.8492\n",
            "        21   MinMaxScaler LightGBM                          0:00:54       0.8261    0.8492\n",
            "        22   SparseNormalizer XGBoostClassifier             0:00:48       0.8095    0.8492\n",
            "        23   MaxAbsScaler LightGBM                          0:00:57       0.8359    0.8492\n",
            "        24   StandardScalerWrapper ExtremeRandomTrees       0:00:59       0.7929    0.8492\n",
            "        25   StandardScalerWrapper LightGBM                 0:00:56       0.6792    0.8492\n",
            "        26   SparseNormalizer XGBoostClassifier             0:00:57       0.8229    0.8492\n",
            "        27   MaxAbsScaler LightGBM                          0:01:00       0.8528    0.8528\n",
            "        28   RobustScaler LightGBM                          0:00:59       0.8393    0.8528\n",
            "        29   SparseNormalizer ExtremeRandomTrees            0:01:01       0.8059    0.8528\n",
            "        30   RobustScaler LightGBM                          0:00:48       0.6792    0.8528\n",
            "        31   StandardScalerWrapper XGBoostClassifier        0:00:50       0.8293    0.8528\n",
            "        32   RobustScaler RandomForest                      0:00:44       0.8326    0.8528\n",
            "        33   StandardScalerWrapper XGBoostClassifier        0:00:56       0.8192    0.8528\n",
            "        34   SparseNormalizer LightGBM                      0:00:50       0.8429    0.8528\n",
            "        36   StandardScalerWrapper RandomForest             0:01:00       0.8460    0.8528\n",
            "        35   MaxAbsScaler LightGBM                          0:01:03       0.8328    0.8528\n",
            "        37   MaxAbsScaler LightGBM                          0:00:52       0.8426    0.8528\n",
            "        38   SparseNormalizer RandomForest                  0:01:03       0.8329    0.8528\n",
            "        39   MaxAbsScaler LightGBM                          0:01:02       0.8459    0.8528\n",
            "        40   MaxAbsScaler LightGBM                          0:01:02       0.7925    0.8528\n",
            "        41   RobustScaler RandomForest                      0:00:49       0.8328    0.8528\n",
            "        42   MaxAbsScaler LightGBM                          0:00:30       0.8194    0.8528\n",
            "        43                                                  0:00:18          nan    0.8528\n",
            "        44    VotingEnsemble                                0:01:59       0.8729    0.8729\n",
            "        45    StackEnsemble                                 0:02:03       0.8493    0.8729\n"
          ]
        }
      ],
      "execution_count": 9,
      "metadata": {
        "gather": {
          "logged": 1618574982249
        },
        "jupyter": {
          "outputs_hidden": false,
          "source_hidden": false
        },
        "nteract": {
          "transient": {
            "deleting": false
          }
        }
      }
    },
    {
      "cell_type": "markdown",
      "source": [
        "## Run Details\n",
        "\n",
        "OPTIONAL: Write about the different models trained and their performance. Why do you think some models did better than others?\n",
        "\n",
        "TODO: In the cell below, use the `RunDetails` widget to show the different experiments."
      ],
      "metadata": {}
    },
    {
      "cell_type": "code",
      "source": [
        "RunDetails(remote_run).show()\n",
        "remote_run.wait_for_completion(show_output=True)"
      ],
      "outputs": [
        {
          "output_type": "display_data",
          "data": {
            "text/plain": "_AutoMLWidget(widget_settings={'childWidgetDisplay': 'popup', 'send_telemetry': False, 'log_level': 'INFO', 's…",
            "application/vnd.jupyter.widget-view+json": {
              "version_major": 2,
              "version_minor": 0,
              "model_id": "9e61e90e1ad241248475318e48275b43"
            }
          },
          "metadata": {}
        },
        {
          "output_type": "display_data",
          "data": {
            "application/aml.mini.widget.v1": "{\"status\": \"Completed\", \"workbench_run_details_uri\": \"https://ml.azure.com/runs/AutoML_2585cd63-a50b-46ad-bea9-b2a5134d816f?wsid=/subscriptions/2c48c51c-bd47-40d4-abbe-fb8eabd19c8c/resourcegroups/aml-quickstarts-142842/workspaces/quick-starts-ws-142842&tid=660b3398-b80e-49d2-bc5b-ac1dc93b5254\", \"run_id\": \"AutoML_2585cd63-a50b-46ad-bea9-b2a5134d816f\", \"run_properties\": {\"run_id\": \"AutoML_2585cd63-a50b-46ad-bea9-b2a5134d816f\", \"created_utc\": \"2021-04-16T11:38:11.026243Z\", \"properties\": {\"num_iterations\": \"1000\", \"training_type\": \"TrainFull\", \"acquisition_function\": \"EI\", \"primary_metric\": \"accuracy\", \"train_split\": \"0\", \"acquisition_parameter\": \"0\", \"num_cross_validation\": null, \"target\": \"cpucompute\", \"AMLSettingsJsonString\": \"{\\\"path\\\":null,\\\"name\\\":\\\"heart_failure_prediction\\\",\\\"subscription_id\\\":\\\"2c48c51c-bd47-40d4-abbe-fb8eabd19c8c\\\",\\\"resource_group\\\":\\\"aml-quickstarts-142842\\\",\\\"workspace_name\\\":\\\"quick-starts-ws-142842\\\",\\\"region\\\":\\\"southcentralus\\\",\\\"compute_target\\\":\\\"cpucompute\\\",\\\"spark_service\\\":null,\\\"azure_service\\\":\\\"remote\\\",\\\"many_models\\\":false,\\\"pipeline_fetch_max_batch_size\\\":1,\\\"enable_batch_run\\\":false,\\\"enable_run_restructure\\\":false,\\\"iterations\\\":1000,\\\"primary_metric\\\":\\\"accuracy\\\",\\\"task_type\\\":\\\"classification\\\",\\\"data_script\\\":null,\\\"test_size\\\":0.0,\\\"validation_size\\\":0.0,\\\"n_cross_validations\\\":null,\\\"y_min\\\":null,\\\"y_max\\\":null,\\\"num_classes\\\":null,\\\"featurization\\\":\\\"auto\\\",\\\"_ignore_package_version_incompatibilities\\\":false,\\\"is_timeseries\\\":false,\\\"max_cores_per_iteration\\\":1,\\\"max_concurrent_iterations\\\":4,\\\"iteration_timeout_minutes\\\":null,\\\"mem_in_mb\\\":null,\\\"enforce_time_on_windows\\\":false,\\\"experiment_timeout_minutes\\\":20,\\\"experiment_exit_score\\\":null,\\\"whitelist_models\\\":null,\\\"blacklist_algos\\\":[\\\"TensorFlowLinearClassifier\\\",\\\"TensorFlowDNN\\\"],\\\"supported_models\\\":[\\\"LightGBM\\\",\\\"TensorFlowLinearClassifier\\\",\\\"BernoulliNaiveBayes\\\",\\\"KNN\\\",\\\"SGD\\\",\\\"TensorFlowDNN\\\",\\\"DecisionTree\\\",\\\"GradientBoosting\\\",\\\"XGBoostClassifier\\\",\\\"ExtremeRandomTrees\\\",\\\"AveragedPerceptronClassifier\\\",\\\"RandomForest\\\",\\\"SVM\\\",\\\"LinearSVM\\\",\\\"MultinomialNaiveBayes\\\",\\\"LogisticRegression\\\"],\\\"private_models\\\":[],\\\"auto_blacklist\\\":true,\\\"blacklist_samples_reached\\\":false,\\\"exclude_nan_labels\\\":true,\\\"verbosity\\\":20,\\\"_debug_log\\\":\\\"azureml_automl.log\\\",\\\"show_warnings\\\":false,\\\"model_explainability\\\":true,\\\"service_url\\\":null,\\\"sdk_url\\\":null,\\\"sdk_packages\\\":null,\\\"enable_onnx_compatible_models\\\":false,\\\"enable_split_onnx_featurizer_estimator_models\\\":false,\\\"vm_type\\\":\\\"STANDARD_D2_V2\\\",\\\"telemetry_verbosity\\\":20,\\\"send_telemetry\\\":true,\\\"enable_dnn\\\":false,\\\"scenario\\\":\\\"SDK-1.13.0\\\",\\\"environment_label\\\":null,\\\"save_mlflow\\\":false,\\\"force_text_dnn\\\":false,\\\"enable_feature_sweeping\\\":true,\\\"enable_early_stopping\\\":true,\\\"early_stopping_n_iters\\\":10,\\\"metrics\\\":null,\\\"enable_metric_confidence\\\":false,\\\"enable_ensembling\\\":true,\\\"enable_stack_ensembling\\\":true,\\\"ensemble_iterations\\\":15,\\\"enable_tf\\\":false,\\\"enable_subsampling\\\":null,\\\"subsample_seed\\\":null,\\\"enable_nimbusml\\\":false,\\\"enable_streaming\\\":false,\\\"force_streaming\\\":false,\\\"track_child_runs\\\":true,\\\"allowed_private_models\\\":[],\\\"label_column_name\\\":\\\"DEATH_EVENT\\\",\\\"weight_column_name\\\":null,\\\"cv_split_column_names\\\":null,\\\"enable_local_managed\\\":false,\\\"_local_managed_run_id\\\":null,\\\"cost_mode\\\":1,\\\"lag_length\\\":0,\\\"metric_operation\\\":\\\"maximize\\\",\\\"preprocess\\\":true}\", \"DataPrepJsonString\": \"{\\\\\\\"training_data\\\\\\\": {\\\\\\\"datasetId\\\\\\\": \\\\\\\"5688a707-a901-4509-b755-fe8d01bab081\\\\\\\"}, \\\\\\\"datasets\\\\\\\": 0}\", \"EnableSubsampling\": null, \"runTemplate\": \"AutoML\", \"azureml.runsource\": \"automl\", \"display_task_type\": \"classification\", \"dependencies_versions\": \"{\\\"azureml-widgets\\\": \\\"1.26.0\\\", \\\"azureml-train\\\": \\\"1.26.0\\\", \\\"azureml-train-restclients-hyperdrive\\\": \\\"1.26.0\\\", \\\"azureml-train-core\\\": \\\"1.26.0\\\", \\\"azureml-train-automl\\\": \\\"1.26.0\\\", \\\"azureml-train-automl-runtime\\\": \\\"1.26.0\\\", \\\"azureml-train-automl-client\\\": \\\"1.26.0\\\", \\\"azureml-tensorboard\\\": \\\"1.26.0\\\", \\\"azureml-telemetry\\\": \\\"1.26.0\\\", \\\"azureml-sdk\\\": \\\"1.26.0\\\", \\\"azureml-samples\\\": \\\"0+unknown\\\", \\\"azureml-pipeline\\\": \\\"1.26.0\\\", \\\"azureml-pipeline-steps\\\": \\\"1.26.0\\\", \\\"azureml-pipeline-core\\\": \\\"1.26.0\\\", \\\"azureml-opendatasets\\\": \\\"1.26.0\\\", \\\"azureml-model-management-sdk\\\": \\\"1.0.1b6.post1\\\", \\\"azureml-mlflow\\\": \\\"1.26.0\\\", \\\"azureml-interpret\\\": \\\"1.26.0\\\", \\\"azureml-explain-model\\\": \\\"1.26.0\\\", \\\"azureml-defaults\\\": \\\"1.26.0\\\", \\\"azureml-dataset-runtime\\\": \\\"1.26.0\\\", \\\"azureml-dataprep\\\": \\\"2.13.2\\\", \\\"azureml-dataprep-rslex\\\": \\\"1.11.2\\\", \\\"azureml-dataprep-native\\\": \\\"32.0.0\\\", \\\"azureml-datadrift\\\": \\\"1.26.0\\\", \\\"azureml-core\\\": \\\"1.26.0\\\", \\\"azureml-contrib-services\\\": \\\"1.26.0\\\", \\\"azureml-contrib-server\\\": \\\"1.26.0\\\", \\\"azureml-contrib-reinforcementlearning\\\": \\\"1.26.0\\\", \\\"azureml-contrib-pipeline-steps\\\": \\\"1.26.0\\\", \\\"azureml-contrib-notebook\\\": \\\"1.26.0\\\", \\\"azureml-contrib-gbdt\\\": \\\"1.26.0\\\", \\\"azureml-contrib-fairness\\\": \\\"1.26.0\\\", \\\"azureml-contrib-dataset\\\": \\\"1.26.0\\\", \\\"azureml-cli-common\\\": \\\"1.26.0\\\", \\\"azureml-automl-runtime\\\": \\\"1.26.0\\\", \\\"azureml-automl-dnn-nlp\\\": \\\"1.26.0\\\", \\\"azureml-automl-core\\\": \\\"1.26.0\\\", \\\"azureml-accel-models\\\": \\\"1.26.0\\\"}\", \"_aml_system_scenario_identification\": \"Remote.Parent\", \"ClientType\": \"SDK\", \"environment_cpu_name\": \"AzureML-AutoML\", \"environment_cpu_label\": \"prod\", \"environment_gpu_name\": \"AzureML-AutoML-GPU\", \"environment_gpu_label\": \"prod\", \"root_attribution\": \"automl\", \"attribution\": \"AutoML\", \"Orchestrator\": \"AutoML\", \"CancelUri\": \"https://southcentralus.experiments.azureml.net/jasmine/v1.0/subscriptions/2c48c51c-bd47-40d4-abbe-fb8eabd19c8c/resourceGroups/aml-quickstarts-142842/providers/Microsoft.MachineLearningServices/workspaces/quick-starts-ws-142842/experimentids/7866e670-aae3-44af-a81f-903c82238f42/cancel/AutoML_2585cd63-a50b-46ad-bea9-b2a5134d816f\", \"ClientSdkVersion\": \"1.25.0\", \"snapshotId\": \"00000000-0000-0000-0000-000000000000\", \"SetupRunId\": \"AutoML_2585cd63-a50b-46ad-bea9-b2a5134d816f_setup\", \"SetupRunContainerId\": \"dcid.AutoML_2585cd63-a50b-46ad-bea9-b2a5134d816f_setup\", \"FeaturizationRunJsonPath\": \"featurizer_container.json\", \"FeaturizationRunId\": \"AutoML_2585cd63-a50b-46ad-bea9-b2a5134d816f_featurize\", \"ProblemInfoJsonString\": \"{\\\"dataset_num_categorical\\\": 0, \\\"is_sparse\\\": false, \\\"subsampling\\\": false, \\\"dataset_classes\\\": 2, \\\"dataset_features\\\": 12, \\\"dataset_samples\\\": 299, \\\"single_frequency_class_detected\\\": false}\", \"ModelExplainRunId\": \"AutoML_2585cd63-a50b-46ad-bea9-b2a5134d816f_ModelExplain\"}, \"tags\": {\"model_explain_run\": \"best_run\", \"_aml_system_azureml.automlComponent\": \"AutoML\", \"pipeline_id\": \"\", \"score\": \"\", \"predicted_cost\": \"\", \"fit_time\": \"\", \"training_percent\": \"\", \"iteration\": \"\", \"run_preprocessor\": \"\", \"run_algorithm\": \"\", \"dynamic_whitelisting_iterations\": \"<25>;<30>;<35>;<40>;\", \"automl_best_child_run_id\": \"AutoML_2585cd63-a50b-46ad-bea9-b2a5134d816f_44\", \"model_explain_best_run_child_id\": \"AutoML_2585cd63-a50b-46ad-bea9-b2a5134d816f_44\"}, \"end_time_utc\": \"2021-04-16T12:09:15.652857Z\", \"status\": \"Completed\", \"log_files\": {}, \"log_groups\": [], \"run_duration\": \"0:31:04\", \"run_number\": \"2\", \"run_queued_details\": {\"status\": \"Completed\", \"details\": null}}, \"child_runs\": [{\"run_id\": \"AutoML_2585cd63-a50b-46ad-bea9-b2a5134d816f_3\", \"run_number\": 6, \"metric\": null, \"status\": \"Completed\", \"run_type\": \"azureml.scriptrun\", \"training_percent\": \"100\", \"start_time\": \"2021-04-16T11:48:37.750393Z\", \"end_time\": \"2021-04-16T11:49:42.802973Z\", \"created_time\": \"2021-04-16T11:47:14.614649Z\", \"created_time_dt\": \"2021-04-16T11:47:14.614649Z\", \"duration\": \"0:02:28\", \"iteration\": \"3\", \"goal\": \"accuracy_max\", \"run_name\": \"MinMaxScaler, RandomForest\", \"run_properties\": \"copy=True, feature_range=(0, 1\", \"primary_metric\": 0.82252874, \"best_metric\": 0.83597701}, {\"run_id\": \"AutoML_2585cd63-a50b-46ad-bea9-b2a5134d816f_0\", \"run_number\": 7, \"metric\": null, \"status\": \"Completed\", \"run_type\": \"azureml.scriptrun\", \"training_percent\": \"100\", \"start_time\": \"2021-04-16T11:51:01.556816Z\", \"end_time\": \"2021-04-16T11:52:08.429966Z\", \"created_time\": \"2021-04-16T11:47:14.649298Z\", \"created_time_dt\": \"2021-04-16T11:47:14.649298Z\", \"duration\": \"0:04:53\", \"iteration\": \"0\", \"goal\": \"accuracy_max\", \"run_name\": \"MaxAbsScaler, LightGBM\", \"run_properties\": \"copy=True\", \"primary_metric\": 0.83597701, \"best_metric\": 0.83597701}, {\"run_id\": \"AutoML_2585cd63-a50b-46ad-bea9-b2a5134d816f_1\", \"run_number\": 8, \"metric\": null, \"status\": \"Completed\", \"run_type\": \"azureml.scriptrun\", \"training_percent\": \"100\", \"start_time\": \"2021-04-16T11:49:58.756334Z\", \"end_time\": \"2021-04-16T11:50:48.221252Z\", \"created_time\": \"2021-04-16T11:47:14.739039Z\", \"created_time_dt\": \"2021-04-16T11:47:14.739039Z\", \"duration\": \"0:03:33\", \"iteration\": \"1\", \"goal\": \"accuracy_max\", \"run_name\": \"MaxAbsScaler, XGBoostClassifier\", \"run_properties\": \"copy=True\", \"primary_metric\": 0.83586207, \"best_metric\": 0.83597701}, {\"run_id\": \"AutoML_2585cd63-a50b-46ad-bea9-b2a5134d816f_2\", \"run_number\": 9, \"metric\": null, \"status\": \"Completed\", \"run_type\": \"azureml.scriptrun\", \"training_percent\": \"100\", \"start_time\": \"2021-04-16T11:47:30.610894Z\", \"end_time\": \"2021-04-16T11:48:24.230678Z\", \"created_time\": \"2021-04-16T11:47:14.78633Z\", \"created_time_dt\": \"2021-04-16T11:47:14.78633Z\", \"duration\": \"0:01:09\", \"iteration\": \"2\", \"goal\": \"accuracy_max\", \"run_name\": \"MinMaxScaler, RandomForest\", \"run_properties\": \"copy=True, feature_range=(0, 1\", \"primary_metric\": 0.82609195, \"best_metric\": 0.83597701}, {\"run_id\": \"AutoML_2585cd63-a50b-46ad-bea9-b2a5134d816f_4\", \"run_number\": 10, \"metric\": null, \"status\": \"Completed\", \"run_type\": \"azureml.scriptrun\", \"training_percent\": \"100\", \"start_time\": \"2021-04-16T11:51:14.418682Z\", \"end_time\": \"2021-04-16T11:56:42.200518Z\", \"created_time\": \"2021-04-16T11:48:29.160823Z\", \"created_time_dt\": \"2021-04-16T11:48:29.160823Z\", \"duration\": \"0:08:13\", \"iteration\": \"4\", \"goal\": \"accuracy_max\", \"run_name\": \"MinMaxScaler, RandomForest\", \"run_properties\": \"copy=True, feature_range=(0, 1\", \"primary_metric\": 0.84908046, \"best_metric\": 0.84908046}, {\"run_id\": \"AutoML_2585cd63-a50b-46ad-bea9-b2a5134d816f_5\", \"run_number\": 11, \"metric\": null, \"status\": \"Completed\", \"run_type\": \"azureml.scriptrun\", \"training_percent\": \"100\", \"start_time\": \"2021-04-16T11:51:16.757867Z\", \"end_time\": \"2021-04-16T11:56:53.288012Z\", \"created_time\": \"2021-04-16T11:49:47.6136Z\", \"created_time_dt\": \"2021-04-16T11:49:47.6136Z\", \"duration\": \"0:07:05\", \"iteration\": \"5\", \"goal\": \"accuracy_max\", \"run_name\": \"MinMaxScaler, SVM\", \"run_properties\": \"copy=True, feature_range=(0, 1\", \"primary_metric\": 0.7191954, \"best_metric\": 0.84908046}, {\"run_id\": \"AutoML_2585cd63-a50b-46ad-bea9-b2a5134d816f_6\", \"run_number\": 12, \"metric\": null, \"status\": \"Completed\", \"run_type\": \"azureml.scriptrun\", \"training_percent\": \"100\", \"start_time\": \"2021-04-16T11:51:21.624308Z\", \"end_time\": \"2021-04-16T11:56:56.081888Z\", \"created_time\": \"2021-04-16T11:50:51.60511Z\", \"created_time_dt\": \"2021-04-16T11:50:51.60511Z\", \"duration\": \"0:06:04\", \"iteration\": \"6\", \"goal\": \"accuracy_max\", \"run_name\": \"MinMaxScaler, SVM\", \"run_properties\": \"copy=True, feature_range=(0, 1\", \"primary_metric\": 0.71609195, \"best_metric\": 0.84908046}, {\"run_id\": \"AutoML_2585cd63-a50b-46ad-bea9-b2a5134d816f_7\", \"run_number\": 13, \"metric\": null, \"status\": \"Completed\", \"run_type\": \"azureml.scriptrun\", \"training_percent\": \"100\", \"start_time\": \"2021-04-16T11:52:27.018732Z\", \"end_time\": \"2021-04-16T11:53:33.050337Z\", \"created_time\": \"2021-04-16T11:52:13.193837Z\", \"created_time_dt\": \"2021-04-16T11:52:13.193837Z\", \"duration\": \"0:01:19\", \"iteration\": \"7\", \"goal\": \"accuracy_max\", \"run_name\": \"SparseNormalizer, XGBoostClassifier\", \"run_properties\": \"<azureml.automl.runtime.shared.model_wrappers.SparseNormalizer object at 0x7f4934351470\", \"primary_metric\": 0.83275862, \"best_metric\": 0.84908046}, {\"run_id\": \"AutoML_2585cd63-a50b-46ad-bea9-b2a5134d816f_8\", \"run_number\": 14, \"metric\": null, \"status\": \"Completed\", \"run_type\": \"azureml.scriptrun\", \"training_percent\": \"100\", \"start_time\": \"2021-04-16T11:53:49.922368Z\", \"end_time\": \"2021-04-16T11:54:52.365498Z\", \"created_time\": \"2021-04-16T11:53:37.186051Z\", \"created_time_dt\": \"2021-04-16T11:53:37.186051Z\", \"duration\": \"0:01:15\", \"iteration\": \"8\", \"goal\": \"accuracy_max\", \"run_name\": \"MinMaxScaler, LogisticRegression\", \"run_properties\": \"copy=True, feature_range=(0, 1\", \"primary_metric\": 0.81586207, \"best_metric\": 0.84908046}, {\"run_id\": \"AutoML_2585cd63-a50b-46ad-bea9-b2a5134d816f_9\", \"run_number\": 15, \"metric\": null, \"status\": \"Completed\", \"run_type\": \"azureml.scriptrun\", \"training_percent\": \"100\", \"start_time\": \"2021-04-16T11:55:10.770638Z\", \"end_time\": \"2021-04-16T11:56:03.249247Z\", \"created_time\": \"2021-04-16T11:54:57.496416Z\", \"created_time_dt\": \"2021-04-16T11:54:57.496416Z\", \"duration\": \"0:01:05\", \"iteration\": \"9\", \"goal\": \"accuracy_max\", \"run_name\": \"StandardScalerWrapper, RandomForest\", \"run_properties\": \"<azureml.automl.runtime.shared.model_wrappers.StandardScalerWrapper object at 0x7f54ef37bc18\", \"primary_metric\": 0.84609195, \"best_metric\": 0.84908046}, {\"run_id\": \"AutoML_2585cd63-a50b-46ad-bea9-b2a5134d816f_10\", \"run_number\": 16, \"metric\": null, \"status\": \"Completed\", \"run_type\": \"azureml.scriptrun\", \"training_percent\": \"100\", \"start_time\": \"2021-04-16T11:56:20.493115Z\", \"end_time\": \"2021-04-16T11:57:23.77404Z\", \"created_time\": \"2021-04-16T11:56:05.715404Z\", \"created_time_dt\": \"2021-04-16T11:56:05.715404Z\", \"duration\": \"0:01:18\", \"iteration\": \"10\", \"goal\": \"accuracy_max\", \"run_name\": \"MaxAbsScaler, ExtremeRandomTrees\", \"run_properties\": \"copy=True\", \"primary_metric\": 0.83954023, \"best_metric\": 0.84908046}, {\"run_id\": \"AutoML_2585cd63-a50b-46ad-bea9-b2a5134d816f_11\", \"run_number\": 17, \"metric\": null, \"status\": \"Completed\", \"run_type\": \"azureml.scriptrun\", \"training_percent\": \"100\", \"start_time\": \"2021-04-16T11:56:56.749815Z\", \"end_time\": \"2021-04-16T11:57:46.618649Z\", \"created_time\": \"2021-04-16T11:56:43.9914Z\", \"created_time_dt\": \"2021-04-16T11:56:43.9914Z\", \"duration\": \"0:01:02\", \"iteration\": \"11\", \"goal\": \"accuracy_max\", \"run_name\": \"StandardScalerWrapper, LightGBM\", \"run_properties\": \"<azureml.automl.runtime.shared.model_wrappers.StandardScalerWrapper object at 0x7f4654922668\", \"primary_metric\": 0.83252874, \"best_metric\": 0.84908046}, {\"run_id\": \"AutoML_2585cd63-a50b-46ad-bea9-b2a5134d816f_12\", \"run_number\": 18, \"metric\": null, \"status\": \"Completed\", \"run_type\": \"azureml.scriptrun\", \"training_percent\": \"100\", \"start_time\": \"2021-04-16T11:57:08.037551Z\", \"end_time\": \"2021-04-16T11:57:57.812921Z\", \"created_time\": \"2021-04-16T11:56:55.481063Z\", \"created_time_dt\": \"2021-04-16T11:56:55.481063Z\", \"duration\": \"0:01:02\", \"iteration\": \"12\", \"goal\": \"accuracy_max\", \"run_name\": \"MaxAbsScaler, GradientBoosting\", \"run_properties\": \"copy=True\", \"primary_metric\": 0.84597701, \"best_metric\": 0.84908046}, {\"run_id\": \"AutoML_2585cd63-a50b-46ad-bea9-b2a5134d816f_13\", \"run_number\": 19, \"metric\": null, \"status\": \"Completed\", \"run_type\": \"azureml.scriptrun\", \"training_percent\": \"100\", \"start_time\": \"2021-04-16T11:57:13.047945Z\", \"end_time\": \"2021-04-16T11:58:09.02667Z\", \"created_time\": \"2021-04-16T11:57:00.970371Z\", \"created_time_dt\": \"2021-04-16T11:57:00.970371Z\", \"duration\": \"0:01:08\", \"iteration\": \"13\", \"goal\": \"accuracy_max\", \"run_name\": \"SparseNormalizer, XGBoostClassifier\", \"run_properties\": \"<azureml.automl.runtime.shared.model_wrappers.SparseNormalizer object at 0x7f7b57ea6390\", \"primary_metric\": 0.82609195, \"best_metric\": 0.84908046}, {\"run_id\": \"AutoML_2585cd63-a50b-46ad-bea9-b2a5134d816f_14\", \"run_number\": 20, \"metric\": null, \"status\": \"Completed\", \"run_type\": \"azureml.scriptrun\", \"training_percent\": \"100\", \"start_time\": \"2021-04-16T11:57:39.230798Z\", \"end_time\": \"2021-04-16T11:58:42.929833Z\", \"created_time\": \"2021-04-16T11:57:27.76613Z\", \"created_time_dt\": \"2021-04-16T11:57:27.76613Z\", \"duration\": \"0:01:15\", \"iteration\": \"14\", \"goal\": \"accuracy_max\", \"run_name\": \"SparseNormalizer, XGBoostClassifier\", \"run_properties\": \"<azureml.automl.runtime.shared.model_wrappers.SparseNormalizer object at 0x7f0756e68fd0\", \"primary_metric\": 0.8362069, \"best_metric\": 0.84908046}, {\"run_id\": \"AutoML_2585cd63-a50b-46ad-bea9-b2a5134d816f_15\", \"run_number\": 21, \"metric\": null, \"status\": \"Completed\", \"run_type\": \"azureml.scriptrun\", \"training_percent\": \"100\", \"start_time\": \"2021-04-16T11:58:03.466393Z\", \"end_time\": \"2021-04-16T11:58:58.873866Z\", \"created_time\": \"2021-04-16T11:57:50.105161Z\", \"created_time_dt\": \"2021-04-16T11:57:50.105161Z\", \"duration\": \"0:01:08\", \"iteration\": \"15\", \"goal\": \"accuracy_max\", \"run_name\": \"MaxAbsScaler, LightGBM\", \"run_properties\": \"copy=True\", \"primary_metric\": 0.79908046, \"best_metric\": 0.84908046}, {\"run_id\": \"AutoML_2585cd63-a50b-46ad-bea9-b2a5134d816f_16\", \"run_number\": 22, \"metric\": null, \"status\": \"Completed\", \"run_type\": \"azureml.scriptrun\", \"training_percent\": \"100\", \"start_time\": \"2021-04-16T11:58:16.822192Z\", \"end_time\": \"2021-04-16T11:59:08.198274Z\", \"created_time\": \"2021-04-16T11:58:00.182889Z\", \"created_time_dt\": \"2021-04-16T11:58:00.182889Z\", \"duration\": \"0:01:08\", \"iteration\": \"16\", \"goal\": \"accuracy_max\", \"run_name\": \"StandardScalerWrapper, LightGBM\", \"run_properties\": \"<azureml.automl.runtime.shared.model_wrappers.StandardScalerWrapper object at 0x7f074c183278\", \"primary_metric\": 0.82264368, \"best_metric\": 0.84908046}, {\"run_id\": \"AutoML_2585cd63-a50b-46ad-bea9-b2a5134d816f_17\", \"run_number\": 23, \"metric\": null, \"status\": \"Completed\", \"run_type\": \"azureml.scriptrun\", \"training_percent\": \"100\", \"start_time\": \"2021-04-16T11:58:26.231212Z\", \"end_time\": \"2021-04-16T11:59:23.786115Z\", \"created_time\": \"2021-04-16T11:58:11.181231Z\", \"created_time_dt\": \"2021-04-16T11:58:11.181231Z\", \"duration\": \"0:01:12\", \"iteration\": \"17\", \"goal\": \"accuracy_max\", \"run_name\": \"StandardScalerWrapper, LightGBM\", \"run_properties\": \"<azureml.automl.runtime.shared.model_wrappers.StandardScalerWrapper object at 0x7fbefd02aa90\", \"primary_metric\": 0.84252874, \"best_metric\": 0.84908046}, {\"run_id\": \"AutoML_2585cd63-a50b-46ad-bea9-b2a5134d816f_18\", \"run_number\": 24, \"metric\": null, \"status\": \"Completed\", \"run_type\": \"azureml.scriptrun\", \"training_percent\": \"100\", \"start_time\": \"2021-04-16T11:58:59.424663Z\", \"end_time\": \"2021-04-16T12:00:02.3428Z\", \"created_time\": \"2021-04-16T11:58:46.863314Z\", \"created_time_dt\": \"2021-04-16T11:58:46.863314Z\", \"duration\": \"0:01:15\", \"iteration\": \"18\", \"goal\": \"accuracy_max\", \"run_name\": \"MinMaxScaler, LightGBM\", \"run_properties\": \"copy=True, feature_range=(0, 1\", \"primary_metric\": 0.8491954, \"best_metric\": 0.8491954}, {\"run_id\": \"AutoML_2585cd63-a50b-46ad-bea9-b2a5134d816f_19\", \"run_number\": 25, \"metric\": null, \"status\": \"Completed\", \"run_type\": \"azureml.scriptrun\", \"training_percent\": \"100\", \"start_time\": \"2021-04-16T11:59:16.081928Z\", \"end_time\": \"2021-04-16T12:00:00.83589Z\", \"created_time\": \"2021-04-16T11:59:02.272974Z\", \"created_time_dt\": \"2021-04-16T11:59:02.272974Z\", \"duration\": \"0:00:58\", \"iteration\": \"19\", \"goal\": \"accuracy_max\", \"run_name\": \"MinMaxScaler, LightGBM\", \"run_properties\": \"copy=True, feature_range=(0, 1\", \"primary_metric\": 0.80931034, \"best_metric\": 0.8491954}, {\"run_id\": \"AutoML_2585cd63-a50b-46ad-bea9-b2a5134d816f_20\", \"run_number\": 26, \"metric\": null, \"status\": \"Completed\", \"run_type\": \"azureml.scriptrun\", \"training_percent\": \"100\", \"start_time\": \"2021-04-16T11:59:25.026924Z\", \"end_time\": \"2021-04-16T12:00:18.569669Z\", \"created_time\": \"2021-04-16T11:59:11.709755Z\", \"created_time_dt\": \"2021-04-16T11:59:11.709755Z\", \"duration\": \"0:01:06\", \"iteration\": \"20\", \"goal\": \"accuracy_max\", \"run_name\": \"StandardScalerWrapper, LightGBM\", \"run_properties\": \"<azureml.automl.runtime.shared.model_wrappers.StandardScalerWrapper object at 0x7f1a8cf1f2b0\", \"primary_metric\": 0.83931034, \"best_metric\": 0.8491954}, {\"run_id\": \"AutoML_2585cd63-a50b-46ad-bea9-b2a5134d816f_21\", \"run_number\": 27, \"metric\": null, \"status\": \"Completed\", \"run_type\": \"azureml.scriptrun\", \"training_percent\": \"100\", \"start_time\": \"2021-04-16T11:59:40.519686Z\", \"end_time\": \"2021-04-16T12:00:34.431254Z\", \"created_time\": \"2021-04-16T11:59:26.836355Z\", \"created_time_dt\": \"2021-04-16T11:59:26.836355Z\", \"duration\": \"0:01:07\", \"iteration\": \"21\", \"goal\": \"accuracy_max\", \"run_name\": \"MinMaxScaler, LightGBM\", \"run_properties\": \"copy=True, feature_range=(0, 1\", \"primary_metric\": 0.82609195, \"best_metric\": 0.8491954}, {\"run_id\": \"AutoML_2585cd63-a50b-46ad-bea9-b2a5134d816f_22\", \"run_number\": 28, \"metric\": null, \"status\": \"Completed\", \"run_type\": \"azureml.scriptrun\", \"training_percent\": \"100\", \"start_time\": \"2021-04-16T12:00:20.142264Z\", \"end_time\": \"2021-04-16T12:01:07.741116Z\", \"created_time\": \"2021-04-16T12:00:06.629895Z\", \"created_time_dt\": \"2021-04-16T12:00:06.629895Z\", \"duration\": \"0:01:01\", \"iteration\": \"22\", \"goal\": \"accuracy_max\", \"run_name\": \"SparseNormalizer, XGBoostClassifier\", \"run_properties\": \"<azureml.automl.runtime.shared.model_wrappers.SparseNormalizer object at 0x7f0a26e860f0\", \"primary_metric\": 0.80954023, \"best_metric\": 0.8491954}, {\"run_id\": \"AutoML_2585cd63-a50b-46ad-bea9-b2a5134d816f_23\", \"run_number\": 29, \"metric\": null, \"status\": \"Completed\", \"run_type\": \"azureml.scriptrun\", \"training_percent\": \"100\", \"start_time\": \"2021-04-16T12:00:28.569972Z\", \"end_time\": \"2021-04-16T12:01:25.379422Z\", \"created_time\": \"2021-04-16T12:00:13.620737Z\", \"created_time_dt\": \"2021-04-16T12:00:13.620737Z\", \"duration\": \"0:01:11\", \"iteration\": \"23\", \"goal\": \"accuracy_max\", \"run_name\": \"MaxAbsScaler, LightGBM\", \"run_properties\": \"copy=True\", \"primary_metric\": 0.83586207, \"best_metric\": 0.8491954}, {\"run_id\": \"AutoML_2585cd63-a50b-46ad-bea9-b2a5134d816f_24\", \"run_number\": 30, \"metric\": null, \"status\": \"Completed\", \"run_type\": \"azureml.scriptrun\", \"training_percent\": \"100\", \"start_time\": \"2021-04-16T12:00:36.004895Z\", \"end_time\": \"2021-04-16T12:01:35.363933Z\", \"created_time\": \"2021-04-16T12:00:22.567169Z\", \"created_time_dt\": \"2021-04-16T12:00:22.567169Z\", \"duration\": \"0:01:12\", \"iteration\": \"24\", \"goal\": \"accuracy_max\", \"run_name\": \"StandardScalerWrapper, ExtremeRandomTrees\", \"run_properties\": \"<azureml.automl.runtime.shared.model_wrappers.StandardScalerWrapper object at 0x7f4ef9ba4cf8\", \"primary_metric\": 0.79287356, \"best_metric\": 0.8491954}, {\"run_id\": \"AutoML_2585cd63-a50b-46ad-bea9-b2a5134d816f_25\", \"run_number\": 31, \"metric\": null, \"status\": \"Completed\", \"run_type\": \"azureml.scriptrun\", \"training_percent\": \"100\", \"start_time\": \"2021-04-16T12:00:52.099149Z\", \"end_time\": \"2021-04-16T12:01:47.720559Z\", \"created_time\": \"2021-04-16T12:00:39.050923Z\", \"created_time_dt\": \"2021-04-16T12:00:39.050923Z\", \"duration\": \"0:01:08\", \"iteration\": \"25\", \"goal\": \"accuracy_max\", \"run_name\": \"StandardScalerWrapper, LightGBM\", \"run_properties\": \"<azureml.automl.runtime.shared.model_wrappers.StandardScalerWrapper object at 0x7fbb9f143eb8\", \"primary_metric\": 0.6791954, \"best_metric\": 0.8491954}, {\"run_id\": \"AutoML_2585cd63-a50b-46ad-bea9-b2a5134d816f_26\", \"run_number\": 32, \"metric\": null, \"status\": \"Completed\", \"run_type\": \"azureml.scriptrun\", \"training_percent\": \"100\", \"start_time\": \"2021-04-16T12:01:25.345534Z\", \"end_time\": \"2021-04-16T12:02:22.614088Z\", \"created_time\": \"2021-04-16T12:01:09.98261Z\", \"created_time_dt\": \"2021-04-16T12:01:09.98261Z\", \"duration\": \"0:01:12\", \"iteration\": \"26\", \"goal\": \"accuracy_max\", \"run_name\": \"SparseNormalizer, XGBoostClassifier\", \"run_properties\": \"<azureml.automl.runtime.shared.model_wrappers.SparseNormalizer object at 0x7f58cb76eb00\", \"primary_metric\": 0.82287356, \"best_metric\": 0.8491954}, {\"run_id\": \"AutoML_2585cd63-a50b-46ad-bea9-b2a5134d816f_27\", \"run_number\": 33, \"metric\": null, \"status\": \"Completed\", \"run_type\": \"azureml.scriptrun\", \"training_percent\": \"100\", \"start_time\": \"2021-04-16T12:01:43.294771Z\", \"end_time\": \"2021-04-16T12:02:43.465216Z\", \"created_time\": \"2021-04-16T12:01:28.598483Z\", \"created_time_dt\": \"2021-04-16T12:01:28.598483Z\", \"duration\": \"0:01:14\", \"iteration\": \"27\", \"goal\": \"accuracy_max\", \"run_name\": \"MaxAbsScaler, LightGBM\", \"run_properties\": \"copy=True\", \"primary_metric\": 0.85275862, \"best_metric\": 0.85275862}, {\"run_id\": \"AutoML_2585cd63-a50b-46ad-bea9-b2a5134d816f_28\", \"run_number\": 34, \"metric\": null, \"status\": \"Completed\", \"run_type\": \"azureml.scriptrun\", \"training_percent\": \"100\", \"start_time\": \"2021-04-16T12:01:51.357447Z\", \"end_time\": \"2021-04-16T12:02:50.444124Z\", \"created_time\": \"2021-04-16T12:01:39.57646Z\", \"created_time_dt\": \"2021-04-16T12:01:39.57646Z\", \"duration\": \"0:01:10\", \"iteration\": \"28\", \"goal\": \"accuracy_max\", \"run_name\": \"RobustScaler, LightGBM\", \"run_properties\": \"copy=True, quantile_range=[10, 90], with_centering=True,\\n             with_scaling=False\", \"primary_metric\": 0.83931034, \"best_metric\": 0.85275862}, {\"run_id\": \"AutoML_2585cd63-a50b-46ad-bea9-b2a5134d816f_29\", \"run_number\": 35, \"metric\": null, \"status\": \"Completed\", \"run_type\": \"azureml.scriptrun\", \"training_percent\": \"100\", \"start_time\": \"2021-04-16T12:02:04.957593Z\", \"end_time\": \"2021-04-16T12:03:05.844317Z\", \"created_time\": \"2021-04-16T12:01:49.955297Z\", \"created_time_dt\": \"2021-04-16T12:01:49.955297Z\", \"duration\": \"0:01:15\", \"iteration\": \"29\", \"goal\": \"accuracy_max\", \"run_name\": \"SparseNormalizer, ExtremeRandomTrees\", \"run_properties\": \"<azureml.automl.runtime.shared.model_wrappers.SparseNormalizer object at 0x7f94cd785e80\", \"primary_metric\": 0.80586207, \"best_metric\": 0.85275862}, {\"run_id\": \"AutoML_2585cd63-a50b-46ad-bea9-b2a5134d816f_30\", \"run_number\": 36, \"metric\": null, \"status\": \"Completed\", \"run_type\": \"azureml.scriptrun\", \"training_percent\": \"100\", \"start_time\": \"2021-04-16T12:02:41.079741Z\", \"end_time\": \"2021-04-16T12:03:29.088714Z\", \"created_time\": \"2021-04-16T12:02:27.208562Z\", \"created_time_dt\": \"2021-04-16T12:02:27.208562Z\", \"duration\": \"0:01:01\", \"iteration\": \"30\", \"goal\": \"accuracy_max\", \"run_name\": \"RobustScaler, LightGBM\", \"run_properties\": \"copy=True, quantile_range=[10, 90], with_centering=True,\\n             with_scaling=True\", \"primary_metric\": 0.6791954, \"best_metric\": 0.85275862}, {\"run_id\": \"AutoML_2585cd63-a50b-46ad-bea9-b2a5134d816f_31\", \"run_number\": 37, \"metric\": null, \"status\": \"Completed\", \"run_type\": \"azureml.scriptrun\", \"training_percent\": \"100\", \"start_time\": \"2021-04-16T12:03:02.375476Z\", \"end_time\": \"2021-04-16T12:03:52.431101Z\", \"created_time\": \"2021-04-16T12:02:48.431159Z\", \"created_time_dt\": \"2021-04-16T12:02:48.431159Z\", \"duration\": \"0:01:03\", \"iteration\": \"31\", \"goal\": \"accuracy_max\", \"run_name\": \"StandardScalerWrapper, XGBoostClassifier\", \"run_properties\": \"<azureml.automl.runtime.shared.model_wrappers.StandardScalerWrapper object at 0x7f3f74e48ba8\", \"primary_metric\": 0.82931034, \"best_metric\": 0.85275862}, {\"run_id\": \"AutoML_2585cd63-a50b-46ad-bea9-b2a5134d816f_32\", \"run_number\": 38, \"metric\": null, \"status\": \"Completed\", \"run_type\": \"azureml.scriptrun\", \"training_percent\": \"100\", \"start_time\": \"2021-04-16T12:03:08.728968Z\", \"end_time\": \"2021-04-16T12:03:52.787828Z\", \"created_time\": \"2021-04-16T12:02:55.840256Z\", \"created_time_dt\": \"2021-04-16T12:02:55.840256Z\", \"duration\": \"0:00:56\", \"iteration\": \"32\", \"goal\": \"accuracy_max\", \"run_name\": \"RobustScaler, RandomForest\", \"run_properties\": \"copy=True, quantile_range=[10, 90], with_centering=True,\\n             with_scaling=True\", \"primary_metric\": 0.83264368, \"best_metric\": 0.85275862}, {\"run_id\": \"AutoML_2585cd63-a50b-46ad-bea9-b2a5134d816f_33\", \"run_number\": 39, \"metric\": null, \"status\": \"Completed\", \"run_type\": \"azureml.scriptrun\", \"training_percent\": \"100\", \"start_time\": \"2021-04-16T12:03:22.76882Z\", \"end_time\": \"2021-04-16T12:04:18.818616Z\", \"created_time\": \"2021-04-16T12:03:08.127791Z\", \"created_time_dt\": \"2021-04-16T12:03:08.127791Z\", \"duration\": \"0:01:10\", \"iteration\": \"33\", \"goal\": \"accuracy_max\", \"run_name\": \"StandardScalerWrapper, XGBoostClassifier\", \"run_properties\": \"<azureml.automl.runtime.shared.model_wrappers.StandardScalerWrapper object at 0x7fab11bafef0\", \"primary_metric\": 0.8191954, \"best_metric\": 0.85275862}, {\"run_id\": \"AutoML_2585cd63-a50b-46ad-bea9-b2a5134d816f_34\", \"run_number\": 40, \"metric\": null, \"status\": \"Completed\", \"run_type\": \"azureml.scriptrun\", \"training_percent\": \"100\", \"start_time\": \"2021-04-16T12:03:48.322533Z\", \"end_time\": \"2021-04-16T12:04:38.716364Z\", \"created_time\": \"2021-04-16T12:03:32.199273Z\", \"created_time_dt\": \"2021-04-16T12:03:32.199273Z\", \"duration\": \"0:01:06\", \"iteration\": \"34\", \"goal\": \"accuracy_max\", \"run_name\": \"SparseNormalizer, LightGBM\", \"run_properties\": \"<azureml.automl.runtime.shared.model_wrappers.SparseNormalizer object at 0x7f8ada46efd0\", \"primary_metric\": 0.84287356, \"best_metric\": 0.85275862}, {\"run_id\": \"AutoML_2585cd63-a50b-46ad-bea9-b2a5134d816f_35\", \"run_number\": 41, \"metric\": null, \"status\": \"Completed\", \"run_type\": \"azureml.scriptrun\", \"training_percent\": \"100\", \"start_time\": \"2021-04-16T12:04:10.282887Z\", \"end_time\": \"2021-04-16T12:05:12.827143Z\", \"created_time\": \"2021-04-16T12:03:57.409162Z\", \"created_time_dt\": \"2021-04-16T12:03:57.409162Z\", \"duration\": \"0:01:15\", \"iteration\": \"35\", \"goal\": \"accuracy_max\", \"run_name\": \"MaxAbsScaler, LightGBM\", \"run_properties\": \"copy=True\", \"primary_metric\": 0.83275862, \"best_metric\": 0.85275862}, {\"run_id\": \"AutoML_2585cd63-a50b-46ad-bea9-b2a5134d816f_36\", \"run_number\": 42, \"metric\": null, \"status\": \"Completed\", \"run_type\": \"azureml.scriptrun\", \"training_percent\": \"100\", \"start_time\": \"2021-04-16T12:04:09.497922Z\", \"end_time\": \"2021-04-16T12:05:09.26912Z\", \"created_time\": \"2021-04-16T12:03:57.605189Z\", \"created_time_dt\": \"2021-04-16T12:03:57.605189Z\", \"duration\": \"0:01:11\", \"iteration\": \"36\", \"goal\": \"accuracy_max\", \"run_name\": \"StandardScalerWrapper, RandomForest\", \"run_properties\": \"<azureml.automl.runtime.shared.model_wrappers.StandardScalerWrapper object at 0x7f9efbcbff60\", \"primary_metric\": 0.84597701, \"best_metric\": 0.85275862}, {\"run_id\": \"AutoML_2585cd63-a50b-46ad-bea9-b2a5134d816f_37\", \"run_number\": 43, \"metric\": null, \"status\": \"Completed\", \"run_type\": \"azureml.scriptrun\", \"training_percent\": \"100\", \"start_time\": \"2021-04-16T12:04:32.857032Z\", \"end_time\": \"2021-04-16T12:05:24.799109Z\", \"created_time\": \"2021-04-16T12:04:22.206587Z\", \"created_time_dt\": \"2021-04-16T12:04:22.206587Z\", \"duration\": \"0:01:02\", \"iteration\": \"37\", \"goal\": \"accuracy_max\", \"run_name\": \"MaxAbsScaler, LightGBM\", \"run_properties\": \"copy=True\", \"primary_metric\": 0.84264368, \"best_metric\": 0.85275862}, {\"run_id\": \"AutoML_2585cd63-a50b-46ad-bea9-b2a5134d816f_38\", \"run_number\": 44, \"metric\": null, \"status\": \"Completed\", \"run_type\": \"azureml.scriptrun\", \"training_percent\": \"100\", \"start_time\": \"2021-04-16T12:04:54.991662Z\", \"end_time\": \"2021-04-16T12:05:57.956761Z\", \"created_time\": \"2021-04-16T12:04:40.985714Z\", \"created_time_dt\": \"2021-04-16T12:04:40.985714Z\", \"duration\": \"0:01:16\", \"iteration\": \"38\", \"goal\": \"accuracy_max\", \"run_name\": \"SparseNormalizer, RandomForest\", \"run_properties\": \"<azureml.automl.runtime.shared.model_wrappers.SparseNormalizer object at 0x7f969c70cb00\", \"primary_metric\": 0.83287356, \"best_metric\": 0.85275862}, {\"run_id\": \"AutoML_2585cd63-a50b-46ad-bea9-b2a5134d816f_39\", \"run_number\": 45, \"metric\": null, \"status\": \"Completed\", \"run_type\": \"azureml.scriptrun\", \"training_percent\": \"100\", \"start_time\": \"2021-04-16T12:05:28.651291Z\", \"end_time\": \"2021-04-16T12:06:31.061243Z\", \"created_time\": \"2021-04-16T12:05:15.007133Z\", \"created_time_dt\": \"2021-04-16T12:05:15.007133Z\", \"duration\": \"0:01:16\", \"iteration\": \"39\", \"goal\": \"accuracy_max\", \"run_name\": \"MaxAbsScaler, LightGBM\", \"run_properties\": \"copy=True\", \"primary_metric\": 0.84586207, \"best_metric\": 0.85275862}, {\"run_id\": \"AutoML_2585cd63-a50b-46ad-bea9-b2a5134d816f_40\", \"run_number\": 46, \"metric\": null, \"status\": \"Canceled\", \"run_type\": \"azureml.scriptrun\", \"training_percent\": \"100\", \"start_time\": \"2021-04-16T12:05:37.149097Z\", \"end_time\": \"2021-04-16T12:06:38.809628Z\", \"created_time\": \"2021-04-16T12:05:23.978934Z\", \"created_time_dt\": \"2021-04-16T12:05:23.978934Z\", \"duration\": \"0:01:14\", \"iteration\": \"40\", \"goal\": \"accuracy_max\", \"run_name\": \"MaxAbsScaler, LightGBM\", \"run_properties\": \"copy=True\", \"primary_metric\": 0.79252874, \"best_metric\": 0.85275862}, {\"run_id\": \"AutoML_2585cd63-a50b-46ad-bea9-b2a5134d816f_41\", \"run_number\": 47, \"metric\": null, \"status\": \"Completed\", \"run_type\": \"azureml.scriptrun\", \"training_percent\": \"100\", \"start_time\": \"2021-04-16T12:05:44.133299Z\", \"end_time\": \"2021-04-16T12:06:33.420135Z\", \"created_time\": \"2021-04-16T12:05:30.86998Z\", \"created_time_dt\": \"2021-04-16T12:05:30.86998Z\", \"duration\": \"0:01:02\", \"iteration\": \"41\", \"goal\": \"accuracy_max\", \"run_name\": \"RobustScaler, RandomForest\", \"run_properties\": \"copy=True, quantile_range=[10, 90], with_centering=True,\\n             with_scaling=True\", \"primary_metric\": 0.83275862, \"best_metric\": 0.85275862}, {\"run_id\": \"AutoML_2585cd63-a50b-46ad-bea9-b2a5134d816f_42\", \"run_number\": 48, \"metric\": null, \"status\": \"Canceled\", \"run_type\": \"azureml.scriptrun\", \"training_percent\": \"100\", \"start_time\": \"2021-04-16T12:06:13.981911Z\", \"end_time\": \"2021-04-16T12:06:44.223862Z\", \"created_time\": \"2021-04-16T12:06:00.209441Z\", \"created_time_dt\": \"2021-04-16T12:06:00.209441Z\", \"duration\": \"0:00:44\", \"iteration\": \"42\", \"goal\": \"accuracy_max\", \"run_name\": \"MaxAbsScaler, LightGBM\", \"run_properties\": \"copy=True\", \"primary_metric\": 0.81942529, \"best_metric\": 0.85275862}, {\"run_id\": \"AutoML_2585cd63-a50b-46ad-bea9-b2a5134d816f_43\", \"run_number\": 49, \"metric\": null, \"status\": \"Canceled\", \"run_type\": \"azureml.scriptrun\", \"training_percent\": \"100\", \"start_time\": \"2021-04-16T12:06:33.221854Z\", \"end_time\": \"2021-04-16T12:06:51.37056Z\", \"created_time\": \"2021-04-16T12:06:33.221854Z\", \"created_time_dt\": \"2021-04-16T12:06:33.221854Z\", \"duration\": \"0:00:18\", \"iteration\": \"43\", \"goal\": null, \"run_name\": \"Canceled\", \"run_properties\": null}, {\"run_id\": \"AutoML_2585cd63-a50b-46ad-bea9-b2a5134d816f_44\", \"run_number\": 50, \"metric\": null, \"status\": \"Completed\", \"run_type\": \"azureml.scriptrun\", \"training_percent\": \"100\", \"start_time\": \"2021-04-16T12:07:05.468258Z\", \"end_time\": \"2021-04-16T12:09:04.905826Z\", \"created_time\": \"2021-04-16T12:06:52.479539Z\", \"created_time_dt\": \"2021-04-16T12:06:52.479539Z\", \"duration\": \"0:02:12\", \"iteration\": \"44\", \"goal\": \"accuracy_max\", \"run_name\": \"VotingEnsemble\", \"run_properties\": \"classification_labels=None,\\n                              estimators=[('27',\\n                                           Pipeline(memory=None,\\n                                                    steps=[('maxabsscaler',\\n                                                            MaxAbsScaler(copy=True\", \"primary_metric\": 0.87287356, \"best_metric\": 0.87287356}, {\"run_id\": \"AutoML_2585cd63-a50b-46ad-bea9-b2a5134d816f_45\", \"run_number\": 51, \"metric\": null, \"status\": \"Completed\", \"run_type\": \"azureml.scriptrun\", \"training_percent\": \"100\", \"start_time\": \"2021-04-16T12:07:05.707477Z\", \"end_time\": \"2021-04-16T12:09:08.277738Z\", \"created_time\": \"2021-04-16T12:06:52.503691Z\", \"created_time_dt\": \"2021-04-16T12:06:52.503691Z\", \"duration\": \"0:02:15\", \"iteration\": \"45\", \"goal\": \"accuracy_max\", \"run_name\": \"StackEnsemble\", \"run_properties\": \"base_learners=[('27',\\n                                        Pipeline(memory=None,\\n                                                 steps=[('maxabsscaler',\\n                                                         MaxAbsScaler(copy=True\", \"primary_metric\": 0.84931034, \"best_metric\": 0.87287356}], \"children_metrics\": {\"categories\": [0], \"series\": {\"average_precision_score_micro\": [{\"categories\": [\"0\", \"1\", \"2\", \"3\", \"4\", \"5\", \"6\", \"7\", \"8\", \"9\", \"10\", \"11\", \"12\", \"13\", \"14\", \"15\", \"16\", \"17\", \"18\", \"19\", \"20\", \"21\", \"22\", \"23\", \"24\", \"25\", \"26\", \"27\", \"28\", \"29\", \"30\", \"31\", \"32\", \"33\", \"34\", \"35\", \"36\", \"37\", \"38\", \"39\", \"40\", \"41\", \"42\", \"44\", \"45\"], \"mode\": \"markers\", \"name\": \"average_precision_score_micro\", \"stepped\": false, \"type\": \"scatter\", \"data\": [0.9020054536251629, 0.9033793522124445, 0.9116191411645133, 0.9058810313314325, 0.9071629047420341, 0.780347789570348, 0.7568932505705194, 0.9076713764950277, 0.8880645758121567, 0.9158941816738123, 0.8943208949890499, 0.9153552510550519, 0.9220905302974535, 0.8881269633559666, 0.8969673089031585, 0.8923590777283159, 0.8974845578120805, 0.9117278026591265, 0.9183269488245932, 0.8951357408791871, 0.907380079578538, 0.9045880262347422, 0.877433148324904, 0.9138873530430768, 0.8795261375639122, 0.8523962202756031, 0.8939112197885599, 0.9250428106713559, 0.9128308999267419, 0.8693178656641269, 0.8493596165601964, 0.8924264204831287, 0.915019748107554, 0.8992475222072116, 0.908063588959051, 0.9069876909242645, 0.917990088484015, 0.9035880870479078, 0.9051122364253981, 0.9137798423088567, 0.8944171103994675, 0.9079678848489785, 0.8861863785698512, 0.9223702036671948, 0.9176861306797364]}, {\"categories\": [\"0\", \"1\", \"2\", \"3\", \"4\", \"5\", \"6\", \"7\", \"8\", \"9\", \"10\", \"11\", \"12\", \"13\", \"14\", \"15\", \"16\", \"17\", \"18\", \"19\", \"20\", \"21\", \"22\", \"23\", \"24\", \"25\", \"26\", \"27\", \"28\", \"29\", \"30\", \"31\", \"32\", \"33\", \"34\", \"35\", \"36\", \"37\", \"38\", \"39\", \"40\", \"41\", \"42\", \"44\", \"45\"], \"mode\": \"lines\", \"name\": \"average_precision_score_micro_max\", \"stepped\": true, \"type\": \"scatter\", \"data\": [0.9020054536251629, 0.9033793522124445, 0.9116191411645133, 0.9116191411645133, 0.9116191411645133, 0.9116191411645133, 0.9116191411645133, 0.9116191411645133, 0.9116191411645133, 0.9158941816738123, 0.9158941816738123, 0.9158941816738123, 0.9220905302974535, 0.9220905302974535, 0.9220905302974535, 0.9220905302974535, 0.9220905302974535, 0.9220905302974535, 0.9220905302974535, 0.9220905302974535, 0.9220905302974535, 0.9220905302974535, 0.9220905302974535, 0.9220905302974535, 0.9220905302974535, 0.9220905302974535, 0.9220905302974535, 0.9250428106713559, 0.9250428106713559, 0.9250428106713559, 0.9250428106713559, 0.9250428106713559, 0.9250428106713559, 0.9250428106713559, 0.9250428106713559, 0.9250428106713559, 0.9250428106713559, 0.9250428106713559, 0.9250428106713559, 0.9250428106713559, 0.9250428106713559, 0.9250428106713559, 0.9250428106713559, 0.9250428106713559, 0.9250428106713559]}], \"f1_score_macro\": [{\"categories\": [\"0\", \"1\", \"2\", \"3\", \"4\", \"5\", \"6\", \"7\", \"8\", \"9\", \"10\", \"11\", \"12\", \"13\", \"14\", \"15\", \"16\", \"17\", \"18\", \"19\", \"20\", \"21\", \"22\", \"23\", \"24\", \"25\", \"26\", \"27\", \"28\", \"29\", \"30\", \"31\", \"32\", \"33\", \"34\", \"35\", \"36\", \"37\", \"38\", \"39\", \"40\", \"41\", \"42\", \"44\", \"45\"], \"mode\": \"markers\", \"name\": \"f1_score_macro\", \"stepped\": false, \"type\": \"scatter\", \"data\": [0.8043314151248963, 0.8078501228997539, 0.7937657845305564, 0.775313001228913, 0.8223402661247441, 0.6267627733292906, 0.6088030470039589, 0.795801446434647, 0.7782073394624546, 0.8128902608099928, 0.7941937639111416, 0.7901699674133443, 0.8144491173999248, 0.7840679981975643, 0.8062936525373925, 0.7404333583100141, 0.7728404384842704, 0.8125283723164781, 0.8209085956854884, 0.7562516549161791, 0.8012883076904815, 0.7754192497122441, 0.7600130784246811, 0.798868001369051, 0.7231220922543289, 0.4024893878511494, 0.7751659454559912, 0.8240347098058628, 0.8102549490874266, 0.7824307503388931, 0.4024893878511494, 0.7883393596762872, 0.7975844963784031, 0.7857433443749346, 0.8070822106545676, 0.7959419434295644, 0.8164777592460659, 0.8037759609597854, 0.7986230368684113, 0.8085617366361074, 0.7245369781077364, 0.8010269426068447, 0.7741757230597024, 0.8453642243000564, 0.8190855157270283]}, {\"categories\": [\"0\", \"1\", \"2\", \"3\", \"4\", \"5\", \"6\", \"7\", \"8\", \"9\", \"10\", \"11\", \"12\", \"13\", \"14\", \"15\", \"16\", \"17\", \"18\", \"19\", \"20\", \"21\", \"22\", \"23\", \"24\", \"25\", \"26\", \"27\", \"28\", \"29\", \"30\", \"31\", \"32\", \"33\", \"34\", \"35\", \"36\", \"37\", \"38\", \"39\", \"40\", \"41\", \"42\", \"44\", \"45\"], \"mode\": \"lines\", \"name\": \"f1_score_macro_max\", \"stepped\": true, \"type\": \"scatter\", \"data\": [0.8043314151248963, 0.8078501228997539, 0.8078501228997539, 0.8078501228997539, 0.8223402661247441, 0.8223402661247441, 0.8223402661247441, 0.8223402661247441, 0.8223402661247441, 0.8223402661247441, 0.8223402661247441, 0.8223402661247441, 0.8223402661247441, 0.8223402661247441, 0.8223402661247441, 0.8223402661247441, 0.8223402661247441, 0.8223402661247441, 0.8223402661247441, 0.8223402661247441, 0.8223402661247441, 0.8223402661247441, 0.8223402661247441, 0.8223402661247441, 0.8223402661247441, 0.8223402661247441, 0.8223402661247441, 0.8240347098058628, 0.8240347098058628, 0.8240347098058628, 0.8240347098058628, 0.8240347098058628, 0.8240347098058628, 0.8240347098058628, 0.8240347098058628, 0.8240347098058628, 0.8240347098058628, 0.8240347098058628, 0.8240347098058628, 0.8240347098058628, 0.8240347098058628, 0.8240347098058628, 0.8240347098058628, 0.8453642243000564, 0.8453642243000564]}], \"weighted_accuracy\": [{\"categories\": [\"0\", \"1\", \"2\", \"3\", \"4\", \"5\", \"6\", \"7\", \"8\", \"9\", \"10\", \"11\", \"12\", \"13\", \"14\", \"15\", \"16\", \"17\", \"18\", \"19\", \"20\", \"21\", \"22\", \"23\", \"24\", \"25\", \"26\", \"27\", \"28\", \"29\", \"30\", \"31\", \"32\", \"33\", \"34\", \"35\", \"36\", \"37\", \"38\", \"39\", \"40\", \"41\", \"42\", \"44\", \"45\"], \"mode\": \"markers\", \"name\": \"weighted_accuracy\", \"stepped\": false, \"type\": \"scatter\", \"data\": [0.8541321922200625, 0.8502962163535492, 0.8417426669840108, 0.8528886381122553, 0.858354202349249, 0.7698087121086823, 0.7755161912927198, 0.8595287859119706, 0.8390545773725988, 0.867895504432574, 0.8808449821310804, 0.8601908221055835, 0.8637353537452794, 0.850446221029981, 0.8535480316158818, 0.8425040016040078, 0.8613850227996014, 0.8598641365971378, 0.8645103368637755, 0.8449273745419154, 0.8685521836685911, 0.8683139582924287, 0.8424781480535615, 0.8622151634850544, 0.8451101765263713, 0.7931711479234276, 0.8586314824985755, 0.8702400409046165, 0.8523673574016227, 0.8071292381510451, 0.7931711479234276, 0.8585234753328456, 0.8531364872103915, 0.8366129804729999, 0.865591445732413, 0.8557440163414911, 0.8620664660017672, 0.8712996304658367, 0.8539064966219228, 0.8726200804656878, 0.838966081774989, 0.848062208020908, 0.8502718650584338, 0.8926749759301013, 0.8707437856945234]}, {\"categories\": [\"0\", \"1\", \"2\", \"3\", \"4\", \"5\", \"6\", \"7\", \"8\", \"9\", \"10\", \"11\", \"12\", \"13\", \"14\", \"15\", \"16\", \"17\", \"18\", \"19\", \"20\", \"21\", \"22\", \"23\", \"24\", \"25\", \"26\", \"27\", \"28\", \"29\", \"30\", \"31\", \"32\", \"33\", \"34\", \"35\", \"36\", \"37\", \"38\", \"39\", \"40\", \"41\", \"42\", \"44\", \"45\"], \"mode\": \"lines\", \"name\": \"weighted_accuracy_max\", \"stepped\": true, \"type\": \"scatter\", \"data\": [0.8541321922200625, 0.8541321922200625, 0.8541321922200625, 0.8541321922200625, 0.858354202349249, 0.858354202349249, 0.858354202349249, 0.8595287859119706, 0.8595287859119706, 0.867895504432574, 0.8808449821310804, 0.8808449821310804, 0.8808449821310804, 0.8808449821310804, 0.8808449821310804, 0.8808449821310804, 0.8808449821310804, 0.8808449821310804, 0.8808449821310804, 0.8808449821310804, 0.8808449821310804, 0.8808449821310804, 0.8808449821310804, 0.8808449821310804, 0.8808449821310804, 0.8808449821310804, 0.8808449821310804, 0.8808449821310804, 0.8808449821310804, 0.8808449821310804, 0.8808449821310804, 0.8808449821310804, 0.8808449821310804, 0.8808449821310804, 0.8808449821310804, 0.8808449821310804, 0.8808449821310804, 0.8808449821310804, 0.8808449821310804, 0.8808449821310804, 0.8808449821310804, 0.8808449821310804, 0.8808449821310804, 0.8926749759301013, 0.8926749759301013]}], \"AUC_macro\": [{\"categories\": [\"0\", \"1\", \"2\", \"3\", \"4\", \"5\", \"6\", \"7\", \"8\", \"9\", \"10\", \"11\", \"12\", \"13\", \"14\", \"15\", \"16\", \"17\", \"18\", \"19\", \"20\", \"21\", \"22\", \"23\", \"24\", \"25\", \"26\", \"27\", \"28\", \"29\", \"30\", \"31\", \"32\", \"33\", \"34\", \"35\", \"36\", \"37\", \"38\", \"39\", \"40\", \"41\", \"42\", \"44\", \"45\"], \"mode\": \"markers\", \"name\": \"AUC_macro\", \"stepped\": false, \"type\": \"scatter\", \"data\": [0.8840955354735103, 0.8847369443591411, 0.9001235476151951, 0.8921032475512453, 0.8940627707278738, 0.7472287308356531, 0.7162697213224101, 0.900381358452125, 0.8669325404805382, 0.9067165566529412, 0.8840255611580554, 0.9025306153504093, 0.9090927699683993, 0.8772686811175943, 0.8879981568848561, 0.86942871578375, 0.9041695342055182, 0.8981291410619214, 0.9029306912153021, 0.8830690976452991, 0.8951857931224636, 0.8947674802399058, 0.8598537414297713, 0.9023373239037425, 0.8722666992195025, 0.8938346027701005, 0.8728218416870017, 0.9099950314961756, 0.8995841763224487, 0.858156484590924, 0.8675427639696519, 0.8775869904229172, 0.9052875071957451, 0.8903144761745162, 0.8941915194497001, 0.8947220306200284, 0.907784309230476, 0.8990051504199673, 0.8875148711425027, 0.9034317887934593, 0.8859959016722747, 0.8939540426604499, 0.8836304484999278, 0.9121175271291975, 0.9129238155775912]}, {\"categories\": [\"0\", \"1\", \"2\", \"3\", \"4\", \"5\", \"6\", \"7\", \"8\", \"9\", \"10\", \"11\", \"12\", \"13\", \"14\", \"15\", \"16\", \"17\", \"18\", \"19\", \"20\", \"21\", \"22\", \"23\", \"24\", \"25\", \"26\", \"27\", \"28\", \"29\", \"30\", \"31\", \"32\", \"33\", \"34\", \"35\", \"36\", \"37\", \"38\", \"39\", \"40\", \"41\", \"42\", \"44\", \"45\"], \"mode\": \"lines\", \"name\": \"AUC_macro_max\", \"stepped\": true, \"type\": \"scatter\", \"data\": [0.8840955354735103, 0.8847369443591411, 0.9001235476151951, 0.9001235476151951, 0.9001235476151951, 0.9001235476151951, 0.9001235476151951, 0.900381358452125, 0.900381358452125, 0.9067165566529412, 0.9067165566529412, 0.9067165566529412, 0.9090927699683993, 0.9090927699683993, 0.9090927699683993, 0.9090927699683993, 0.9090927699683993, 0.9090927699683993, 0.9090927699683993, 0.9090927699683993, 0.9090927699683993, 0.9090927699683993, 0.9090927699683993, 0.9090927699683993, 0.9090927699683993, 0.9090927699683993, 0.9090927699683993, 0.9099950314961756, 0.9099950314961756, 0.9099950314961756, 0.9099950314961756, 0.9099950314961756, 0.9099950314961756, 0.9099950314961756, 0.9099950314961756, 0.9099950314961756, 0.9099950314961756, 0.9099950314961756, 0.9099950314961756, 0.9099950314961756, 0.9099950314961756, 0.9099950314961756, 0.9099950314961756, 0.9121175271291975, 0.9129238155775912]}], \"precision_score_weighted\": [{\"categories\": [\"0\", \"1\", \"2\", \"3\", \"4\", \"5\", \"6\", \"7\", \"8\", \"9\", \"10\", \"11\", \"12\", \"13\", \"14\", \"15\", \"16\", \"17\", \"18\", \"19\", \"20\", \"21\", \"22\", \"23\", \"24\", \"25\", \"26\", \"27\", \"28\", \"29\", \"30\", \"31\", \"32\", \"33\", \"34\", \"35\", \"36\", \"37\", \"38\", \"39\", \"40\", \"41\", \"42\", \"44\", \"45\"], \"mode\": \"markers\", \"name\": \"precision_score_weighted\", \"stepped\": false, \"type\": \"scatter\", \"data\": [0.8443308716969533, 0.8506678986628277, 0.8397997255270685, 0.8292026679850956, 0.8623431233517442, 0.7363995459230093, 0.731856333066678, 0.8471991704876658, 0.8399560065034695, 0.8580118605351383, 0.8571085535986585, 0.8494995299094643, 0.8613901668574083, 0.835853537343197, 0.8464264202888815, 0.8113941608388544, 0.8349369327241142, 0.854973866801916, 0.8646935369678778, 0.8239838223079602, 0.8512215457548056, 0.8458189288953408, 0.8175356135830174, 0.846605965557891, 0.8187817653841891, 0.47055053507728895, 0.8356160432770627, 0.8670487886676043, 0.854094515047818, 0.8273255882216862, 0.47055053507728895, 0.8425135714369846, 0.8467259606127673, 0.8343029299174747, 0.8588021390937213, 0.8441536239076483, 0.8565631138450611, 0.853522805839049, 0.8428121220774895, 0.8596514747151313, 0.8169259909736921, 0.8467516247630235, 0.8270383197271267, 0.8833188070662714, 0.865291091404113]}, {\"categories\": [\"0\", \"1\", \"2\", \"3\", \"4\", \"5\", \"6\", \"7\", \"8\", \"9\", \"10\", \"11\", \"12\", \"13\", \"14\", \"15\", \"16\", \"17\", \"18\", \"19\", \"20\", \"21\", \"22\", \"23\", \"24\", \"25\", \"26\", \"27\", \"28\", \"29\", \"30\", \"31\", \"32\", \"33\", \"34\", \"35\", \"36\", \"37\", \"38\", \"39\", \"40\", \"41\", \"42\", \"44\", \"45\"], \"mode\": \"lines\", \"name\": \"precision_score_weighted_max\", \"stepped\": true, \"type\": \"scatter\", \"data\": [0.8443308716969533, 0.8506678986628277, 0.8506678986628277, 0.8506678986628277, 0.8623431233517442, 0.8623431233517442, 0.8623431233517442, 0.8623431233517442, 0.8623431233517442, 0.8623431233517442, 0.8623431233517442, 0.8623431233517442, 0.8623431233517442, 0.8623431233517442, 0.8623431233517442, 0.8623431233517442, 0.8623431233517442, 0.8623431233517442, 0.8646935369678778, 0.8646935369678778, 0.8646935369678778, 0.8646935369678778, 0.8646935369678778, 0.8646935369678778, 0.8646935369678778, 0.8646935369678778, 0.8646935369678778, 0.8670487886676043, 0.8670487886676043, 0.8670487886676043, 0.8670487886676043, 0.8670487886676043, 0.8670487886676043, 0.8670487886676043, 0.8670487886676043, 0.8670487886676043, 0.8670487886676043, 0.8670487886676043, 0.8670487886676043, 0.8670487886676043, 0.8670487886676043, 0.8670487886676043, 0.8670487886676043, 0.8833188070662714, 0.8833188070662714]}], \"f1_score_micro\": [{\"categories\": [\"0\", \"1\", \"2\", \"3\", \"4\", \"5\", \"6\", \"7\", \"8\", \"9\", \"10\", \"11\", \"12\", \"13\", \"14\", \"15\", \"16\", \"17\", \"18\", \"19\", \"20\", \"21\", \"22\", \"23\", \"24\", \"25\", \"26\", \"27\", \"28\", \"29\", \"30\", \"31\", \"32\", \"33\", \"34\", \"35\", \"36\", \"37\", \"38\", \"39\", \"40\", \"41\", \"42\", \"44\", \"45\"], \"mode\": \"markers\", \"name\": \"f1_score_micro\", \"stepped\": false, \"type\": \"scatter\", \"data\": [0.8359770114942527, 0.8358620689655172, 0.8260919540229885, 0.822528735632184, 0.8490804597701149, 0.7191954022988506, 0.7160919540229885, 0.8327586206896551, 0.8158620689655172, 0.8460919540229884, 0.8395402298850575, 0.8325287356321839, 0.8459770114942529, 0.8260919540229885, 0.8362068965517242, 0.7990804597701151, 0.8226436781609194, 0.842528735632184, 0.8491954022988507, 0.8093103448275862, 0.8393103448275863, 0.8260919540229885, 0.8095402298850575, 0.8358620689655172, 0.7928735632183909, 0.6791954022988507, 0.8228735632183908, 0.8527586206896552, 0.8393103448275863, 0.8058620689655174, 0.6791954022988507, 0.8293103448275861, 0.8326436781609197, 0.8191954022988506, 0.8428735632183908, 0.8327586206896551, 0.8459770114942529, 0.8426436781609195, 0.8328735632183909, 0.8458620689655174, 0.7925287356321841, 0.8327586206896551, 0.8194252873563219, 0.8728735632183909, 0.8493103448275864]}, {\"categories\": [\"0\", \"1\", \"2\", \"3\", \"4\", \"5\", \"6\", \"7\", \"8\", \"9\", \"10\", \"11\", \"12\", \"13\", \"14\", \"15\", \"16\", \"17\", \"18\", \"19\", \"20\", \"21\", \"22\", \"23\", \"24\", \"25\", \"26\", \"27\", \"28\", \"29\", \"30\", \"31\", \"32\", \"33\", \"34\", \"35\", \"36\", \"37\", \"38\", \"39\", \"40\", \"41\", \"42\", \"44\", \"45\"], \"mode\": \"lines\", \"name\": \"f1_score_micro_max\", \"stepped\": true, \"type\": \"scatter\", \"data\": [0.8359770114942527, 0.8359770114942527, 0.8359770114942527, 0.8359770114942527, 0.8490804597701149, 0.8490804597701149, 0.8490804597701149, 0.8490804597701149, 0.8490804597701149, 0.8490804597701149, 0.8490804597701149, 0.8490804597701149, 0.8490804597701149, 0.8490804597701149, 0.8490804597701149, 0.8490804597701149, 0.8490804597701149, 0.8490804597701149, 0.8491954022988507, 0.8491954022988507, 0.8491954022988507, 0.8491954022988507, 0.8491954022988507, 0.8491954022988507, 0.8491954022988507, 0.8491954022988507, 0.8491954022988507, 0.8527586206896552, 0.8527586206896552, 0.8527586206896552, 0.8527586206896552, 0.8527586206896552, 0.8527586206896552, 0.8527586206896552, 0.8527586206896552, 0.8527586206896552, 0.8527586206896552, 0.8527586206896552, 0.8527586206896552, 0.8527586206896552, 0.8527586206896552, 0.8527586206896552, 0.8527586206896552, 0.8728735632183909, 0.8728735632183909]}], \"f1_score_weighted\": [{\"categories\": [\"0\", \"1\", \"2\", \"3\", \"4\", \"5\", \"6\", \"7\", \"8\", \"9\", \"10\", \"11\", \"12\", \"13\", \"14\", \"15\", \"16\", \"17\", \"18\", \"19\", \"20\", \"21\", \"22\", \"23\", \"24\", \"25\", \"26\", \"27\", \"28\", \"29\", \"30\", \"31\", \"32\", \"33\", \"34\", \"35\", \"36\", \"37\", \"38\", \"39\", \"40\", \"41\", \"42\", \"44\", \"45\"], \"mode\": \"markers\", \"name\": \"f1_score_weighted\", \"stepped\": false, \"type\": \"scatter\", \"data\": [0.8333388901455894, 0.8342588560383983, 0.8258336346234406, 0.815909983414412, 0.8503522846177214, 0.6889845750408699, 0.681132365544207, 0.8268845927520065, 0.8108779288312095, 0.8419387856880236, 0.8282157773731973, 0.8263420407700537, 0.8429384327701221, 0.8219825447947022, 0.8330919162782356, 0.7867729958140173, 0.8099817042890736, 0.8399821473552777, 0.8478734235084765, 0.796996195600014, 0.832414726095011, 0.8132634517824846, 0.8051363459422498, 0.8308598071973543, 0.7687897474327281, 0.5534120288954022, 0.8151965351333497, 0.8482846151356082, 0.8374509195336295, 0.8091963274232304, 0.5534120288954022, 0.8229754162080989, 0.8287274632985447, 0.8174558627360053, 0.8377025491229627, 0.8288070546160577, 0.8444564767153657, 0.8357966460907578, 0.829195671836237, 0.8395662617159619, 0.7706032364509527, 0.8319130876650801, 0.8115729071689562, 0.8694879607904256, 0.8440523849412733]}, {\"categories\": [\"0\", \"1\", \"2\", \"3\", \"4\", \"5\", \"6\", \"7\", \"8\", \"9\", \"10\", \"11\", \"12\", \"13\", \"14\", \"15\", \"16\", \"17\", \"18\", \"19\", \"20\", \"21\", \"22\", \"23\", \"24\", \"25\", \"26\", \"27\", \"28\", \"29\", \"30\", \"31\", \"32\", \"33\", \"34\", \"35\", \"36\", \"37\", \"38\", \"39\", \"40\", \"41\", \"42\", \"44\", \"45\"], \"mode\": \"lines\", \"name\": \"f1_score_weighted_max\", \"stepped\": true, \"type\": \"scatter\", \"data\": [0.8333388901455894, 0.8342588560383983, 0.8342588560383983, 0.8342588560383983, 0.8503522846177214, 0.8503522846177214, 0.8503522846177214, 0.8503522846177214, 0.8503522846177214, 0.8503522846177214, 0.8503522846177214, 0.8503522846177214, 0.8503522846177214, 0.8503522846177214, 0.8503522846177214, 0.8503522846177214, 0.8503522846177214, 0.8503522846177214, 0.8503522846177214, 0.8503522846177214, 0.8503522846177214, 0.8503522846177214, 0.8503522846177214, 0.8503522846177214, 0.8503522846177214, 0.8503522846177214, 0.8503522846177214, 0.8503522846177214, 0.8503522846177214, 0.8503522846177214, 0.8503522846177214, 0.8503522846177214, 0.8503522846177214, 0.8503522846177214, 0.8503522846177214, 0.8503522846177214, 0.8503522846177214, 0.8503522846177214, 0.8503522846177214, 0.8503522846177214, 0.8503522846177214, 0.8503522846177214, 0.8503522846177214, 0.8694879607904256, 0.8694879607904256]}], \"matthews_correlation\": [{\"categories\": [\"0\", \"1\", \"2\", \"3\", \"4\", \"5\", \"6\", \"7\", \"8\", \"9\", \"10\", \"11\", \"12\", \"13\", \"14\", \"15\", \"16\", \"17\", \"18\", \"19\", \"20\", \"21\", \"22\", \"23\", \"24\", \"25\", \"26\", \"27\", \"28\", \"29\", \"30\", \"31\", \"32\", \"33\", \"34\", \"35\", \"36\", \"37\", \"38\", \"39\", \"40\", \"41\", \"42\", \"44\", \"45\"], \"mode\": \"markers\", \"name\": \"matthews_correlation\", \"stepped\": false, \"type\": \"scatter\", \"data\": [0.6231314496952846, 0.6345538749068885, 0.6026631076096779, 0.5721451305958636, 0.6562229335739127, 0.32355144867241376, 0.29652421739651136, 0.6181804708226917, 0.5911082577958282, 0.6461402292065255, 0.6324963720409806, 0.610283417163898, 0.6512310484516146, 0.5865312911122738, 0.6291702367253744, 0.5187142777341567, 0.5839565871463948, 0.6429239664649213, 0.6606919072640083, 0.5519575228386341, 0.6282666583697689, 0.5985307000342799, 0.5379557534852271, 0.6186581738965364, 0.5217269523395771, 0.0, 0.5790026829786538, 0.6721448679620436, 0.6394758369976312, 0.5819421073472963, 0.0, 0.6044128177950042, 0.6170553148541755, 0.590553248096057, 0.6406313184697939, 0.6124337489986872, 0.6466159193184773, 0.6325413481576471, 0.6150800817796478, 0.6438719515069989, 0.5172723868029114, 0.6186873219792519, 0.5728126282442776, 0.7087033931349932, 0.665279019014527]}, {\"categories\": [\"0\", \"1\", \"2\", \"3\", \"4\", \"5\", \"6\", \"7\", \"8\", \"9\", \"10\", \"11\", \"12\", \"13\", \"14\", \"15\", \"16\", \"17\", \"18\", \"19\", \"20\", \"21\", \"22\", \"23\", \"24\", \"25\", \"26\", \"27\", \"28\", \"29\", \"30\", \"31\", \"32\", \"33\", \"34\", \"35\", \"36\", \"37\", \"38\", \"39\", \"40\", \"41\", \"42\", \"44\", \"45\"], \"mode\": \"lines\", \"name\": \"matthews_correlation_max\", \"stepped\": true, \"type\": \"scatter\", \"data\": [0.6231314496952846, 0.6345538749068885, 0.6345538749068885, 0.6345538749068885, 0.6562229335739127, 0.6562229335739127, 0.6562229335739127, 0.6562229335739127, 0.6562229335739127, 0.6562229335739127, 0.6562229335739127, 0.6562229335739127, 0.6562229335739127, 0.6562229335739127, 0.6562229335739127, 0.6562229335739127, 0.6562229335739127, 0.6562229335739127, 0.6606919072640083, 0.6606919072640083, 0.6606919072640083, 0.6606919072640083, 0.6606919072640083, 0.6606919072640083, 0.6606919072640083, 0.6606919072640083, 0.6606919072640083, 0.6721448679620436, 0.6721448679620436, 0.6721448679620436, 0.6721448679620436, 0.6721448679620436, 0.6721448679620436, 0.6721448679620436, 0.6721448679620436, 0.6721448679620436, 0.6721448679620436, 0.6721448679620436, 0.6721448679620436, 0.6721448679620436, 0.6721448679620436, 0.6721448679620436, 0.6721448679620436, 0.7087033931349932, 0.7087033931349932]}], \"accuracy\": [{\"categories\": [\"0\", \"1\", \"2\", \"3\", \"4\", \"5\", \"6\", \"7\", \"8\", \"9\", \"10\", \"11\", \"12\", \"13\", \"14\", \"15\", \"16\", \"17\", \"18\", \"19\", \"20\", \"21\", \"22\", \"23\", \"24\", \"25\", \"26\", \"27\", \"28\", \"29\", \"30\", \"31\", \"32\", \"33\", \"34\", \"35\", \"36\", \"37\", \"38\", \"39\", \"40\", \"41\", \"42\", \"44\", \"45\"], \"mode\": \"markers\", \"name\": \"accuracy\", \"stepped\": false, \"type\": \"scatter\", \"data\": [0.8359770114942527, 0.8358620689655172, 0.8260919540229885, 0.822528735632184, 0.8490804597701149, 0.7191954022988506, 0.7160919540229885, 0.8327586206896551, 0.8158620689655172, 0.8460919540229884, 0.8395402298850575, 0.8325287356321839, 0.8459770114942529, 0.8260919540229885, 0.8362068965517242, 0.7990804597701151, 0.8226436781609194, 0.8425287356321839, 0.8491954022988507, 0.8093103448275862, 0.8393103448275863, 0.8260919540229885, 0.8095402298850575, 0.8358620689655172, 0.7928735632183909, 0.6791954022988507, 0.8228735632183908, 0.8527586206896552, 0.8393103448275863, 0.8058620689655174, 0.6791954022988507, 0.8293103448275861, 0.8326436781609197, 0.8191954022988506, 0.8428735632183908, 0.8327586206896551, 0.8459770114942529, 0.8426436781609195, 0.8328735632183909, 0.8458620689655174, 0.7925287356321841, 0.8327586206896551, 0.8194252873563219, 0.8728735632183909, 0.8493103448275864]}, {\"categories\": [\"0\", \"1\", \"2\", \"3\", \"4\", \"5\", \"6\", \"7\", \"8\", \"9\", \"10\", \"11\", \"12\", \"13\", \"14\", \"15\", \"16\", \"17\", \"18\", \"19\", \"20\", \"21\", \"22\", \"23\", \"24\", \"25\", \"26\", \"27\", \"28\", \"29\", \"30\", \"31\", \"32\", \"33\", \"34\", \"35\", \"36\", \"37\", \"38\", \"39\", \"40\", \"41\", \"42\", \"44\", \"45\"], \"mode\": \"lines\", \"name\": \"accuracy_max\", \"stepped\": true, \"type\": \"scatter\", \"data\": [0.8359770114942527, 0.8359770114942527, 0.8359770114942527, 0.8359770114942527, 0.8490804597701149, 0.8490804597701149, 0.8490804597701149, 0.8490804597701149, 0.8490804597701149, 0.8490804597701149, 0.8490804597701149, 0.8490804597701149, 0.8490804597701149, 0.8490804597701149, 0.8490804597701149, 0.8490804597701149, 0.8490804597701149, 0.8490804597701149, 0.8491954022988507, 0.8491954022988507, 0.8491954022988507, 0.8491954022988507, 0.8491954022988507, 0.8491954022988507, 0.8491954022988507, 0.8491954022988507, 0.8491954022988507, 0.8527586206896552, 0.8527586206896552, 0.8527586206896552, 0.8527586206896552, 0.8527586206896552, 0.8527586206896552, 0.8527586206896552, 0.8527586206896552, 0.8527586206896552, 0.8527586206896552, 0.8527586206896552, 0.8527586206896552, 0.8527586206896552, 0.8527586206896552, 0.8527586206896552, 0.8527586206896552, 0.8728735632183909, 0.8728735632183909]}], \"AUC_weighted\": [{\"categories\": [\"0\", \"1\", \"2\", \"3\", \"4\", \"5\", \"6\", \"7\", \"8\", \"9\", \"10\", \"11\", \"12\", \"13\", \"14\", \"15\", \"16\", \"17\", \"18\", \"19\", \"20\", \"21\", \"22\", \"23\", \"24\", \"25\", \"26\", \"27\", \"28\", \"29\", \"30\", \"31\", \"32\", \"33\", \"34\", \"35\", \"36\", \"37\", \"38\", \"39\", \"40\", \"41\", \"42\", \"44\", \"45\"], \"mode\": \"markers\", \"name\": \"AUC_weighted\", \"stepped\": false, \"type\": \"scatter\", \"data\": [0.8840955354735103, 0.8847369443591411, 0.9001235476151951, 0.8921032475512451, 0.8940627707278738, 0.747228730835653, 0.7162697213224101, 0.900381358452125, 0.8669325404805382, 0.9067165566529412, 0.8840255611580554, 0.9025306153504093, 0.9090927699683993, 0.8772686811175943, 0.8879981568848561, 0.86942871578375, 0.9041695342055182, 0.8981291410619214, 0.9029306912153021, 0.8830690976452991, 0.8951857931224636, 0.8947674802399058, 0.8598537414297713, 0.9023373239037425, 0.8722666992195025, 0.8938346027701005, 0.8728218416870017, 0.9099950314961756, 0.8995841763224487, 0.858156484590924, 0.8675427639696519, 0.8775869904229172, 0.9052875071957454, 0.8903144761745162, 0.8941915194497001, 0.8947220306200284, 0.907784309230476, 0.8990051504199673, 0.8875148711425027, 0.9034317887934593, 0.8859959016722747, 0.8939540426604499, 0.8836304484999278, 0.9121175271291977, 0.9129238155775916]}, {\"categories\": [\"0\", \"1\", \"2\", \"3\", \"4\", \"5\", \"6\", \"7\", \"8\", \"9\", \"10\", \"11\", \"12\", \"13\", \"14\", \"15\", \"16\", \"17\", \"18\", \"19\", \"20\", \"21\", \"22\", \"23\", \"24\", \"25\", \"26\", \"27\", \"28\", \"29\", \"30\", \"31\", \"32\", \"33\", \"34\", \"35\", \"36\", \"37\", \"38\", \"39\", \"40\", \"41\", \"42\", \"44\", \"45\"], \"mode\": \"lines\", \"name\": \"AUC_weighted_max\", \"stepped\": true, \"type\": \"scatter\", \"data\": [0.8840955354735103, 0.8847369443591411, 0.9001235476151951, 0.9001235476151951, 0.9001235476151951, 0.9001235476151951, 0.9001235476151951, 0.900381358452125, 0.900381358452125, 0.9067165566529412, 0.9067165566529412, 0.9067165566529412, 0.9090927699683993, 0.9090927699683993, 0.9090927699683993, 0.9090927699683993, 0.9090927699683993, 0.9090927699683993, 0.9090927699683993, 0.9090927699683993, 0.9090927699683993, 0.9090927699683993, 0.9090927699683993, 0.9090927699683993, 0.9090927699683993, 0.9090927699683993, 0.9090927699683993, 0.9099950314961756, 0.9099950314961756, 0.9099950314961756, 0.9099950314961756, 0.9099950314961756, 0.9099950314961756, 0.9099950314961756, 0.9099950314961756, 0.9099950314961756, 0.9099950314961756, 0.9099950314961756, 0.9099950314961756, 0.9099950314961756, 0.9099950314961756, 0.9099950314961756, 0.9099950314961756, 0.9121175271291977, 0.9129238155775916]}], \"average_precision_score_macro\": [{\"categories\": [\"0\", \"1\", \"2\", \"3\", \"4\", \"5\", \"6\", \"7\", \"8\", \"9\", \"10\", \"11\", \"12\", \"13\", \"14\", \"15\", \"16\", \"17\", \"18\", \"19\", \"20\", \"21\", \"22\", \"23\", \"24\", \"25\", \"26\", \"27\", \"28\", \"29\", \"30\", \"31\", \"32\", \"33\", \"34\", \"35\", \"36\", \"37\", \"38\", \"39\", \"40\", \"41\", \"42\", \"44\", \"45\"], \"mode\": \"markers\", \"name\": \"average_precision_score_macro\", \"stepped\": false, \"type\": \"scatter\", \"data\": [0.8807888197525153, 0.8807340475847678, 0.8928745211504246, 0.8689921777653652, 0.8911207403310742, 0.745469896825244, 0.712569040468264, 0.8918330319186867, 0.8595648157842218, 0.90065252927884, 0.8812219196407094, 0.8945349664625457, 0.9005248227961464, 0.8682891525296652, 0.8819949781809319, 0.8720348818180685, 0.8893073017964932, 0.8880166439482513, 0.8921143590156687, 0.8751340116644893, 0.8833412239264323, 0.8914413855454489, 0.8539136274610521, 0.8902230897266279, 0.8655331638410434, 0.86482664495054, 0.8588998101524645, 0.898065890406745, 0.8920036472608466, 0.8447735600961577, 0.8596652987848781, 0.8735580611005606, 0.892758608802495, 0.8811059375034895, 0.8845929539454108, 0.8861548653987125, 0.8984606985450769, 0.8840187962511242, 0.8721676670586138, 0.894622641967483, 0.8818240787953091, 0.8822190347885144, 0.8590287581893323, 0.9001151631146799, 0.9004869375086143]}, {\"categories\": [\"0\", \"1\", \"2\", \"3\", \"4\", \"5\", \"6\", \"7\", \"8\", \"9\", \"10\", \"11\", \"12\", \"13\", \"14\", \"15\", \"16\", \"17\", \"18\", \"19\", \"20\", \"21\", \"22\", \"23\", \"24\", \"25\", \"26\", \"27\", \"28\", \"29\", \"30\", \"31\", \"32\", \"33\", \"34\", \"35\", \"36\", \"37\", \"38\", \"39\", \"40\", \"41\", \"42\", \"44\", \"45\"], \"mode\": \"lines\", \"name\": \"average_precision_score_macro_max\", \"stepped\": true, \"type\": \"scatter\", \"data\": [0.8807888197525153, 0.8807888197525153, 0.8928745211504246, 0.8928745211504246, 0.8928745211504246, 0.8928745211504246, 0.8928745211504246, 0.8928745211504246, 0.8928745211504246, 0.90065252927884, 0.90065252927884, 0.90065252927884, 0.90065252927884, 0.90065252927884, 0.90065252927884, 0.90065252927884, 0.90065252927884, 0.90065252927884, 0.90065252927884, 0.90065252927884, 0.90065252927884, 0.90065252927884, 0.90065252927884, 0.90065252927884, 0.90065252927884, 0.90065252927884, 0.90065252927884, 0.90065252927884, 0.90065252927884, 0.90065252927884, 0.90065252927884, 0.90065252927884, 0.90065252927884, 0.90065252927884, 0.90065252927884, 0.90065252927884, 0.90065252927884, 0.90065252927884, 0.90065252927884, 0.90065252927884, 0.90065252927884, 0.90065252927884, 0.90065252927884, 0.90065252927884, 0.90065252927884]}], \"balanced_accuracy\": [{\"categories\": [\"0\", \"1\", \"2\", \"3\", \"4\", \"5\", \"6\", \"7\", \"8\", \"9\", \"10\", \"11\", \"12\", \"13\", \"14\", \"15\", \"16\", \"17\", \"18\", \"19\", \"20\", \"21\", \"22\", \"23\", \"24\", \"25\", \"26\", \"27\", \"28\", \"29\", \"30\", \"31\", \"32\", \"33\", \"34\", \"35\", \"36\", \"37\", \"38\", \"39\", \"40\", \"41\", \"42\", \"44\", \"45\"], \"mode\": \"markers\", \"name\": \"balanced_accuracy\", \"stepped\": false, \"type\": \"scatter\", \"data\": [0.8077082895810014, 0.8130249020938379, 0.7999381284238265, 0.7723404191473413, 0.8334248347317569, 0.6463685803771616, 0.6247813737241655, 0.7918168440699906, 0.7804265538682015, 0.8130566794951806, 0.7756970427551092, 0.7885545690642944, 0.8181587404776763, 0.783653519090876, 0.8095071398852862, 0.7311509521498081, 0.7647936289174846, 0.8164741312272777, 0.8247623707655173, 0.7548789150082056, 0.7958448240991147, 0.7600986119779026, 0.7533568246208406, 0.7956317791349254, 0.7157264125399136, 0.5, 0.7652568418741188, 0.8246049886739246, 0.818404145657292, 0.8026685859906685, 0.5, 0.7823264580258287, 0.8020462812994278, 0.7928148694364369, 0.8053512957294421, 0.7974125378498949, 0.820647917966854, 0.7993124828705492, 0.7992031536350759, 0.8041710373595385, 0.7207121847768301, 0.8095990457864028, 0.7735289652821118, 0.8414365496250508, 0.8158230081957198]}, {\"categories\": [\"0\", \"1\", \"2\", \"3\", \"4\", \"5\", \"6\", \"7\", \"8\", \"9\", \"10\", \"11\", \"12\", \"13\", \"14\", \"15\", \"16\", \"17\", \"18\", \"19\", \"20\", \"21\", \"22\", \"23\", \"24\", \"25\", \"26\", \"27\", \"28\", \"29\", \"30\", \"31\", \"32\", \"33\", \"34\", \"35\", \"36\", \"37\", \"38\", \"39\", \"40\", \"41\", \"42\", \"44\", \"45\"], \"mode\": \"lines\", \"name\": \"balanced_accuracy_max\", \"stepped\": true, \"type\": \"scatter\", \"data\": [0.8077082895810014, 0.8130249020938379, 0.8130249020938379, 0.8130249020938379, 0.8334248347317569, 0.8334248347317569, 0.8334248347317569, 0.8334248347317569, 0.8334248347317569, 0.8334248347317569, 0.8334248347317569, 0.8334248347317569, 0.8334248347317569, 0.8334248347317569, 0.8334248347317569, 0.8334248347317569, 0.8334248347317569, 0.8334248347317569, 0.8334248347317569, 0.8334248347317569, 0.8334248347317569, 0.8334248347317569, 0.8334248347317569, 0.8334248347317569, 0.8334248347317569, 0.8334248347317569, 0.8334248347317569, 0.8334248347317569, 0.8334248347317569, 0.8334248347317569, 0.8334248347317569, 0.8334248347317569, 0.8334248347317569, 0.8334248347317569, 0.8334248347317569, 0.8334248347317569, 0.8334248347317569, 0.8334248347317569, 0.8334248347317569, 0.8334248347317569, 0.8334248347317569, 0.8334248347317569, 0.8334248347317569, 0.8414365496250508, 0.8414365496250508]}], \"recall_score_weighted\": [{\"categories\": [\"0\", \"1\", \"2\", \"3\", \"4\", \"5\", \"6\", \"7\", \"8\", \"9\", \"10\", \"11\", \"12\", \"13\", \"14\", \"15\", \"16\", \"17\", \"18\", \"19\", \"20\", \"21\", \"22\", \"23\", \"24\", \"25\", \"26\", \"27\", \"28\", \"29\", \"30\", \"31\", \"32\", \"33\", \"34\", \"35\", \"36\", \"37\", \"38\", \"39\", \"40\", \"41\", \"42\", \"44\", \"45\"], \"mode\": \"markers\", \"name\": \"recall_score_weighted\", \"stepped\": false, \"type\": \"scatter\", \"data\": [0.8359770114942527, 0.8358620689655172, 0.8260919540229885, 0.822528735632184, 0.8490804597701149, 0.7191954022988506, 0.7160919540229885, 0.8327586206896551, 0.8158620689655172, 0.8460919540229884, 0.8395402298850575, 0.8325287356321839, 0.8459770114942529, 0.8260919540229885, 0.8362068965517242, 0.7990804597701151, 0.8226436781609194, 0.8425287356321839, 0.8491954022988507, 0.8093103448275862, 0.8393103448275863, 0.8260919540229885, 0.8095402298850575, 0.8358620689655172, 0.7928735632183909, 0.6791954022988507, 0.8228735632183908, 0.8527586206896552, 0.8393103448275863, 0.8058620689655174, 0.6791954022988507, 0.8293103448275861, 0.8326436781609197, 0.8191954022988506, 0.8428735632183908, 0.8327586206896551, 0.8459770114942529, 0.8426436781609195, 0.8328735632183909, 0.8458620689655174, 0.7925287356321841, 0.8327586206896551, 0.8194252873563219, 0.8728735632183909, 0.8493103448275864]}, {\"categories\": [\"0\", \"1\", \"2\", \"3\", \"4\", \"5\", \"6\", \"7\", \"8\", \"9\", \"10\", \"11\", \"12\", \"13\", \"14\", \"15\", \"16\", \"17\", \"18\", \"19\", \"20\", \"21\", \"22\", \"23\", \"24\", \"25\", \"26\", \"27\", \"28\", \"29\", \"30\", \"31\", \"32\", \"33\", \"34\", \"35\", \"36\", \"37\", \"38\", \"39\", \"40\", \"41\", \"42\", \"44\", \"45\"], \"mode\": \"lines\", \"name\": \"recall_score_weighted_max\", \"stepped\": true, \"type\": \"scatter\", \"data\": [0.8359770114942527, 0.8359770114942527, 0.8359770114942527, 0.8359770114942527, 0.8490804597701149, 0.8490804597701149, 0.8490804597701149, 0.8490804597701149, 0.8490804597701149, 0.8490804597701149, 0.8490804597701149, 0.8490804597701149, 0.8490804597701149, 0.8490804597701149, 0.8490804597701149, 0.8490804597701149, 0.8490804597701149, 0.8490804597701149, 0.8491954022988507, 0.8491954022988507, 0.8491954022988507, 0.8491954022988507, 0.8491954022988507, 0.8491954022988507, 0.8491954022988507, 0.8491954022988507, 0.8491954022988507, 0.8527586206896552, 0.8527586206896552, 0.8527586206896552, 0.8527586206896552, 0.8527586206896552, 0.8527586206896552, 0.8527586206896552, 0.8527586206896552, 0.8527586206896552, 0.8527586206896552, 0.8527586206896552, 0.8527586206896552, 0.8527586206896552, 0.8527586206896552, 0.8527586206896552, 0.8527586206896552, 0.8728735632183909, 0.8728735632183909]}], \"recall_score_micro\": [{\"categories\": [\"0\", \"1\", \"2\", \"3\", \"4\", \"5\", \"6\", \"7\", \"8\", \"9\", \"10\", \"11\", \"12\", \"13\", \"14\", \"15\", \"16\", \"17\", \"18\", \"19\", \"20\", \"21\", \"22\", \"23\", \"24\", \"25\", \"26\", \"27\", \"28\", \"29\", \"30\", \"31\", \"32\", \"33\", \"34\", \"35\", \"36\", \"37\", \"38\", \"39\", \"40\", \"41\", \"42\", \"44\", \"45\"], \"mode\": \"markers\", \"name\": \"recall_score_micro\", \"stepped\": false, \"type\": \"scatter\", \"data\": [0.8359770114942527, 0.8358620689655172, 0.8260919540229885, 0.822528735632184, 0.8490804597701149, 0.7191954022988506, 0.7160919540229885, 0.8327586206896551, 0.8158620689655172, 0.8460919540229884, 0.8395402298850575, 0.8325287356321839, 0.8459770114942529, 0.8260919540229885, 0.8362068965517242, 0.7990804597701151, 0.8226436781609194, 0.8425287356321839, 0.8491954022988507, 0.8093103448275862, 0.8393103448275863, 0.8260919540229885, 0.8095402298850575, 0.8358620689655172, 0.7928735632183909, 0.6791954022988507, 0.8228735632183908, 0.8527586206896552, 0.8393103448275863, 0.8058620689655174, 0.6791954022988507, 0.8293103448275861, 0.8326436781609197, 0.8191954022988506, 0.8428735632183908, 0.8327586206896551, 0.8459770114942529, 0.8426436781609195, 0.8328735632183909, 0.8458620689655174, 0.7925287356321841, 0.8327586206896551, 0.8194252873563219, 0.8728735632183909, 0.8493103448275864]}, {\"categories\": [\"0\", \"1\", \"2\", \"3\", \"4\", \"5\", \"6\", \"7\", \"8\", \"9\", \"10\", \"11\", \"12\", \"13\", \"14\", \"15\", \"16\", \"17\", \"18\", \"19\", \"20\", \"21\", \"22\", \"23\", \"24\", \"25\", \"26\", \"27\", \"28\", \"29\", \"30\", \"31\", \"32\", \"33\", \"34\", \"35\", \"36\", \"37\", \"38\", \"39\", \"40\", \"41\", \"42\", \"44\", \"45\"], \"mode\": \"lines\", \"name\": \"recall_score_micro_max\", \"stepped\": true, \"type\": \"scatter\", \"data\": [0.8359770114942527, 0.8359770114942527, 0.8359770114942527, 0.8359770114942527, 0.8490804597701149, 0.8490804597701149, 0.8490804597701149, 0.8490804597701149, 0.8490804597701149, 0.8490804597701149, 0.8490804597701149, 0.8490804597701149, 0.8490804597701149, 0.8490804597701149, 0.8490804597701149, 0.8490804597701149, 0.8490804597701149, 0.8490804597701149, 0.8491954022988507, 0.8491954022988507, 0.8491954022988507, 0.8491954022988507, 0.8491954022988507, 0.8491954022988507, 0.8491954022988507, 0.8491954022988507, 0.8491954022988507, 0.8527586206896552, 0.8527586206896552, 0.8527586206896552, 0.8527586206896552, 0.8527586206896552, 0.8527586206896552, 0.8527586206896552, 0.8527586206896552, 0.8527586206896552, 0.8527586206896552, 0.8527586206896552, 0.8527586206896552, 0.8527586206896552, 0.8527586206896552, 0.8527586206896552, 0.8527586206896552, 0.8728735632183909, 0.8728735632183909]}], \"recall_score_macro\": [{\"categories\": [\"0\", \"1\", \"2\", \"3\", \"4\", \"5\", \"6\", \"7\", \"8\", \"9\", \"10\", \"11\", \"12\", \"13\", \"14\", \"15\", \"16\", \"17\", \"18\", \"19\", \"20\", \"21\", \"22\", \"23\", \"24\", \"25\", \"26\", \"27\", \"28\", \"29\", \"30\", \"31\", \"32\", \"33\", \"34\", \"35\", \"36\", \"37\", \"38\", \"39\", \"40\", \"41\", \"42\", \"44\", \"45\"], \"mode\": \"markers\", \"name\": \"recall_score_macro\", \"stepped\": false, \"type\": \"scatter\", \"data\": [0.8077082895810014, 0.8130249020938379, 0.7999381284238265, 0.7723404191473413, 0.8334248347317569, 0.6463685803771616, 0.6247813737241655, 0.7918168440699906, 0.7804265538682015, 0.8130566794951806, 0.7756970427551092, 0.7885545690642944, 0.8181587404776763, 0.783653519090876, 0.8095071398852862, 0.7311509521498081, 0.7647936289174846, 0.8164741312272777, 0.8247623707655173, 0.7548789150082056, 0.7958448240991147, 0.7600986119779026, 0.7533568246208406, 0.7956317791349254, 0.7157264125399136, 0.5, 0.7652568418741188, 0.8246049886739246, 0.818404145657292, 0.8026685859906685, 0.5, 0.7823264580258287, 0.8020462812994278, 0.7928148694364369, 0.8053512957294421, 0.7974125378498949, 0.820647917966854, 0.7993124828705492, 0.7992031536350759, 0.8041710373595385, 0.7207121847768301, 0.8095990457864028, 0.7735289652821118, 0.8414365496250508, 0.8158230081957198]}, {\"categories\": [\"0\", \"1\", \"2\", \"3\", \"4\", \"5\", \"6\", \"7\", \"8\", \"9\", \"10\", \"11\", \"12\", \"13\", \"14\", \"15\", \"16\", \"17\", \"18\", \"19\", \"20\", \"21\", \"22\", \"23\", \"24\", \"25\", \"26\", \"27\", \"28\", \"29\", \"30\", \"31\", \"32\", \"33\", \"34\", \"35\", \"36\", \"37\", \"38\", \"39\", \"40\", \"41\", \"42\", \"44\", \"45\"], \"mode\": \"lines\", \"name\": \"recall_score_macro_max\", \"stepped\": true, \"type\": \"scatter\", \"data\": [0.8077082895810014, 0.8130249020938379, 0.8130249020938379, 0.8130249020938379, 0.8334248347317569, 0.8334248347317569, 0.8334248347317569, 0.8334248347317569, 0.8334248347317569, 0.8334248347317569, 0.8334248347317569, 0.8334248347317569, 0.8334248347317569, 0.8334248347317569, 0.8334248347317569, 0.8334248347317569, 0.8334248347317569, 0.8334248347317569, 0.8334248347317569, 0.8334248347317569, 0.8334248347317569, 0.8334248347317569, 0.8334248347317569, 0.8334248347317569, 0.8334248347317569, 0.8334248347317569, 0.8334248347317569, 0.8334248347317569, 0.8334248347317569, 0.8334248347317569, 0.8334248347317569, 0.8334248347317569, 0.8334248347317569, 0.8334248347317569, 0.8334248347317569, 0.8334248347317569, 0.8334248347317569, 0.8334248347317569, 0.8334248347317569, 0.8334248347317569, 0.8334248347317569, 0.8334248347317569, 0.8334248347317569, 0.8414365496250508, 0.8414365496250508]}], \"precision_score_macro\": [{\"categories\": [\"0\", \"1\", \"2\", \"3\", \"4\", \"5\", \"6\", \"7\", \"8\", \"9\", \"10\", \"11\", \"12\", \"13\", \"14\", \"15\", \"16\", \"17\", \"18\", \"19\", \"20\", \"21\", \"22\", \"23\", \"24\", \"25\", \"26\", \"27\", \"28\", \"29\", \"30\", \"31\", \"32\", \"33\", \"34\", \"35\", \"36\", \"37\", \"38\", \"39\", \"40\", \"41\", \"42\", \"44\", \"45\"], \"mode\": \"markers\", \"name\": \"precision_score_macro\", \"stepped\": false, \"type\": \"scatter\", \"data\": [0.8167365852764965, 0.8232986049897815, 0.8039833114493231, 0.8024450704094667, 0.8236571067821068, 0.6919088299256965, 0.6901002484105933, 0.8294928031541303, 0.8142372829306467, 0.8349204491796026, 0.8660071534745448, 0.8256218986962693, 0.8356502525252525, 0.8043423686997857, 0.8208112856094415, 0.7924679540520502, 0.8236542443064183, 0.8278649787268714, 0.8376881182542947, 0.801629315129315, 0.8347272430087076, 0.8466691396365309, 0.786473447732029, 0.8249615738952123, 0.8220415679328724, 0.33959770114942534, 0.8172176736307172, 0.8499304741152567, 0.8225577940814516, 0.780478563833827, 0.33959770114942534, 0.8262792782901478, 0.8169471769014104, 0.7992483163607306, 0.8381498648410414, 0.8174719886012791, 0.8268581426313624, 0.8357499232270399, 0.8173703651421041, 0.8428841166573363, 0.8090601399405747, 0.8106436278271317, 0.8019083553746025, 0.8692424177130059, 0.8528318507295489]}, {\"categories\": [\"0\", \"1\", \"2\", \"3\", \"4\", \"5\", \"6\", \"7\", \"8\", \"9\", \"10\", \"11\", \"12\", \"13\", \"14\", \"15\", \"16\", \"17\", \"18\", \"19\", \"20\", \"21\", \"22\", \"23\", \"24\", \"25\", \"26\", \"27\", \"28\", \"29\", \"30\", \"31\", \"32\", \"33\", \"34\", \"35\", \"36\", \"37\", \"38\", \"39\", \"40\", \"41\", \"42\", \"44\", \"45\"], \"mode\": \"lines\", \"name\": \"precision_score_macro_max\", \"stepped\": true, \"type\": \"scatter\", \"data\": [0.8167365852764965, 0.8232986049897815, 0.8232986049897815, 0.8232986049897815, 0.8236571067821068, 0.8236571067821068, 0.8236571067821068, 0.8294928031541303, 0.8294928031541303, 0.8349204491796026, 0.8660071534745448, 0.8660071534745448, 0.8660071534745448, 0.8660071534745448, 0.8660071534745448, 0.8660071534745448, 0.8660071534745448, 0.8660071534745448, 0.8660071534745448, 0.8660071534745448, 0.8660071534745448, 0.8660071534745448, 0.8660071534745448, 0.8660071534745448, 0.8660071534745448, 0.8660071534745448, 0.8660071534745448, 0.8660071534745448, 0.8660071534745448, 0.8660071534745448, 0.8660071534745448, 0.8660071534745448, 0.8660071534745448, 0.8660071534745448, 0.8660071534745448, 0.8660071534745448, 0.8660071534745448, 0.8660071534745448, 0.8660071534745448, 0.8660071534745448, 0.8660071534745448, 0.8660071534745448, 0.8660071534745448, 0.8692424177130059, 0.8692424177130059]}], \"precision_score_micro\": [{\"categories\": [\"0\", \"1\", \"2\", \"3\", \"4\", \"5\", \"6\", \"7\", \"8\", \"9\", \"10\", \"11\", \"12\", \"13\", \"14\", \"15\", \"16\", \"17\", \"18\", \"19\", \"20\", \"21\", \"22\", \"23\", \"24\", \"25\", \"26\", \"27\", \"28\", \"29\", \"30\", \"31\", \"32\", \"33\", \"34\", \"35\", \"36\", \"37\", \"38\", \"39\", \"40\", \"41\", \"42\", \"44\", \"45\"], \"mode\": \"markers\", \"name\": \"precision_score_micro\", \"stepped\": false, \"type\": \"scatter\", \"data\": [0.8359770114942527, 0.8358620689655172, 0.8260919540229885, 0.822528735632184, 0.8490804597701149, 0.7191954022988506, 0.7160919540229885, 0.8327586206896551, 0.8158620689655172, 0.8460919540229884, 0.8395402298850575, 0.8325287356321839, 0.8459770114942529, 0.8260919540229885, 0.8362068965517242, 0.7990804597701151, 0.8226436781609194, 0.8425287356321839, 0.8491954022988507, 0.8093103448275862, 0.8393103448275863, 0.8260919540229885, 0.8095402298850575, 0.8358620689655172, 0.7928735632183909, 0.6791954022988507, 0.8228735632183908, 0.8527586206896552, 0.8393103448275863, 0.8058620689655174, 0.6791954022988507, 0.8293103448275861, 0.8326436781609197, 0.8191954022988506, 0.8428735632183908, 0.8327586206896551, 0.8459770114942529, 0.8426436781609195, 0.8328735632183909, 0.8458620689655174, 0.7925287356321841, 0.8327586206896551, 0.8194252873563219, 0.8728735632183909, 0.8493103448275864]}, {\"categories\": [\"0\", \"1\", \"2\", \"3\", \"4\", \"5\", \"6\", \"7\", \"8\", \"9\", \"10\", \"11\", \"12\", \"13\", \"14\", \"15\", \"16\", \"17\", \"18\", \"19\", \"20\", \"21\", \"22\", \"23\", \"24\", \"25\", \"26\", \"27\", \"28\", \"29\", \"30\", \"31\", \"32\", \"33\", \"34\", \"35\", \"36\", \"37\", \"38\", \"39\", \"40\", \"41\", \"42\", \"44\", \"45\"], \"mode\": \"lines\", \"name\": \"precision_score_micro_max\", \"stepped\": true, \"type\": \"scatter\", \"data\": [0.8359770114942527, 0.8359770114942527, 0.8359770114942527, 0.8359770114942527, 0.8490804597701149, 0.8490804597701149, 0.8490804597701149, 0.8490804597701149, 0.8490804597701149, 0.8490804597701149, 0.8490804597701149, 0.8490804597701149, 0.8490804597701149, 0.8490804597701149, 0.8490804597701149, 0.8490804597701149, 0.8490804597701149, 0.8490804597701149, 0.8491954022988507, 0.8491954022988507, 0.8491954022988507, 0.8491954022988507, 0.8491954022988507, 0.8491954022988507, 0.8491954022988507, 0.8491954022988507, 0.8491954022988507, 0.8527586206896552, 0.8527586206896552, 0.8527586206896552, 0.8527586206896552, 0.8527586206896552, 0.8527586206896552, 0.8527586206896552, 0.8527586206896552, 0.8527586206896552, 0.8527586206896552, 0.8527586206896552, 0.8527586206896552, 0.8527586206896552, 0.8527586206896552, 0.8527586206896552, 0.8527586206896552, 0.8728735632183909, 0.8728735632183909]}], \"norm_macro_recall\": [{\"categories\": [\"0\", \"1\", \"2\", \"3\", \"4\", \"5\", \"6\", \"7\", \"8\", \"9\", \"10\", \"11\", \"12\", \"13\", \"14\", \"15\", \"16\", \"17\", \"18\", \"19\", \"20\", \"21\", \"22\", \"23\", \"24\", \"25\", \"26\", \"27\", \"28\", \"29\", \"30\", \"31\", \"32\", \"33\", \"34\", \"35\", \"36\", \"37\", \"38\", \"39\", \"40\", \"41\", \"42\", \"44\", \"45\"], \"mode\": \"markers\", \"name\": \"norm_macro_recall\", \"stepped\": false, \"type\": \"scatter\", \"data\": [0.6154165791620023, 0.626049804187676, 0.5998762568476527, 0.5446808382946827, 0.6668496694635138, 0.3046988832423615, 0.26989321789321796, 0.5836336881399811, 0.560853107736403, 0.6261133589903612, 0.5513940855102183, 0.5771091381285889, 0.6363174809553527, 0.5673070381817521, 0.6190142797705727, 0.4623019042996159, 0.5295872578349694, 0.6329482624545554, 0.6495247415310343, 0.5097578300164113, 0.5916896481982293, 0.5201972239558051, 0.5067136492416814, 0.5912635582698511, 0.4314528250798274, 0.0, 0.5305136837482376, 0.6492099773478491, 0.636808291314584, 0.6053371719813367, 0.0, 0.5646529160516576, 0.6040925625988555, 0.585629738872874, 0.6107025914588843, 0.5948250756997896, 0.6412958359337078, 0.5986249657410984, 0.5984063072701518, 0.6083420747190769, 0.44142436955366016, 0.6191980915728055, 0.5470579305642235, 0.6828730992501015, 0.6316460163914398]}, {\"categories\": [\"0\", \"1\", \"2\", \"3\", \"4\", \"5\", \"6\", \"7\", \"8\", \"9\", \"10\", \"11\", \"12\", \"13\", \"14\", \"15\", \"16\", \"17\", \"18\", \"19\", \"20\", \"21\", \"22\", \"23\", \"24\", \"25\", \"26\", \"27\", \"28\", \"29\", \"30\", \"31\", \"32\", \"33\", \"34\", \"35\", \"36\", \"37\", \"38\", \"39\", \"40\", \"41\", \"42\", \"44\", \"45\"], \"mode\": \"lines\", \"name\": \"norm_macro_recall_max\", \"stepped\": true, \"type\": \"scatter\", \"data\": [0.6154165791620023, 0.626049804187676, 0.626049804187676, 0.626049804187676, 0.6668496694635138, 0.6668496694635138, 0.6668496694635138, 0.6668496694635138, 0.6668496694635138, 0.6668496694635138, 0.6668496694635138, 0.6668496694635138, 0.6668496694635138, 0.6668496694635138, 0.6668496694635138, 0.6668496694635138, 0.6668496694635138, 0.6668496694635138, 0.6668496694635138, 0.6668496694635138, 0.6668496694635138, 0.6668496694635138, 0.6668496694635138, 0.6668496694635138, 0.6668496694635138, 0.6668496694635138, 0.6668496694635138, 0.6668496694635138, 0.6668496694635138, 0.6668496694635138, 0.6668496694635138, 0.6668496694635138, 0.6668496694635138, 0.6668496694635138, 0.6668496694635138, 0.6668496694635138, 0.6668496694635138, 0.6668496694635138, 0.6668496694635138, 0.6668496694635138, 0.6668496694635138, 0.6668496694635138, 0.6668496694635138, 0.6828730992501015, 0.6828730992501015]}], \"average_precision_score_weighted\": [{\"categories\": [\"0\", \"1\", \"2\", \"3\", \"4\", \"5\", \"6\", \"7\", \"8\", \"9\", \"10\", \"11\", \"12\", \"13\", \"14\", \"15\", \"16\", \"17\", \"18\", \"19\", \"20\", \"21\", \"22\", \"23\", \"24\", \"25\", \"26\", \"27\", \"28\", \"29\", \"30\", \"31\", \"32\", \"33\", \"34\", \"35\", \"36\", \"37\", \"38\", \"39\", \"40\", \"41\", \"42\", \"44\", \"45\"], \"mode\": \"markers\", \"name\": \"average_precision_score_weighted\", \"stepped\": false, \"type\": \"scatter\", \"data\": [0.9061112830231934, 0.907154018724502, 0.9173546805841909, 0.9040900050354945, 0.9138488943282782, 0.7902984708289256, 0.7667479162726786, 0.9165549146745361, 0.8924108348658691, 0.924123988524513, 0.9056979880760283, 0.9196896625977816, 0.9255242271265095, 0.8935158819941066, 0.9051350361494794, 0.9015759675909518, 0.916358520578126, 0.9158851262334006, 0.9194733151765468, 0.9051677305045654, 0.9128433838735328, 0.9177586180946771, 0.8830455007715559, 0.9169965915915241, 0.8939702033505987, 0.8946083908714094, 0.8890332673458807, 0.9243429461675229, 0.9173919493067823, 0.8773483112107554, 0.8932306957690986, 0.8998979281416123, 0.9176677634664925, 0.9086204121442798, 0.9132053137035909, 0.912496601883656, 0.9226261062104657, 0.9128585781760818, 0.9006999472492563, 0.9189274631293367, 0.9115570863372069, 0.9095413797542393, 0.8924699600571728, 0.9244406351361357, 0.9250260838048897]}, {\"categories\": [\"0\", \"1\", \"2\", \"3\", \"4\", \"5\", \"6\", \"7\", \"8\", \"9\", \"10\", \"11\", \"12\", \"13\", \"14\", \"15\", \"16\", \"17\", \"18\", \"19\", \"20\", \"21\", \"22\", \"23\", \"24\", \"25\", \"26\", \"27\", \"28\", \"29\", \"30\", \"31\", \"32\", \"33\", \"34\", \"35\", \"36\", \"37\", \"38\", \"39\", \"40\", \"41\", \"42\", \"44\", \"45\"], \"mode\": \"lines\", \"name\": \"average_precision_score_weighted_max\", \"stepped\": true, \"type\": \"scatter\", \"data\": [0.9061112830231934, 0.907154018724502, 0.9173546805841909, 0.9173546805841909, 0.9173546805841909, 0.9173546805841909, 0.9173546805841909, 0.9173546805841909, 0.9173546805841909, 0.924123988524513, 0.924123988524513, 0.924123988524513, 0.9255242271265095, 0.9255242271265095, 0.9255242271265095, 0.9255242271265095, 0.9255242271265095, 0.9255242271265095, 0.9255242271265095, 0.9255242271265095, 0.9255242271265095, 0.9255242271265095, 0.9255242271265095, 0.9255242271265095, 0.9255242271265095, 0.9255242271265095, 0.9255242271265095, 0.9255242271265095, 0.9255242271265095, 0.9255242271265095, 0.9255242271265095, 0.9255242271265095, 0.9255242271265095, 0.9255242271265095, 0.9255242271265095, 0.9255242271265095, 0.9255242271265095, 0.9255242271265095, 0.9255242271265095, 0.9255242271265095, 0.9255242271265095, 0.9255242271265095, 0.9255242271265095, 0.9255242271265095, 0.9255242271265095]}], \"AUC_micro\": [{\"categories\": [\"0\", \"1\", \"2\", \"3\", \"4\", \"5\", \"6\", \"7\", \"8\", \"9\", \"10\", \"11\", \"12\", \"13\", \"14\", \"15\", \"16\", \"17\", \"18\", \"19\", \"20\", \"21\", \"22\", \"23\", \"24\", \"25\", \"26\", \"27\", \"28\", \"29\", \"30\", \"31\", \"32\", \"33\", \"34\", \"35\", \"36\", \"37\", \"38\", \"39\", \"40\", \"41\", \"42\", \"44\", \"45\"], \"mode\": \"markers\", \"name\": \"AUC_micro\", \"stepped\": false, \"type\": \"scatter\", \"data\": [0.9035422116527941, 0.9042166732725592, 0.9090432025366628, 0.9016319196723479, 0.9066221429515128, 0.7878980710794028, 0.7721231998943058, 0.903497291584093, 0.8851874752279034, 0.9123433742898666, 0.8926513409961686, 0.9128853217069628, 0.9188891531245872, 0.8917838551988373, 0.8939495309816357, 0.8851932884132646, 0.8919398863786497, 0.9068677500330293, 0.9149612894702074, 0.8896981107147577, 0.9027644338750165, 0.8975012551195668, 0.8806337693222355, 0.9108365702206369, 0.8747956136874091, 0.843526621746598, 0.892228299643282, 0.9209593077024705, 0.9115909631391201, 0.8648697318007663, 0.8328541418945701, 0.8919223147047166, 0.9145889813713832, 0.8965597833267276, 0.9042848460827058, 0.9010568106751222, 0.9173999207292904, 0.8985110318404018, 0.9030138723741578, 0.9118833399392259, 0.8848345884529, 0.9055052186550403, 0.8860042277711718, 0.919395957193817, 0.9150470339542872]}, {\"categories\": [\"0\", \"1\", \"2\", \"3\", \"4\", \"5\", \"6\", \"7\", \"8\", \"9\", \"10\", \"11\", \"12\", \"13\", \"14\", \"15\", \"16\", \"17\", \"18\", \"19\", \"20\", \"21\", \"22\", \"23\", \"24\", \"25\", \"26\", \"27\", \"28\", \"29\", \"30\", \"31\", \"32\", \"33\", \"34\", \"35\", \"36\", \"37\", \"38\", \"39\", \"40\", \"41\", \"42\", \"44\", \"45\"], \"mode\": \"lines\", \"name\": \"AUC_micro_max\", \"stepped\": true, \"type\": \"scatter\", \"data\": [0.9035422116527941, 0.9042166732725592, 0.9090432025366628, 0.9090432025366628, 0.9090432025366628, 0.9090432025366628, 0.9090432025366628, 0.9090432025366628, 0.9090432025366628, 0.9123433742898666, 0.9123433742898666, 0.9128853217069628, 0.9188891531245872, 0.9188891531245872, 0.9188891531245872, 0.9188891531245872, 0.9188891531245872, 0.9188891531245872, 0.9188891531245872, 0.9188891531245872, 0.9188891531245872, 0.9188891531245872, 0.9188891531245872, 0.9188891531245872, 0.9188891531245872, 0.9188891531245872, 0.9188891531245872, 0.9209593077024705, 0.9209593077024705, 0.9209593077024705, 0.9209593077024705, 0.9209593077024705, 0.9209593077024705, 0.9209593077024705, 0.9209593077024705, 0.9209593077024705, 0.9209593077024705, 0.9209593077024705, 0.9209593077024705, 0.9209593077024705, 0.9209593077024705, 0.9209593077024705, 0.9209593077024705, 0.9209593077024705, 0.9209593077024705]}], \"log_loss\": [{\"categories\": [\"0\", \"1\", \"2\", \"3\", \"4\", \"5\", \"6\", \"7\", \"8\", \"9\", \"10\", \"11\", \"12\", \"13\", \"14\", \"15\", \"16\", \"17\", \"18\", \"19\", \"20\", \"21\", \"22\", \"23\", \"24\", \"25\", \"26\", \"27\", \"28\", \"29\", \"30\", \"31\", \"32\", \"33\", \"34\", \"35\", \"36\", \"37\", \"38\", \"39\", \"40\", \"41\", \"42\", \"44\", \"45\"], \"mode\": \"markers\", \"name\": \"log_loss\", \"stepped\": false, \"type\": \"scatter\", \"data\": [0.4772179826627182, 0.41764279466886123, 0.38563947242642094, 0.40406108935823165, 0.38309928818340094, 0.5774117688738853, 0.5912114193884584, 0.394405483274961, 0.4183836697152025, 0.38840053703766164, 0.4285592357966557, 0.38231145959136503, 0.35875464389798856, 0.41690455481660943, 0.4182362547689416, 0.4323462460439889, 0.45853779779480364, 0.3981412017755465, 0.3608878597693498, 0.4262173543874477, 0.41860634754545883, 0.4227894568759668, 0.5047891007164101, 0.3896540730431475, 0.4599812797569827, 0.6103789418442277, 0.4212980328833802, 0.3555836844979051, 0.37049858620541565, 0.5661102676788473, 0.5657107607034282, 0.4977097528167553, 0.3637845921328401, 0.4778183433589841, 0.3881262762921599, 0.4019611794074704, 0.35574466006903627, 0.4344605650348279, 0.39376034477273814, 0.41292124326684176, 0.4430706989151322, 0.38571314696468156, 0.4393267888299849, 0.36758442704543737, 0.40048426559198197]}, {\"categories\": [\"0\", \"1\", \"2\", \"3\", \"4\", \"5\", \"6\", \"7\", \"8\", \"9\", \"10\", \"11\", \"12\", \"13\", \"14\", \"15\", \"16\", \"17\", \"18\", \"19\", \"20\", \"21\", \"22\", \"23\", \"24\", \"25\", \"26\", \"27\", \"28\", \"29\", \"30\", \"31\", \"32\", \"33\", \"34\", \"35\", \"36\", \"37\", \"38\", \"39\", \"40\", \"41\", \"42\", \"44\", \"45\"], \"mode\": \"lines\", \"name\": \"log_loss_min\", \"stepped\": true, \"type\": \"scatter\", \"data\": [0.4772179826627182, 0.41764279466886123, 0.38563947242642094, 0.38563947242642094, 0.38309928818340094, 0.38309928818340094, 0.38309928818340094, 0.38309928818340094, 0.38309928818340094, 0.38309928818340094, 0.38309928818340094, 0.38231145959136503, 0.35875464389798856, 0.35875464389798856, 0.35875464389798856, 0.35875464389798856, 0.35875464389798856, 0.35875464389798856, 0.35875464389798856, 0.35875464389798856, 0.35875464389798856, 0.35875464389798856, 0.35875464389798856, 0.35875464389798856, 0.35875464389798856, 0.35875464389798856, 0.35875464389798856, 0.3555836844979051, 0.3555836844979051, 0.3555836844979051, 0.3555836844979051, 0.3555836844979051, 0.3555836844979051, 0.3555836844979051, 0.3555836844979051, 0.3555836844979051, 0.3555836844979051, 0.3555836844979051, 0.3555836844979051, 0.3555836844979051, 0.3555836844979051, 0.3555836844979051, 0.3555836844979051, 0.3555836844979051, 0.3555836844979051]}]}, \"metricName\": null, \"primaryMetricName\": \"accuracy\", \"showLegend\": false}, \"run_metrics\": [{\"name\": \"experiment_status\", \"run_id\": \"AutoML_2585cd63-a50b-46ad-bea9-b2a5134d816f\", \"categories\": [0, 1, 2, 3, 4, 5, 6, 7, 8, 9, 10, 11, 12, 13], \"series\": [{\"data\": [\"DatasetEvaluation\", \"FeaturesGeneration\", \"DatasetFeaturization\", \"DatasetFeaturizationCompleted\", \"DatasetCrossValidationSplit\", \"ModelSelection\", \"BestRunExplainModel\", \"ModelExplanationDataSetSetup\", \"PickSurrogateModel\", \"EngineeredFeatureExplanations\", \"EngineeredFeatureExplanations\", \"RawFeaturesExplanations\", \"RawFeaturesExplanations\", \"BestRunExplainModel\"]}]}, {\"name\": \"experiment_status_description\", \"run_id\": \"AutoML_2585cd63-a50b-46ad-bea9-b2a5134d816f\", \"categories\": [0, 1, 2, 3, 4, 5, 6, 7, 8, 9, 10, 11, 12, 13], \"series\": [{\"data\": [\"Gathering dataset statistics.\", \"Generating features for the dataset.\", \"Beginning to fit featurizers and featurize the dataset.\", \"Completed fit featurizers and featurizing the dataset.\", \"Generating individually featurized CV splits.\", \"Beginning model selection.\", \"Best run model explanations started\", \"Model explanations data setup completed\", \"Choosing LightGBM as the surrogate model for explanations\", \"Computation of engineered features started\", \"Computation of engineered features completed\", \"Computation of raw features started\", \"Computation of raw features completed\", \"Best run model explanations completed\"]}]}, {\"name\": \"f1_score_weighted\", \"run_id\": \"AutoML_2585cd63-a50b-46ad-bea9-b2a5134d816f\", \"categories\": [0], \"series\": [{\"data\": [0.8694879607904256]}]}, {\"name\": \"precision_score_macro\", \"run_id\": \"AutoML_2585cd63-a50b-46ad-bea9-b2a5134d816f\", \"categories\": [0], \"series\": [{\"data\": [0.8692424177130059]}]}, {\"name\": \"AUC_micro\", \"run_id\": \"AutoML_2585cd63-a50b-46ad-bea9-b2a5134d816f\", \"categories\": [0], \"series\": [{\"data\": [0.919395957193817]}]}, {\"name\": \"average_precision_score_micro\", \"run_id\": \"AutoML_2585cd63-a50b-46ad-bea9-b2a5134d816f\", \"categories\": [0], \"series\": [{\"data\": [0.9223702036671948]}]}, {\"name\": \"average_precision_score_macro\", \"run_id\": \"AutoML_2585cd63-a50b-46ad-bea9-b2a5134d816f\", \"categories\": [0], \"series\": [{\"data\": [0.9001151631146799]}]}, {\"name\": \"recall_score_micro\", \"run_id\": \"AutoML_2585cd63-a50b-46ad-bea9-b2a5134d816f\", \"categories\": [0], \"series\": [{\"data\": [0.8728735632183909]}]}, {\"name\": \"f1_score_macro\", \"run_id\": \"AutoML_2585cd63-a50b-46ad-bea9-b2a5134d816f\", \"categories\": [0], \"series\": [{\"data\": [0.8453642243000564]}]}, {\"name\": \"balanced_accuracy\", \"run_id\": \"AutoML_2585cd63-a50b-46ad-bea9-b2a5134d816f\", \"categories\": [0], \"series\": [{\"data\": [0.8414365496250508]}]}, {\"name\": \"average_precision_score_weighted\", \"run_id\": \"AutoML_2585cd63-a50b-46ad-bea9-b2a5134d816f\", \"categories\": [0], \"series\": [{\"data\": [0.9244406351361357]}]}, {\"name\": \"AUC_macro\", \"run_id\": \"AutoML_2585cd63-a50b-46ad-bea9-b2a5134d816f\", \"categories\": [0], \"series\": [{\"data\": [0.9121175271291975]}]}, {\"name\": \"accuracy\", \"run_id\": \"AutoML_2585cd63-a50b-46ad-bea9-b2a5134d816f\", \"categories\": [0], \"series\": [{\"data\": [0.8728735632183909]}]}, {\"name\": \"f1_score_micro\", \"run_id\": \"AutoML_2585cd63-a50b-46ad-bea9-b2a5134d816f\", \"categories\": [0], \"series\": [{\"data\": [0.8728735632183909]}]}, {\"name\": \"recall_score_weighted\", \"run_id\": \"AutoML_2585cd63-a50b-46ad-bea9-b2a5134d816f\", \"categories\": [0], \"series\": [{\"data\": [0.8728735632183909]}]}, {\"name\": \"log_loss\", \"run_id\": \"AutoML_2585cd63-a50b-46ad-bea9-b2a5134d816f\", \"categories\": [0], \"series\": [{\"data\": [0.36758442704543737]}]}, {\"name\": \"weighted_accuracy\", \"run_id\": \"AutoML_2585cd63-a50b-46ad-bea9-b2a5134d816f\", \"categories\": [0], \"series\": [{\"data\": [0.8926749759301013]}]}, {\"name\": \"norm_macro_recall\", \"run_id\": \"AutoML_2585cd63-a50b-46ad-bea9-b2a5134d816f\", \"categories\": [0], \"series\": [{\"data\": [0.6828730992501015]}]}, {\"name\": \"recall_score_macro\", \"run_id\": \"AutoML_2585cd63-a50b-46ad-bea9-b2a5134d816f\", \"categories\": [0], \"series\": [{\"data\": [0.8414365496250508]}]}, {\"name\": \"precision_score_micro\", \"run_id\": \"AutoML_2585cd63-a50b-46ad-bea9-b2a5134d816f\", \"categories\": [0], \"series\": [{\"data\": [0.8728735632183909]}]}, {\"name\": \"AUC_weighted\", \"run_id\": \"AutoML_2585cd63-a50b-46ad-bea9-b2a5134d816f\", \"categories\": [0], \"series\": [{\"data\": [0.9121175271291977]}]}, {\"name\": \"precision_score_weighted\", \"run_id\": \"AutoML_2585cd63-a50b-46ad-bea9-b2a5134d816f\", \"categories\": [0], \"series\": [{\"data\": [0.8833188070662714]}]}, {\"name\": \"matthews_correlation\", \"run_id\": \"AutoML_2585cd63-a50b-46ad-bea9-b2a5134d816f\", \"categories\": [0], \"series\": [{\"data\": [0.7087033931349932]}]}], \"run_logs\": \"\\nRun is completed.\", \"graph\": {}, \"widget_settings\": {\"childWidgetDisplay\": \"popup\", \"send_telemetry\": false, \"log_level\": \"INFO\", \"sdk_version\": \"1.26.0\"}, \"loading\": false}"
          },
          "metadata": {}
        },
        {
          "output_type": "display_data",
          "data": {
            "text/plain": "<IPython.core.display.HTML object>",
            "text/html": "<table style=\"width:100%\"><tr><th>Experiment</th><th>Id</th><th>Type</th><th>Status</th><th>Details Page</th><th>Docs Page</th></tr><tr><td>heart_failure_prediction</td><td>AutoML_2585cd63-a50b-46ad-bea9-b2a5134d816f</td><td>automl</td><td>Completed</td><td><a href=\"https://ml.azure.com/runs/AutoML_2585cd63-a50b-46ad-bea9-b2a5134d816f?wsid=/subscriptions/2c48c51c-bd47-40d4-abbe-fb8eabd19c8c/resourcegroups/aml-quickstarts-142842/workspaces/quick-starts-ws-142842&amp;tid=660b3398-b80e-49d2-bc5b-ac1dc93b5254\" target=\"_blank\" rel=\"noopener\">Link to Azure Machine Learning studio</a></td><td><a href=\"https://docs.microsoft.com/en-us/python/api/overview/azure/ml/intro?view=azure-ml-py\" target=\"_blank\" rel=\"noopener\">Link to Documentation</a></td></tr></table>"
          },
          "metadata": {}
        },
        {
          "output_type": "stream",
          "name": "stdout",
          "text": [
            "\n",
            "\n",
            "****************************************************************************************************\n",
            "DATA GUARDRAILS: \n",
            "\n",
            "TYPE:         Cross validation\n",
            "STATUS:       DONE\n",
            "DESCRIPTION:  Each iteration of the trained model was validated through cross-validation.\n",
            "              \n",
            "DETAILS:      \n",
            "+---------------------------------+\n",
            "|Number of folds                  |\n",
            "+=================================+\n",
            "|10                               |\n",
            "+---------------------------------+\n",
            "\n",
            "****************************************************************************************************\n",
            "\n",
            "TYPE:         Class balancing detection\n",
            "STATUS:       PASSED\n",
            "DESCRIPTION:  Your inputs were analyzed, and all classes are balanced in your training data.\n",
            "              Learn more about imbalanced data: https://aka.ms/AutomatedMLImbalancedData\n",
            "\n",
            "****************************************************************************************************\n",
            "\n",
            "TYPE:         Missing feature values imputation\n",
            "STATUS:       PASSED\n",
            "DESCRIPTION:  No feature missing values were detected in the training data.\n",
            "              Learn more about missing value imputation: https://aka.ms/AutomatedMLFeaturization\n",
            "\n",
            "****************************************************************************************************\n",
            "\n",
            "TYPE:         High cardinality feature detection\n",
            "STATUS:       PASSED\n",
            "DESCRIPTION:  Your inputs were analyzed, and no high cardinality features were detected.\n",
            "              Learn more about high cardinality feature handling: https://aka.ms/AutomatedMLFeaturization\n",
            "\n",
            "****************************************************************************************************\n",
            "\n",
            "****************************************************************************************************\n",
            "ITERATION: The iteration being evaluated.\n",
            "PIPELINE: A summary description of the pipeline being evaluated.\n",
            "DURATION: Time taken for the current iteration.\n",
            "METRIC: The result of computing score on the fitted pipeline.\n",
            "BEST: The best observed score thus far.\n",
            "****************************************************************************************************\n",
            "\n",
            " ITERATION   PIPELINE                                       DURATION      METRIC      BEST\n",
            "         0   MaxAbsScaler LightGBM                          0:01:07       0.8360    0.8360\n",
            "         1   MaxAbsScaler XGBoostClassifier                 0:00:49       0.8359    0.8360\n",
            "         2   MinMaxScaler RandomForest                      0:00:54       0.8261    0.8360\n",
            "         3   MinMaxScaler RandomForest                      0:01:05       0.8225    0.8360\n",
            "         4   MinMaxScaler RandomForest                      0:05:28       0.8491    0.8491\n",
            "         5   MinMaxScaler SVM                               0:05:37       0.7192    0.8491\n",
            "         6   MinMaxScaler SVM                               0:05:34       0.7161    0.8491\n",
            "         7   SparseNormalizer XGBoostClassifier             0:01:06       0.8328    0.8491\n",
            "        10   MaxAbsScaler ExtremeRandomTrees                0:01:03       0.8395    0.8491\n",
            "        11   StandardScalerWrapper LightGBM                 0:00:50       0.8325    0.8491\n",
            "         8   MinMaxScaler LogisticRegression                0:01:02       0.8159    0.8491\n",
            "         9   StandardScalerWrapper RandomForest             0:00:52       0.8461    0.8491\n",
            "        12   MaxAbsScaler GradientBoosting                  0:00:50       0.8460    0.8491\n",
            "        13   SparseNormalizer XGBoostClassifier             0:00:56       0.8261    0.8491\n",
            "        14   SparseNormalizer XGBoostClassifier             0:01:04       0.8362    0.8491\n",
            "        15   MaxAbsScaler LightGBM                          0:00:55       0.7991    0.8491\n",
            "        16   StandardScalerWrapper LightGBM                 0:00:51       0.8226    0.8491\n",
            "        17   StandardScalerWrapper LightGBM                 0:00:58       0.8425    0.8491\n",
            "        18   MinMaxScaler LightGBM                          0:01:03       0.8492    0.8492\n",
            "        19   MinMaxScaler LightGBM                          0:00:45       0.8093    0.8492\n",
            "        20   StandardScalerWrapper LightGBM                 0:00:54       0.8393    0.8492\n",
            "        21   MinMaxScaler LightGBM                          0:00:54       0.8261    0.8492\n",
            "        22   SparseNormalizer XGBoostClassifier             0:00:48       0.8095    0.8492\n",
            "        23   MaxAbsScaler LightGBM                          0:00:57       0.8359    0.8492\n",
            "        24   StandardScalerWrapper ExtremeRandomTrees       0:00:59       0.7929    0.8492\n",
            "        25   StandardScalerWrapper LightGBM                 0:00:56       0.6792    0.8492\n",
            "        26   SparseNormalizer XGBoostClassifier             0:00:57       0.8229    0.8492\n",
            "        27   MaxAbsScaler LightGBM                          0:01:00       0.8528    0.8528\n",
            "        28   RobustScaler LightGBM                          0:00:59       0.8393    0.8528\n",
            "        29   SparseNormalizer ExtremeRandomTrees            0:01:01       0.8059    0.8528\n",
            "        30   RobustScaler LightGBM                          0:00:48       0.6792    0.8528\n",
            "        31   StandardScalerWrapper XGBoostClassifier        0:00:50       0.8293    0.8528\n",
            "        32   RobustScaler RandomForest                      0:00:44       0.8326    0.8528\n",
            "        33   StandardScalerWrapper XGBoostClassifier        0:00:56       0.8192    0.8528\n",
            "        34   SparseNormalizer LightGBM                      0:00:50       0.8429    0.8528\n",
            "        35   MaxAbsScaler LightGBM                          0:01:03       0.8328    0.8528\n",
            "        36   StandardScalerWrapper RandomForest             0:01:00       0.8460    0.8528\n",
            "        37   MaxAbsScaler LightGBM                          0:00:52       0.8426    0.8528\n",
            "        38   SparseNormalizer RandomForest                  0:01:03       0.8329    0.8528\n",
            "        39   MaxAbsScaler LightGBM                          0:01:02       0.8459    0.8528\n",
            "        40   MaxAbsScaler LightGBM                          0:01:02       0.7925    0.8528\n",
            "        41   RobustScaler RandomForest                      0:00:49       0.8328    0.8528\n",
            "        42   MaxAbsScaler LightGBM                          0:00:30       0.8194    0.8528\n",
            "        43                                                  0:00:18          nan    0.8528\n",
            "        44    VotingEnsemble                                0:01:59       0.8729    0.8729\n",
            "        45    StackEnsemble                                 0:02:03       0.8493    0.8729\n"
          ]
        },
        {
          "output_type": "execute_result",
          "execution_count": 10,
          "data": {
            "text/plain": "{'runId': 'AutoML_2585cd63-a50b-46ad-bea9-b2a5134d816f',\n 'target': 'cpucompute',\n 'status': 'Completed',\n 'startTimeUtc': '2021-04-16T11:38:33.993525Z',\n 'endTimeUtc': '2021-04-16T12:09:15.652857Z',\n 'properties': {'num_iterations': '1000',\n  'training_type': 'TrainFull',\n  'acquisition_function': 'EI',\n  'primary_metric': 'accuracy',\n  'train_split': '0',\n  'acquisition_parameter': '0',\n  'num_cross_validation': None,\n  'target': 'cpucompute',\n  'AMLSettingsJsonString': '{\"path\":null,\"name\":\"heart_failure_prediction\",\"subscription_id\":\"2c48c51c-bd47-40d4-abbe-fb8eabd19c8c\",\"resource_group\":\"aml-quickstarts-142842\",\"workspace_name\":\"quick-starts-ws-142842\",\"region\":\"southcentralus\",\"compute_target\":\"cpucompute\",\"spark_service\":null,\"azure_service\":\"remote\",\"many_models\":false,\"pipeline_fetch_max_batch_size\":1,\"enable_batch_run\":false,\"enable_run_restructure\":false,\"iterations\":1000,\"primary_metric\":\"accuracy\",\"task_type\":\"classification\",\"data_script\":null,\"test_size\":0.0,\"validation_size\":0.0,\"n_cross_validations\":null,\"y_min\":null,\"y_max\":null,\"num_classes\":null,\"featurization\":\"auto\",\"_ignore_package_version_incompatibilities\":false,\"is_timeseries\":false,\"max_cores_per_iteration\":1,\"max_concurrent_iterations\":4,\"iteration_timeout_minutes\":null,\"mem_in_mb\":null,\"enforce_time_on_windows\":false,\"experiment_timeout_minutes\":20,\"experiment_exit_score\":null,\"whitelist_models\":null,\"blacklist_algos\":[\"TensorFlowLinearClassifier\",\"TensorFlowDNN\"],\"supported_models\":[\"LightGBM\",\"TensorFlowLinearClassifier\",\"BernoulliNaiveBayes\",\"KNN\",\"SGD\",\"TensorFlowDNN\",\"DecisionTree\",\"GradientBoosting\",\"XGBoostClassifier\",\"ExtremeRandomTrees\",\"AveragedPerceptronClassifier\",\"RandomForest\",\"SVM\",\"LinearSVM\",\"MultinomialNaiveBayes\",\"LogisticRegression\"],\"private_models\":[],\"auto_blacklist\":true,\"blacklist_samples_reached\":false,\"exclude_nan_labels\":true,\"verbosity\":20,\"_debug_log\":\"azureml_automl.log\",\"show_warnings\":false,\"model_explainability\":true,\"service_url\":null,\"sdk_url\":null,\"sdk_packages\":null,\"enable_onnx_compatible_models\":false,\"enable_split_onnx_featurizer_estimator_models\":false,\"vm_type\":\"STANDARD_D2_V2\",\"telemetry_verbosity\":20,\"send_telemetry\":true,\"enable_dnn\":false,\"scenario\":\"SDK-1.13.0\",\"environment_label\":null,\"save_mlflow\":false,\"force_text_dnn\":false,\"enable_feature_sweeping\":true,\"enable_early_stopping\":true,\"early_stopping_n_iters\":10,\"metrics\":null,\"enable_metric_confidence\":false,\"enable_ensembling\":true,\"enable_stack_ensembling\":true,\"ensemble_iterations\":15,\"enable_tf\":false,\"enable_subsampling\":null,\"subsample_seed\":null,\"enable_nimbusml\":false,\"enable_streaming\":false,\"force_streaming\":false,\"track_child_runs\":true,\"allowed_private_models\":[],\"label_column_name\":\"DEATH_EVENT\",\"weight_column_name\":null,\"cv_split_column_names\":null,\"enable_local_managed\":false,\"_local_managed_run_id\":null,\"cost_mode\":1,\"lag_length\":0,\"metric_operation\":\"maximize\",\"preprocess\":true}',\n  'DataPrepJsonString': '{\\\\\"training_data\\\\\": {\\\\\"datasetId\\\\\": \\\\\"5688a707-a901-4509-b755-fe8d01bab081\\\\\"}, \\\\\"datasets\\\\\": 0}',\n  'EnableSubsampling': None,\n  'runTemplate': 'AutoML',\n  'azureml.runsource': 'automl',\n  'display_task_type': 'classification',\n  'dependencies_versions': '{\"azureml-widgets\": \"1.26.0\", \"azureml-train\": \"1.26.0\", \"azureml-train-restclients-hyperdrive\": \"1.26.0\", \"azureml-train-core\": \"1.26.0\", \"azureml-train-automl\": \"1.26.0\", \"azureml-train-automl-runtime\": \"1.26.0\", \"azureml-train-automl-client\": \"1.26.0\", \"azureml-tensorboard\": \"1.26.0\", \"azureml-telemetry\": \"1.26.0\", \"azureml-sdk\": \"1.26.0\", \"azureml-samples\": \"0+unknown\", \"azureml-pipeline\": \"1.26.0\", \"azureml-pipeline-steps\": \"1.26.0\", \"azureml-pipeline-core\": \"1.26.0\", \"azureml-opendatasets\": \"1.26.0\", \"azureml-model-management-sdk\": \"1.0.1b6.post1\", \"azureml-mlflow\": \"1.26.0\", \"azureml-interpret\": \"1.26.0\", \"azureml-explain-model\": \"1.26.0\", \"azureml-defaults\": \"1.26.0\", \"azureml-dataset-runtime\": \"1.26.0\", \"azureml-dataprep\": \"2.13.2\", \"azureml-dataprep-rslex\": \"1.11.2\", \"azureml-dataprep-native\": \"32.0.0\", \"azureml-datadrift\": \"1.26.0\", \"azureml-core\": \"1.26.0\", \"azureml-contrib-services\": \"1.26.0\", \"azureml-contrib-server\": \"1.26.0\", \"azureml-contrib-reinforcementlearning\": \"1.26.0\", \"azureml-contrib-pipeline-steps\": \"1.26.0\", \"azureml-contrib-notebook\": \"1.26.0\", \"azureml-contrib-gbdt\": \"1.26.0\", \"azureml-contrib-fairness\": \"1.26.0\", \"azureml-contrib-dataset\": \"1.26.0\", \"azureml-cli-common\": \"1.26.0\", \"azureml-automl-runtime\": \"1.26.0\", \"azureml-automl-dnn-nlp\": \"1.26.0\", \"azureml-automl-core\": \"1.26.0\", \"azureml-accel-models\": \"1.26.0\"}',\n  '_aml_system_scenario_identification': 'Remote.Parent',\n  'ClientType': 'SDK',\n  'environment_cpu_name': 'AzureML-AutoML',\n  'environment_cpu_label': 'prod',\n  'environment_gpu_name': 'AzureML-AutoML-GPU',\n  'environment_gpu_label': 'prod',\n  'root_attribution': 'automl',\n  'attribution': 'AutoML',\n  'Orchestrator': 'AutoML',\n  'CancelUri': 'https://southcentralus.experiments.azureml.net/jasmine/v1.0/subscriptions/2c48c51c-bd47-40d4-abbe-fb8eabd19c8c/resourceGroups/aml-quickstarts-142842/providers/Microsoft.MachineLearningServices/workspaces/quick-starts-ws-142842/experimentids/7866e670-aae3-44af-a81f-903c82238f42/cancel/AutoML_2585cd63-a50b-46ad-bea9-b2a5134d816f',\n  'ClientSdkVersion': '1.25.0',\n  'snapshotId': '00000000-0000-0000-0000-000000000000',\n  'SetupRunId': 'AutoML_2585cd63-a50b-46ad-bea9-b2a5134d816f_setup',\n  'SetupRunContainerId': 'dcid.AutoML_2585cd63-a50b-46ad-bea9-b2a5134d816f_setup',\n  'FeaturizationRunJsonPath': 'featurizer_container.json',\n  'FeaturizationRunId': 'AutoML_2585cd63-a50b-46ad-bea9-b2a5134d816f_featurize',\n  'ProblemInfoJsonString': '{\"dataset_num_categorical\": 0, \"is_sparse\": false, \"subsampling\": false, \"dataset_classes\": 2, \"dataset_features\": 12, \"dataset_samples\": 299, \"single_frequency_class_detected\": false}',\n  'ModelExplainRunId': 'AutoML_2585cd63-a50b-46ad-bea9-b2a5134d816f_ModelExplain'},\n 'inputDatasets': [{'dataset': {'id': '5688a707-a901-4509-b755-fe8d01bab081'}, 'consumptionDetails': {'type': 'RunInput', 'inputName': 'training_data', 'mechanism': 'Direct'}}],\n 'outputDatasets': [],\n 'logFiles': {},\n 'submittedBy': 'ODL_User 142842'}"
          },
          "metadata": {}
        }
      ],
      "execution_count": 10,
      "metadata": {
        "gather": {
          "logged": 1618575401500
        },
        "jupyter": {
          "outputs_hidden": false,
          "source_hidden": false
        },
        "nteract": {
          "transient": {
            "deleting": false
          }
        }
      }
    },
    {
      "cell_type": "markdown",
      "source": [
        "## Best Model\n",
        "\n",
        "TODO: In the cell below, get the best model from the automl experiments and display all the properties of the model.\n",
        "\n"
      ],
      "metadata": {}
    },
    {
      "cell_type": "code",
      "source": [
        "best_run, best_model = remote_run.get_output()\n",
        "print(\"Best run ID:\"+ best_run.id)\n",
        "print(best_run)\n",
        "print(best_model)\n",
        "best_run_metrics = best_run.get_metrics()\n",
        "print(best_run_metrics)"
      ],
      "outputs": [
        {
          "output_type": "stream",
          "name": "stdout",
          "text": [
            "Best run ID:AutoML_2585cd63-a50b-46ad-bea9-b2a5134d816f_44\n",
            "Run(Experiment: heart_failure_prediction,\n",
            "Id: AutoML_2585cd63-a50b-46ad-bea9-b2a5134d816f_44,\n",
            "Type: azureml.scriptrun,\n",
            "Status: Completed)\n",
            "Pipeline(memory=None,\n",
            "         steps=[('datatransformer',\n",
            "                 DataTransformer(enable_dnn=None, enable_feature_sweeping=None,\n",
            "                                 feature_sweeping_config=None,\n",
            "                                 feature_sweeping_timeout=None,\n",
            "                                 featurization_config=None, force_text_dnn=None,\n",
            "                                 is_cross_validation=None,\n",
            "                                 is_onnx_compatible=None, logger=None,\n",
            "                                 observer=None, task=None, working_dir=None)),\n",
            "                ('prefittedsoftvotingclassifier',...\n",
            "                                                                                                reg_lambda=0.05263157894736842,\n",
            "                                                                                                silent=True,\n",
            "                                                                                                subsample=1,\n",
            "                                                                                                subsample_for_bin=200000,\n",
            "                                                                                                subsample_freq=0,\n",
            "                                                                                                verbose=-10))],\n",
            "                                                                     verbose=False))],\n",
            "                                               flatten_transform=None,\n",
            "                                               weights=[0.09090909090909091,\n",
            "                                                        0.09090909090909091,\n",
            "                                                        0.09090909090909091,\n",
            "                                                        0.18181818181818182,\n",
            "                                                        0.18181818181818182,\n",
            "                                                        0.09090909090909091,\n",
            "                                                        0.09090909090909091,\n",
            "                                                        0.09090909090909091,\n",
            "                                                        0.09090909090909091]))],\n",
            "         verbose=False)\n",
            "{'AUC_macro': 0.9121175271291975, 'precision_score_weighted': 0.8833188070662714, 'average_precision_score_weighted': 0.9244406351361357, 'log_loss': 0.36758442704543737, 'accuracy': 0.8728735632183909, 'AUC_weighted': 0.9121175271291977, 'AUC_micro': 0.919395957193817, 'matthews_correlation': 0.7087033931349932, 'precision_score_macro': 0.8692424177130059, 'precision_score_micro': 0.8728735632183909, 'f1_score_micro': 0.8728735632183909, 'average_precision_score_macro': 0.9001151631146799, 'weighted_accuracy': 0.8926749759301013, 'recall_score_macro': 0.8414365496250508, 'norm_macro_recall': 0.6828730992501015, 'average_precision_score_micro': 0.9223702036671948, 'f1_score_macro': 0.8453642243000564, 'balanced_accuracy': 0.8414365496250508, 'f1_score_weighted': 0.8694879607904256, 'recall_score_weighted': 0.8728735632183909, 'recall_score_micro': 0.8728735632183909, 'accuracy_table': 'aml://artifactId/ExperimentRun/dcid.AutoML_2585cd63-a50b-46ad-bea9-b2a5134d816f_44/accuracy_table', 'confusion_matrix': 'aml://artifactId/ExperimentRun/dcid.AutoML_2585cd63-a50b-46ad-bea9-b2a5134d816f_44/confusion_matrix'}\n"
          ]
        }
      ],
      "execution_count": 12,
      "metadata": {
        "gather": {
          "logged": 1618575535963
        },
        "jupyter": {
          "outputs_hidden": false,
          "source_hidden": false
        },
        "nteract": {
          "transient": {
            "deleting": false
          }
        }
      }
    },
    {
      "cell_type": "code",
      "source": [
        "#TODO: Save the best model\n",
        "model = best_run.register_model(model_name='heart-failure-prediction-automl-model',model_path='outputs/model.pkl', tags={'Method':'AutoML'}, properties={'accuracy': best_run_metrics['accuracy']})\n",
        "print(model)"
      ],
      "outputs": [
        {
          "output_type": "stream",
          "name": "stdout",
          "text": [
            "Model(workspace=Workspace.create(name='quick-starts-ws-142842', subscription_id='2c48c51c-bd47-40d4-abbe-fb8eabd19c8c', resource_group='aml-quickstarts-142842'), name=heart-failure-prediction-automl-model, id=heart-failure-prediction-automl-model:1, version=1, tags={'Method': 'AutoML'}, properties={'accuracy': '0.8728735632183909'})\n"
          ]
        }
      ],
      "execution_count": 13,
      "metadata": {
        "gather": {
          "logged": 1618575582549
        },
        "jupyter": {
          "outputs_hidden": false,
          "source_hidden": false
        },
        "nteract": {
          "transient": {
            "deleting": false
          }
        }
      }
    },
    {
      "cell_type": "markdown",
      "source": [
        "## Model Deployment\n",
        "\n",
        "Remember you have to deploy only one of the two models you trained.. Perform the steps in the rest of this notebook only if you wish to deploy this model.\n",
        "\n",
        "TODO: In the cell below, register the model, create an inference config and deploy the model as a web service."
      ],
      "metadata": {}
    },
    {
      "cell_type": "code",
      "source": [
        "from azureml.core.webservice import Aciwebservice, Webservice\n",
        "from azureml.core.model import Model, Inferenceconfig\n",
        "from azureml.core import Environment\n",
        "from aure_ml.core.conda_dependencies import CondaDependencies\n",
        "\n",
        "env = Environment.from_conda_specification(name='automlv2', file_path='conda_env_v_1_0_0.yml')\n",
        "inference_config = InferenceConfig(entry_script='score.py', environment=env)\n",
        "\n",
        "service_name = 'heartfailurepredictionautomlv2'\n",
        "\n",
        "deployment_config = AciWebservice.deploy_configuration(cpu_cores = 1.8, memory_gb = 4, auth_enabled = True, enable_app_insights = True)\n",
        "service = Model.deploy(ws, service_name, [model], inference_config, deployment_config)\n",
        "print(service.state)\n",
        "\n",
        "service.wait_for_deployment(show_output = True)\n",
        "url = service.scoring_uri\n",
        "print(url)"
      ],
      "outputs": [],
      "execution_count": null,
      "metadata": {
        "gather": {
          "logged": 1598431435189
        },
        "jupyter": {
          "outputs_hidden": false,
          "source_hidden": false
        },
        "nteract": {
          "transient": {
            "deleting": false
          }
        }
      }
    },
    {
      "cell_type": "markdown",
      "source": [
        "TODO: In the cell below, send a request to the web service you deployed to test it."
      ],
      "metadata": {
        "collapsed": true,
        "gather": {
          "logged": 1598431657736
        },
        "jupyter": {
          "outputs_hidden": false,
          "source_hidden": false
        },
        "nteract": {
          "transient": {
            "deleting": false
          }
        }
      }
    },
    {
      "cell_type": "code",
      "source": [
        "import json\n",
        "\n",
        "data = {\"data\":\n",
        "        [\n",
        "          {\n",
        "            \"age\": 36,\n",
        "            \"anaemia\": 0,\n",
        "            \"creatinine_phosphokinase\": 200,\n",
        "            \"diabetes\": 0,\n",
        "            \"ejection_fraction\": 30,\n",
        "            \"high_blood_pressure\": 0,\n",
        "            \"platelets\": 120000,\n",
        "            \"serum_creatinine\": 1.1,\n",
        "            \"serum_sodium\": 135,\n",
        "            \"sex\": 1,\n",
        "            \"smoking\": 0,\n",
        "            \"time\": 7\n",
        "          },\n",
        "          {\n",
        "            \"age\": 39,\n",
        "            \"anaemia\": 0,\n",
        "            \"creatinine_phosphokinase\": 300,\n",
        "            \"diabetes\": 0,\n",
        "            \"ejection_fraction\": 50,\n",
        "            \"high_blood_pressure\": 0,\n",
        "            \"platelets\": 200000,\n",
        "            \"serum_creatinine\": 0.9,\n",
        "            \"serum_sodium\": 250,\n",
        "            \"sex\": 0,\n",
        "            \"smoking\": 0,\n",
        "            \"time\": 1\n",
        "          }\n",
        "      ]\n",
        "    }\n",
        "\n",
        "input_payload = json.dumps(data)\n",
        "\n",
        "output = service.run(input_payload)\n",
        "\n",
        "print(output)"
      ],
      "outputs": [],
      "execution_count": null,
      "metadata": {
        "gather": {
          "logged": 1598432707604
        },
        "jupyter": {
          "outputs_hidden": false,
          "source_hidden": false
        },
        "nteract": {
          "transient": {
            "deleting": false
          }
        }
      }
    },
    {
      "cell_type": "markdown",
      "source": [
        "TODO: In the cell below, print the logs of the web service and delete the service"
      ],
      "metadata": {
        "collapsed": true,
        "gather": {
          "logged": 1598432765711
        },
        "jupyter": {
          "outputs_hidden": false,
          "source_hidden": false
        },
        "nteract": {
          "transient": {
            "deleting": false
          }
        }
      }
    },
    {
      "cell_type": "code",
      "source": [
        "#service.delete()"
      ],
      "outputs": [],
      "execution_count": null,
      "metadata": {
        "jupyter": {
          "outputs_hidden": false,
          "source_hidden": false
        },
        "nteract": {
          "transient": {
            "deleting": false
          }
        }
      }
    },
    {
      "cell_type": "code",
      "source": [],
      "outputs": [],
      "execution_count": null,
      "metadata": {}
    }
  ],
  "metadata": {
    "kernel_info": {
      "name": "python3"
    },
    "kernelspec": {
      "name": "python3",
      "language": "python",
      "display_name": "Python 3"
    },
    "language_info": {
      "name": "python",
      "version": "3.6.9",
      "mimetype": "text/x-python",
      "codemirror_mode": {
        "name": "ipython",
        "version": 3
      },
      "pygments_lexer": "ipython3",
      "nbconvert_exporter": "python",
      "file_extension": ".py"
    },
    "nteract": {
      "version": "nteract-front-end@1.0.0"
    },
    "microsoft": {
      "host": {
        "AzureML": {
          "notebookHasBeenCompleted": true
        }
      }
    }
  },
  "nbformat": 4,
  "nbformat_minor": 2
}