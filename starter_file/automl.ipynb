{
  "cells": [
    {
      "cell_type": "markdown",
      "source": [
        "# Automated ML\n",
        "\n",
        "TODO: Import Dependencies. In the cell below, import all the dependencies that you will need to complete the project."
      ],
      "metadata": {}
    },
    {
      "cell_type": "code",
      "source": [
        "from azureml.core import Experiment,Workspace\n",
        "from azureml.core.compute import ComputeTarget,AmlCompute\n",
        "from azureml.core.compute_target import ComputeTargetException\n",
        "from azureml.core.dataset import Dataset\n",
        "from azureml.train.automl import AutoMLConfig\n",
        "from azureml.widgets import RunDetails"
      ],
      "outputs": [],
      "execution_count": 1,
      "metadata": {
        "gather": {
          "logged": 1618720673986
        },
        "jupyter": {
          "outputs_hidden": false,
          "source_hidden": false
        },
        "nteract": {
          "transient": {
            "deleting": false
          }
        }
      }
    },
    {
      "cell_type": "markdown",
      "source": [
        "## Dataset\n",
        "\n",
        "### Overview\n",
        "TODO: In this markdown cell, give an overview of the dataset you are using. Also mention the task you will be performing.\n",
        "\n",
        "\n",
        "TODO: Get data. In the cell below, write code to access the data you will be using in this project. Remember that the dataset needs to be external."
      ],
      "metadata": {}
    },
    {
      "cell_type": "code",
      "source": [
        "ws = Workspace.from_config()\n",
        "\n",
        "# choose a name for experiment\n",
        "experiment_name = 'heart_failure_prediction'\n",
        "\n",
        "print('Workspace name: ' + ws.name, \n",
        "      'Azure region: ' + ws.location, \n",
        "      'Subscription id: ' + ws.subscription_id, \n",
        "      'Resource group: ' + ws.resource_group, sep = '\\n')\n",
        "\n",
        "\n",
        "experiment = Experiment(ws, experiment_name)\n",
        "run = experiment.start_logging()\n",
        "path = \"https://raw.githubusercontent.com/Sara-cos/Heart_Faliure_PredictionModel/main/starter_file/heart_failure_clinical_records_dataset.csv\"\n",
        "dataset = Dataset.Tabular.from_delimited_files(path)"
      ],
      "outputs": [
        {
          "output_type": "stream",
          "name": "stdout",
          "text": [
            "Workspace name: quick-starts-ws-142993\n",
            "Azure region: southcentralus\n",
            "Subscription id: 9b72f9e6-56c5-4c16-991b-19c652994860\n",
            "Resource group: aml-quickstarts-142993\n"
          ]
        }
      ],
      "execution_count": 2,
      "metadata": {
        "gather": {
          "logged": 1618720688953
        },
        "jupyter": {
          "outputs_hidden": false,
          "source_hidden": false
        },
        "nteract": {
          "transient": {
            "deleting": false
          }
        }
      }
    },
    {
      "cell_type": "code",
      "source": [
        "cpu_compute_name = \"cpucompute\"\n",
        "\n",
        "try:\n",
        "    cpu_cluster = ComputeTarget(workspace=ws, name= cpu_compute_name)\n",
        "    print('Using existing cluster')\n",
        "except ComputeTargetException:\n",
        "    compute_config = AmlCompute.provisioning_configuration(vm_size='Standard_D2_V2',\n",
        "                                                           max_nodes=4)\n",
        "    cpu_cluster = ComputeTarget.create(ws, cpu_compute_name, compute_config)\n",
        "\n",
        "cpu_cluster.wait_for_completion(show_output=True)"
      ],
      "outputs": [
        {
          "output_type": "stream",
          "name": "stdout",
          "text": [
            "Using existing cluster\n",
            "Succeeded\n",
            "AmlCompute wait for completion finished\n",
            "\n",
            "Minimum number of nodes requested have been provisioned\n"
          ]
        }
      ],
      "execution_count": 3,
      "metadata": {
        "gather": {
          "logged": 1618720689873
        }
      }
    },
    {
      "cell_type": "markdown",
      "source": [
        "## AutoML Configuration\n",
        "\n",
        "TODO: Explain why you chose the automl settings and cofiguration you used below."
      ],
      "metadata": {}
    },
    {
      "cell_type": "code",
      "source": [
        "# TODO: Put your automl settings here\n",
        "automl_settings = {\"experiment_timeout_minutes\": 20,\n",
        "    \"max_concurrent_iterations\": 4,\n",
        "    \"primary_metric\" : 'accuracy'}\n",
        "\n",
        "# TODO: Put your automl config here\n",
        "automl_config = AutoMLConfig(compute_target = cpu_cluster,\n",
        "                             task = \"classification\",\n",
        "                             training_data = dataset,\n",
        "                             label_column_name = \"DEATH_EVENT\",   \n",
        "                             enable_early_stopping = True,\n",
        "                             featurization = 'auto',\n",
        "                             debug_log = \"automl_errors.log\",\n",
        "                             **automl_settings)"
      ],
      "outputs": [],
      "execution_count": 4,
      "metadata": {
        "gather": {
          "logged": 1618720695473
        },
        "jupyter": {
          "outputs_hidden": false,
          "source_hidden": false
        },
        "nteract": {
          "transient": {
            "deleting": false
          }
        }
      }
    },
    {
      "cell_type": "code",
      "source": [
        "# TODO: Submit your experiment\n",
        "remote_run = experiment.submit(automl_config, show_output = True)"
      ],
      "outputs": [
        {
          "output_type": "stream",
          "name": "stdout",
          "text": [
            "Submitting remote run.\n",
            "No run_configuration provided, running on cpucompute with default configuration\n",
            "Running on remote compute: cpucompute\n"
          ]
        },
        {
          "output_type": "display_data",
          "data": {
            "text/plain": "<IPython.core.display.HTML object>",
            "text/html": "<table style=\"width:100%\"><tr><th>Experiment</th><th>Id</th><th>Type</th><th>Status</th><th>Details Page</th><th>Docs Page</th></tr><tr><td>heart_failure_prediction</td><td>AutoML_9941dff4-1a99-4baa-a5a7-6599db2e9af4</td><td>automl</td><td>NotStarted</td><td><a href=\"https://ml.azure.com/runs/AutoML_9941dff4-1a99-4baa-a5a7-6599db2e9af4?wsid=/subscriptions/9b72f9e6-56c5-4c16-991b-19c652994860/resourcegroups/aml-quickstarts-142993/workspaces/quick-starts-ws-142993&amp;tid=660b3398-b80e-49d2-bc5b-ac1dc93b5254\" target=\"_blank\" rel=\"noopener\">Link to Azure Machine Learning studio</a></td><td><a href=\"https://docs.microsoft.com/en-us/python/api/overview/azure/ml/intro?view=azure-ml-py\" target=\"_blank\" rel=\"noopener\">Link to Documentation</a></td></tr></table>"
          },
          "metadata": {}
        },
        {
          "output_type": "stream",
          "name": "stdout",
          "text": [
            "\n",
            "Current status: FeaturesGeneration. Generating features for the dataset.\n",
            "Current status: DatasetCrossValidationSplit. Generating individually featurized CV splits.\n",
            "Current status: ModelSelection. Beginning model selection.\n",
            "\n",
            "****************************************************************************************************\n",
            "DATA GUARDRAILS: \n",
            "\n",
            "TYPE:         Cross validation\n",
            "STATUS:       DONE\n",
            "DESCRIPTION:  Each iteration of the trained model was validated through cross-validation.\n",
            "              \n",
            "DETAILS:      \n",
            "+---------------------------------+\n",
            "|Number of folds                  |\n",
            "+=================================+\n",
            "|10                               |\n",
            "+---------------------------------+\n",
            "\n",
            "****************************************************************************************************\n",
            "\n",
            "TYPE:         Class balancing detection\n",
            "STATUS:       PASSED\n",
            "DESCRIPTION:  Your inputs were analyzed, and all classes are balanced in your training data.\n",
            "              Learn more about imbalanced data: https://aka.ms/AutomatedMLImbalancedData\n",
            "\n",
            "****************************************************************************************************\n",
            "\n",
            "TYPE:         Missing feature values imputation\n",
            "STATUS:       PASSED\n",
            "DESCRIPTION:  No feature missing values were detected in the training data.\n",
            "              Learn more about missing value imputation: https://aka.ms/AutomatedMLFeaturization\n",
            "\n",
            "****************************************************************************************************\n",
            "\n",
            "TYPE:         High cardinality feature detection\n",
            "STATUS:       PASSED\n",
            "DESCRIPTION:  Your inputs were analyzed, and no high cardinality features were detected.\n",
            "              Learn more about high cardinality feature handling: https://aka.ms/AutomatedMLFeaturization\n",
            "\n",
            "****************************************************************************************************\n",
            "\n",
            "****************************************************************************************************\n",
            "ITERATION: The iteration being evaluated.\n",
            "PIPELINE: A summary description of the pipeline being evaluated.\n",
            "DURATION: Time taken for the current iteration.\n",
            "METRIC: The result of computing score on the fitted pipeline.\n",
            "BEST: The best observed score thus far.\n",
            "****************************************************************************************************\n",
            "\n",
            " ITERATION   PIPELINE                                       DURATION      METRIC      BEST\n",
            "         1   MaxAbsScaler XGBoostClassifier                 0:00:55       0.8359    0.8359\n",
            "         3   MinMaxScaler RandomForest                      0:00:48       0.8326    0.8359\n",
            "         0   MaxAbsScaler LightGBM                          0:00:47       0.8360    0.8360\n",
            "         6   StandardScalerWrapper XGBoostClassifier        0:00:46       0.8393    0.8393\n",
            "         2   MinMaxScaler RandomForest                      0:02:11       0.8494    0.8494\n",
            "         5   StandardScalerWrapper RandomForest             0:02:13       0.8424    0.8494\n",
            "         4   MinMaxScaler RandomForest                      0:02:32       0.8457    0.8494\n",
            "         7   SparseNormalizer XGBoostClassifier             0:00:45       0.8093    0.8494\n",
            "         8   SparseNormalizer LightGBM                      0:00:49       0.8329    0.8494\n",
            "         9   SparseNormalizer XGBoostClassifier             0:00:46       0.8262    0.8494\n",
            "        10   StandardScalerWrapper RandomForest             0:00:40       0.8626    0.8626\n",
            "        11   SparseNormalizer XGBoostClassifier             0:00:44       0.8229    0.8626\n",
            "        12   StandardScalerWrapper XGBoostClassifier        0:00:43       0.8195    0.8626\n",
            "        13   SparseNormalizer XGBoostClassifier             0:00:43       0.8561    0.8626\n",
            "        14   SparseNormalizer XGBoostClassifier             0:00:57       0.8426    0.8626\n",
            "        15   MinMaxScaler LightGBM                          0:00:46       0.8261    0.8626\n",
            "        16   StandardScalerWrapper LightGBM                 0:00:44       0.8525    0.8626\n",
            "        17   StandardScalerWrapper LightGBM                 0:00:55       0.8529    0.8626\n",
            "        18   StandardScalerWrapper GradientBoosting         0:00:46       0.8425    0.8626\n",
            "        19   RobustScaler KNN                               0:00:47       0.6290    0.8626\n",
            "        20   StandardScalerWrapper LightGBM                 0:00:42       0.8425    0.8626\n",
            "        21   StandardScalerWrapper LightGBM                 0:00:41       0.7594    0.8626\n",
            "        22   MaxAbsScaler ExtremeRandomTrees                0:00:43       0.7961    0.8626\n",
            "        23   StandardScalerWrapper ExtremeRandomTrees       0:00:46       0.8161    0.8626\n",
            "        24   SparseNormalizer XGBoostClassifier             0:00:48       0.8331    0.8626\n",
            "        25   StandardScalerWrapper RandomForest             0:00:51       0.6792    0.8626\n",
            "        26   StandardScalerWrapper LightGBM                 0:00:49       0.8224    0.8626\n",
            "        27   SparseNormalizer RandomForest                  0:00:43       0.8329    0.8626\n",
            "        28   StandardScalerWrapper LightGBM                 0:00:56       0.8393    0.8626\n",
            "        29   RobustScaler ExtremeRandomTrees                0:00:44       0.8529    0.8626\n",
            "        30   MaxAbsScaler RandomForest                      0:00:50       0.8393    0.8626\n",
            "        31   RobustScaler RandomForest                      0:00:49       0.8529    0.8626\n",
            "        32   SparseNormalizer ExtremeRandomTrees            0:00:46       0.7891    0.8626\n",
            "        33   MaxAbsScaler LightGBM                          0:00:49       0.8425    0.8626\n",
            "        34   StandardScalerWrapper RandomForest             0:00:31       0.8393    0.8626\n",
            "        35   MaxAbsScaler RandomForest                      0:00:24          nan    0.8626\n",
            "        37    StackEnsemble                                 0:01:13       0.8393    0.8626\n",
            "        36    VotingEnsemble                                0:01:21       0.8763    0.8763\n"
          ]
        }
      ],
      "execution_count": 5,
      "metadata": {
        "gather": {
          "logged": 1618722100741
        },
        "jupyter": {
          "outputs_hidden": false,
          "source_hidden": false
        },
        "nteract": {
          "transient": {
            "deleting": false
          }
        }
      }
    },
    {
      "cell_type": "markdown",
      "source": [
        "## Run Details\n",
        "\n",
        "OPTIONAL: Write about the different models trained and their performance. Why do you think some models did better than others?\n",
        "\n",
        "TODO: In the cell below, use the `RunDetails` widget to show the different experiments."
      ],
      "metadata": {}
    },
    {
      "cell_type": "code",
      "source": [
        "RunDetails(remote_run).show()\n",
        "remote_run.wait_for_completion(show_output=True)"
      ],
      "outputs": [
        {
          "output_type": "display_data",
          "data": {
            "text/plain": "_AutoMLWidget(widget_settings={'childWidgetDisplay': 'popup', 'send_telemetry': False, 'log_level': 'INFO', 's…",
            "application/vnd.jupyter.widget-view+json": {
              "version_major": 2,
              "version_minor": 0,
              "model_id": "df1255198ceb41509c2ea2269f787317"
            }
          },
          "metadata": {}
        },
        {
          "output_type": "display_data",
          "data": {
            "application/aml.mini.widget.v1": "{\"status\": \"Completed\", \"workbench_run_details_uri\": \"https://ml.azure.com/runs/AutoML_9941dff4-1a99-4baa-a5a7-6599db2e9af4?wsid=/subscriptions/9b72f9e6-56c5-4c16-991b-19c652994860/resourcegroups/aml-quickstarts-142993/workspaces/quick-starts-ws-142993&tid=660b3398-b80e-49d2-bc5b-ac1dc93b5254\", \"run_id\": \"AutoML_9941dff4-1a99-4baa-a5a7-6599db2e9af4\", \"run_properties\": {\"run_id\": \"AutoML_9941dff4-1a99-4baa-a5a7-6599db2e9af4\", \"created_utc\": \"2021-04-18T04:38:31.670658Z\", \"properties\": {\"num_iterations\": \"1000\", \"training_type\": \"TrainFull\", \"acquisition_function\": \"EI\", \"primary_metric\": \"accuracy\", \"train_split\": \"0\", \"acquisition_parameter\": \"0\", \"num_cross_validation\": null, \"target\": \"cpucompute\", \"AMLSettingsJsonString\": \"{\\\"path\\\":null,\\\"name\\\":\\\"heart_failure_prediction\\\",\\\"subscription_id\\\":\\\"9b72f9e6-56c5-4c16-991b-19c652994860\\\",\\\"resource_group\\\":\\\"aml-quickstarts-142993\\\",\\\"workspace_name\\\":\\\"quick-starts-ws-142993\\\",\\\"region\\\":\\\"southcentralus\\\",\\\"compute_target\\\":\\\"cpucompute\\\",\\\"spark_service\\\":null,\\\"azure_service\\\":\\\"remote\\\",\\\"many_models\\\":false,\\\"pipeline_fetch_max_batch_size\\\":1,\\\"enable_batch_run\\\":false,\\\"enable_run_restructure\\\":false,\\\"iterations\\\":1000,\\\"primary_metric\\\":\\\"accuracy\\\",\\\"task_type\\\":\\\"classification\\\",\\\"data_script\\\":null,\\\"test_size\\\":0.0,\\\"validation_size\\\":0.0,\\\"n_cross_validations\\\":null,\\\"y_min\\\":null,\\\"y_max\\\":null,\\\"num_classes\\\":null,\\\"featurization\\\":\\\"auto\\\",\\\"_ignore_package_version_incompatibilities\\\":false,\\\"is_timeseries\\\":false,\\\"max_cores_per_iteration\\\":1,\\\"max_concurrent_iterations\\\":4,\\\"iteration_timeout_minutes\\\":null,\\\"mem_in_mb\\\":null,\\\"enforce_time_on_windows\\\":false,\\\"experiment_timeout_minutes\\\":20,\\\"experiment_exit_score\\\":null,\\\"whitelist_models\\\":null,\\\"blacklist_algos\\\":[\\\"TensorFlowLinearClassifier\\\",\\\"TensorFlowDNN\\\"],\\\"supported_models\\\":[\\\"LinearSVM\\\",\\\"DecisionTree\\\",\\\"MultinomialNaiveBayes\\\",\\\"RandomForest\\\",\\\"LogisticRegression\\\",\\\"SGD\\\",\\\"AveragedPerceptronClassifier\\\",\\\"KNN\\\",\\\"XGBoostClassifier\\\",\\\"BernoulliNaiveBayes\\\",\\\"LightGBM\\\",\\\"TensorFlowLinearClassifier\\\",\\\"SVM\\\",\\\"GradientBoosting\\\",\\\"TensorFlowDNN\\\",\\\"ExtremeRandomTrees\\\"],\\\"private_models\\\":[],\\\"auto_blacklist\\\":true,\\\"blacklist_samples_reached\\\":false,\\\"exclude_nan_labels\\\":true,\\\"verbosity\\\":20,\\\"_debug_log\\\":\\\"azureml_automl.log\\\",\\\"show_warnings\\\":false,\\\"model_explainability\\\":true,\\\"service_url\\\":null,\\\"sdk_url\\\":null,\\\"sdk_packages\\\":null,\\\"enable_onnx_compatible_models\\\":false,\\\"enable_split_onnx_featurizer_estimator_models\\\":false,\\\"vm_type\\\":\\\"STANDARD_D2_V2\\\",\\\"telemetry_verbosity\\\":20,\\\"send_telemetry\\\":true,\\\"enable_dnn\\\":false,\\\"scenario\\\":\\\"SDK-1.13.0\\\",\\\"environment_label\\\":null,\\\"save_mlflow\\\":false,\\\"force_text_dnn\\\":false,\\\"enable_feature_sweeping\\\":true,\\\"enable_early_stopping\\\":true,\\\"early_stopping_n_iters\\\":10,\\\"metrics\\\":null,\\\"enable_metric_confidence\\\":false,\\\"enable_ensembling\\\":true,\\\"enable_stack_ensembling\\\":true,\\\"ensemble_iterations\\\":15,\\\"enable_tf\\\":false,\\\"enable_subsampling\\\":null,\\\"subsample_seed\\\":null,\\\"enable_nimbusml\\\":false,\\\"enable_streaming\\\":false,\\\"force_streaming\\\":false,\\\"track_child_runs\\\":true,\\\"allowed_private_models\\\":[],\\\"label_column_name\\\":\\\"DEATH_EVENT\\\",\\\"weight_column_name\\\":null,\\\"cv_split_column_names\\\":null,\\\"enable_local_managed\\\":false,\\\"_local_managed_run_id\\\":null,\\\"cost_mode\\\":1,\\\"lag_length\\\":0,\\\"metric_operation\\\":\\\"maximize\\\",\\\"preprocess\\\":true}\", \"DataPrepJsonString\": \"{\\\\\\\"training_data\\\\\\\": {\\\\\\\"datasetId\\\\\\\": \\\\\\\"b25e2d62-00cd-4f74-a246-e2cc21543505\\\\\\\"}, \\\\\\\"datasets\\\\\\\": 0}\", \"EnableSubsampling\": null, \"runTemplate\": \"AutoML\", \"azureml.runsource\": \"automl\", \"display_task_type\": \"classification\", \"dependencies_versions\": \"{\\\"azureml-widgets\\\": \\\"1.26.0\\\", \\\"azureml-train\\\": \\\"1.26.0\\\", \\\"azureml-train-restclients-hyperdrive\\\": \\\"1.26.0\\\", \\\"azureml-train-core\\\": \\\"1.26.0\\\", \\\"azureml-train-automl\\\": \\\"1.26.0\\\", \\\"azureml-train-automl-runtime\\\": \\\"1.26.0\\\", \\\"azureml-train-automl-client\\\": \\\"1.26.0\\\", \\\"azureml-tensorboard\\\": \\\"1.26.0\\\", \\\"azureml-telemetry\\\": \\\"1.26.0\\\", \\\"azureml-sdk\\\": \\\"1.26.0\\\", \\\"azureml-samples\\\": \\\"0+unknown\\\", \\\"azureml-pipeline\\\": \\\"1.26.0\\\", \\\"azureml-pipeline-steps\\\": \\\"1.26.0\\\", \\\"azureml-pipeline-core\\\": \\\"1.26.0\\\", \\\"azureml-opendatasets\\\": \\\"1.26.0\\\", \\\"azureml-model-management-sdk\\\": \\\"1.0.1b6.post1\\\", \\\"azureml-mlflow\\\": \\\"1.26.0\\\", \\\"azureml-interpret\\\": \\\"1.26.0\\\", \\\"azureml-explain-model\\\": \\\"1.26.0\\\", \\\"azureml-defaults\\\": \\\"1.26.0\\\", \\\"azureml-dataset-runtime\\\": \\\"1.26.0\\\", \\\"azureml-dataprep\\\": \\\"2.13.2\\\", \\\"azureml-dataprep-rslex\\\": \\\"1.11.2\\\", \\\"azureml-dataprep-native\\\": \\\"32.0.0\\\", \\\"azureml-datadrift\\\": \\\"1.26.0\\\", \\\"azureml-core\\\": \\\"1.26.0\\\", \\\"azureml-contrib-services\\\": \\\"1.26.0\\\", \\\"azureml-contrib-server\\\": \\\"1.26.0\\\", \\\"azureml-contrib-reinforcementlearning\\\": \\\"1.26.0\\\", \\\"azureml-contrib-pipeline-steps\\\": \\\"1.26.0\\\", \\\"azureml-contrib-notebook\\\": \\\"1.26.0\\\", \\\"azureml-contrib-gbdt\\\": \\\"1.26.0\\\", \\\"azureml-contrib-fairness\\\": \\\"1.26.0\\\", \\\"azureml-contrib-dataset\\\": \\\"1.26.0\\\", \\\"azureml-cli-common\\\": \\\"1.26.0\\\", \\\"azureml-automl-runtime\\\": \\\"1.26.0\\\", \\\"azureml-automl-dnn-nlp\\\": \\\"1.26.0\\\", \\\"azureml-automl-core\\\": \\\"1.26.0\\\", \\\"azureml-accel-models\\\": \\\"1.26.0\\\"}\", \"_aml_system_scenario_identification\": \"Remote.Parent\", \"ClientType\": \"SDK\", \"environment_cpu_name\": \"AzureML-AutoML\", \"environment_cpu_label\": \"prod\", \"environment_gpu_name\": \"AzureML-AutoML-GPU\", \"environment_gpu_label\": \"prod\", \"root_attribution\": \"automl\", \"attribution\": \"AutoML\", \"Orchestrator\": \"AutoML\", \"CancelUri\": \"https://southcentralus.experiments.azureml.net/jasmine/v1.0/subscriptions/9b72f9e6-56c5-4c16-991b-19c652994860/resourceGroups/aml-quickstarts-142993/providers/Microsoft.MachineLearningServices/workspaces/quick-starts-ws-142993/experimentids/ee6fffe4-b632-41b7-be13-868f91f95cf1/cancel/AutoML_9941dff4-1a99-4baa-a5a7-6599db2e9af4\", \"ClientSdkVersion\": \"1.25.0\", \"snapshotId\": \"00000000-0000-0000-0000-000000000000\", \"SetupRunId\": \"AutoML_9941dff4-1a99-4baa-a5a7-6599db2e9af4_setup\", \"SetupRunContainerId\": \"dcid.AutoML_9941dff4-1a99-4baa-a5a7-6599db2e9af4_setup\", \"FeaturizationRunJsonPath\": \"featurizer_container.json\", \"FeaturizationRunId\": \"AutoML_9941dff4-1a99-4baa-a5a7-6599db2e9af4_featurize\", \"ProblemInfoJsonString\": \"{\\\"dataset_num_categorical\\\": 0, \\\"is_sparse\\\": false, \\\"subsampling\\\": false, \\\"dataset_classes\\\": 2, \\\"dataset_features\\\": 12, \\\"dataset_samples\\\": 299, \\\"single_frequency_class_detected\\\": false}\", \"ModelExplainRunId\": \"AutoML_9941dff4-1a99-4baa-a5a7-6599db2e9af4_ModelExplain\"}, \"tags\": {\"model_explain_run\": \"best_run\", \"_aml_system_azureml.automlComponent\": \"AutoML\", \"pipeline_id\": \"\", \"score\": \"\", \"predicted_cost\": \"\", \"fit_time\": \"\", \"training_percent\": \"\", \"iteration\": \"\", \"run_preprocessor\": \"\", \"run_algorithm\": \"\", \"dynamic_whitelisting_iterations\": \"<25>;<30>;<35>;\", \"automl_best_child_run_id\": \"AutoML_9941dff4-1a99-4baa-a5a7-6599db2e9af4_36\", \"model_explain_best_run_child_id\": \"AutoML_9941dff4-1a99-4baa-a5a7-6599db2e9af4_36\"}, \"end_time_utc\": \"2021-04-18T05:01:21.250239Z\", \"status\": \"Completed\", \"log_files\": {}, \"log_groups\": [], \"run_duration\": \"0:22:49\", \"run_number\": \"2\", \"run_queued_details\": {\"status\": \"Completed\", \"details\": null}}, \"child_runs\": [{\"run_id\": \"AutoML_9941dff4-1a99-4baa-a5a7-6599db2e9af4_0\", \"run_number\": 6, \"metric\": null, \"status\": \"Completed\", \"run_type\": \"azureml.scriptrun\", \"training_percent\": \"100\", \"start_time\": \"2021-04-18T04:50:00.639175Z\", \"end_time\": \"2021-04-18T04:50:47.298324Z\", \"created_time\": \"2021-04-18T04:47:33.328Z\", \"created_time_dt\": \"2021-04-18T04:47:33.328Z\", \"duration\": \"0:03:13\", \"iteration\": \"0\", \"goal\": \"accuracy_max\", \"run_name\": \"MaxAbsScaler, LightGBM\", \"run_properties\": \"copy=True\", \"primary_metric\": 0.83597701, \"best_metric\": 0.83597701}, {\"run_id\": \"AutoML_9941dff4-1a99-4baa-a5a7-6599db2e9af4_3\", \"run_number\": 7, \"metric\": null, \"status\": \"Completed\", \"run_type\": \"azureml.scriptrun\", \"training_percent\": \"100\", \"start_time\": \"2021-04-18T04:48:57.679672Z\", \"end_time\": \"2021-04-18T04:49:45.639071Z\", \"created_time\": \"2021-04-18T04:47:33.449584Z\", \"created_time_dt\": \"2021-04-18T04:47:33.449584Z\", \"duration\": \"0:02:12\", \"iteration\": \"3\", \"goal\": \"accuracy_max\", \"run_name\": \"MinMaxScaler, RandomForest\", \"run_properties\": \"copy=True, feature_range=(0, 1\", \"primary_metric\": 0.83264368, \"best_metric\": 0.84942529}, {\"run_id\": \"AutoML_9941dff4-1a99-4baa-a5a7-6599db2e9af4_2\", \"run_number\": 8, \"metric\": null, \"status\": \"Completed\", \"run_type\": \"azureml.scriptrun\", \"training_percent\": \"100\", \"start_time\": \"2021-04-18T04:50:12.968471Z\", \"end_time\": \"2021-04-18T04:52:23.882974Z\", \"created_time\": \"2021-04-18T04:47:33.452263Z\", \"created_time_dt\": \"2021-04-18T04:47:33.452263Z\", \"duration\": \"0:04:50\", \"iteration\": \"2\", \"goal\": \"accuracy_max\", \"run_name\": \"MinMaxScaler, RandomForest\", \"run_properties\": \"copy=True, feature_range=(0, 1\", \"primary_metric\": 0.84942529, \"best_metric\": 0.84942529}, {\"run_id\": \"AutoML_9941dff4-1a99-4baa-a5a7-6599db2e9af4_1\", \"run_number\": 9, \"metric\": null, \"status\": \"Completed\", \"run_type\": \"azureml.scriptrun\", \"training_percent\": \"100\", \"start_time\": \"2021-04-18T04:47:48.604336Z\", \"end_time\": \"2021-04-18T04:48:43.910906Z\", \"created_time\": \"2021-04-18T04:47:33.491017Z\", \"created_time_dt\": \"2021-04-18T04:47:33.491017Z\", \"duration\": \"0:01:10\", \"iteration\": \"1\", \"goal\": \"accuracy_max\", \"run_name\": \"MaxAbsScaler, XGBoostClassifier\", \"run_properties\": \"copy=True\", \"primary_metric\": 0.83586207, \"best_metric\": 0.83597701}, {\"run_id\": \"AutoML_9941dff4-1a99-4baa-a5a7-6599db2e9af4_4\", \"run_number\": 10, \"metric\": null, \"status\": \"Completed\", \"run_type\": \"azureml.scriptrun\", \"training_percent\": \"100\", \"start_time\": \"2021-04-18T04:50:14.546848Z\", \"end_time\": \"2021-04-18T04:52:46.54671Z\", \"created_time\": \"2021-04-18T04:48:45.922035Z\", \"created_time_dt\": \"2021-04-18T04:48:45.922035Z\", \"duration\": \"0:04:00\", \"iteration\": \"4\", \"goal\": \"accuracy_max\", \"run_name\": \"MinMaxScaler, RandomForest\", \"run_properties\": \"copy=True, feature_range=(0, 1\", \"primary_metric\": 0.84574713, \"best_metric\": 0.84942529}, {\"run_id\": \"AutoML_9941dff4-1a99-4baa-a5a7-6599db2e9af4_5\", \"run_number\": 11, \"metric\": null, \"status\": \"Completed\", \"run_type\": \"azureml.scriptrun\", \"training_percent\": \"100\", \"start_time\": \"2021-04-18T04:50:13.15673Z\", \"end_time\": \"2021-04-18T04:52:26.123249Z\", \"created_time\": \"2021-04-18T04:49:49.647897Z\", \"created_time_dt\": \"2021-04-18T04:49:49.647897Z\", \"duration\": \"0:02:36\", \"iteration\": \"5\", \"goal\": \"accuracy_max\", \"run_name\": \"StandardScalerWrapper, RandomForest\", \"run_properties\": \"<azureml.automl.runtime.shared.model_wrappers.StandardScalerWrapper object at 0x7f76c65d1ac8\", \"primary_metric\": 0.84241379, \"best_metric\": 0.84942529}, {\"run_id\": \"AutoML_9941dff4-1a99-4baa-a5a7-6599db2e9af4_6\", \"run_number\": 12, \"metric\": null, \"status\": \"Completed\", \"run_type\": \"azureml.scriptrun\", \"training_percent\": \"100\", \"start_time\": \"2021-04-18T04:51:01.756814Z\", \"end_time\": \"2021-04-18T04:51:47.970383Z\", \"created_time\": \"2021-04-18T04:50:51.356058Z\", \"created_time_dt\": \"2021-04-18T04:50:51.356058Z\", \"duration\": \"0:00:56\", \"iteration\": \"6\", \"goal\": \"accuracy_max\", \"run_name\": \"StandardScalerWrapper, XGBoostClassifier\", \"run_properties\": \"<azureml.automl.runtime.shared.model_wrappers.StandardScalerWrapper object at 0x7fb4b0d61828\", \"primary_metric\": 0.83931034, \"best_metric\": 0.84942529}, {\"run_id\": \"AutoML_9941dff4-1a99-4baa-a5a7-6599db2e9af4_7\", \"run_number\": 13, \"metric\": null, \"status\": \"Completed\", \"run_type\": \"azureml.scriptrun\", \"training_percent\": \"100\", \"start_time\": \"2021-04-18T04:52:01.994673Z\", \"end_time\": \"2021-04-18T04:52:47.308698Z\", \"created_time\": \"2021-04-18T04:51:50.93012Z\", \"created_time_dt\": \"2021-04-18T04:51:50.93012Z\", \"duration\": \"0:00:56\", \"iteration\": \"7\", \"goal\": \"accuracy_max\", \"run_name\": \"SparseNormalizer, XGBoostClassifier\", \"run_properties\": \"<azureml.automl.runtime.shared.model_wrappers.SparseNormalizer object at 0x7f0beb266b38\", \"primary_metric\": 0.80931034, \"best_metric\": 0.84942529}, {\"run_id\": \"AutoML_9941dff4-1a99-4baa-a5a7-6599db2e9af4_8\", \"run_number\": 14, \"metric\": null, \"status\": \"Completed\", \"run_type\": \"azureml.scriptrun\", \"training_percent\": \"100\", \"start_time\": \"2021-04-18T04:52:39.225036Z\", \"end_time\": \"2021-04-18T04:53:28.240118Z\", \"created_time\": \"2021-04-18T04:52:26.548884Z\", \"created_time_dt\": \"2021-04-18T04:52:26.548884Z\", \"duration\": \"0:01:01\", \"iteration\": \"8\", \"goal\": \"accuracy_max\", \"run_name\": \"SparseNormalizer, LightGBM\", \"run_properties\": \"<azureml.automl.runtime.shared.model_wrappers.SparseNormalizer object at 0x7fed3b54c0f0\", \"primary_metric\": 0.83287356, \"best_metric\": 0.84942529}, {\"run_id\": \"AutoML_9941dff4-1a99-4baa-a5a7-6599db2e9af4_9\", \"run_number\": 15, \"metric\": null, \"status\": \"Completed\", \"run_type\": \"azureml.scriptrun\", \"training_percent\": \"100\", \"start_time\": \"2021-04-18T04:52:46.373041Z\", \"end_time\": \"2021-04-18T04:53:32.342533Z\", \"created_time\": \"2021-04-18T04:52:34.20399Z\", \"created_time_dt\": \"2021-04-18T04:52:34.20399Z\", \"duration\": \"0:00:58\", \"iteration\": \"9\", \"goal\": \"accuracy_max\", \"run_name\": \"SparseNormalizer, XGBoostClassifier\", \"run_properties\": \"<azureml.automl.runtime.shared.model_wrappers.SparseNormalizer object at 0x7f885d129d30\", \"primary_metric\": 0.8262069, \"best_metric\": 0.84942529}, {\"run_id\": \"AutoML_9941dff4-1a99-4baa-a5a7-6599db2e9af4_10\", \"run_number\": 16, \"metric\": null, \"status\": \"Completed\", \"run_type\": \"azureml.scriptrun\", \"training_percent\": \"100\", \"start_time\": \"2021-04-18T04:53:01.856537Z\", \"end_time\": \"2021-04-18T04:53:41.784399Z\", \"created_time\": \"2021-04-18T04:52:49.151424Z\", \"created_time_dt\": \"2021-04-18T04:52:49.151424Z\", \"duration\": \"0:00:52\", \"iteration\": \"10\", \"goal\": \"accuracy_max\", \"run_name\": \"StandardScalerWrapper, RandomForest\", \"run_properties\": \"<azureml.automl.runtime.shared.model_wrappers.StandardScalerWrapper object at 0x7f09b0b073c8\", \"primary_metric\": 0.86264368, \"best_metric\": 0.86264368}, {\"run_id\": \"AutoML_9941dff4-1a99-4baa-a5a7-6599db2e9af4_11\", \"run_number\": 17, \"metric\": null, \"status\": \"Completed\", \"run_type\": \"azureml.scriptrun\", \"training_percent\": \"100\", \"start_time\": \"2021-04-18T04:53:05.720387Z\", \"end_time\": \"2021-04-18T04:53:49.920238Z\", \"created_time\": \"2021-04-18T04:52:56.00835Z\", \"created_time_dt\": \"2021-04-18T04:52:56.00835Z\", \"duration\": \"0:00:53\", \"iteration\": \"11\", \"goal\": \"accuracy_max\", \"run_name\": \"SparseNormalizer, XGBoostClassifier\", \"run_properties\": \"<azureml.automl.runtime.shared.model_wrappers.SparseNormalizer object at 0x7f8123889ef0\", \"primary_metric\": 0.82287356, \"best_metric\": 0.86264368}, {\"run_id\": \"AutoML_9941dff4-1a99-4baa-a5a7-6599db2e9af4_12\", \"run_number\": 18, \"metric\": null, \"status\": \"Completed\", \"run_type\": \"azureml.scriptrun\", \"training_percent\": \"100\", \"start_time\": \"2021-04-18T04:53:43.428713Z\", \"end_time\": \"2021-04-18T04:54:26.282732Z\", \"created_time\": \"2021-04-18T04:53:31.078176Z\", \"created_time_dt\": \"2021-04-18T04:53:31.078176Z\", \"duration\": \"0:00:55\", \"iteration\": \"12\", \"goal\": \"accuracy_max\", \"run_name\": \"StandardScalerWrapper, XGBoostClassifier\", \"run_properties\": \"<azureml.automl.runtime.shared.model_wrappers.StandardScalerWrapper object at 0x7f34c3a6ef60\", \"primary_metric\": 0.81954023, \"best_metric\": 0.86264368}, {\"run_id\": \"AutoML_9941dff4-1a99-4baa-a5a7-6599db2e9af4_13\", \"run_number\": 19, \"metric\": null, \"status\": \"Completed\", \"run_type\": \"azureml.scriptrun\", \"training_percent\": \"100\", \"start_time\": \"2021-04-18T04:53:49.195072Z\", \"end_time\": \"2021-04-18T04:54:32.30469Z\", \"created_time\": \"2021-04-18T04:53:38.404303Z\", \"created_time_dt\": \"2021-04-18T04:53:38.404303Z\", \"duration\": \"0:00:53\", \"iteration\": \"13\", \"goal\": \"accuracy_max\", \"run_name\": \"SparseNormalizer, XGBoostClassifier\", \"run_properties\": \"<azureml.automl.runtime.shared.model_wrappers.SparseNormalizer object at 0x7f8fc689d3c8\", \"primary_metric\": 0.85609195, \"best_metric\": 0.86264368}, {\"run_id\": \"AutoML_9941dff4-1a99-4baa-a5a7-6599db2e9af4_14\", \"run_number\": 20, \"metric\": null, \"status\": \"Completed\", \"run_type\": \"azureml.scriptrun\", \"training_percent\": \"100\", \"start_time\": \"2021-04-18T04:53:57.953236Z\", \"end_time\": \"2021-04-18T04:54:54.734601Z\", \"created_time\": \"2021-04-18T04:53:44.436788Z\", \"created_time_dt\": \"2021-04-18T04:53:44.436788Z\", \"duration\": \"0:01:10\", \"iteration\": \"14\", \"goal\": \"accuracy_max\", \"run_name\": \"SparseNormalizer, XGBoostClassifier\", \"run_properties\": \"<azureml.automl.runtime.shared.model_wrappers.SparseNormalizer object at 0x7ff334a848d0\", \"primary_metric\": 0.84264368, \"best_metric\": 0.86264368}, {\"run_id\": \"AutoML_9941dff4-1a99-4baa-a5a7-6599db2e9af4_15\", \"run_number\": 21, \"metric\": null, \"status\": \"Completed\", \"run_type\": \"azureml.scriptrun\", \"training_percent\": \"100\", \"start_time\": \"2021-04-18T04:54:03.63821Z\", \"end_time\": \"2021-04-18T04:54:49.314702Z\", \"created_time\": \"2021-04-18T04:53:52.043353Z\", \"created_time_dt\": \"2021-04-18T04:53:52.043353Z\", \"duration\": \"0:00:57\", \"iteration\": \"15\", \"goal\": \"accuracy_max\", \"run_name\": \"MinMaxScaler, LightGBM\", \"run_properties\": \"copy=True, feature_range=(0, 1\", \"primary_metric\": 0.82609195, \"best_metric\": 0.86264368}, {\"run_id\": \"AutoML_9941dff4-1a99-4baa-a5a7-6599db2e9af4_16\", \"run_number\": 22, \"metric\": null, \"status\": \"Completed\", \"run_type\": \"azureml.scriptrun\", \"training_percent\": \"100\", \"start_time\": \"2021-04-18T04:54:43.131142Z\", \"end_time\": \"2021-04-18T04:55:27.464421Z\", \"created_time\": \"2021-04-18T04:54:28.919776Z\", \"created_time_dt\": \"2021-04-18T04:54:28.919776Z\", \"duration\": \"0:00:58\", \"iteration\": \"16\", \"goal\": \"accuracy_max\", \"run_name\": \"StandardScalerWrapper, LightGBM\", \"run_properties\": \"<azureml.automl.runtime.shared.model_wrappers.StandardScalerWrapper object at 0x7f7b17a73a58\", \"primary_metric\": 0.85252874, \"best_metric\": 0.86264368}, {\"run_id\": \"AutoML_9941dff4-1a99-4baa-a5a7-6599db2e9af4_17\", \"run_number\": 23, \"metric\": null, \"status\": \"Completed\", \"run_type\": \"azureml.scriptrun\", \"training_percent\": \"100\", \"start_time\": \"2021-04-18T04:54:45.432019Z\", \"end_time\": \"2021-04-18T04:55:40.111124Z\", \"created_time\": \"2021-04-18T04:54:34.81534Z\", \"created_time_dt\": \"2021-04-18T04:54:34.81534Z\", \"duration\": \"0:01:05\", \"iteration\": \"17\", \"goal\": \"accuracy_max\", \"run_name\": \"StandardScalerWrapper, LightGBM\", \"run_properties\": \"<azureml.automl.runtime.shared.model_wrappers.StandardScalerWrapper object at 0x7ff220107a90\", \"primary_metric\": 0.85287356, \"best_metric\": 0.86264368}, {\"run_id\": \"AutoML_9941dff4-1a99-4baa-a5a7-6599db2e9af4_18\", \"run_number\": 24, \"metric\": null, \"status\": \"Completed\", \"run_type\": \"azureml.scriptrun\", \"training_percent\": \"100\", \"start_time\": \"2021-04-18T04:55:03.097463Z\", \"end_time\": \"2021-04-18T04:55:48.67291Z\", \"created_time\": \"2021-04-18T04:54:51.572564Z\", \"created_time_dt\": \"2021-04-18T04:54:51.572564Z\", \"duration\": \"0:00:57\", \"iteration\": \"18\", \"goal\": \"accuracy_max\", \"run_name\": \"StandardScalerWrapper, GradientBoosting\", \"run_properties\": \"<azureml.automl.runtime.shared.model_wrappers.StandardScalerWrapper object at 0x7fd1848bcfd0\", \"primary_metric\": 0.84252874, \"best_metric\": 0.86264368}, {\"run_id\": \"AutoML_9941dff4-1a99-4baa-a5a7-6599db2e9af4_19\", \"run_number\": 25, \"metric\": null, \"status\": \"Completed\", \"run_type\": \"azureml.scriptrun\", \"training_percent\": \"100\", \"start_time\": \"2021-04-18T04:55:10.920691Z\", \"end_time\": \"2021-04-18T04:55:57.562144Z\", \"created_time\": \"2021-04-18T04:54:56.922202Z\", \"created_time_dt\": \"2021-04-18T04:54:56.922202Z\", \"duration\": \"0:01:00\", \"iteration\": \"19\", \"goal\": \"accuracy_max\", \"run_name\": \"RobustScaler, KNN\", \"run_properties\": \"copy=True, quantile_range=[10, 90], with_centering=False,\\n             with_scaling=False\", \"primary_metric\": 0.62896552, \"best_metric\": 0.86264368}, {\"run_id\": \"AutoML_9941dff4-1a99-4baa-a5a7-6599db2e9af4_20\", \"run_number\": 26, \"metric\": null, \"status\": \"Completed\", \"run_type\": \"azureml.scriptrun\", \"training_percent\": \"100\", \"start_time\": \"2021-04-18T04:55:41.45362Z\", \"end_time\": \"2021-04-18T04:56:23.543095Z\", \"created_time\": \"2021-04-18T04:55:29.943312Z\", \"created_time_dt\": \"2021-04-18T04:55:29.943312Z\", \"duration\": \"0:00:53\", \"iteration\": \"20\", \"goal\": \"accuracy_max\", \"run_name\": \"StandardScalerWrapper, LightGBM\", \"run_properties\": \"<azureml.automl.runtime.shared.model_wrappers.StandardScalerWrapper object at 0x7f95a49b9f28\", \"primary_metric\": 0.84252874, \"best_metric\": 0.86264368}, {\"run_id\": \"AutoML_9941dff4-1a99-4baa-a5a7-6599db2e9af4_21\", \"run_number\": 27, \"metric\": null, \"status\": \"Completed\", \"run_type\": \"azureml.scriptrun\", \"training_percent\": \"100\", \"start_time\": \"2021-04-18T04:55:52.12462Z\", \"end_time\": \"2021-04-18T04:56:33.498138Z\", \"created_time\": \"2021-04-18T04:55:42.997681Z\", \"created_time_dt\": \"2021-04-18T04:55:42.997681Z\", \"duration\": \"0:00:50\", \"iteration\": \"21\", \"goal\": \"accuracy_max\", \"run_name\": \"StandardScalerWrapper, LightGBM\", \"run_properties\": \"<azureml.automl.runtime.shared.model_wrappers.StandardScalerWrapper object at 0x7fc532208da0\", \"primary_metric\": 0.75942529, \"best_metric\": 0.86264368}, {\"run_id\": \"AutoML_9941dff4-1a99-4baa-a5a7-6599db2e9af4_22\", \"run_number\": 28, \"metric\": null, \"status\": \"Completed\", \"run_type\": \"azureml.scriptrun\", \"training_percent\": \"100\", \"start_time\": \"2021-04-18T04:56:05.382945Z\", \"end_time\": \"2021-04-18T04:56:48.786875Z\", \"created_time\": \"2021-04-18T04:55:51.456846Z\", \"created_time_dt\": \"2021-04-18T04:55:51.456846Z\", \"duration\": \"0:00:57\", \"iteration\": \"22\", \"goal\": \"accuracy_max\", \"run_name\": \"MaxAbsScaler, ExtremeRandomTrees\", \"run_properties\": \"copy=True\", \"primary_metric\": 0.79609195, \"best_metric\": 0.86264368}, {\"run_id\": \"AutoML_9941dff4-1a99-4baa-a5a7-6599db2e9af4_23\", \"run_number\": 29, \"metric\": null, \"status\": \"Completed\", \"run_type\": \"azureml.scriptrun\", \"training_percent\": \"100\", \"start_time\": \"2021-04-18T04:56:12.612124Z\", \"end_time\": \"2021-04-18T04:56:58.57337Z\", \"created_time\": \"2021-04-18T04:56:00.913523Z\", \"created_time_dt\": \"2021-04-18T04:56:00.913523Z\", \"duration\": \"0:00:57\", \"iteration\": \"23\", \"goal\": \"accuracy_max\", \"run_name\": \"StandardScalerWrapper, ExtremeRandomTrees\", \"run_properties\": \"<azureml.automl.runtime.shared.model_wrappers.StandardScalerWrapper object at 0x7f34ef1f8710\", \"primary_metric\": 0.81609195, \"best_metric\": 0.86264368}, {\"run_id\": \"AutoML_9941dff4-1a99-4baa-a5a7-6599db2e9af4_24\", \"run_number\": 30, \"metric\": null, \"status\": \"Completed\", \"run_type\": \"azureml.scriptrun\", \"training_percent\": \"100\", \"start_time\": \"2021-04-18T04:56:37.098648Z\", \"end_time\": \"2021-04-18T04:57:24.949037Z\", \"created_time\": \"2021-04-18T04:56:26.649936Z\", \"created_time_dt\": \"2021-04-18T04:56:26.649936Z\", \"duration\": \"0:00:58\", \"iteration\": \"24\", \"goal\": \"accuracy_max\", \"run_name\": \"SparseNormalizer, XGBoostClassifier\", \"run_properties\": \"<azureml.automl.runtime.shared.model_wrappers.SparseNormalizer object at 0x7f2efee969e8\", \"primary_metric\": 0.83310345, \"best_metric\": 0.86264368}, {\"run_id\": \"AutoML_9941dff4-1a99-4baa-a5a7-6599db2e9af4_25\", \"run_number\": 31, \"metric\": null, \"status\": \"Completed\", \"run_type\": \"azureml.scriptrun\", \"training_percent\": \"100\", \"start_time\": \"2021-04-18T04:56:46.822348Z\", \"end_time\": \"2021-04-18T04:57:37.445261Z\", \"created_time\": \"2021-04-18T04:56:36.850506Z\", \"created_time_dt\": \"2021-04-18T04:56:36.850506Z\", \"duration\": \"0:01:00\", \"iteration\": \"25\", \"goal\": \"accuracy_max\", \"run_name\": \"StandardScalerWrapper, RandomForest\", \"run_properties\": \"<azureml.automl.runtime.shared.model_wrappers.StandardScalerWrapper object at 0x7f9c49b469b0\", \"primary_metric\": 0.6791954, \"best_metric\": 0.86264368}, {\"run_id\": \"AutoML_9941dff4-1a99-4baa-a5a7-6599db2e9af4_26\", \"run_number\": 32, \"metric\": null, \"status\": \"Completed\", \"run_type\": \"azureml.scriptrun\", \"training_percent\": \"100\", \"start_time\": \"2021-04-18T04:57:03.854665Z\", \"end_time\": \"2021-04-18T04:57:52.517549Z\", \"created_time\": \"2021-04-18T04:56:50.887484Z\", \"created_time_dt\": \"2021-04-18T04:56:50.887484Z\", \"duration\": \"0:01:01\", \"iteration\": \"26\", \"goal\": \"accuracy_max\", \"run_name\": \"StandardScalerWrapper, LightGBM\", \"run_properties\": \"<azureml.automl.runtime.shared.model_wrappers.StandardScalerWrapper object at 0x7f9ec0e67240\", \"primary_metric\": 0.82241379, \"best_metric\": 0.86264368}, {\"run_id\": \"AutoML_9941dff4-1a99-4baa-a5a7-6599db2e9af4_27\", \"run_number\": 33, \"metric\": null, \"status\": \"Completed\", \"run_type\": \"azureml.scriptrun\", \"training_percent\": \"100\", \"start_time\": \"2021-04-18T04:57:15.103593Z\", \"end_time\": \"2021-04-18T04:57:58.410027Z\", \"created_time\": \"2021-04-18T04:57:01.54506Z\", \"created_time_dt\": \"2021-04-18T04:57:01.54506Z\", \"duration\": \"0:00:56\", \"iteration\": \"27\", \"goal\": \"accuracy_max\", \"run_name\": \"SparseNormalizer, RandomForest\", \"run_properties\": \"<azureml.automl.runtime.shared.model_wrappers.SparseNormalizer object at 0x7ff79d080e48\", \"primary_metric\": 0.83287356, \"best_metric\": 0.86264368}, {\"run_id\": \"AutoML_9941dff4-1a99-4baa-a5a7-6599db2e9af4_28\", \"run_number\": 34, \"metric\": null, \"status\": \"Completed\", \"run_type\": \"azureml.scriptrun\", \"training_percent\": \"100\", \"start_time\": \"2021-04-18T04:57:41.914184Z\", \"end_time\": \"2021-04-18T04:58:37.575468Z\", \"created_time\": \"2021-04-18T04:57:27.252031Z\", \"created_time_dt\": \"2021-04-18T04:57:27.252031Z\", \"duration\": \"0:01:10\", \"iteration\": \"28\", \"goal\": \"accuracy_max\", \"run_name\": \"StandardScalerWrapper, LightGBM\", \"run_properties\": \"<azureml.automl.runtime.shared.model_wrappers.StandardScalerWrapper object at 0x7f1b8bc9f588\", \"primary_metric\": 0.83931034, \"best_metric\": 0.86264368}, {\"run_id\": \"AutoML_9941dff4-1a99-4baa-a5a7-6599db2e9af4_29\", \"run_number\": 35, \"metric\": null, \"status\": \"Completed\", \"run_type\": \"azureml.scriptrun\", \"training_percent\": \"100\", \"start_time\": \"2021-04-18T04:57:54.803833Z\", \"end_time\": \"2021-04-18T04:58:38.632886Z\", \"created_time\": \"2021-04-18T04:57:39.802138Z\", \"created_time_dt\": \"2021-04-18T04:57:39.802138Z\", \"duration\": \"0:00:58\", \"iteration\": \"29\", \"goal\": \"accuracy_max\", \"run_name\": \"RobustScaler, ExtremeRandomTrees\", \"run_properties\": \"copy=True, quantile_range=[25, 75], with_centering=True,\\n             with_scaling=True\", \"primary_metric\": 0.85287356, \"best_metric\": 0.86264368}, {\"run_id\": \"AutoML_9941dff4-1a99-4baa-a5a7-6599db2e9af4_30\", \"run_number\": 36, \"metric\": null, \"status\": \"Completed\", \"run_type\": \"azureml.scriptrun\", \"training_percent\": \"100\", \"start_time\": \"2021-04-18T04:58:04.654965Z\", \"end_time\": \"2021-04-18T04:58:54.990297Z\", \"created_time\": \"2021-04-18T04:57:56.659207Z\", \"created_time_dt\": \"2021-04-18T04:57:56.659207Z\", \"duration\": \"0:00:58\", \"iteration\": \"30\", \"goal\": \"accuracy_max\", \"run_name\": \"MaxAbsScaler, RandomForest\", \"run_properties\": \"copy=True\", \"primary_metric\": 0.83931034, \"best_metric\": 0.86264368}, {\"run_id\": \"AutoML_9941dff4-1a99-4baa-a5a7-6599db2e9af4_31\", \"run_number\": 37, \"metric\": null, \"status\": \"Completed\", \"run_type\": \"azureml.scriptrun\", \"training_percent\": \"100\", \"start_time\": \"2021-04-18T04:58:15.349686Z\", \"end_time\": \"2021-04-18T04:59:04.316431Z\", \"created_time\": \"2021-04-18T04:58:01.415411Z\", \"created_time_dt\": \"2021-04-18T04:58:01.415411Z\", \"duration\": \"0:01:02\", \"iteration\": \"31\", \"goal\": \"accuracy_max\", \"run_name\": \"RobustScaler, RandomForest\", \"run_properties\": \"copy=True, quantile_range=[25, 75], with_centering=False,\\n             with_scaling=True\", \"primary_metric\": 0.85287356, \"best_metric\": 0.86264368}, {\"run_id\": \"AutoML_9941dff4-1a99-4baa-a5a7-6599db2e9af4_32\", \"run_number\": 38, \"metric\": null, \"status\": \"Completed\", \"run_type\": \"azureml.scriptrun\", \"training_percent\": \"100\", \"start_time\": \"2021-04-18T04:58:50.161189Z\", \"end_time\": \"2021-04-18T04:59:36.433736Z\", \"created_time\": \"2021-04-18T04:58:39.942734Z\", \"created_time_dt\": \"2021-04-18T04:58:39.942734Z\", \"duration\": \"0:00:56\", \"iteration\": \"32\", \"goal\": \"accuracy_max\", \"run_name\": \"SparseNormalizer, ExtremeRandomTrees\", \"run_properties\": \"<azureml.automl.runtime.shared.model_wrappers.SparseNormalizer object at 0x7fb818190208\", \"primary_metric\": 0.78908046, \"best_metric\": 0.86264368}, {\"run_id\": \"AutoML_9941dff4-1a99-4baa-a5a7-6599db2e9af4_33\", \"run_number\": 39, \"metric\": null, \"status\": \"Canceled\", \"run_type\": \"azureml.scriptrun\", \"training_percent\": \"100\", \"start_time\": \"2021-04-18T04:58:55.166255Z\", \"end_time\": \"2021-04-18T04:59:43.681263Z\", \"created_time\": \"2021-04-18T04:58:44.230754Z\", \"created_time_dt\": \"2021-04-18T04:58:44.230754Z\", \"duration\": \"0:00:59\", \"iteration\": \"33\", \"goal\": \"accuracy_max\", \"run_name\": \"MaxAbsScaler, LightGBM\", \"run_properties\": \"copy=True\", \"primary_metric\": 0.84252874, \"best_metric\": 0.86264368}, {\"run_id\": \"AutoML_9941dff4-1a99-4baa-a5a7-6599db2e9af4_34\", \"run_number\": 40, \"metric\": null, \"status\": \"Canceled\", \"run_type\": \"azureml.scriptrun\", \"training_percent\": \"100\", \"start_time\": \"2021-04-18T04:59:12.167688Z\", \"end_time\": \"2021-04-18T04:59:43.337283Z\", \"created_time\": \"2021-04-18T04:58:57.525782Z\", \"created_time_dt\": \"2021-04-18T04:58:57.525782Z\", \"duration\": \"0:00:45\", \"iteration\": \"34\", \"goal\": \"accuracy_max\", \"run_name\": \"StandardScalerWrapper, RandomForest\", \"run_properties\": \"<azureml.automl.runtime.shared.model_wrappers.StandardScalerWrapper object at 0x7f50c1922d68\", \"primary_metric\": 0.83931034, \"best_metric\": 0.86264368}, {\"run_id\": \"AutoML_9941dff4-1a99-4baa-a5a7-6599db2e9af4_35\", \"run_number\": 41, \"metric\": null, \"status\": \"Canceled\", \"run_type\": \"azureml.scriptrun\", \"training_percent\": \"100\", \"start_time\": \"2021-04-18T04:59:19.046717Z\", \"end_time\": \"2021-04-18T04:59:43.405095Z\", \"created_time\": \"2021-04-18T04:59:08.466397Z\", \"created_time_dt\": \"2021-04-18T04:59:08.466397Z\", \"duration\": \"0:00:34\", \"iteration\": \"35\", \"goal\": null, \"run_name\": \"MaxAbsScaler, RandomForest\", \"run_properties\": null}, {\"run_id\": \"AutoML_9941dff4-1a99-4baa-a5a7-6599db2e9af4_36\", \"run_number\": 42, \"metric\": null, \"status\": \"Completed\", \"run_type\": \"azureml.scriptrun\", \"training_percent\": \"100\", \"start_time\": \"2021-04-18T04:59:56.272396Z\", \"end_time\": \"2021-04-18T05:01:16.931012Z\", \"created_time\": \"2021-04-18T04:59:45.198727Z\", \"created_time_dt\": \"2021-04-18T04:59:45.198727Z\", \"duration\": \"0:01:31\", \"iteration\": \"36\", \"goal\": \"accuracy_max\", \"run_name\": \"VotingEnsemble\", \"run_properties\": \"classification_labels=None,\\n                              estimators=[('10',\\n                                           Pipeline(memory=None,\\n                                                    steps=[('standardscalerwrapper',\\n                                                            <azureml.automl.runtime.shared.model_wrappers.StandardScalerWrapper object at 0x7f4380214860>\", \"primary_metric\": 0.87632184, \"best_metric\": 0.87632184}, {\"run_id\": \"AutoML_9941dff4-1a99-4baa-a5a7-6599db2e9af4_37\", \"run_number\": 43, \"metric\": null, \"status\": \"Completed\", \"run_type\": \"azureml.scriptrun\", \"training_percent\": \"100\", \"start_time\": \"2021-04-18T04:59:53.762464Z\", \"end_time\": \"2021-04-18T05:01:06.41186Z\", \"created_time\": \"2021-04-18T04:59:45.412622Z\", \"created_time_dt\": \"2021-04-18T04:59:45.412622Z\", \"duration\": \"0:01:20\", \"iteration\": \"37\", \"goal\": \"accuracy_max\", \"run_name\": \"StackEnsemble\", \"run_properties\": \"base_learners=[('10',\\n                                        Pipeline(memory=None,\\n                                                 steps=[('standardscalerwrapper',\\n                                                         <azureml.automl.runtime.shared.model_wrappers.StandardScalerWrapper object at 0x7f2cf46c7cf8>\", \"primary_metric\": 0.83931034, \"best_metric\": 0.87632184}], \"children_metrics\": {\"categories\": [0], \"series\": {\"recall_score_macro\": [{\"categories\": [\"0\", \"1\", \"2\", \"3\", \"4\", \"5\", \"6\", \"7\", \"8\", \"9\", \"10\", \"11\", \"12\", \"13\", \"14\", \"15\", \"16\", \"17\", \"18\", \"19\", \"20\", \"21\", \"22\", \"23\", \"24\", \"25\", \"26\", \"27\", \"28\", \"29\", \"30\", \"31\", \"32\", \"33\", \"34\", \"36\", \"37\"], \"mode\": \"markers\", \"name\": \"recall_score_macro\", \"stepped\": false, \"type\": \"scatter\", \"data\": [0.8077082895810014, 0.8130249020938379, 0.8205891156580517, 0.7926134976769987, 0.8252895219768789, 0.8306920244451709, 0.8182579468268827, 0.758680183247975, 0.7999603913439726, 0.7619858234188899, 0.8200043071281631, 0.7766098682972252, 0.7603868201465456, 0.833344166163102, 0.8117060842158095, 0.7600986119779026, 0.8279120821652286, 0.8131082354271714, 0.8212068152099616, 0.5387473587625189, 0.8164741312272777, 0.6527223171565277, 0.7067531394362059, 0.7477539245016362, 0.7631085639824198, 0.5, 0.7980217502748967, 0.7771518862208222, 0.7958448240991147, 0.8104369103754114, 0.7956734136064799, 0.8122702750783415, 0.7883083767554591, 0.8136783159314624, 0.8028226788149558, 0.8413441975326986, 0.7973780131323037]}, {\"categories\": [\"0\", \"1\", \"2\", \"3\", \"4\", \"5\", \"6\", \"7\", \"8\", \"9\", \"10\", \"11\", \"12\", \"13\", \"14\", \"15\", \"16\", \"17\", \"18\", \"19\", \"20\", \"21\", \"22\", \"23\", \"24\", \"25\", \"26\", \"27\", \"28\", \"29\", \"30\", \"31\", \"32\", \"33\", \"34\", \"36\", \"37\"], \"mode\": \"lines\", \"name\": \"recall_score_macro_max\", \"stepped\": true, \"type\": \"scatter\", \"data\": [0.8077082895810014, 0.8130249020938379, 0.8205891156580517, 0.8205891156580517, 0.8252895219768789, 0.8306920244451709, 0.8306920244451709, 0.8306920244451709, 0.8306920244451709, 0.8306920244451709, 0.8306920244451709, 0.8306920244451709, 0.8306920244451709, 0.833344166163102, 0.833344166163102, 0.833344166163102, 0.833344166163102, 0.833344166163102, 0.833344166163102, 0.833344166163102, 0.833344166163102, 0.833344166163102, 0.833344166163102, 0.833344166163102, 0.833344166163102, 0.833344166163102, 0.833344166163102, 0.833344166163102, 0.833344166163102, 0.833344166163102, 0.833344166163102, 0.833344166163102, 0.833344166163102, 0.833344166163102, 0.833344166163102, 0.8413441975326986, 0.8413441975326986]}], \"recall_score_micro\": [{\"categories\": [\"0\", \"1\", \"2\", \"3\", \"4\", \"5\", \"6\", \"7\", \"8\", \"9\", \"10\", \"11\", \"12\", \"13\", \"14\", \"15\", \"16\", \"17\", \"18\", \"19\", \"20\", \"21\", \"22\", \"23\", \"24\", \"25\", \"26\", \"27\", \"28\", \"29\", \"30\", \"31\", \"32\", \"33\", \"34\", \"36\", \"37\"], \"mode\": \"markers\", \"name\": \"recall_score_micro\", \"stepped\": false, \"type\": \"scatter\", \"data\": [0.8359770114942527, 0.8358620689655172, 0.849425287356322, 0.8326436781609197, 0.8457471264367816, 0.8424137931034483, 0.8393103448275863, 0.8093103448275862, 0.8328735632183909, 0.8262068965517241, 0.8626436781609197, 0.8228735632183909, 0.8195402298850574, 0.8560919540229885, 0.8426436781609198, 0.8260919540229885, 0.852528735632184, 0.8528735632183908, 0.8425287356321839, 0.6289655172413793, 0.8425287356321839, 0.7594252873563219, 0.7960919540229885, 0.8160919540229885, 0.8331034482758621, 0.6791954022988507, 0.8224137931034482, 0.8328735632183909, 0.8393103448275863, 0.852873563218391, 0.8393103448275863, 0.8528735632183908, 0.7890804597701149, 0.842528735632184, 0.8393103448275863, 0.8763218390804598, 0.8393103448275863]}, {\"categories\": [\"0\", \"1\", \"2\", \"3\", \"4\", \"5\", \"6\", \"7\", \"8\", \"9\", \"10\", \"11\", \"12\", \"13\", \"14\", \"15\", \"16\", \"17\", \"18\", \"19\", \"20\", \"21\", \"22\", \"23\", \"24\", \"25\", \"26\", \"27\", \"28\", \"29\", \"30\", \"31\", \"32\", \"33\", \"34\", \"36\", \"37\"], \"mode\": \"lines\", \"name\": \"recall_score_micro_max\", \"stepped\": true, \"type\": \"scatter\", \"data\": [0.8359770114942527, 0.8359770114942527, 0.849425287356322, 0.849425287356322, 0.849425287356322, 0.849425287356322, 0.849425287356322, 0.849425287356322, 0.849425287356322, 0.849425287356322, 0.8626436781609197, 0.8626436781609197, 0.8626436781609197, 0.8626436781609197, 0.8626436781609197, 0.8626436781609197, 0.8626436781609197, 0.8626436781609197, 0.8626436781609197, 0.8626436781609197, 0.8626436781609197, 0.8626436781609197, 0.8626436781609197, 0.8626436781609197, 0.8626436781609197, 0.8626436781609197, 0.8626436781609197, 0.8626436781609197, 0.8626436781609197, 0.8626436781609197, 0.8626436781609197, 0.8626436781609197, 0.8626436781609197, 0.8626436781609197, 0.8626436781609197, 0.8763218390804598, 0.8763218390804598]}], \"accuracy\": [{\"categories\": [\"0\", \"1\", \"2\", \"3\", \"4\", \"5\", \"6\", \"7\", \"8\", \"9\", \"10\", \"11\", \"12\", \"13\", \"14\", \"15\", \"16\", \"17\", \"18\", \"19\", \"20\", \"21\", \"22\", \"23\", \"24\", \"25\", \"26\", \"27\", \"28\", \"29\", \"30\", \"31\", \"32\", \"33\", \"34\", \"36\", \"37\"], \"mode\": \"markers\", \"name\": \"accuracy\", \"stepped\": false, \"type\": \"scatter\", \"data\": [0.8359770114942527, 0.8358620689655172, 0.849425287356322, 0.8326436781609197, 0.8457471264367816, 0.8424137931034483, 0.8393103448275863, 0.8093103448275862, 0.8328735632183909, 0.8262068965517241, 0.8626436781609197, 0.8228735632183909, 0.8195402298850574, 0.8560919540229885, 0.8426436781609198, 0.8260919540229885, 0.852528735632184, 0.8528735632183908, 0.8425287356321839, 0.6289655172413793, 0.8425287356321839, 0.7594252873563219, 0.7960919540229885, 0.8160919540229885, 0.8331034482758621, 0.6791954022988507, 0.8224137931034482, 0.8328735632183909, 0.8393103448275863, 0.852873563218391, 0.8393103448275863, 0.8528735632183908, 0.7890804597701149, 0.842528735632184, 0.8393103448275863, 0.8763218390804598, 0.8393103448275863]}, {\"categories\": [\"0\", \"1\", \"2\", \"3\", \"4\", \"5\", \"6\", \"7\", \"8\", \"9\", \"10\", \"11\", \"12\", \"13\", \"14\", \"15\", \"16\", \"17\", \"18\", \"19\", \"20\", \"21\", \"22\", \"23\", \"24\", \"25\", \"26\", \"27\", \"28\", \"29\", \"30\", \"31\", \"32\", \"33\", \"34\", \"36\", \"37\"], \"mode\": \"lines\", \"name\": \"accuracy_max\", \"stepped\": true, \"type\": \"scatter\", \"data\": [0.8359770114942527, 0.8359770114942527, 0.849425287356322, 0.849425287356322, 0.849425287356322, 0.849425287356322, 0.849425287356322, 0.849425287356322, 0.849425287356322, 0.849425287356322, 0.8626436781609197, 0.8626436781609197, 0.8626436781609197, 0.8626436781609197, 0.8626436781609197, 0.8626436781609197, 0.8626436781609197, 0.8626436781609197, 0.8626436781609197, 0.8626436781609197, 0.8626436781609197, 0.8626436781609197, 0.8626436781609197, 0.8626436781609197, 0.8626436781609197, 0.8626436781609197, 0.8626436781609197, 0.8626436781609197, 0.8626436781609197, 0.8626436781609197, 0.8626436781609197, 0.8626436781609197, 0.8626436781609197, 0.8626436781609197, 0.8626436781609197, 0.8763218390804598, 0.8763218390804598]}], \"precision_score_weighted\": [{\"categories\": [\"0\", \"1\", \"2\", \"3\", \"4\", \"5\", \"6\", \"7\", \"8\", \"9\", \"10\", \"11\", \"12\", \"13\", \"14\", \"15\", \"16\", \"17\", \"18\", \"19\", \"20\", \"21\", \"22\", \"23\", \"24\", \"25\", \"26\", \"27\", \"28\", \"29\", \"30\", \"31\", \"32\", \"33\", \"34\", \"36\", \"37\"], \"mode\": \"markers\", \"name\": \"precision_score_weighted\", \"stepped\": false, \"type\": \"scatter\", \"data\": [0.8443308716969533, 0.8506678986628277, 0.8622585857143579, 0.8479414793615337, 0.859944654315807, 0.8599172057693787, 0.8539848643499319, 0.8214794960088856, 0.8490463978799812, 0.8411052904764549, 0.8700555083217514, 0.8338026742466068, 0.840623900302411, 0.8717640426928284, 0.8573686419207803, 0.8458189288953408, 0.8671725893969302, 0.8659547408114123, 0.8587806165549573, 0.6043610611845553, 0.854973866801916, 0.7938662109726577, 0.8250519102170525, 0.8399696337728573, 0.8502544768741169, 0.47055053507728895, 0.8397909827529281, 0.8447950151908172, 0.8512215457548056, 0.8665982782427074, 0.8470779954159777, 0.8611787333245354, 0.8165886073016884, 0.8580665941560245, 0.8494902359426348, 0.8902097224503521, 0.8533080673948739]}, {\"categories\": [\"0\", \"1\", \"2\", \"3\", \"4\", \"5\", \"6\", \"7\", \"8\", \"9\", \"10\", \"11\", \"12\", \"13\", \"14\", \"15\", \"16\", \"17\", \"18\", \"19\", \"20\", \"21\", \"22\", \"23\", \"24\", \"25\", \"26\", \"27\", \"28\", \"29\", \"30\", \"31\", \"32\", \"33\", \"34\", \"36\", \"37\"], \"mode\": \"lines\", \"name\": \"precision_score_weighted_max\", \"stepped\": true, \"type\": \"scatter\", \"data\": [0.8443308716969533, 0.8506678986628277, 0.8622585857143579, 0.8622585857143579, 0.8622585857143579, 0.8622585857143579, 0.8622585857143579, 0.8622585857143579, 0.8622585857143579, 0.8622585857143579, 0.8700555083217514, 0.8700555083217514, 0.8700555083217514, 0.8717640426928284, 0.8717640426928284, 0.8717640426928284, 0.8717640426928284, 0.8717640426928284, 0.8717640426928284, 0.8717640426928284, 0.8717640426928284, 0.8717640426928284, 0.8717640426928284, 0.8717640426928284, 0.8717640426928284, 0.8717640426928284, 0.8717640426928284, 0.8717640426928284, 0.8717640426928284, 0.8717640426928284, 0.8717640426928284, 0.8717640426928284, 0.8717640426928284, 0.8717640426928284, 0.8717640426928284, 0.8902097224503521, 0.8902097224503521]}], \"norm_macro_recall\": [{\"categories\": [\"0\", \"1\", \"2\", \"3\", \"4\", \"5\", \"6\", \"7\", \"8\", \"9\", \"10\", \"11\", \"12\", \"13\", \"14\", \"15\", \"16\", \"17\", \"18\", \"19\", \"20\", \"21\", \"22\", \"23\", \"24\", \"25\", \"26\", \"27\", \"28\", \"29\", \"30\", \"31\", \"32\", \"33\", \"34\", \"36\", \"37\"], \"mode\": \"markers\", \"name\": \"norm_macro_recall\", \"stepped\": false, \"type\": \"scatter\", \"data\": [0.6154165791620023, 0.626049804187676, 0.6411782313161032, 0.5852269953539976, 0.6505790439537579, 0.6613840488903419, 0.6365158936537654, 0.5173603664959501, 0.5999207826879452, 0.5239716468377796, 0.6400086142563259, 0.5532197365944505, 0.5207736402930911, 0.6666883323262042, 0.6234121684316192, 0.5201972239558051, 0.6558241643304572, 0.6262164708543427, 0.6424136304199233, 0.12730674760022584, 0.6329482624545554, 0.3054446343130553, 0.4135062788724116, 0.4955078490032722, 0.5262171279648397, 0.0, 0.5960435005497935, 0.5543037724416443, 0.5916896481982293, 0.6208738207508231, 0.5913468272129598, 0.6245405501566829, 0.5766167535109183, 0.6273566318629248, 0.6056453576299115, 0.6826883950653974, 0.5947560262646074]}, {\"categories\": [\"0\", \"1\", \"2\", \"3\", \"4\", \"5\", \"6\", \"7\", \"8\", \"9\", \"10\", \"11\", \"12\", \"13\", \"14\", \"15\", \"16\", \"17\", \"18\", \"19\", \"20\", \"21\", \"22\", \"23\", \"24\", \"25\", \"26\", \"27\", \"28\", \"29\", \"30\", \"31\", \"32\", \"33\", \"34\", \"36\", \"37\"], \"mode\": \"lines\", \"name\": \"norm_macro_recall_max\", \"stepped\": true, \"type\": \"scatter\", \"data\": [0.6154165791620023, 0.626049804187676, 0.6411782313161032, 0.6411782313161032, 0.6505790439537579, 0.6613840488903419, 0.6613840488903419, 0.6613840488903419, 0.6613840488903419, 0.6613840488903419, 0.6613840488903419, 0.6613840488903419, 0.6613840488903419, 0.6666883323262042, 0.6666883323262042, 0.6666883323262042, 0.6666883323262042, 0.6666883323262042, 0.6666883323262042, 0.6666883323262042, 0.6666883323262042, 0.6666883323262042, 0.6666883323262042, 0.6666883323262042, 0.6666883323262042, 0.6666883323262042, 0.6666883323262042, 0.6666883323262042, 0.6666883323262042, 0.6666883323262042, 0.6666883323262042, 0.6666883323262042, 0.6666883323262042, 0.6666883323262042, 0.6666883323262042, 0.6826883950653974, 0.6826883950653974]}], \"AUC_micro\": [{\"categories\": [\"0\", \"1\", \"2\", \"3\", \"4\", \"5\", \"6\", \"7\", \"8\", \"9\", \"10\", \"11\", \"12\", \"13\", \"14\", \"15\", \"16\", \"17\", \"18\", \"19\", \"20\", \"21\", \"22\", \"23\", \"24\", \"25\", \"26\", \"27\", \"28\", \"29\", \"30\", \"31\", \"32\", \"33\", \"34\", \"36\", \"37\"], \"mode\": \"markers\", \"name\": \"AUC_micro\", \"stepped\": false, \"type\": \"scatter\", \"data\": [0.9035422116527941, 0.9042166732725592, 0.911470075307174, 0.9130334258158278, 0.9203590963139121, 0.9089730479587793, 0.9078092218258688, 0.8808599550799313, 0.898694147179284, 0.880169771436121, 0.9125441934205311, 0.8904875148632581, 0.9036357510899722, 0.9029105562161449, 0.9111561632976615, 0.8975012551195668, 0.9120548289073854, 0.9187292905271504, 0.9194680935394374, 0.6452929052715021, 0.9068677500330293, 0.860674725855463, 0.8741854934601664, 0.8838501783590964, 0.8883432421720174, 0.7932849782005549, 0.9137956136874091, 0.88855185625578, 0.9027644338750165, 0.9158092218258688, 0.8710841590698903, 0.9179223147047166, 0.8565325670498083, 0.9082946228035407, 0.9111757167393316, 0.9202282996432818, 0.917349187475228]}, {\"categories\": [\"0\", \"1\", \"2\", \"3\", \"4\", \"5\", \"6\", \"7\", \"8\", \"9\", \"10\", \"11\", \"12\", \"13\", \"14\", \"15\", \"16\", \"17\", \"18\", \"19\", \"20\", \"21\", \"22\", \"23\", \"24\", \"25\", \"26\", \"27\", \"28\", \"29\", \"30\", \"31\", \"32\", \"33\", \"34\", \"36\", \"37\"], \"mode\": \"lines\", \"name\": \"AUC_micro_max\", \"stepped\": true, \"type\": \"scatter\", \"data\": [0.9035422116527941, 0.9042166732725592, 0.911470075307174, 0.9130334258158278, 0.9203590963139121, 0.9203590963139121, 0.9203590963139121, 0.9203590963139121, 0.9203590963139121, 0.9203590963139121, 0.9203590963139121, 0.9203590963139121, 0.9203590963139121, 0.9203590963139121, 0.9203590963139121, 0.9203590963139121, 0.9203590963139121, 0.9203590963139121, 0.9203590963139121, 0.9203590963139121, 0.9203590963139121, 0.9203590963139121, 0.9203590963139121, 0.9203590963139121, 0.9203590963139121, 0.9203590963139121, 0.9203590963139121, 0.9203590963139121, 0.9203590963139121, 0.9203590963139121, 0.9203590963139121, 0.9203590963139121, 0.9203590963139121, 0.9203590963139121, 0.9203590963139121, 0.9203590963139121, 0.9203590963139121]}], \"average_precision_score_micro\": [{\"categories\": [\"0\", \"1\", \"2\", \"3\", \"4\", \"5\", \"6\", \"7\", \"8\", \"9\", \"10\", \"11\", \"12\", \"13\", \"14\", \"15\", \"16\", \"17\", \"18\", \"19\", \"20\", \"21\", \"22\", \"23\", \"24\", \"25\", \"26\", \"27\", \"28\", \"29\", \"30\", \"31\", \"32\", \"33\", \"34\", \"36\", \"37\"], \"mode\": \"markers\", \"name\": \"average_precision_score_micro\", \"stepped\": false, \"type\": \"scatter\", \"data\": [0.9020054536251629, 0.9033793522124445, 0.908472580656231, 0.9161974675363233, 0.9246234420580256, 0.906668999630388, 0.9116507497828665, 0.876380860099481, 0.9019692978998345, 0.8772704558840487, 0.9150686730806001, 0.8880654626126384, 0.9019715624413595, 0.9062311797360871, 0.9137008776840483, 0.9045880262347422, 0.9134501718184722, 0.9187936132536677, 0.9228635608553857, 0.6449865879404937, 0.9117278026591265, 0.8740114814562535, 0.8783451198132939, 0.8866172914639685, 0.8819667353190452, 0.8034704945432105, 0.9160910903096944, 0.8878382558535105, 0.907380079578538, 0.9176225571877547, 0.8494929044787334, 0.9214564515132497, 0.8583303333779024, 0.9103596103126405, 0.9125501192953822, 0.9236589883918805, 0.9207873761698642]}, {\"categories\": [\"0\", \"1\", \"2\", \"3\", \"4\", \"5\", \"6\", \"7\", \"8\", \"9\", \"10\", \"11\", \"12\", \"13\", \"14\", \"15\", \"16\", \"17\", \"18\", \"19\", \"20\", \"21\", \"22\", \"23\", \"24\", \"25\", \"26\", \"27\", \"28\", \"29\", \"30\", \"31\", \"32\", \"33\", \"34\", \"36\", \"37\"], \"mode\": \"lines\", \"name\": \"average_precision_score_micro_max\", \"stepped\": true, \"type\": \"scatter\", \"data\": [0.9020054536251629, 0.9033793522124445, 0.908472580656231, 0.9161974675363233, 0.9246234420580256, 0.9246234420580256, 0.9246234420580256, 0.9246234420580256, 0.9246234420580256, 0.9246234420580256, 0.9246234420580256, 0.9246234420580256, 0.9246234420580256, 0.9246234420580256, 0.9246234420580256, 0.9246234420580256, 0.9246234420580256, 0.9246234420580256, 0.9246234420580256, 0.9246234420580256, 0.9246234420580256, 0.9246234420580256, 0.9246234420580256, 0.9246234420580256, 0.9246234420580256, 0.9246234420580256, 0.9246234420580256, 0.9246234420580256, 0.9246234420580256, 0.9246234420580256, 0.9246234420580256, 0.9246234420580256, 0.9246234420580256, 0.9246234420580256, 0.9246234420580256, 0.9246234420580256, 0.9246234420580256]}], \"f1_score_weighted\": [{\"categories\": [\"0\", \"1\", \"2\", \"3\", \"4\", \"5\", \"6\", \"7\", \"8\", \"9\", \"10\", \"11\", \"12\", \"13\", \"14\", \"15\", \"16\", \"17\", \"18\", \"19\", \"20\", \"21\", \"22\", \"23\", \"24\", \"25\", \"26\", \"27\", \"28\", \"29\", \"30\", \"31\", \"32\", \"33\", \"34\", \"36\", \"37\"], \"mode\": \"markers\", \"name\": \"f1_score_weighted\", \"stepped\": false, \"type\": \"scatter\", \"data\": [0.8333388901455894, 0.8342588560383983, 0.8469648881795269, 0.8243872725173939, 0.8463830737809319, 0.8441926186089038, 0.837395992751081, 0.8048217845216165, 0.8280418148453291, 0.8160277402923579, 0.8579812283992547, 0.8182029301492518, 0.8080979228611413, 0.8536252973811452, 0.8394363442180914, 0.8132634517824846, 0.8511245109673373, 0.8473090855094908, 0.8410262026883124, 0.5939395276897661, 0.8399821473552777, 0.7181144923749897, 0.7699686565971867, 0.7995512106888902, 0.8210007234363339, 0.5534120288954022, 0.8198812145372942, 0.8254562725259083, 0.832414726095011, 0.8459273616940612, 0.8339591021164446, 0.8476007391425922, 0.7939987425349966, 0.8393848248332411, 0.8346673174655189, 0.8711476223256016, 0.8332221731467371]}, {\"categories\": [\"0\", \"1\", \"2\", \"3\", \"4\", \"5\", \"6\", \"7\", \"8\", \"9\", \"10\", \"11\", \"12\", \"13\", \"14\", \"15\", \"16\", \"17\", \"18\", \"19\", \"20\", \"21\", \"22\", \"23\", \"24\", \"25\", \"26\", \"27\", \"28\", \"29\", \"30\", \"31\", \"32\", \"33\", \"34\", \"36\", \"37\"], \"mode\": \"lines\", \"name\": \"f1_score_weighted_max\", \"stepped\": true, \"type\": \"scatter\", \"data\": [0.8333388901455894, 0.8342588560383983, 0.8469648881795269, 0.8469648881795269, 0.8469648881795269, 0.8469648881795269, 0.8469648881795269, 0.8469648881795269, 0.8469648881795269, 0.8469648881795269, 0.8579812283992547, 0.8579812283992547, 0.8579812283992547, 0.8579812283992547, 0.8579812283992547, 0.8579812283992547, 0.8579812283992547, 0.8579812283992547, 0.8579812283992547, 0.8579812283992547, 0.8579812283992547, 0.8579812283992547, 0.8579812283992547, 0.8579812283992547, 0.8579812283992547, 0.8579812283992547, 0.8579812283992547, 0.8579812283992547, 0.8579812283992547, 0.8579812283992547, 0.8579812283992547, 0.8579812283992547, 0.8579812283992547, 0.8579812283992547, 0.8579812283992547, 0.8711476223256016, 0.8711476223256016]}], \"precision_score_micro\": [{\"categories\": [\"0\", \"1\", \"2\", \"3\", \"4\", \"5\", \"6\", \"7\", \"8\", \"9\", \"10\", \"11\", \"12\", \"13\", \"14\", \"15\", \"16\", \"17\", \"18\", \"19\", \"20\", \"21\", \"22\", \"23\", \"24\", \"25\", \"26\", \"27\", \"28\", \"29\", \"30\", \"31\", \"32\", \"33\", \"34\", \"36\", \"37\"], \"mode\": \"markers\", \"name\": \"precision_score_micro\", \"stepped\": false, \"type\": \"scatter\", \"data\": [0.8359770114942527, 0.8358620689655172, 0.849425287356322, 0.8326436781609197, 0.8457471264367816, 0.8424137931034483, 0.8393103448275863, 0.8093103448275862, 0.8328735632183909, 0.8262068965517241, 0.8626436781609197, 0.8228735632183909, 0.8195402298850574, 0.8560919540229885, 0.8426436781609198, 0.8260919540229885, 0.852528735632184, 0.8528735632183908, 0.8425287356321839, 0.6289655172413793, 0.8425287356321839, 0.7594252873563219, 0.7960919540229885, 0.8160919540229885, 0.8331034482758621, 0.6791954022988507, 0.8224137931034482, 0.8328735632183909, 0.8393103448275863, 0.852873563218391, 0.8393103448275863, 0.8528735632183908, 0.7890804597701149, 0.842528735632184, 0.8393103448275863, 0.8763218390804598, 0.8393103448275863]}, {\"categories\": [\"0\", \"1\", \"2\", \"3\", \"4\", \"5\", \"6\", \"7\", \"8\", \"9\", \"10\", \"11\", \"12\", \"13\", \"14\", \"15\", \"16\", \"17\", \"18\", \"19\", \"20\", \"21\", \"22\", \"23\", \"24\", \"25\", \"26\", \"27\", \"28\", \"29\", \"30\", \"31\", \"32\", \"33\", \"34\", \"36\", \"37\"], \"mode\": \"lines\", \"name\": \"precision_score_micro_max\", \"stepped\": true, \"type\": \"scatter\", \"data\": [0.8359770114942527, 0.8359770114942527, 0.849425287356322, 0.849425287356322, 0.849425287356322, 0.849425287356322, 0.849425287356322, 0.849425287356322, 0.849425287356322, 0.849425287356322, 0.8626436781609197, 0.8626436781609197, 0.8626436781609197, 0.8626436781609197, 0.8626436781609197, 0.8626436781609197, 0.8626436781609197, 0.8626436781609197, 0.8626436781609197, 0.8626436781609197, 0.8626436781609197, 0.8626436781609197, 0.8626436781609197, 0.8626436781609197, 0.8626436781609197, 0.8626436781609197, 0.8626436781609197, 0.8626436781609197, 0.8626436781609197, 0.8626436781609197, 0.8626436781609197, 0.8626436781609197, 0.8626436781609197, 0.8626436781609197, 0.8626436781609197, 0.8763218390804598, 0.8763218390804598]}], \"f1_score_micro\": [{\"categories\": [\"0\", \"1\", \"2\", \"3\", \"4\", \"5\", \"6\", \"7\", \"8\", \"9\", \"10\", \"11\", \"12\", \"13\", \"14\", \"15\", \"16\", \"17\", \"18\", \"19\", \"20\", \"21\", \"22\", \"23\", \"24\", \"25\", \"26\", \"27\", \"28\", \"29\", \"30\", \"31\", \"32\", \"33\", \"34\", \"36\", \"37\"], \"mode\": \"markers\", \"name\": \"f1_score_micro\", \"stepped\": false, \"type\": \"scatter\", \"data\": [0.8359770114942527, 0.8358620689655172, 0.849425287356322, 0.8326436781609197, 0.8457471264367816, 0.8424137931034483, 0.8393103448275863, 0.8093103448275862, 0.8328735632183909, 0.8262068965517241, 0.8626436781609197, 0.8228735632183909, 0.8195402298850574, 0.8560919540229885, 0.8426436781609198, 0.8260919540229885, 0.852528735632184, 0.8528735632183908, 0.8425287356321839, 0.6289655172413793, 0.842528735632184, 0.7594252873563219, 0.7960919540229885, 0.8160919540229885, 0.8331034482758621, 0.6791954022988507, 0.8224137931034482, 0.8328735632183909, 0.8393103448275863, 0.852873563218391, 0.8393103448275863, 0.8528735632183908, 0.789080459770115, 0.842528735632184, 0.8393103448275863, 0.8763218390804598, 0.8393103448275863]}, {\"categories\": [\"0\", \"1\", \"2\", \"3\", \"4\", \"5\", \"6\", \"7\", \"8\", \"9\", \"10\", \"11\", \"12\", \"13\", \"14\", \"15\", \"16\", \"17\", \"18\", \"19\", \"20\", \"21\", \"22\", \"23\", \"24\", \"25\", \"26\", \"27\", \"28\", \"29\", \"30\", \"31\", \"32\", \"33\", \"34\", \"36\", \"37\"], \"mode\": \"lines\", \"name\": \"f1_score_micro_max\", \"stepped\": true, \"type\": \"scatter\", \"data\": [0.8359770114942527, 0.8359770114942527, 0.849425287356322, 0.849425287356322, 0.849425287356322, 0.849425287356322, 0.849425287356322, 0.849425287356322, 0.849425287356322, 0.849425287356322, 0.8626436781609197, 0.8626436781609197, 0.8626436781609197, 0.8626436781609197, 0.8626436781609197, 0.8626436781609197, 0.8626436781609197, 0.8626436781609197, 0.8626436781609197, 0.8626436781609197, 0.8626436781609197, 0.8626436781609197, 0.8626436781609197, 0.8626436781609197, 0.8626436781609197, 0.8626436781609197, 0.8626436781609197, 0.8626436781609197, 0.8626436781609197, 0.8626436781609197, 0.8626436781609197, 0.8626436781609197, 0.8626436781609197, 0.8626436781609197, 0.8626436781609197, 0.8763218390804598, 0.8763218390804598]}], \"precision_score_macro\": [{\"categories\": [\"0\", \"1\", \"2\", \"3\", \"4\", \"5\", \"6\", \"7\", \"8\", \"9\", \"10\", \"11\", \"12\", \"13\", \"14\", \"15\", \"16\", \"17\", \"18\", \"19\", \"20\", \"21\", \"22\", \"23\", \"24\", \"25\", \"26\", \"27\", \"28\", \"29\", \"30\", \"31\", \"32\", \"33\", \"34\", \"36\", \"37\"], \"mode\": \"markers\", \"name\": \"precision_score_macro\", \"stepped\": false, \"type\": \"scatter\", \"data\": [0.8167365852764965, 0.8232986049897815, 0.8308688594014682, 0.8265050300576616, 0.8247188748307674, 0.8155905163695578, 0.8226543070456115, 0.7853385886633968, 0.8302320007731906, 0.8392317690361167, 0.8604537049525607, 0.802869487716035, 0.8349356593487027, 0.8533259192498323, 0.8291107214677009, 0.8466691396365309, 0.8388066247478012, 0.8518154369784805, 0.8321914482576247, 0.5253892667434867, 0.8278649787268714, 0.7982452531365575, 0.8345303701934139, 0.8400187264426394, 0.8594646935190413, 0.33959770114942534, 0.807629489970552, 0.8344330729656816, 0.8347272430087076, 0.8622078927937051, 0.8274561940093976, 0.8463590564025345, 0.7627927175481523, 0.8348028297027152, 0.8245739884956131, 0.8885654888589671, 0.8360044544827154]}, {\"categories\": [\"0\", \"1\", \"2\", \"3\", \"4\", \"5\", \"6\", \"7\", \"8\", \"9\", \"10\", \"11\", \"12\", \"13\", \"14\", \"15\", \"16\", \"17\", \"18\", \"19\", \"20\", \"21\", \"22\", \"23\", \"24\", \"25\", \"26\", \"27\", \"28\", \"29\", \"30\", \"31\", \"32\", \"33\", \"34\", \"36\", \"37\"], \"mode\": \"lines\", \"name\": \"precision_score_macro_max\", \"stepped\": true, \"type\": \"scatter\", \"data\": [0.8167365852764965, 0.8232986049897815, 0.8308688594014682, 0.8308688594014682, 0.8308688594014682, 0.8308688594014682, 0.8308688594014682, 0.8308688594014682, 0.8308688594014682, 0.8392317690361167, 0.8604537049525607, 0.8604537049525607, 0.8604537049525607, 0.8604537049525607, 0.8604537049525607, 0.8604537049525607, 0.8604537049525607, 0.8604537049525607, 0.8604537049525607, 0.8604537049525607, 0.8604537049525607, 0.8604537049525607, 0.8604537049525607, 0.8604537049525607, 0.8604537049525607, 0.8604537049525607, 0.8604537049525607, 0.8604537049525607, 0.8604537049525607, 0.8622078927937051, 0.8622078927937051, 0.8622078927937051, 0.8622078927937051, 0.8622078927937051, 0.8622078927937051, 0.8885654888589671, 0.8885654888589671]}], \"balanced_accuracy\": [{\"categories\": [\"0\", \"1\", \"2\", \"3\", \"4\", \"5\", \"6\", \"7\", \"8\", \"9\", \"10\", \"11\", \"12\", \"13\", \"14\", \"15\", \"16\", \"17\", \"18\", \"19\", \"20\", \"21\", \"22\", \"23\", \"24\", \"25\", \"26\", \"27\", \"28\", \"29\", \"30\", \"31\", \"32\", \"33\", \"34\", \"36\", \"37\"], \"mode\": \"markers\", \"name\": \"balanced_accuracy\", \"stepped\": false, \"type\": \"scatter\", \"data\": [0.8077082895810014, 0.8130249020938379, 0.8205891156580517, 0.7926134976769987, 0.8252895219768789, 0.8306920244451709, 0.8182579468268827, 0.758680183247975, 0.7999603913439726, 0.7619858234188899, 0.8200043071281631, 0.7766098682972252, 0.7603868201465456, 0.833344166163102, 0.8117060842158095, 0.7600986119779026, 0.8279120821652286, 0.8131082354271714, 0.8212068152099616, 0.5387473587625189, 0.8164741312272777, 0.6527223171565277, 0.7067531394362059, 0.7477539245016362, 0.7631085639824198, 0.5, 0.7980217502748967, 0.7771518862208222, 0.7958448240991147, 0.8104369103754114, 0.7956734136064799, 0.8122702750783415, 0.7883083767554591, 0.8136783159314624, 0.8028226788149558, 0.8413441975326986, 0.7973780131323037]}, {\"categories\": [\"0\", \"1\", \"2\", \"3\", \"4\", \"5\", \"6\", \"7\", \"8\", \"9\", \"10\", \"11\", \"12\", \"13\", \"14\", \"15\", \"16\", \"17\", \"18\", \"19\", \"20\", \"21\", \"22\", \"23\", \"24\", \"25\", \"26\", \"27\", \"28\", \"29\", \"30\", \"31\", \"32\", \"33\", \"34\", \"36\", \"37\"], \"mode\": \"lines\", \"name\": \"balanced_accuracy_max\", \"stepped\": true, \"type\": \"scatter\", \"data\": [0.8077082895810014, 0.8130249020938379, 0.8205891156580517, 0.8205891156580517, 0.8252895219768789, 0.8306920244451709, 0.8306920244451709, 0.8306920244451709, 0.8306920244451709, 0.8306920244451709, 0.8306920244451709, 0.8306920244451709, 0.8306920244451709, 0.833344166163102, 0.833344166163102, 0.833344166163102, 0.833344166163102, 0.833344166163102, 0.833344166163102, 0.833344166163102, 0.833344166163102, 0.833344166163102, 0.833344166163102, 0.833344166163102, 0.833344166163102, 0.833344166163102, 0.833344166163102, 0.833344166163102, 0.833344166163102, 0.833344166163102, 0.833344166163102, 0.833344166163102, 0.833344166163102, 0.833344166163102, 0.833344166163102, 0.8413441975326986, 0.8413441975326986]}], \"f1_score_macro\": [{\"categories\": [\"0\", \"1\", \"2\", \"3\", \"4\", \"5\", \"6\", \"7\", \"8\", \"9\", \"10\", \"11\", \"12\", \"13\", \"14\", \"15\", \"16\", \"17\", \"18\", \"19\", \"20\", \"21\", \"22\", \"23\", \"24\", \"25\", \"26\", \"27\", \"28\", \"29\", \"30\", \"31\", \"32\", \"33\", \"34\", \"36\", \"37\"], \"mode\": \"markers\", \"name\": \"f1_score_macro\", \"stepped\": false, \"type\": \"scatter\", \"data\": [0.8043314151248963, 0.8078501228997539, 0.8151582076699858, 0.791166131515663, 0.8175465805201829, 0.8147394178350533, 0.8102428266392427, 0.7603669925285953, 0.7985142741080727, 0.778904802926542, 0.8298795479422078, 0.7785500594812078, 0.7695296688112171, 0.8317726968538276, 0.8088087200134766, 0.7754192497122441, 0.8227092851054328, 0.8183604861761811, 0.8152737579171838, 0.5078302686698613, 0.8125283723164781, 0.6481673579434815, 0.7168706298929948, 0.7583060916418903, 0.7830451555584783, 0.4024893878511494, 0.7901988391725234, 0.7870843429663129, 0.8012883076904815, 0.8200125735562601, 0.8010896013758615, 0.8185674122695306, 0.7642399939799531, 0.8115173689267563, 0.8029354850681264, 0.8500660039812397, 0.8020026728928331]}, {\"categories\": [\"0\", \"1\", \"2\", \"3\", \"4\", \"5\", \"6\", \"7\", \"8\", \"9\", \"10\", \"11\", \"12\", \"13\", \"14\", \"15\", \"16\", \"17\", \"18\", \"19\", \"20\", \"21\", \"22\", \"23\", \"24\", \"25\", \"26\", \"27\", \"28\", \"29\", \"30\", \"31\", \"32\", \"33\", \"34\", \"36\", \"37\"], \"mode\": \"lines\", \"name\": \"f1_score_macro_max\", \"stepped\": true, \"type\": \"scatter\", \"data\": [0.8043314151248963, 0.8078501228997539, 0.8151582076699858, 0.8151582076699858, 0.8175465805201829, 0.8175465805201829, 0.8175465805201829, 0.8175465805201829, 0.8175465805201829, 0.8175465805201829, 0.8298795479422078, 0.8298795479422078, 0.8298795479422078, 0.8317726968538276, 0.8317726968538276, 0.8317726968538276, 0.8317726968538276, 0.8317726968538276, 0.8317726968538276, 0.8317726968538276, 0.8317726968538276, 0.8317726968538276, 0.8317726968538276, 0.8317726968538276, 0.8317726968538276, 0.8317726968538276, 0.8317726968538276, 0.8317726968538276, 0.8317726968538276, 0.8317726968538276, 0.8317726968538276, 0.8317726968538276, 0.8317726968538276, 0.8317726968538276, 0.8317726968538276, 0.8500660039812397, 0.8500660039812397]}], \"log_loss\": [{\"categories\": [\"0\", \"1\", \"2\", \"3\", \"4\", \"5\", \"6\", \"7\", \"8\", \"9\", \"10\", \"11\", \"12\", \"13\", \"14\", \"15\", \"16\", \"17\", \"18\", \"19\", \"20\", \"21\", \"22\", \"23\", \"24\", \"25\", \"26\", \"27\", \"28\", \"29\", \"30\", \"31\", \"32\", \"33\", \"34\", \"36\", \"37\"], \"mode\": \"markers\", \"name\": \"log_loss\", \"stepped\": false, \"type\": \"scatter\", \"data\": [0.4772179826627182, 0.41764279466886123, 0.379545525769258, 0.38674591018059745, 0.36729787176138007, 0.37342420854265246, 0.3855683465408756, 0.488972342400222, 0.412689902302552, 0.49356672418042524, 0.39429684820870337, 0.4704610714734049, 0.4937811237209755, 0.3899041971472325, 0.4478267719772274, 0.4227894568759668, 0.3651188091135902, 0.36248851311164776, 0.3580192221101297, 0.754379504966141, 0.3981412017755465, 0.5004802068884457, 0.4684897966629634, 0.4504650237306769, 0.5230151187022564, 0.6305292348812124, 0.3720279661832576, 0.5247843013657314, 0.41860634754545883, 0.37987148523254205, 0.6793310353086177, 0.3915266032624243, 0.6101433913657135, 0.38086860426374985, 0.367223375328044, 0.41355143963620405, 0.39892992765869784]}, {\"categories\": [\"0\", \"1\", \"2\", \"3\", \"4\", \"5\", \"6\", \"7\", \"8\", \"9\", \"10\", \"11\", \"12\", \"13\", \"14\", \"15\", \"16\", \"17\", \"18\", \"19\", \"20\", \"21\", \"22\", \"23\", \"24\", \"25\", \"26\", \"27\", \"28\", \"29\", \"30\", \"31\", \"32\", \"33\", \"34\", \"36\", \"37\"], \"mode\": \"lines\", \"name\": \"log_loss_min\", \"stepped\": true, \"type\": \"scatter\", \"data\": [0.4772179826627182, 0.41764279466886123, 0.379545525769258, 0.379545525769258, 0.36729787176138007, 0.36729787176138007, 0.36729787176138007, 0.36729787176138007, 0.36729787176138007, 0.36729787176138007, 0.36729787176138007, 0.36729787176138007, 0.36729787176138007, 0.36729787176138007, 0.36729787176138007, 0.36729787176138007, 0.3651188091135902, 0.36248851311164776, 0.3580192221101297, 0.3580192221101297, 0.3580192221101297, 0.3580192221101297, 0.3580192221101297, 0.3580192221101297, 0.3580192221101297, 0.3580192221101297, 0.3580192221101297, 0.3580192221101297, 0.3580192221101297, 0.3580192221101297, 0.3580192221101297, 0.3580192221101297, 0.3580192221101297, 0.3580192221101297, 0.3580192221101297, 0.3580192221101297, 0.3580192221101297]}], \"matthews_correlation\": [{\"categories\": [\"0\", \"1\", \"2\", \"3\", \"4\", \"5\", \"6\", \"7\", \"8\", \"9\", \"10\", \"11\", \"12\", \"13\", \"14\", \"15\", \"16\", \"17\", \"18\", \"19\", \"20\", \"21\", \"22\", \"23\", \"24\", \"25\", \"26\", \"27\", \"28\", \"29\", \"30\", \"31\", \"32\", \"33\", \"34\", \"36\", \"37\"], \"mode\": \"markers\", \"name\": \"matthews_correlation\", \"stepped\": false, \"type\": \"scatter\", \"data\": [0.6231314496952846, 0.6345538749068885, 0.64943857484424, 0.6144694222404747, 0.6489234967044963, 0.6447526540059696, 0.6394347567059928, 0.5420631828594559, 0.6251514690683962, 0.5951953522174571, 0.677845342503393, 0.5776602708392987, 0.5859889020033766, 0.6845613771593559, 0.638880652051124, 0.5985307000342799, 0.6642527508547171, 0.6617144390382697, 0.6512166116856055, 0.06694644221666805, 0.6429239664649213, 0.4170696824316278, 0.5198268588351839, 0.5754612728190511, 0.6123332816414019, 0.0, 0.6034563094538329, 0.6043810144599158, 0.6282666583697689, 0.6687322350154778, 0.621195838539959, 0.6566165711335727, 0.549473037114319, 0.6456530221925523, 0.6256005923216261, 0.725983350626622, 0.6303799714556306]}, {\"categories\": [\"0\", \"1\", \"2\", \"3\", \"4\", \"5\", \"6\", \"7\", \"8\", \"9\", \"10\", \"11\", \"12\", \"13\", \"14\", \"15\", \"16\", \"17\", \"18\", \"19\", \"20\", \"21\", \"22\", \"23\", \"24\", \"25\", \"26\", \"27\", \"28\", \"29\", \"30\", \"31\", \"32\", \"33\", \"34\", \"36\", \"37\"], \"mode\": \"lines\", \"name\": \"matthews_correlation_max\", \"stepped\": true, \"type\": \"scatter\", \"data\": [0.6231314496952846, 0.6345538749068885, 0.64943857484424, 0.64943857484424, 0.64943857484424, 0.64943857484424, 0.64943857484424, 0.64943857484424, 0.64943857484424, 0.64943857484424, 0.677845342503393, 0.677845342503393, 0.677845342503393, 0.6845613771593559, 0.6845613771593559, 0.6845613771593559, 0.6845613771593559, 0.6845613771593559, 0.6845613771593559, 0.6845613771593559, 0.6845613771593559, 0.6845613771593559, 0.6845613771593559, 0.6845613771593559, 0.6845613771593559, 0.6845613771593559, 0.6845613771593559, 0.6845613771593559, 0.6845613771593559, 0.6845613771593559, 0.6845613771593559, 0.6845613771593559, 0.6845613771593559, 0.6845613771593559, 0.6845613771593559, 0.725983350626622, 0.725983350626622]}], \"average_precision_score_macro\": [{\"categories\": [\"0\", \"1\", \"2\", \"3\", \"4\", \"5\", \"6\", \"7\", \"8\", \"9\", \"10\", \"11\", \"12\", \"13\", \"14\", \"15\", \"16\", \"17\", \"18\", \"19\", \"20\", \"21\", \"22\", \"23\", \"24\", \"25\", \"26\", \"27\", \"28\", \"29\", \"30\", \"31\", \"32\", \"33\", \"34\", \"36\", \"37\"], \"mode\": \"markers\", \"name\": \"average_precision_score_macro\", \"stepped\": false, \"type\": \"scatter\", \"data\": [0.8807888197525153, 0.8807340475847678, 0.8867997789887749, 0.8909329514722465, 0.9009407625798771, 0.8952397179505258, 0.8820501583796654, 0.8401142754782065, 0.8793971710929904, 0.860024556971147, 0.892146013134357, 0.8718888119973418, 0.8846017871895763, 0.8917357414196134, 0.8981691557314854, 0.8914413855454489, 0.8878858838137174, 0.8994108646915511, 0.902503401306787, 0.573361383217098, 0.8880166439482513, 0.8503066861056221, 0.8727049748271771, 0.8743388435610597, 0.8718346611014851, 0.7453464742160706, 0.89106450669364, 0.8673144799720607, 0.8833412239264323, 0.8956052999949424, 0.8075759048520912, 0.9092613616893507, 0.8559244675036725, 0.8885321496748961, 0.8899270039990492, 0.9015668396645855, 0.9025415452916977]}, {\"categories\": [\"0\", \"1\", \"2\", \"3\", \"4\", \"5\", \"6\", \"7\", \"8\", \"9\", \"10\", \"11\", \"12\", \"13\", \"14\", \"15\", \"16\", \"17\", \"18\", \"19\", \"20\", \"21\", \"22\", \"23\", \"24\", \"25\", \"26\", \"27\", \"28\", \"29\", \"30\", \"31\", \"32\", \"33\", \"34\", \"36\", \"37\"], \"mode\": \"lines\", \"name\": \"average_precision_score_macro_max\", \"stepped\": true, \"type\": \"scatter\", \"data\": [0.8807888197525153, 0.8807888197525153, 0.8867997789887749, 0.8909329514722465, 0.9009407625798771, 0.9009407625798771, 0.9009407625798771, 0.9009407625798771, 0.9009407625798771, 0.9009407625798771, 0.9009407625798771, 0.9009407625798771, 0.9009407625798771, 0.9009407625798771, 0.9009407625798771, 0.9009407625798771, 0.9009407625798771, 0.9009407625798771, 0.902503401306787, 0.902503401306787, 0.902503401306787, 0.902503401306787, 0.902503401306787, 0.902503401306787, 0.902503401306787, 0.902503401306787, 0.902503401306787, 0.902503401306787, 0.902503401306787, 0.902503401306787, 0.902503401306787, 0.9092613616893507, 0.9092613616893507, 0.9092613616893507, 0.9092613616893507, 0.9092613616893507, 0.9092613616893507]}], \"weighted_accuracy\": [{\"categories\": [\"0\", \"1\", \"2\", \"3\", \"4\", \"5\", \"6\", \"7\", \"8\", \"9\", \"10\", \"11\", \"12\", \"13\", \"14\", \"15\", \"16\", \"17\", \"18\", \"19\", \"20\", \"21\", \"22\", \"23\", \"24\", \"25\", \"26\", \"27\", \"28\", \"29\", \"30\", \"31\", \"32\", \"33\", \"34\", \"36\", \"37\"], \"mode\": \"markers\", \"name\": \"weighted_accuracy\", \"stepped\": false, \"type\": \"scatter\", \"data\": [0.8541321922200625, 0.8502962163535492, 0.8682099833531076, 0.858511647385798, 0.8586041602068853, 0.8498233314684173, 0.8524631122691618, 0.8385082313085942, 0.8537749403572639, 0.8663450820371287, 0.8898770364283415, 0.8493953372409658, 0.8569762141082642, 0.8705194204627249, 0.8637983326976671, 0.8683139582924287, 0.8687938940561265, 0.8788476748083516, 0.8557744599260134, 0.6903327576450355, 0.8598641365971378, 0.8286736129943515, 0.8547967201841704, 0.8612664213299371, 0.87580944966903, 0.7931711479234276, 0.8387493880162232, 0.8652392796796947, 0.8685521836685911, 0.8807628383617461, 0.8676564677457332, 0.8785601153316944, 0.7887521227808241, 0.8618810422840963, 0.8629919702234592, 0.8983001730942581, 0.8670874276967526]}, {\"categories\": [\"0\", \"1\", \"2\", \"3\", \"4\", \"5\", \"6\", \"7\", \"8\", \"9\", \"10\", \"11\", \"12\", \"13\", \"14\", \"15\", \"16\", \"17\", \"18\", \"19\", \"20\", \"21\", \"22\", \"23\", \"24\", \"25\", \"26\", \"27\", \"28\", \"29\", \"30\", \"31\", \"32\", \"33\", \"34\", \"36\", \"37\"], \"mode\": \"lines\", \"name\": \"weighted_accuracy_max\", \"stepped\": true, \"type\": \"scatter\", \"data\": [0.8541321922200625, 0.8541321922200625, 0.8682099833531076, 0.8682099833531076, 0.8682099833531076, 0.8682099833531076, 0.8682099833531076, 0.8682099833531076, 0.8682099833531076, 0.8682099833531076, 0.8898770364283415, 0.8898770364283415, 0.8898770364283415, 0.8898770364283415, 0.8898770364283415, 0.8898770364283415, 0.8898770364283415, 0.8898770364283415, 0.8898770364283415, 0.8898770364283415, 0.8898770364283415, 0.8898770364283415, 0.8898770364283415, 0.8898770364283415, 0.8898770364283415, 0.8898770364283415, 0.8898770364283415, 0.8898770364283415, 0.8898770364283415, 0.8898770364283415, 0.8898770364283415, 0.8898770364283415, 0.8898770364283415, 0.8898770364283415, 0.8898770364283415, 0.8983001730942581, 0.8983001730942581]}], \"recall_score_weighted\": [{\"categories\": [\"0\", \"1\", \"2\", \"3\", \"4\", \"5\", \"6\", \"7\", \"8\", \"9\", \"10\", \"11\", \"12\", \"13\", \"14\", \"15\", \"16\", \"17\", \"18\", \"19\", \"20\", \"21\", \"22\", \"23\", \"24\", \"25\", \"26\", \"27\", \"28\", \"29\", \"30\", \"31\", \"32\", \"33\", \"34\", \"36\", \"37\"], \"mode\": \"markers\", \"name\": \"recall_score_weighted\", \"stepped\": false, \"type\": \"scatter\", \"data\": [0.8359770114942527, 0.8358620689655172, 0.849425287356322, 0.8326436781609197, 0.8457471264367816, 0.8424137931034483, 0.8393103448275863, 0.8093103448275862, 0.8328735632183909, 0.8262068965517241, 0.8626436781609197, 0.8228735632183909, 0.8195402298850574, 0.8560919540229885, 0.8426436781609198, 0.8260919540229885, 0.852528735632184, 0.8528735632183908, 0.8425287356321839, 0.6289655172413793, 0.8425287356321839, 0.7594252873563219, 0.7960919540229885, 0.8160919540229885, 0.8331034482758621, 0.6791954022988507, 0.8224137931034482, 0.8328735632183909, 0.8393103448275863, 0.852873563218391, 0.8393103448275863, 0.8528735632183908, 0.7890804597701149, 0.842528735632184, 0.8393103448275863, 0.8763218390804598, 0.8393103448275863]}, {\"categories\": [\"0\", \"1\", \"2\", \"3\", \"4\", \"5\", \"6\", \"7\", \"8\", \"9\", \"10\", \"11\", \"12\", \"13\", \"14\", \"15\", \"16\", \"17\", \"18\", \"19\", \"20\", \"21\", \"22\", \"23\", \"24\", \"25\", \"26\", \"27\", \"28\", \"29\", \"30\", \"31\", \"32\", \"33\", \"34\", \"36\", \"37\"], \"mode\": \"lines\", \"name\": \"recall_score_weighted_max\", \"stepped\": true, \"type\": \"scatter\", \"data\": [0.8359770114942527, 0.8359770114942527, 0.849425287356322, 0.849425287356322, 0.849425287356322, 0.849425287356322, 0.849425287356322, 0.849425287356322, 0.849425287356322, 0.849425287356322, 0.8626436781609197, 0.8626436781609197, 0.8626436781609197, 0.8626436781609197, 0.8626436781609197, 0.8626436781609197, 0.8626436781609197, 0.8626436781609197, 0.8626436781609197, 0.8626436781609197, 0.8626436781609197, 0.8626436781609197, 0.8626436781609197, 0.8626436781609197, 0.8626436781609197, 0.8626436781609197, 0.8626436781609197, 0.8626436781609197, 0.8626436781609197, 0.8626436781609197, 0.8626436781609197, 0.8626436781609197, 0.8626436781609197, 0.8626436781609197, 0.8626436781609197, 0.8763218390804598, 0.8763218390804598]}], \"AUC_macro\": [{\"categories\": [\"0\", \"1\", \"2\", \"3\", \"4\", \"5\", \"6\", \"7\", \"8\", \"9\", \"10\", \"11\", \"12\", \"13\", \"14\", \"15\", \"16\", \"17\", \"18\", \"19\", \"20\", \"21\", \"22\", \"23\", \"24\", \"25\", \"26\", \"27\", \"28\", \"29\", \"30\", \"31\", \"32\", \"33\", \"34\", \"36\", \"37\"], \"mode\": \"markers\", \"name\": \"AUC_macro\", \"stepped\": false, \"type\": \"scatter\", \"data\": [0.8840955354735103, 0.8847369443591411, 0.894119493204905, 0.9029191607422156, 0.9122241015912642, 0.9073292070206259, 0.8949978228124109, 0.8608370342027666, 0.8877728841757445, 0.8666361023606447, 0.9013200355412024, 0.878201283401741, 0.8956902993787719, 0.896834444642568, 0.9050199078614408, 0.8947674802399058, 0.8975411640651917, 0.9064266369013222, 0.9079904936363745, 0.5112851406623717, 0.8981291410619214, 0.8670045445739953, 0.8752178597569904, 0.879852463503951, 0.8767071191098079, 0.7721841950891722, 0.9017672613681766, 0.8784777906558225, 0.8951857931224636, 0.9031105152813963, 0.8394976576542366, 0.9096507383137246, 0.8575999295559937, 0.8985184116555113, 0.9014159379289242, 0.9119662548168842, 0.913080071555701]}, {\"categories\": [\"0\", \"1\", \"2\", \"3\", \"4\", \"5\", \"6\", \"7\", \"8\", \"9\", \"10\", \"11\", \"12\", \"13\", \"14\", \"15\", \"16\", \"17\", \"18\", \"19\", \"20\", \"21\", \"22\", \"23\", \"24\", \"25\", \"26\", \"27\", \"28\", \"29\", \"30\", \"31\", \"32\", \"33\", \"34\", \"36\", \"37\"], \"mode\": \"lines\", \"name\": \"AUC_macro_max\", \"stepped\": true, \"type\": \"scatter\", \"data\": [0.8840955354735103, 0.8847369443591411, 0.894119493204905, 0.9029191607422156, 0.9122241015912642, 0.9122241015912642, 0.9122241015912642, 0.9122241015912642, 0.9122241015912642, 0.9122241015912642, 0.9122241015912642, 0.9122241015912642, 0.9122241015912642, 0.9122241015912642, 0.9122241015912642, 0.9122241015912642, 0.9122241015912642, 0.9122241015912642, 0.9122241015912642, 0.9122241015912642, 0.9122241015912642, 0.9122241015912642, 0.9122241015912642, 0.9122241015912642, 0.9122241015912642, 0.9122241015912642, 0.9122241015912642, 0.9122241015912642, 0.9122241015912642, 0.9122241015912642, 0.9122241015912642, 0.9122241015912642, 0.9122241015912642, 0.9122241015912642, 0.9122241015912642, 0.9122241015912642, 0.913080071555701]}], \"AUC_weighted\": [{\"categories\": [\"0\", \"1\", \"2\", \"3\", \"4\", \"5\", \"6\", \"7\", \"8\", \"9\", \"10\", \"11\", \"12\", \"13\", \"14\", \"15\", \"16\", \"17\", \"18\", \"19\", \"20\", \"21\", \"22\", \"23\", \"24\", \"25\", \"26\", \"27\", \"28\", \"29\", \"30\", \"31\", \"32\", \"33\", \"34\", \"36\", \"37\"], \"mode\": \"markers\", \"name\": \"AUC_weighted\", \"stepped\": false, \"type\": \"scatter\", \"data\": [0.8840955354735103, 0.8847369443591411, 0.894119493204905, 0.9029191607422156, 0.9122241015912639, 0.9073292070206259, 0.8949978228124109, 0.8608370342027666, 0.8877728841757445, 0.8666361023606448, 0.9013200355412024, 0.878201283401741, 0.8956902993787719, 0.8968344446425682, 0.9050199078614408, 0.8947674802399058, 0.8975411640651917, 0.9064266369013222, 0.9079904936363745, 0.5112851406623717, 0.8981291410619214, 0.8670045445739953, 0.8752178597569902, 0.879852463503951, 0.8767071191098079, 0.7721841950891724, 0.9017672613681766, 0.8786434221258019, 0.8951857931224636, 0.9031105152813963, 0.8394976576542366, 0.9096507383137243, 0.8575999295559937, 0.8985184116555113, 0.9014159379289243, 0.9119662548168842, 0.913080071555701]}, {\"categories\": [\"0\", \"1\", \"2\", \"3\", \"4\", \"5\", \"6\", \"7\", \"8\", \"9\", \"10\", \"11\", \"12\", \"13\", \"14\", \"15\", \"16\", \"17\", \"18\", \"19\", \"20\", \"21\", \"22\", \"23\", \"24\", \"25\", \"26\", \"27\", \"28\", \"29\", \"30\", \"31\", \"32\", \"33\", \"34\", \"36\", \"37\"], \"mode\": \"lines\", \"name\": \"AUC_weighted_max\", \"stepped\": true, \"type\": \"scatter\", \"data\": [0.8840955354735103, 0.8847369443591411, 0.894119493204905, 0.9029191607422156, 0.9122241015912639, 0.9122241015912639, 0.9122241015912639, 0.9122241015912639, 0.9122241015912639, 0.9122241015912639, 0.9122241015912639, 0.9122241015912639, 0.9122241015912639, 0.9122241015912639, 0.9122241015912639, 0.9122241015912639, 0.9122241015912639, 0.9122241015912639, 0.9122241015912639, 0.9122241015912639, 0.9122241015912639, 0.9122241015912639, 0.9122241015912639, 0.9122241015912639, 0.9122241015912639, 0.9122241015912639, 0.9122241015912639, 0.9122241015912639, 0.9122241015912639, 0.9122241015912639, 0.9122241015912639, 0.9122241015912639, 0.9122241015912639, 0.9122241015912639, 0.9122241015912639, 0.9122241015912639, 0.913080071555701]}], \"average_precision_score_weighted\": [{\"categories\": [\"0\", \"1\", \"2\", \"3\", \"4\", \"5\", \"6\", \"7\", \"8\", \"9\", \"10\", \"11\", \"12\", \"13\", \"14\", \"15\", \"16\", \"17\", \"18\", \"19\", \"20\", \"21\", \"22\", \"23\", \"24\", \"25\", \"26\", \"27\", \"28\", \"29\", \"30\", \"31\", \"32\", \"33\", \"34\", \"36\", \"37\"], \"mode\": \"markers\", \"name\": \"average_precision_score_weighted\", \"stepped\": false, \"type\": \"scatter\", \"data\": [0.9061112830231934, 0.907154018724502, 0.911135300741155, 0.9177400799641691, 0.9286960654249123, 0.9204998635856281, 0.9113801842301156, 0.8764764478120824, 0.9042677325897064, 0.8864107422880609, 0.916529582653812, 0.8947619806942002, 0.9080352585855126, 0.9137471553727792, 0.9203866589466475, 0.9177586180946771, 0.9129889320618142, 0.9237872408898748, 0.9256180182669402, 0.6301156494113747, 0.9158851262334006, 0.890526917530942, 0.8998122654960043, 0.901780820992796, 0.894761696592598, 0.8039277125112863, 0.9175931400988544, 0.8950472995631611, 0.9128433838735328, 0.9191346185375284, 0.8403333481211236, 0.9295359935939986, 0.8831865069903614, 0.9142071355380399, 0.9148006353320557, 0.9255995595509523, 0.926360394161245]}, {\"categories\": [\"0\", \"1\", \"2\", \"3\", \"4\", \"5\", \"6\", \"7\", \"8\", \"9\", \"10\", \"11\", \"12\", \"13\", \"14\", \"15\", \"16\", \"17\", \"18\", \"19\", \"20\", \"21\", \"22\", \"23\", \"24\", \"25\", \"26\", \"27\", \"28\", \"29\", \"30\", \"31\", \"32\", \"33\", \"34\", \"36\", \"37\"], \"mode\": \"lines\", \"name\": \"average_precision_score_weighted_max\", \"stepped\": true, \"type\": \"scatter\", \"data\": [0.9061112830231934, 0.907154018724502, 0.911135300741155, 0.9177400799641691, 0.9286960654249123, 0.9286960654249123, 0.9286960654249123, 0.9286960654249123, 0.9286960654249123, 0.9286960654249123, 0.9286960654249123, 0.9286960654249123, 0.9286960654249123, 0.9286960654249123, 0.9286960654249123, 0.9286960654249123, 0.9286960654249123, 0.9286960654249123, 0.9286960654249123, 0.9286960654249123, 0.9286960654249123, 0.9286960654249123, 0.9286960654249123, 0.9286960654249123, 0.9286960654249123, 0.9286960654249123, 0.9286960654249123, 0.9286960654249123, 0.9286960654249123, 0.9286960654249123, 0.9286960654249123, 0.9295359935939986, 0.9295359935939986, 0.9295359935939986, 0.9295359935939986, 0.9295359935939986, 0.9295359935939986]}]}, \"metricName\": null, \"primaryMetricName\": \"accuracy\", \"showLegend\": false}, \"run_metrics\": [{\"name\": \"experiment_status\", \"run_id\": \"AutoML_9941dff4-1a99-4baa-a5a7-6599db2e9af4\", \"categories\": [0, 1, 2, 3, 4, 5, 6, 7, 8, 9, 10, 11, 12, 13], \"series\": [{\"data\": [\"DatasetEvaluation\", \"FeaturesGeneration\", \"DatasetFeaturization\", \"DatasetFeaturizationCompleted\", \"DatasetCrossValidationSplit\", \"ModelSelection\", \"BestRunExplainModel\", \"ModelExplanationDataSetSetup\", \"PickSurrogateModel\", \"EngineeredFeatureExplanations\", \"EngineeredFeatureExplanations\", \"RawFeaturesExplanations\", \"RawFeaturesExplanations\", \"BestRunExplainModel\"]}]}, {\"name\": \"experiment_status_description\", \"run_id\": \"AutoML_9941dff4-1a99-4baa-a5a7-6599db2e9af4\", \"categories\": [0, 1, 2, 3, 4, 5, 6, 7, 8, 9, 10, 11, 12, 13], \"series\": [{\"data\": [\"Gathering dataset statistics.\", \"Generating features for the dataset.\", \"Beginning to fit featurizers and featurize the dataset.\", \"Completed fit featurizers and featurizing the dataset.\", \"Generating individually featurized CV splits.\", \"Beginning model selection.\", \"Best run model explanations started\", \"Model explanations data setup completed\", \"Choosing LightGBM as the surrogate model for explanations\", \"Computation of engineered features started\", \"Computation of engineered features completed\", \"Computation of raw features started\", \"Computation of raw features completed\", \"Best run model explanations completed\"]}]}, {\"name\": \"average_precision_score_micro\", \"run_id\": \"AutoML_9941dff4-1a99-4baa-a5a7-6599db2e9af4\", \"categories\": [0], \"series\": [{\"data\": [0.9236589883918805]}]}, {\"name\": \"weighted_accuracy\", \"run_id\": \"AutoML_9941dff4-1a99-4baa-a5a7-6599db2e9af4\", \"categories\": [0], \"series\": [{\"data\": [0.8983001730942581]}]}, {\"name\": \"precision_score_macro\", \"run_id\": \"AutoML_9941dff4-1a99-4baa-a5a7-6599db2e9af4\", \"categories\": [0], \"series\": [{\"data\": [0.8885654888589671]}]}, {\"name\": \"norm_macro_recall\", \"run_id\": \"AutoML_9941dff4-1a99-4baa-a5a7-6599db2e9af4\", \"categories\": [0], \"series\": [{\"data\": [0.6826883950653974]}]}, {\"name\": \"f1_score_macro\", \"run_id\": \"AutoML_9941dff4-1a99-4baa-a5a7-6599db2e9af4\", \"categories\": [0], \"series\": [{\"data\": [0.8500660039812397]}]}, {\"name\": \"AUC_weighted\", \"run_id\": \"AutoML_9941dff4-1a99-4baa-a5a7-6599db2e9af4\", \"categories\": [0], \"series\": [{\"data\": [0.9119662548168842]}]}, {\"name\": \"average_precision_score_weighted\", \"run_id\": \"AutoML_9941dff4-1a99-4baa-a5a7-6599db2e9af4\", \"categories\": [0], \"series\": [{\"data\": [0.9255995595509523]}]}, {\"name\": \"recall_score_micro\", \"run_id\": \"AutoML_9941dff4-1a99-4baa-a5a7-6599db2e9af4\", \"categories\": [0], \"series\": [{\"data\": [0.8763218390804598]}]}, {\"name\": \"balanced_accuracy\", \"run_id\": \"AutoML_9941dff4-1a99-4baa-a5a7-6599db2e9af4\", \"categories\": [0], \"series\": [{\"data\": [0.8413441975326986]}]}, {\"name\": \"matthews_correlation\", \"run_id\": \"AutoML_9941dff4-1a99-4baa-a5a7-6599db2e9af4\", \"categories\": [0], \"series\": [{\"data\": [0.725983350626622]}]}, {\"name\": \"AUC_macro\", \"run_id\": \"AutoML_9941dff4-1a99-4baa-a5a7-6599db2e9af4\", \"categories\": [0], \"series\": [{\"data\": [0.9119662548168842]}]}, {\"name\": \"precision_score_micro\", \"run_id\": \"AutoML_9941dff4-1a99-4baa-a5a7-6599db2e9af4\", \"categories\": [0], \"series\": [{\"data\": [0.8763218390804598]}]}, {\"name\": \"average_precision_score_macro\", \"run_id\": \"AutoML_9941dff4-1a99-4baa-a5a7-6599db2e9af4\", \"categories\": [0], \"series\": [{\"data\": [0.9015668396645855]}]}, {\"name\": \"f1_score_micro\", \"run_id\": \"AutoML_9941dff4-1a99-4baa-a5a7-6599db2e9af4\", \"categories\": [0], \"series\": [{\"data\": [0.8763218390804598]}]}, {\"name\": \"log_loss\", \"run_id\": \"AutoML_9941dff4-1a99-4baa-a5a7-6599db2e9af4\", \"categories\": [0], \"series\": [{\"data\": [0.41355143963620405]}]}, {\"name\": \"recall_score_macro\", \"run_id\": \"AutoML_9941dff4-1a99-4baa-a5a7-6599db2e9af4\", \"categories\": [0], \"series\": [{\"data\": [0.8413441975326986]}]}, {\"name\": \"accuracy\", \"run_id\": \"AutoML_9941dff4-1a99-4baa-a5a7-6599db2e9af4\", \"categories\": [0], \"series\": [{\"data\": [0.8763218390804598]}]}, {\"name\": \"recall_score_weighted\", \"run_id\": \"AutoML_9941dff4-1a99-4baa-a5a7-6599db2e9af4\", \"categories\": [0], \"series\": [{\"data\": [0.8763218390804598]}]}, {\"name\": \"precision_score_weighted\", \"run_id\": \"AutoML_9941dff4-1a99-4baa-a5a7-6599db2e9af4\", \"categories\": [0], \"series\": [{\"data\": [0.8902097224503521]}]}, {\"name\": \"AUC_micro\", \"run_id\": \"AutoML_9941dff4-1a99-4baa-a5a7-6599db2e9af4\", \"categories\": [0], \"series\": [{\"data\": [0.9202282996432818]}]}, {\"name\": \"f1_score_weighted\", \"run_id\": \"AutoML_9941dff4-1a99-4baa-a5a7-6599db2e9af4\", \"categories\": [0], \"series\": [{\"data\": [0.8711476223256016]}]}], \"run_logs\": \"\\nRun is completed.\", \"graph\": {}, \"widget_settings\": {\"childWidgetDisplay\": \"popup\", \"send_telemetry\": false, \"log_level\": \"INFO\", \"sdk_version\": \"1.26.0\"}, \"loading\": false}"
          },
          "metadata": {}
        },
        {
          "output_type": "display_data",
          "data": {
            "text/plain": "<IPython.core.display.HTML object>",
            "text/html": "<table style=\"width:100%\"><tr><th>Experiment</th><th>Id</th><th>Type</th><th>Status</th><th>Details Page</th><th>Docs Page</th></tr><tr><td>heart_failure_prediction</td><td>AutoML_9941dff4-1a99-4baa-a5a7-6599db2e9af4</td><td>automl</td><td>Completed</td><td><a href=\"https://ml.azure.com/runs/AutoML_9941dff4-1a99-4baa-a5a7-6599db2e9af4?wsid=/subscriptions/9b72f9e6-56c5-4c16-991b-19c652994860/resourcegroups/aml-quickstarts-142993/workspaces/quick-starts-ws-142993&amp;tid=660b3398-b80e-49d2-bc5b-ac1dc93b5254\" target=\"_blank\" rel=\"noopener\">Link to Azure Machine Learning studio</a></td><td><a href=\"https://docs.microsoft.com/en-us/python/api/overview/azure/ml/intro?view=azure-ml-py\" target=\"_blank\" rel=\"noopener\">Link to Documentation</a></td></tr></table>"
          },
          "metadata": {}
        },
        {
          "output_type": "stream",
          "name": "stdout",
          "text": [
            "\n",
            "\n",
            "****************************************************************************************************\n",
            "DATA GUARDRAILS: \n",
            "\n",
            "TYPE:         Cross validation\n",
            "STATUS:       DONE\n",
            "DESCRIPTION:  Each iteration of the trained model was validated through cross-validation.\n",
            "              \n",
            "DETAILS:      \n",
            "+---------------------------------+\n",
            "|Number of folds                  |\n",
            "+=================================+\n",
            "|10                               |\n",
            "+---------------------------------+\n",
            "\n",
            "****************************************************************************************************\n",
            "\n",
            "TYPE:         Class balancing detection\n",
            "STATUS:       PASSED\n",
            "DESCRIPTION:  Your inputs were analyzed, and all classes are balanced in your training data.\n",
            "              Learn more about imbalanced data: https://aka.ms/AutomatedMLImbalancedData\n",
            "\n",
            "****************************************************************************************************\n",
            "\n",
            "TYPE:         Missing feature values imputation\n",
            "STATUS:       PASSED\n",
            "DESCRIPTION:  No feature missing values were detected in the training data.\n",
            "              Learn more about missing value imputation: https://aka.ms/AutomatedMLFeaturization\n",
            "\n",
            "****************************************************************************************************\n",
            "\n",
            "TYPE:         High cardinality feature detection\n",
            "STATUS:       PASSED\n",
            "DESCRIPTION:  Your inputs were analyzed, and no high cardinality features were detected.\n",
            "              Learn more about high cardinality feature handling: https://aka.ms/AutomatedMLFeaturization\n",
            "\n",
            "****************************************************************************************************\n",
            "\n",
            "****************************************************************************************************\n",
            "ITERATION: The iteration being evaluated.\n",
            "PIPELINE: A summary description of the pipeline being evaluated.\n",
            "DURATION: Time taken for the current iteration.\n",
            "METRIC: The result of computing score on the fitted pipeline.\n",
            "BEST: The best observed score thus far.\n",
            "****************************************************************************************************\n",
            "\n",
            " ITERATION   PIPELINE                                       DURATION      METRIC      BEST\n",
            "         0   MaxAbsScaler LightGBM                          0:00:47       0.8360    0.8360\n",
            "         1   MaxAbsScaler XGBoostClassifier                 0:00:55       0.8359    0.8360\n",
            "         2   MinMaxScaler RandomForest                      0:02:11       0.8494    0.8494\n",
            "         3   MinMaxScaler RandomForest                      0:00:48       0.8326    0.8494\n",
            "         4   MinMaxScaler RandomForest                      0:02:32       0.8457    0.8494\n",
            "         5   StandardScalerWrapper RandomForest             0:02:13       0.8424    0.8494\n",
            "         6   StandardScalerWrapper XGBoostClassifier        0:00:46       0.8393    0.8494\n",
            "         7   SparseNormalizer XGBoostClassifier             0:00:45       0.8093    0.8494\n",
            "        10   StandardScalerWrapper RandomForest             0:00:40       0.8626    0.8626\n",
            "        11   SparseNormalizer XGBoostClassifier             0:00:44       0.8229    0.8626\n",
            "         8   SparseNormalizer LightGBM                      0:00:49       0.8329    0.8626\n",
            "         9   SparseNormalizer XGBoostClassifier             0:00:46       0.8262    0.8626\n",
            "        12   StandardScalerWrapper XGBoostClassifier        0:00:43       0.8195    0.8626\n",
            "        13   SparseNormalizer XGBoostClassifier             0:00:43       0.8561    0.8626\n",
            "        14   SparseNormalizer XGBoostClassifier             0:00:57       0.8426    0.8626\n",
            "        15   MinMaxScaler LightGBM                          0:00:46       0.8261    0.8626\n",
            "        16   StandardScalerWrapper LightGBM                 0:00:44       0.8525    0.8626\n",
            "        17   StandardScalerWrapper LightGBM                 0:00:55       0.8529    0.8626\n",
            "        18   StandardScalerWrapper GradientBoosting         0:00:46       0.8425    0.8626\n",
            "        19   RobustScaler KNN                               0:00:47       0.6290    0.8626\n",
            "        20   StandardScalerWrapper LightGBM                 0:00:42       0.8425    0.8626\n",
            "        21   StandardScalerWrapper LightGBM                 0:00:41       0.7594    0.8626\n",
            "        22   MaxAbsScaler ExtremeRandomTrees                0:00:43       0.7961    0.8626\n",
            "        23   StandardScalerWrapper ExtremeRandomTrees       0:00:46       0.8161    0.8626\n",
            "        24   SparseNormalizer XGBoostClassifier             0:00:48       0.8331    0.8626\n",
            "        25   StandardScalerWrapper RandomForest             0:00:51       0.6792    0.8626\n",
            "        26   StandardScalerWrapper LightGBM                 0:00:49       0.8224    0.8626\n",
            "        27   SparseNormalizer RandomForest                  0:00:43       0.8329    0.8626\n",
            "        28   StandardScalerWrapper LightGBM                 0:00:56       0.8393    0.8626\n",
            "        29   RobustScaler ExtremeRandomTrees                0:00:44       0.8529    0.8626\n",
            "        30   MaxAbsScaler RandomForest                      0:00:50       0.8393    0.8626\n",
            "        31   RobustScaler RandomForest                      0:00:49       0.8529    0.8626\n",
            "        32   SparseNormalizer ExtremeRandomTrees            0:00:46       0.7891    0.8626\n",
            "        33   MaxAbsScaler LightGBM                          0:00:49       0.8425    0.8626\n",
            "        34   StandardScalerWrapper RandomForest             0:00:31       0.8393    0.8626\n",
            "        35   MaxAbsScaler RandomForest                      0:00:24          nan    0.8626\n",
            "        36    VotingEnsemble                                0:01:21       0.8763    0.8763\n",
            "        37    StackEnsemble                                 0:01:13       0.8393    0.8763\n"
          ]
        },
        {
          "output_type": "execute_result",
          "execution_count": 6,
          "data": {
            "text/plain": "{'runId': 'AutoML_9941dff4-1a99-4baa-a5a7-6599db2e9af4',\n 'target': 'cpucompute',\n 'status': 'Completed',\n 'startTimeUtc': '2021-04-18T04:38:49.983659Z',\n 'endTimeUtc': '2021-04-18T05:01:21.250239Z',\n 'properties': {'num_iterations': '1000',\n  'training_type': 'TrainFull',\n  'acquisition_function': 'EI',\n  'primary_metric': 'accuracy',\n  'train_split': '0',\n  'acquisition_parameter': '0',\n  'num_cross_validation': None,\n  'target': 'cpucompute',\n  'AMLSettingsJsonString': '{\"path\":null,\"name\":\"heart_failure_prediction\",\"subscription_id\":\"9b72f9e6-56c5-4c16-991b-19c652994860\",\"resource_group\":\"aml-quickstarts-142993\",\"workspace_name\":\"quick-starts-ws-142993\",\"region\":\"southcentralus\",\"compute_target\":\"cpucompute\",\"spark_service\":null,\"azure_service\":\"remote\",\"many_models\":false,\"pipeline_fetch_max_batch_size\":1,\"enable_batch_run\":false,\"enable_run_restructure\":false,\"iterations\":1000,\"primary_metric\":\"accuracy\",\"task_type\":\"classification\",\"data_script\":null,\"test_size\":0.0,\"validation_size\":0.0,\"n_cross_validations\":null,\"y_min\":null,\"y_max\":null,\"num_classes\":null,\"featurization\":\"auto\",\"_ignore_package_version_incompatibilities\":false,\"is_timeseries\":false,\"max_cores_per_iteration\":1,\"max_concurrent_iterations\":4,\"iteration_timeout_minutes\":null,\"mem_in_mb\":null,\"enforce_time_on_windows\":false,\"experiment_timeout_minutes\":20,\"experiment_exit_score\":null,\"whitelist_models\":null,\"blacklist_algos\":[\"TensorFlowLinearClassifier\",\"TensorFlowDNN\"],\"supported_models\":[\"LinearSVM\",\"DecisionTree\",\"MultinomialNaiveBayes\",\"RandomForest\",\"LogisticRegression\",\"SGD\",\"AveragedPerceptronClassifier\",\"KNN\",\"XGBoostClassifier\",\"BernoulliNaiveBayes\",\"LightGBM\",\"TensorFlowLinearClassifier\",\"SVM\",\"GradientBoosting\",\"TensorFlowDNN\",\"ExtremeRandomTrees\"],\"private_models\":[],\"auto_blacklist\":true,\"blacklist_samples_reached\":false,\"exclude_nan_labels\":true,\"verbosity\":20,\"_debug_log\":\"azureml_automl.log\",\"show_warnings\":false,\"model_explainability\":true,\"service_url\":null,\"sdk_url\":null,\"sdk_packages\":null,\"enable_onnx_compatible_models\":false,\"enable_split_onnx_featurizer_estimator_models\":false,\"vm_type\":\"STANDARD_D2_V2\",\"telemetry_verbosity\":20,\"send_telemetry\":true,\"enable_dnn\":false,\"scenario\":\"SDK-1.13.0\",\"environment_label\":null,\"save_mlflow\":false,\"force_text_dnn\":false,\"enable_feature_sweeping\":true,\"enable_early_stopping\":true,\"early_stopping_n_iters\":10,\"metrics\":null,\"enable_metric_confidence\":false,\"enable_ensembling\":true,\"enable_stack_ensembling\":true,\"ensemble_iterations\":15,\"enable_tf\":false,\"enable_subsampling\":null,\"subsample_seed\":null,\"enable_nimbusml\":false,\"enable_streaming\":false,\"force_streaming\":false,\"track_child_runs\":true,\"allowed_private_models\":[],\"label_column_name\":\"DEATH_EVENT\",\"weight_column_name\":null,\"cv_split_column_names\":null,\"enable_local_managed\":false,\"_local_managed_run_id\":null,\"cost_mode\":1,\"lag_length\":0,\"metric_operation\":\"maximize\",\"preprocess\":true}',\n  'DataPrepJsonString': '{\\\\\"training_data\\\\\": {\\\\\"datasetId\\\\\": \\\\\"b25e2d62-00cd-4f74-a246-e2cc21543505\\\\\"}, \\\\\"datasets\\\\\": 0}',\n  'EnableSubsampling': None,\n  'runTemplate': 'AutoML',\n  'azureml.runsource': 'automl',\n  'display_task_type': 'classification',\n  'dependencies_versions': '{\"azureml-widgets\": \"1.26.0\", \"azureml-train\": \"1.26.0\", \"azureml-train-restclients-hyperdrive\": \"1.26.0\", \"azureml-train-core\": \"1.26.0\", \"azureml-train-automl\": \"1.26.0\", \"azureml-train-automl-runtime\": \"1.26.0\", \"azureml-train-automl-client\": \"1.26.0\", \"azureml-tensorboard\": \"1.26.0\", \"azureml-telemetry\": \"1.26.0\", \"azureml-sdk\": \"1.26.0\", \"azureml-samples\": \"0+unknown\", \"azureml-pipeline\": \"1.26.0\", \"azureml-pipeline-steps\": \"1.26.0\", \"azureml-pipeline-core\": \"1.26.0\", \"azureml-opendatasets\": \"1.26.0\", \"azureml-model-management-sdk\": \"1.0.1b6.post1\", \"azureml-mlflow\": \"1.26.0\", \"azureml-interpret\": \"1.26.0\", \"azureml-explain-model\": \"1.26.0\", \"azureml-defaults\": \"1.26.0\", \"azureml-dataset-runtime\": \"1.26.0\", \"azureml-dataprep\": \"2.13.2\", \"azureml-dataprep-rslex\": \"1.11.2\", \"azureml-dataprep-native\": \"32.0.0\", \"azureml-datadrift\": \"1.26.0\", \"azureml-core\": \"1.26.0\", \"azureml-contrib-services\": \"1.26.0\", \"azureml-contrib-server\": \"1.26.0\", \"azureml-contrib-reinforcementlearning\": \"1.26.0\", \"azureml-contrib-pipeline-steps\": \"1.26.0\", \"azureml-contrib-notebook\": \"1.26.0\", \"azureml-contrib-gbdt\": \"1.26.0\", \"azureml-contrib-fairness\": \"1.26.0\", \"azureml-contrib-dataset\": \"1.26.0\", \"azureml-cli-common\": \"1.26.0\", \"azureml-automl-runtime\": \"1.26.0\", \"azureml-automl-dnn-nlp\": \"1.26.0\", \"azureml-automl-core\": \"1.26.0\", \"azureml-accel-models\": \"1.26.0\"}',\n  '_aml_system_scenario_identification': 'Remote.Parent',\n  'ClientType': 'SDK',\n  'environment_cpu_name': 'AzureML-AutoML',\n  'environment_cpu_label': 'prod',\n  'environment_gpu_name': 'AzureML-AutoML-GPU',\n  'environment_gpu_label': 'prod',\n  'root_attribution': 'automl',\n  'attribution': 'AutoML',\n  'Orchestrator': 'AutoML',\n  'CancelUri': 'https://southcentralus.experiments.azureml.net/jasmine/v1.0/subscriptions/9b72f9e6-56c5-4c16-991b-19c652994860/resourceGroups/aml-quickstarts-142993/providers/Microsoft.MachineLearningServices/workspaces/quick-starts-ws-142993/experimentids/ee6fffe4-b632-41b7-be13-868f91f95cf1/cancel/AutoML_9941dff4-1a99-4baa-a5a7-6599db2e9af4',\n  'ClientSdkVersion': '1.25.0',\n  'snapshotId': '00000000-0000-0000-0000-000000000000',\n  'SetupRunId': 'AutoML_9941dff4-1a99-4baa-a5a7-6599db2e9af4_setup',\n  'SetupRunContainerId': 'dcid.AutoML_9941dff4-1a99-4baa-a5a7-6599db2e9af4_setup',\n  'FeaturizationRunJsonPath': 'featurizer_container.json',\n  'FeaturizationRunId': 'AutoML_9941dff4-1a99-4baa-a5a7-6599db2e9af4_featurize',\n  'ProblemInfoJsonString': '{\"dataset_num_categorical\": 0, \"is_sparse\": false, \"subsampling\": false, \"dataset_classes\": 2, \"dataset_features\": 12, \"dataset_samples\": 299, \"single_frequency_class_detected\": false}',\n  'ModelExplainRunId': 'AutoML_9941dff4-1a99-4baa-a5a7-6599db2e9af4_ModelExplain'},\n 'inputDatasets': [{'dataset': {'id': 'b25e2d62-00cd-4f74-a246-e2cc21543505'}, 'consumptionDetails': {'type': 'RunInput', 'inputName': 'training_data', 'mechanism': 'Direct'}}],\n 'outputDatasets': [],\n 'logFiles': {},\n 'submittedBy': 'ODL_User 142993'}"
          },
          "metadata": {}
        }
      ],
      "execution_count": 6,
      "metadata": {
        "gather": {
          "logged": 1618722339272
        },
        "jupyter": {
          "outputs_hidden": false,
          "source_hidden": false
        },
        "nteract": {
          "transient": {
            "deleting": false
          }
        }
      }
    },
    {
      "cell_type": "markdown",
      "source": [
        "## Best Model\n",
        "\n",
        "TODO: In the cell below, get the best model from the automl experiments and display all the properties of the model.\n",
        "\n"
      ],
      "metadata": {}
    },
    {
      "cell_type": "code",
      "source": [
        "best_run, best_model = remote_run.get_output()\n",
        "print(\"Best run ID:\"+ best_run.id)\n",
        "print(best_run)\n",
        "print(best_model)\n",
        "best_run_metrics = best_run.get_metrics()\n",
        "print(best_run_metrics)"
      ],
      "outputs": [
        {
          "output_type": "stream",
          "name": "stdout",
          "text": [
            "Best run ID:AutoML_9941dff4-1a99-4baa-a5a7-6599db2e9af4_36\n",
            "Run(Experiment: heart_failure_prediction,\n",
            "Id: AutoML_9941dff4-1a99-4baa-a5a7-6599db2e9af4_36,\n",
            "Type: azureml.scriptrun,\n",
            "Status: Completed)\n",
            "Pipeline(memory=None,\n",
            "         steps=[('datatransformer',\n",
            "                 DataTransformer(enable_dnn=None, enable_feature_sweeping=None,\n",
            "                                 feature_sweeping_config=None,\n",
            "                                 feature_sweeping_timeout=None,\n",
            "                                 featurization_config=None, force_text_dnn=None,\n",
            "                                 is_cross_validation=None,\n",
            "                                 is_onnx_compatible=None, logger=None,\n",
            "                                 observer=None, task=None, working_dir=None)),\n",
            "                ('prefittedsoftvotingclassifier',...\n",
            "                                                                                               reg_lambda=1.0416666666666667,\n",
            "                                                                                               scale_pos_weight=1,\n",
            "                                                                                               seed=None,\n",
            "                                                                                               silent=None,\n",
            "                                                                                               subsample=1,\n",
            "                                                                                               tree_method='hist',\n",
            "                                                                                               verbose=-10,\n",
            "                                                                                               verbosity=0))],\n",
            "                                                                     verbose=False))],\n",
            "                                               flatten_transform=None,\n",
            "                                               weights=[0.1111111111111111,\n",
            "                                                        0.1111111111111111,\n",
            "                                                        0.1111111111111111,\n",
            "                                                        0.1111111111111111,\n",
            "                                                        0.1111111111111111,\n",
            "                                                        0.1111111111111111,\n",
            "                                                        0.1111111111111111,\n",
            "                                                        0.1111111111111111,\n",
            "                                                        0.1111111111111111]))],\n",
            "         verbose=False)\n",
            "{'average_precision_score_micro': 0.9236589883918805, 'f1_score_weighted': 0.8711476223256016, 'norm_macro_recall': 0.6826883950653974, 'AUC_weighted': 0.9119662548168842, 'recall_score_weighted': 0.8763218390804598, 'precision_score_weighted': 0.8902097224503521, 'f1_score_micro': 0.8763218390804598, 'AUC_micro': 0.9202282996432818, 'precision_score_macro': 0.8885654888589671, 'weighted_accuracy': 0.8983001730942581, 'accuracy': 0.8763218390804598, 'log_loss': 0.41355143963620405, 'recall_score_macro': 0.8413441975326986, 'f1_score_macro': 0.8500660039812397, 'precision_score_micro': 0.8763218390804598, 'average_precision_score_macro': 0.9015668396645855, 'matthews_correlation': 0.725983350626622, 'AUC_macro': 0.9119662548168842, 'balanced_accuracy': 0.8413441975326986, 'recall_score_micro': 0.8763218390804598, 'average_precision_score_weighted': 0.9255995595509523, 'confusion_matrix': 'aml://artifactId/ExperimentRun/dcid.AutoML_9941dff4-1a99-4baa-a5a7-6599db2e9af4_36/confusion_matrix', 'accuracy_table': 'aml://artifactId/ExperimentRun/dcid.AutoML_9941dff4-1a99-4baa-a5a7-6599db2e9af4_36/accuracy_table'}\n"
          ]
        }
      ],
      "execution_count": 7,
      "metadata": {
        "gather": {
          "logged": 1618722583525
        },
        "jupyter": {
          "outputs_hidden": false,
          "source_hidden": false
        },
        "nteract": {
          "transient": {
            "deleting": false
          }
        }
      }
    },
    {
      "cell_type": "code",
      "source": [
        "#TODO: Save the best model\n",
        "model = best_run.register_model(model_name='heart-failure-prediction-automl-model',model_path='outputs/model.pkl', tags={'Method':'AutoML'}, properties={'accuracy': best_run_metrics['accuracy']})\n",
        "print(model)"
      ],
      "outputs": [
        {
          "output_type": "stream",
          "name": "stdout",
          "text": [
            "Model(workspace=Workspace.create(name='quick-starts-ws-142993', subscription_id='9b72f9e6-56c5-4c16-991b-19c652994860', resource_group='aml-quickstarts-142993'), name=heart-failure-prediction-automl-model, id=heart-failure-prediction-automl-model:1, version=1, tags={'Method': 'AutoML'}, properties={'accuracy': '0.8763218390804598'})\n"
          ]
        }
      ],
      "execution_count": 8,
      "metadata": {
        "gather": {
          "logged": 1618722676262
        },
        "jupyter": {
          "outputs_hidden": false,
          "source_hidden": false
        },
        "nteract": {
          "transient": {
            "deleting": false
          }
        }
      }
    },
    {
      "cell_type": "markdown",
      "source": [
        "## Model Deployment\n",
        "\n",
        "Remember you have to deploy only one of the two models you trained.. Perform the steps in the rest of this notebook only if you wish to deploy this model.\n",
        "\n",
        "TODO: In the cell below, register the model, create an inference config and deploy the model as a web service."
      ],
      "metadata": {}
    },
    {
      "cell_type": "code",
      "source": [
        "from azureml.core.webservice import AciWebservice, Webservice\n",
        "from azureml.core.model import Model, InferenceConfig\n",
        "from azureml.core import Environment\n",
        "from azureml.core.conda_dependencies import CondaDependencies\n",
        "\n",
        "env = Environment.from_conda_specification(name='automlv2', file_path='conda_env_v_1_0_0.yml')\n",
        "inference_config = InferenceConfig(entry_script='Score.py', environment=env)\n",
        "\n",
        "service_name = 'heartfailurepredictionautoml'\n",
        "\n",
        "deployment_config = AciWebservice.deploy_configuration(cpu_cores = 1.8, memory_gb = 4, auth_enabled = True, enable_app_insights = True)\n",
        "service = Model.deploy(ws, service_name, [model], inference_config, deployment_config)\n",
        "print(service.state)\n",
        "\n",
        "service.wait_for_deployment(show_output = True)\n",
        "url = service.scoring_uri\n",
        "print(url)"
      ],
      "outputs": [
        {
          "output_type": "stream",
          "name": "stdout",
          "text": [
            "Transitioning\n",
            "Tips: You can try get_logs(): https://aka.ms/debugimage#dockerlog or local deployment: https://aka.ms/debugimage#debug-locally to debug if deployment takes longer than 10 minutes.\n",
            "Running\n",
            "2021-04-18 05:11:30+00:00 Creating Container Registry if not exists..\n",
            "2021-04-18 05:11:40+00:00 Registering the environment..\n",
            "2021-04-18 05:11:43+00:00 Building image..\n",
            "2021-04-18 05:24:19+00:00 Generating deployment configuration..\n",
            "2021-04-18 05:24:22+00:00 Submitting deployment to compute.\n",
            "2021-04-18 05:24:25+00:00 Checking the status of deployment heartfailurepredictionautoml..\n",
            "2021-04-18 05:27:15+00:00 Checking the status of inference endpoint heartfailurepredictionautoml.\n",
            "Succeeded\n",
            "ACI service creation operation finished, operation \"Succeeded\"\n",
            "http://9365f938-c4e3-4d5c-ad22-b8c31d47d02c.southcentralus.azurecontainer.io/score\n"
          ]
        }
      ],
      "execution_count": 9,
      "metadata": {
        "gather": {
          "logged": 1618723648171
        },
        "jupyter": {
          "outputs_hidden": false,
          "source_hidden": false
        },
        "nteract": {
          "transient": {
            "deleting": false
          }
        }
      }
    },
    {
      "cell_type": "markdown",
      "source": [
        "TODO: In the cell below, send a request to the web service you deployed to test it."
      ],
      "metadata": {
        "collapsed": true,
        "gather": {
          "logged": 1598431657736
        },
        "jupyter": {
          "outputs_hidden": false,
          "source_hidden": false
        },
        "nteract": {
          "transient": {
            "deleting": false
          }
        }
      }
    },
    {
      "cell_type": "code",
      "source": [
        "import json\n",
        "\n",
        "data = {\"data\":\n",
        "        [\n",
        "          {\n",
        "            \"age\": 36,\n",
        "            \"anaemia\": 0,\n",
        "            \"creatinine_phosphokinase\": 200,\n",
        "            \"diabetes\": 0,\n",
        "            \"ejection_fraction\": 30,\n",
        "            \"high_blood_pressure\": 0,\n",
        "            \"platelets\": 120000,\n",
        "            \"serum_creatinine\": 1.1,\n",
        "            \"serum_sodium\": 135,\n",
        "            \"sex\": 1,\n",
        "            \"smoking\": 0,\n",
        "            \"time\": 7\n",
        "          },\n",
        "          {\n",
        "            \"age\": 39,\n",
        "            \"anaemia\": 0,\n",
        "            \"creatinine_phosphokinase\": 300,\n",
        "            \"diabetes\": 0,\n",
        "            \"ejection_fraction\": 50,\n",
        "            \"high_blood_pressure\": 0,\n",
        "            \"platelets\": 200000,\n",
        "            \"serum_creatinine\": 0.9,\n",
        "            \"serum_sodium\": 250,\n",
        "            \"sex\": 0,\n",
        "            \"smoking\": 0,\n",
        "            \"time\": 1\n",
        "          }\n",
        "      ]\n",
        "    }\n",
        "\n",
        "input_payload = json.dumps(data)\n",
        "\n",
        "output = service.run(input_payload)\n",
        "\n",
        "print(output)"
      ],
      "outputs": [
        {
          "output_type": "stream",
          "name": "stdout",
          "text": [
            "{\"result\": [1, 1]}\n"
          ]
        }
      ],
      "execution_count": 10,
      "metadata": {
        "gather": {
          "logged": 1618725499199
        },
        "jupyter": {
          "outputs_hidden": false,
          "source_hidden": false
        },
        "nteract": {
          "transient": {
            "deleting": false
          }
        }
      }
    },
    {
      "cell_type": "markdown",
      "source": [
        "TODO: In the cell below, print the logs of the web service and delete the service"
      ],
      "metadata": {
        "collapsed": true,
        "gather": {
          "logged": 1598432765711
        },
        "jupyter": {
          "outputs_hidden": false,
          "source_hidden": false
        },
        "nteract": {
          "transient": {
            "deleting": false
          }
        }
      }
    },
    {
      "cell_type": "code",
      "source": [
        "#service.delete()"
      ],
      "outputs": [],
      "execution_count": null,
      "metadata": {
        "jupyter": {
          "outputs_hidden": false,
          "source_hidden": false
        },
        "nteract": {
          "transient": {
            "deleting": false
          }
        }
      }
    },
    {
      "cell_type": "code",
      "source": [],
      "outputs": [],
      "execution_count": null,
      "metadata": {}
    }
  ],
  "metadata": {
    "kernel_info": {
      "name": "python3"
    },
    "kernelspec": {
      "name": "python3",
      "language": "python",
      "display_name": "Python 3"
    },
    "language_info": {
      "name": "python",
      "version": "3.6.9",
      "mimetype": "text/x-python",
      "codemirror_mode": {
        "name": "ipython",
        "version": 3
      },
      "pygments_lexer": "ipython3",
      "nbconvert_exporter": "python",
      "file_extension": ".py"
    },
    "nteract": {
      "version": "nteract-front-end@1.0.0"
    },
    "microsoft": {
      "host": {
        "AzureML": {
          "notebookHasBeenCompleted": true
        }
      }
    }
  },
  "nbformat": 4,
  "nbformat_minor": 2
}